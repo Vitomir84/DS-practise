{
 "cells": [
  {
   "cell_type": "markdown",
   "metadata": {},
   "source": [
    "# Python Kuvar rad iz knjige\n"
   ]
  },
  {
   "cell_type": "markdown",
   "metadata": {},
   "source": [
    "# Strukture podataka i algoritmi"
   ]
  },
  {
   "cell_type": "code",
   "execution_count": 29,
   "metadata": {},
   "outputs": [
    {
     "data": {
      "text/plain": [
       "['a', 'b', 'c', 'd']"
      ]
     },
     "execution_count": 29,
     "metadata": {},
     "output_type": "execute_result"
    }
   ],
   "source": [
    "#Lists\n",
    "my_list = ['a','b','c']\n",
    "my_list.append(\"d\")\n",
    "my_list"
   ]
  },
  {
   "cell_type": "code",
   "execution_count": 30,
   "metadata": {},
   "outputs": [
    {
     "data": {
      "text/plain": [
       "['target']"
      ]
     },
     "execution_count": 30,
     "metadata": {},
     "output_type": "execute_result"
    }
   ],
   "source": [
    "\n",
    "nest = [1,2,3,[4,5,['target']]]\n",
    "nest[3][2]"
   ]
  },
  {
   "cell_type": "code",
   "execution_count": 31,
   "metadata": {},
   "outputs": [
    {
     "data": {
      "text/plain": [
       "'item1'"
      ]
     },
     "execution_count": 31,
     "metadata": {},
     "output_type": "execute_result"
    }
   ],
   "source": [
    "#Rečnici dictionaries\n",
    "d = {'key1':'item1','key2':'item2'}\n",
    "d['key1']"
   ]
  },
  {
   "cell_type": "code",
   "execution_count": 32,
   "metadata": {},
   "outputs": [
    {
     "data": {
      "text/plain": [
       "1"
      ]
     },
     "execution_count": 32,
     "metadata": {},
     "output_type": "execute_result"
    }
   ],
   "source": [
    "t = (1,2,3)\n",
    "t[0]"
   ]
  },
  {
   "cell_type": "code",
   "execution_count": 33,
   "metadata": {},
   "outputs": [
    {
     "ename": "TypeError",
     "evalue": "'tuple' object does not support item assignment",
     "output_type": "error",
     "traceback": [
      "\u001b[0;31m---------------------------------------------------------------------------\u001b[0m",
      "\u001b[0;31mTypeError\u001b[0m                                 Traceback (most recent call last)",
      "\u001b[0;32m<ipython-input-33-3d8cb7a6b01a>\u001b[0m in \u001b[0;36m<module>\u001b[0;34m\u001b[0m\n\u001b[0;32m----> 1\u001b[0;31m \u001b[0mt\u001b[0m\u001b[0;34m[\u001b[0m\u001b[0;36m0\u001b[0m\u001b[0;34m]\u001b[0m\u001b[0;34m=\u001b[0m\u001b[0;34m'new'\u001b[0m\u001b[0;34m\u001b[0m\u001b[0;34m\u001b[0m\u001b[0m\n\u001b[0m",
      "\u001b[0;31mTypeError\u001b[0m: 'tuple' object does not support item assignment"
     ]
    }
   ],
   "source": [
    "t[0]='new'"
   ]
  },
  {
   "cell_type": "code",
   "execution_count": 39,
   "metadata": {},
   "outputs": [
    {
     "data": {
      "text/plain": [
       "{1, 2, 3}"
      ]
     },
     "execution_count": 39,
     "metadata": {},
     "output_type": "execute_result"
    }
   ],
   "source": [
    "#Set\n",
    "set={1,2,3,1,2,1,2,3,3,3,3,2,2,2,1,1,2}\n",
    "set"
   ]
  },
  {
   "cell_type": "code",
   "execution_count": 40,
   "metadata": {},
   "outputs": [
    {
     "name": "stdout",
     "output_type": "stream",
     "text": [
      "4\n",
      "5\n"
     ]
    }
   ],
   "source": [
    "#razložiti tuple\n",
    "p=(4,5)\n",
    "x,y=p\n",
    "print(x)\n",
    "print(y)"
   ]
  },
  {
   "cell_type": "code",
   "execution_count": 41,
   "metadata": {},
   "outputs": [
    {
     "name": "stdout",
     "output_type": "stream",
     "text": [
      "h e\n"
     ]
    }
   ],
   "source": [
    "s='hello'\n",
    "a,b,c,d,e=s\n",
    "print(a,b)"
   ]
  },
  {
   "cell_type": "code",
   "execution_count": 42,
   "metadata": {},
   "outputs": [],
   "source": [
    "def avg(num):\n",
    "    sum_num = 0\n",
    "    for t in num:\n",
    "        sum_num = sum_num + t           \n",
    "\n",
    "    avg = sum_num / len(num)\n",
    "    return avg"
   ]
  },
  {
   "cell_type": "markdown",
   "metadata": {},
   "source": [
    "# Rad sa zvezdicom"
   ]
  },
  {
   "cell_type": "code",
   "execution_count": 43,
   "metadata": {},
   "outputs": [],
   "source": [
    "#izraz sa zvezdicom nam omogućava da uzmemo onoliko elemenata koliko \n",
    "#želimo, iako ona ima više od N elemenata koji inama trebaju\n",
    "def drop_first_last(grades):\n",
    "    'sabiramo prosek ocena bez prve i poslednje'\n",
    "    first,*middle,last=grades\n",
    "    return avg(middle)"
   ]
  },
  {
   "cell_type": "code",
   "execution_count": 44,
   "metadata": {},
   "outputs": [
    {
     "data": {
      "text/plain": [
       "2.5555555555555554"
      ]
     },
     "execution_count": 44,
     "metadata": {},
     "output_type": "execute_result"
    }
   ],
   "source": [
    "grades=[4,3,2,3,2,1,3,2,3,4,4]\n",
    "drop_first_last(grades)"
   ]
  },
  {
   "cell_type": "code",
   "execution_count": 45,
   "metadata": {},
   "outputs": [],
   "source": [
    "record=('Dave','dave@example', '7757585', '6868686868', '969696996')"
   ]
  },
  {
   "cell_type": "code",
   "execution_count": 46,
   "metadata": {},
   "outputs": [
    {
     "name": "stdout",
     "output_type": "stream",
     "text": [
      "Dave dave@example ['7757585', '6868686868', '969696996']\n"
     ]
    }
   ],
   "source": [
    "name,email,*phone_numbers=record\n",
    "print(name,email,phone_numbers)"
   ]
  },
  {
   "cell_type": "code",
   "execution_count": 47,
   "metadata": {},
   "outputs": [],
   "source": [
    "#kvartali, želimo da proverimo prosek prethodnih u odnosu na sadašnji. Sadašnji je poslednji.\n",
    "#zvezdca može da bude i prvi argument\n",
    "kvartali=[10,3,5,3,2,3,7]\n",
    "*prethodni_kvartali, sadasnji=kvartali"
   ]
  },
  {
   "cell_type": "code",
   "execution_count": 48,
   "metadata": {},
   "outputs": [
    {
     "name": "stdout",
     "output_type": "stream",
     "text": [
      "trenutni kvartal: 7 \n",
      "prosek prethodnih kvartala: 4.33\n"
     ]
    }
   ],
   "source": [
    "print('trenutni kvartal:', sadasnji,'\\nprosek prethodnih kvartala:', round(avg(prethodni_kvartali),2))"
   ]
  },
  {
   "cell_type": "code",
   "execution_count": 49,
   "metadata": {},
   "outputs": [
    {
     "name": "stdout",
     "output_type": "stream",
     "text": [
      "Vita \n",
      " 2012\n"
     ]
    }
   ],
   "source": [
    "#Zvezdica se može koristiti i za ignorisanje\n",
    "record=['Vita', 50, 123.45, (12,18,2012)]\n",
    "name,*_,(*_,year)=record\n",
    "print(name,'\\n',year)"
   ]
  },
  {
   "cell_type": "markdown",
   "metadata": {},
   "source": [
    "# Nalažanje najvećih ili najmanjih N stavki"
   ]
  },
  {
   "cell_type": "code",
   "execution_count": 50,
   "metadata": {},
   "outputs": [],
   "source": [
    "import heapq"
   ]
  },
  {
   "cell_type": "code",
   "execution_count": 51,
   "metadata": {},
   "outputs": [
    {
     "name": "stdout",
     "output_type": "stream",
     "text": [
      "[343, 90, 67] \n",
      " [1, 2]\n"
     ]
    }
   ],
   "source": [
    "nums=[10,3,45,34,45,33,2,3,3,1,67,90,343,5,6,3,23,34,12,8]\n",
    "print(heapq.nlargest(3,nums), '\\n', heapq.nsmallest(2,nums))"
   ]
  },
  {
   "cell_type": "code",
   "execution_count": 52,
   "metadata": {},
   "outputs": [],
   "source": [
    "portfolio=[\n",
    "    {'name': 'IBM', 'shares':100, 'price':91.1},\n",
    "    {'name': 'GOOGLE', 'shares':90, 'price':100},\n",
    "    {'name': 'APPLE', 'shares':10, 'price':50},\n",
    "    {'name': 'AMAZON', 'shares':15, 'price':20},\n",
    "    {'name': 'ORACLE', 'shares':200, 'price':30},\n",
    "    {'name': 'MICROSOFT', 'shares':30, 'price':70}\n",
    "]"
   ]
  },
  {
   "cell_type": "code",
   "execution_count": 53,
   "metadata": {},
   "outputs": [
    {
     "name": "stdout",
     "output_type": "stream",
     "text": [
      "Najskuplje akcije: {'name': 'GOOGLE', 'shares': 90, 'price': 100} \n",
      " Najjeftinije akciije: {'name': 'AMAZON', 'shares': 15, 'price': 20}\n"
     ]
    }
   ],
   "source": [
    "skupi=heapq.nlargest(3,portfolio,key=lambda s:s['price'])\n",
    "jeftini=heapq.nsmallest(3,portfolio,key=lambda s:s['price'])\n",
    "print('Najskuplje akcije:',skupi[0],'\\n','Najjeftinije akciije:',jeftini[0])"
   ]
  },
  {
   "cell_type": "markdown",
   "metadata": {},
   "source": [
    "# Mapiranje ključeva na više vrednosti u rečniku"
   ]
  },
  {
   "cell_type": "code",
   "execution_count": 54,
   "metadata": {},
   "outputs": [],
   "source": [
    "from collections import defaultdict"
   ]
  },
  {
   "cell_type": "code",
   "execution_count": 55,
   "metadata": {},
   "outputs": [
    {
     "data": {
      "text/plain": [
       "defaultdict(list, {'a': [1, 2], 'b': [4]})"
      ]
     },
     "execution_count": 55,
     "metadata": {},
     "output_type": "execute_result"
    }
   ],
   "source": [
    "d=defaultdict(list)\n",
    "d['a'].append(1)\n",
    "d['a'].append(2)\n",
    "d['b'].append(4)\n",
    "d"
   ]
  },
  {
   "cell_type": "code",
   "execution_count": 56,
   "metadata": {},
   "outputs": [],
   "source": [
    "pairs =[('a',1),('b',2),('c',3),('d',4)]\n",
    "recnik=defaultdict(list)"
   ]
  },
  {
   "cell_type": "code",
   "execution_count": 57,
   "metadata": {},
   "outputs": [
    {
     "data": {
      "text/plain": [
       "defaultdict(list, {'a': [1], 'b': [2], 'c': [3], 'd': [4]})"
      ]
     },
     "execution_count": 57,
     "metadata": {},
     "output_type": "execute_result"
    }
   ],
   "source": [
    "for key,value in pairs:\n",
    "    recnik[key].append(value)\n",
    "recnik"
   ]
  },
  {
   "cell_type": "code",
   "execution_count": 58,
   "metadata": {},
   "outputs": [],
   "source": [
    "from collections import OrderedDict "
   ]
  },
  {
   "cell_type": "code",
   "execution_count": 59,
   "metadata": {},
   "outputs": [],
   "source": [
    "w=defaultdict(list)"
   ]
  },
  {
   "cell_type": "code",
   "execution_count": 60,
   "metadata": {},
   "outputs": [],
   "source": [
    "w['a'].append(1)\n",
    "w['b'].append(2)\n",
    "w['c'].append(3)"
   ]
  },
  {
   "cell_type": "code",
   "execution_count": 61,
   "metadata": {},
   "outputs": [],
   "source": [
    "w=OrderedDict()"
   ]
  },
  {
   "cell_type": "code",
   "execution_count": 62,
   "metadata": {
    "scrolled": true
   },
   "outputs": [],
   "source": [
    "for key in w:\n",
    "    print(w[key])"
   ]
  },
  {
   "cell_type": "code",
   "execution_count": 63,
   "metadata": {},
   "outputs": [],
   "source": [
    "prices={\n",
    "    'GOOGLE':45,\n",
    "    'APPLE':90,\n",
    "    'FACEBOOK':100,\n",
    "    'MICROSOFT':30\n",
    "}"
   ]
  },
  {
   "cell_type": "code",
   "execution_count": 64,
   "metadata": {},
   "outputs": [
    {
     "data": {
      "text/plain": [
       "(30, 'MICROSOFT')"
      ]
     },
     "execution_count": 64,
     "metadata": {},
     "output_type": "execute_result"
    }
   ],
   "source": [
    "min_price=min(zip(prices.values(),prices.keys()))\n",
    "min_price"
   ]
  },
  {
   "cell_type": "code",
   "execution_count": 65,
   "metadata": {
    "scrolled": true
   },
   "outputs": [
    {
     "data": {
      "text/plain": [
       "[(30, 'MICROSOFT'), (45, 'GOOGLE'), (90, 'APPLE'), (100, 'FACEBOOK')]"
      ]
     },
     "execution_count": 65,
     "metadata": {},
     "output_type": "execute_result"
    }
   ],
   "source": [
    "sorted(zip(prices.values(),prices.keys()))"
   ]
  },
  {
   "cell_type": "code",
   "execution_count": 66,
   "metadata": {},
   "outputs": [],
   "source": [
    "portfolio={'IBM':91.1, 'GOOGLE':100, 'APPLE':50,'AMAZON':20, 'ORACLE':30, 'APPLE':90,\n",
    "           'MICROSOFT':70}"
   ]
  },
  {
   "cell_type": "code",
   "execution_count": 67,
   "metadata": {},
   "outputs": [
    {
     "data": {
      "text/plain": [
       "{'APPLE', 'GOOGLE', 'MICROSOFT'}"
      ]
     },
     "execution_count": 67,
     "metadata": {},
     "output_type": "execute_result"
    }
   ],
   "source": [
    "#Isti ključevi\n",
    "portfolio.keys()&prices.keys()"
   ]
  },
  {
   "cell_type": "code",
   "execution_count": 68,
   "metadata": {},
   "outputs": [
    {
     "data": {
      "text/plain": [
       "{'AMAZON', 'IBM', 'ORACLE'}"
      ]
     },
     "execution_count": 68,
     "metadata": {},
     "output_type": "execute_result"
    }
   ],
   "source": [
    "#različiti ključevi\n",
    "portfolio.keys()-prices.keys()"
   ]
  },
  {
   "cell_type": "code",
   "execution_count": 69,
   "metadata": {},
   "outputs": [
    {
     "data": {
      "text/plain": [
       "{('APPLE', 90)}"
      ]
     },
     "execution_count": 69,
     "metadata": {},
     "output_type": "execute_result"
    }
   ],
   "source": [
    "#iste vrednosti parova\n",
    "portfolio.items() & prices.items()"
   ]
  },
  {
   "cell_type": "code",
   "execution_count": 70,
   "metadata": {},
   "outputs": [],
   "source": [
    "#Sve ovo može služiti da se napravi novi rečnik filtriran\n",
    "#c={key:a[key] for key in portfolio.keys()-{'APPLE'}}"
   ]
  },
  {
   "cell_type": "code",
   "execution_count": 71,
   "metadata": {},
   "outputs": [
    {
     "data": {
      "text/plain": [
       "{'APPLE': 90, 'FACEBOOK': 100}"
      ]
     },
     "execution_count": 71,
     "metadata": {},
     "output_type": "execute_result"
    }
   ],
   "source": [
    "#podskup rečnika, vraća kompanije koje imaju cenu akcija ceću od 50\n",
    "{key: value for key, value in prices.items() if value > 50}"
   ]
  },
  {
   "cell_type": "markdown",
   "metadata": {},
   "source": [
    "# Nalaženje najčešćih reči u sekvenci"
   ]
  },
  {
   "cell_type": "code",
   "execution_count": 72,
   "metadata": {},
   "outputs": [],
   "source": [
    "words=['vita', 'mina', 'ica', 'mama', 'baba', 'deda', 'sunce', 'vita', 'sunce', 'mina', 'ica', 'mina', 'vita', 'ica']"
   ]
  },
  {
   "cell_type": "code",
   "execution_count": 73,
   "metadata": {},
   "outputs": [],
   "source": [
    "from collections import Counter"
   ]
  },
  {
   "cell_type": "code",
   "execution_count": 74,
   "metadata": {},
   "outputs": [],
   "source": [
    "brojac_reci=Counter(words)"
   ]
  },
  {
   "cell_type": "code",
   "execution_count": 75,
   "metadata": {},
   "outputs": [
    {
     "data": {
      "text/plain": [
       "Counter({'vita': 3,\n",
       "         'mina': 3,\n",
       "         'ica': 3,\n",
       "         'mama': 1,\n",
       "         'baba': 1,\n",
       "         'deda': 1,\n",
       "         'sunce': 2})"
      ]
     },
     "execution_count": 75,
     "metadata": {},
     "output_type": "execute_result"
    }
   ],
   "source": [
    "brojac_reci"
   ]
  },
  {
   "cell_type": "code",
   "execution_count": 76,
   "metadata": {},
   "outputs": [
    {
     "data": {
      "text/plain": [
       "[('vita', 3), ('mina', 3), ('ica', 3)]"
      ]
     },
     "execution_count": 76,
     "metadata": {},
     "output_type": "execute_result"
    }
   ],
   "source": [
    "brojac_reci.most_common(3)"
   ]
  },
  {
   "cell_type": "code",
   "execution_count": 77,
   "metadata": {},
   "outputs": [
    {
     "data": {
      "text/plain": [
       "2"
      ]
     },
     "execution_count": 77,
     "metadata": {},
     "output_type": "execute_result"
    }
   ],
   "source": [
    "brojac_reci['sunce']"
   ]
  },
  {
   "cell_type": "markdown",
   "metadata": {},
   "source": [
    "# Filtriranje sekvence"
   ]
  },
  {
   "cell_type": "code",
   "execution_count": 78,
   "metadata": {},
   "outputs": [],
   "source": [
    "lista = [-1,-3,-7,3,4,5,6,7]"
   ]
  },
  {
   "cell_type": "code",
   "execution_count": 79,
   "metadata": {},
   "outputs": [
    {
     "data": {
      "text/plain": [
       "[3, 4, 5, 6, 7]"
      ]
     },
     "execution_count": 79,
     "metadata": {},
     "output_type": "execute_result"
    }
   ],
   "source": [
    "[n for n in lista if n>0]"
   ]
  },
  {
   "cell_type": "code",
   "execution_count": 80,
   "metadata": {},
   "outputs": [
    {
     "data": {
      "text/plain": [
       "[0, 0, 0, 3, 4, 5, 6, 7]"
      ]
     },
     "execution_count": 80,
     "metadata": {},
     "output_type": "execute_result"
    }
   ],
   "source": [
    "#Menjamo negativne u nule\n",
    "[n if n>0 else 0 for n in lista]"
   ]
  },
  {
   "cell_type": "code",
   "execution_count": 81,
   "metadata": {},
   "outputs": [],
   "source": [
    "#Složeniji primer gde tražimo da nam vrati cele brojeve\n",
    "values=['1','2','3','4', 'NA', '5']"
   ]
  },
  {
   "cell_type": "code",
   "execution_count": 82,
   "metadata": {},
   "outputs": [],
   "source": [
    "def is_int(val):\n",
    "    try:\n",
    "        x=int(val)\n",
    "        return True\n",
    "    except ValueError:\n",
    "        return False"
   ]
  },
  {
   "cell_type": "code",
   "execution_count": 83,
   "metadata": {},
   "outputs": [],
   "source": [
    "ivals=list(filter(is_int,values))"
   ]
  },
  {
   "cell_type": "code",
   "execution_count": 84,
   "metadata": {},
   "outputs": [
    {
     "data": {
      "text/plain": [
       "['1', '2', '3', '4', '5']"
      ]
     },
     "execution_count": 84,
     "metadata": {},
     "output_type": "execute_result"
    }
   ],
   "source": [
    "ivals"
   ]
  },
  {
   "cell_type": "markdown",
   "metadata": {},
   "source": [
    "# Enumerate"
   ]
  },
  {
   "cell_type": "code",
   "execution_count": 85,
   "metadata": {},
   "outputs": [
    {
     "name": "stdout",
     "output_type": "stream",
     "text": [
      "0 apple\n",
      "1 banana\n",
      "2 grapes\n",
      "3 pear\n"
     ]
    }
   ],
   "source": [
    "#Omogućava istovremeno prolaženje kroz listu vodeći računa o iteratoru i modifikujući iterator.\n",
    "my_list = ['apple', 'banana', 'grapes', 'pear']\n",
    "for counter, value in enumerate(my_list):\n",
    "    print(counter, value)"
   ]
  },
  {
   "cell_type": "code",
   "execution_count": 86,
   "metadata": {},
   "outputs": [
    {
     "name": "stdout",
     "output_type": "stream",
     "text": [
      "2 apple\n",
      "3 banana\n",
      "4 grapes\n",
      "5 pear\n"
     ]
    }
   ],
   "source": [
    "my_list = ['apple', 'banana', 'grapes', 'pear']\n",
    "for counter, value in enumerate(my_list,2):\n",
    "    print(counter, value)"
   ]
  },
  {
   "cell_type": "code",
   "execution_count": 87,
   "metadata": {},
   "outputs": [
    {
     "name": "stdout",
     "output_type": "stream",
     "text": [
      "[(1, 'apple'), (2, 'banana'), (3, 'grapes'), (4, 'pear')]\n"
     ]
    }
   ],
   "source": [
    "my_list = ['apple', 'banana', 'grapes', 'pear']\n",
    "counter_list = list(enumerate(my_list, 1))\n",
    "print(counter_list)"
   ]
  },
  {
   "cell_type": "markdown",
   "metadata": {},
   "source": [
    "# Dekorateri\n",
    "Dekorateri obmotavaju funkciju dodatnim kodom koji omogućava dodatnu obradu.\n",
    "Cilj je da se kroz metaprogramiranje kreiraju klase i funkcije koje će upravljati kodom,\n",
    "kako se on ne bi ponavljao."
   ]
  },
  {
   "cell_type": "code",
   "execution_count": 88,
   "metadata": {},
   "outputs": [],
   "source": [
    "import time\n",
    "from functools import wraps"
   ]
  },
  {
   "cell_type": "code",
   "execution_count": 89,
   "metadata": {},
   "outputs": [],
   "source": [
    "#Dekorater funkcije koja meri vreme izvršenja\n",
    "def timethis(func):\n",
    "    @wraps(func)\n",
    "    def wrapper(*args, **kwargs):\n",
    "        start=time.time()\n",
    "        result=func(*args, **kwargs)\n",
    "        end=time.time()\n",
    "        print('vreme u sekundama',end-start)\n",
    "        return result\n",
    "    return wrapper"
   ]
  },
  {
   "cell_type": "code",
   "execution_count": 90,
   "metadata": {},
   "outputs": [],
   "source": [
    "@timethis\n",
    "def countdown(n:int):\n",
    "    '''\n",
    "    Counts down\n",
    "    '''\n",
    "    while n > 0:\n",
    "        n-=1"
   ]
  },
  {
   "cell_type": "code",
   "execution_count": 91,
   "metadata": {},
   "outputs": [
    {
     "name": "stdout",
     "output_type": "stream",
     "text": [
      "vreme u sekundama 5.243876218795776\n"
     ]
    }
   ],
   "source": [
    "countdown(100000000)"
   ]
  },
  {
   "cell_type": "code",
   "execution_count": 92,
   "metadata": {},
   "outputs": [
    {
     "data": {
      "text/plain": [
       "'countdown'"
      ]
     },
     "execution_count": 92,
     "metadata": {},
     "output_type": "execute_result"
    }
   ],
   "source": [
    "countdown.__name__"
   ]
  },
  {
   "cell_type": "code",
   "execution_count": 93,
   "metadata": {
    "scrolled": true
   },
   "outputs": [
    {
     "data": {
      "text/plain": [
       "'\\n    Counts down\\n    '"
      ]
     },
     "execution_count": 93,
     "metadata": {},
     "output_type": "execute_result"
    }
   ],
   "source": [
    "countdown.__doc__"
   ]
  },
  {
   "cell_type": "code",
   "execution_count": 94,
   "metadata": {},
   "outputs": [],
   "source": [
    "countdown.__wrapped__(100000000)"
   ]
  },
  {
   "cell_type": "code",
   "execution_count": 95,
   "metadata": {
    "scrolled": true
   },
   "outputs": [
    {
     "data": {
      "text/plain": [
       "'This module provides various functions to manipulate time values.\\n\\nThere are two standard representations of time.  One is the number\\nof seconds since the Epoch, in UTC (a.k.a. GMT).  It may be an integer\\nor a floating point number (to represent fractions of seconds).\\nThe Epoch is system-defined; on Unix, it is generally January 1st, 1970.\\nThe actual value can be retrieved by calling gmtime(0).\\n\\nThe other representation is a tuple of 9 integers giving local time.\\nThe tuple items are:\\n  year (including century, e.g. 1998)\\n  month (1-12)\\n  day (1-31)\\n  hours (0-23)\\n  minutes (0-59)\\n  seconds (0-59)\\n  weekday (0-6, Monday is 0)\\n  Julian day (day in the year, 1-366)\\n  DST (Daylight Savings Time) flag (-1, 0 or 1)\\nIf the DST flag is 0, the time is given in the regular time zone;\\nif it is 1, the time is given in the DST time zone;\\nif it is -1, mktime() should guess based on the date and time.\\n'"
      ]
     },
     "execution_count": 95,
     "metadata": {},
     "output_type": "execute_result"
    }
   ],
   "source": [
    "time.__doc__"
   ]
  },
  {
   "cell_type": "markdown",
   "metadata": {},
   "source": [
    "* args i ** kvargs se uglavnom koriste u definicijama funkcija. * args i ** kvargs omogućavaju vam da prosleđujete neodređeni broj argumenata funkciji, pa prilikom pisanja definicije funkcije ne morate znati koliko će argumenata biti prosleđeno vašoj funkciji. *args se koristi za slanje funkcije argumenata promenljive dužine bez ključne reči\n",
    "**kvargs vam omogućava da funkciji prosledite promenljivu dužinu argumenata sa ključnim rečima. Trebali biste koristiti ** kvargs ako želite da rukujete imenovanim argumentima u funkciji"
   ]
  },
  {
   "cell_type": "code",
   "execution_count": 96,
   "metadata": {},
   "outputs": [],
   "source": [
    "def test_var_args(f_arg, *argv):\n",
    "    print(\"first normal arg:\", f_arg)\n",
    "    for arg in argv:\n",
    "        print(\"another arg through *argv:\", arg)"
   ]
  },
  {
   "cell_type": "code",
   "execution_count": 97,
   "metadata": {},
   "outputs": [
    {
     "name": "stdout",
     "output_type": "stream",
     "text": [
      "first normal arg: yasoob\n",
      "another arg through *argv: python\n",
      "another arg through *argv: eggs\n",
      "another arg through *argv: test\n"
     ]
    }
   ],
   "source": [
    "test_var_args('yasoob', 'python', 'eggs', 'test')"
   ]
  },
  {
   "cell_type": "code",
   "execution_count": 1,
   "metadata": {},
   "outputs": [
    {
     "name": "stdout",
     "output_type": "stream",
     "text": [
      "name = yasoob\n"
     ]
    }
   ],
   "source": [
    "def greet_me(**kwargs):\n",
    "    for key, value in kwargs.items():\n",
    "        print(\"{0} = {1}\".format(key, value))\n",
    "\n",
    "greet_me(name=\"yasoob\")"
   ]
  },
  {
   "cell_type": "code",
   "execution_count": 3,
   "metadata": {},
   "outputs": [
    {
     "name": "stdout",
     "output_type": "stream",
     "text": [
      "name = yasoob\n",
      "name1 = vita\n",
      "add = param\n"
     ]
    }
   ],
   "source": [
    "greet_me(name='yasoob', name1='vita', add='param')"
   ]
  },
  {
   "cell_type": "code",
   "execution_count": 99,
   "metadata": {},
   "outputs": [
    {
     "data": {
      "text/plain": [
       "'countdown'"
      ]
     },
     "execution_count": 99,
     "metadata": {},
     "output_type": "execute_result"
    }
   ],
   "source": [
    "countdown.__name__"
   ]
  },
  {
   "cell_type": "markdown",
   "metadata": {},
   "source": [
    "# Rad sa tekstom"
   ]
  },
  {
   "cell_type": "code",
   "execution_count": 100,
   "metadata": {},
   "outputs": [],
   "source": [
    "line = 'asdf fjdk; afed, fjek,asdf,     foo'"
   ]
  },
  {
   "cell_type": "code",
   "execution_count": 101,
   "metadata": {},
   "outputs": [],
   "source": [
    "import re"
   ]
  },
  {
   "cell_type": "code",
   "execution_count": 102,
   "metadata": {},
   "outputs": [
    {
     "data": {
      "text/plain": [
       "['a', 'df fjdk', 'afed', 'fjek', 'a', 'df', 'foo']"
      ]
     },
     "execution_count": 102,
     "metadata": {},
     "output_type": "execute_result"
    }
   ],
   "source": [
    "#U zagradi su vrednosti separatora a * označava proizvoljan broj vrednosti separatora\n",
    "re.split('[r;,s]\\s*', line)"
   ]
  },
  {
   "cell_type": "code",
   "execution_count": 103,
   "metadata": {},
   "outputs": [
    {
     "data": {
      "text/plain": [
       "['asdf', 'fjdk', 'afed', 'fjek', 'asdf', 'foo']"
      ]
     },
     "execution_count": 103,
     "metadata": {},
     "output_type": "execute_result"
    }
   ],
   "source": [
    "#?: non capture group. Capture group sadrži i ponavljajući tekst kao zaseban.\n",
    "re.split(r'(?:,|;|\\s)\\s*',line)"
   ]
  },
  {
   "cell_type": "code",
   "execution_count": 104,
   "metadata": {},
   "outputs": [],
   "source": [
    "filename='kajskajskasjkajsa.txt'"
   ]
  },
  {
   "cell_type": "code",
   "execution_count": 105,
   "metadata": {},
   "outputs": [
    {
     "data": {
      "text/plain": [
       "True"
      ]
     },
     "execution_count": 105,
     "metadata": {},
     "output_type": "execute_result"
    }
   ],
   "source": [
    "filename.endswith('txt')"
   ]
  },
  {
   "cell_type": "code",
   "execution_count": 106,
   "metadata": {},
   "outputs": [],
   "source": [
    "import os"
   ]
  },
  {
   "cell_type": "code",
   "execution_count": 107,
   "metadata": {},
   "outputs": [],
   "source": [
    "filename=os.listdir('.')"
   ]
  },
  {
   "cell_type": "code",
   "execution_count": 108,
   "metadata": {},
   "outputs": [
    {
     "data": {
      "text/plain": [
       "['Untitled10.ipynb',\n",
       " 'Data Science - Interview questions.csv',\n",
       " 'Untitled7.ipynb',\n",
       " 'TimeSeries sa kovarijatima + PROPHET.ipynb',\n",
       " 'za peru (1).html',\n",
       " 'vecs.tsv',\n",
       " 'TimeSeries sa kovarijatima LGMB, LSTM i VAR.ipynb',\n",
       " 'AirPassengers.csv',\n",
       " 'Untitled5.ipynb',\n",
       " 'Untitled1.ipynb',\n",
       " 'R_20and_20Python.ipynb',\n",
       " 'Yet Another Titanic Solve.html',\n",
       " 'FB Prophet.ipynb',\n",
       " 'rpub_proba_mape.html',\n",
       " 'Copy_of_rnn.ipynb',\n",
       " 'Untitled3.ipynb',\n",
       " 'Tekst.txt',\n",
       " 'Pismo.rtf',\n",
       " 'Untitled.ipynb',\n",
       " 'VIF.ipynb',\n",
       " 'meta.tsv',\n",
       " 'Probability Plot Correlation Coefficient Plot Tukey lambda.ipynb',\n",
       " 'Untitled4.ipynb',\n",
       " 'Untitled6.ipynb',\n",
       " 'Untitled11.ipynb',\n",
       " 'Distributions.html',\n",
       " 'aclImdb',\n",
       " 'Tekst.odt.sb-cd0c7508-eRz6gz',\n",
       " 'osnove vita.html',\n",
       " 'WEB_scrapping.ipynb',\n",
       " 'Programiranje gradient descent-a i brzine ucena.ipynb',\n",
       " '911.csv',\n",
       " 'Sagemaker_project1 and 2 with SageMaker deployment.ipynb',\n",
       " 'Ispitivanja_distribucije.ipynb',\n",
       " 'WEBSCRAPPING.ipynb',\n",
       " 'Untitled2.ipynb',\n",
       " 'Vreme izrade Gradient descent-a, SDG-a i mini-batch.ipynb',\n",
       " 'UNRATE.csv',\n",
       " 'word_embeddings.ipynb',\n",
       " 'RNN.ipynb',\n",
       " 'Time series statsmodels.ipynb',\n",
       " 'Verovatnoća Bajes.ipynb',\n",
       " 'LGBMT boosted trees.ipynb',\n",
       " 'logs',\n",
       " 'Bazični timeseries model sa airpassanger data.ipynb',\n",
       " 'Python Kuvar.ipynb',\n",
       " 'TimeSeries.ipynb',\n",
       " 'Distributions.ipynb',\n",
       " 'Timeseres_LSTM (Vanila, Stack, Multivariate, ConvLSTM).ipynb',\n",
       " '.ipynb',\n",
       " 'Verovatnoća Bajes (2).html',\n",
       " 'Untitled8.ipynb',\n",
       " 'Statisticko zakljucivanje.ipynb',\n",
       " '100strana.csv',\n",
       " '.ipynb_checkpoints',\n",
       " 'Plotovanje kompleksnosti algoritma preko vremena.ipynb',\n",
       " 'Wikipedia Web trafic forecasting timeseries.ipynb',\n",
       " 'SageMaker Project 3 XGBoost.ipynb',\n",
       " 'aclImdb_v1.tar.gz.tar.gz',\n",
       " 'Untitled9.ipynb',\n",
       " 'Word embeddings RNN Recommender.ipynb']"
      ]
     },
     "execution_count": 108,
     "metadata": {},
     "output_type": "execute_result"
    }
   ],
   "source": [
    "filename"
   ]
  },
  {
   "cell_type": "code",
   "execution_count": 109,
   "metadata": {},
   "outputs": [
    {
     "data": {
      "text/plain": [
       "['Untitled10.ipynb',\n",
       " 'Untitled7.ipynb',\n",
       " 'TimeSeries sa kovarijatima + PROPHET.ipynb',\n",
       " 'TimeSeries sa kovarijatima LGMB, LSTM i VAR.ipynb',\n",
       " 'Untitled5.ipynb',\n",
       " 'Untitled1.ipynb',\n",
       " 'R_20and_20Python.ipynb',\n",
       " 'FB Prophet.ipynb',\n",
       " 'Copy_of_rnn.ipynb',\n",
       " 'Untitled3.ipynb',\n",
       " 'Untitled.ipynb',\n",
       " 'VIF.ipynb',\n",
       " 'Probability Plot Correlation Coefficient Plot Tukey lambda.ipynb',\n",
       " 'Untitled4.ipynb',\n",
       " 'Untitled6.ipynb',\n",
       " 'Untitled11.ipynb',\n",
       " 'WEB_scrapping.ipynb',\n",
       " 'Programiranje gradient descent-a i brzine ucena.ipynb',\n",
       " 'Sagemaker_project1 and 2 with SageMaker deployment.ipynb',\n",
       " 'Ispitivanja_distribucije.ipynb',\n",
       " 'WEBSCRAPPING.ipynb',\n",
       " 'Untitled2.ipynb',\n",
       " 'Vreme izrade Gradient descent-a, SDG-a i mini-batch.ipynb',\n",
       " 'word_embeddings.ipynb',\n",
       " 'RNN.ipynb',\n",
       " 'Time series statsmodels.ipynb',\n",
       " 'Verovatnoća Bajes.ipynb',\n",
       " 'LGBMT boosted trees.ipynb',\n",
       " 'Bazični timeseries model sa airpassanger data.ipynb',\n",
       " 'Python Kuvar.ipynb',\n",
       " 'TimeSeries.ipynb',\n",
       " 'Distributions.ipynb',\n",
       " 'Timeseres_LSTM (Vanila, Stack, Multivariate, ConvLSTM).ipynb',\n",
       " '.ipynb',\n",
       " 'Untitled8.ipynb',\n",
       " 'Statisticko zakljucivanje.ipynb',\n",
       " 'Plotovanje kompleksnosti algoritma preko vremena.ipynb',\n",
       " 'Wikipedia Web trafic forecasting timeseries.ipynb',\n",
       " 'SageMaker Project 3 XGBoost.ipynb',\n",
       " 'Untitled9.ipynb',\n",
       " 'Word embeddings RNN Recommender.ipynb']"
      ]
     },
     "execution_count": 109,
     "metadata": {},
     "output_type": "execute_result"
    }
   ],
   "source": [
    "#filterišemo pajton fajlove\n",
    "[name for name in filename if name.endswith('ipynb')]"
   ]
  },
  {
   "cell_type": "code",
   "execution_count": 110,
   "metadata": {},
   "outputs": [
    {
     "data": {
      "text/plain": [
       "['Data Science - Interview questions.csv',\n",
       " 'AirPassengers.csv',\n",
       " '911.csv',\n",
       " 'UNRATE.csv',\n",
       " '100strana.csv']"
      ]
     },
     "execution_count": 110,
     "metadata": {},
     "output_type": "execute_result"
    }
   ],
   "source": [
    "#filterišemo csv fajlove\n",
    "[name for name in filename if name.endswith('csv')]"
   ]
  },
  {
   "cell_type": "code",
   "execution_count": 111,
   "metadata": {},
   "outputs": [],
   "source": [
    "from fnmatch import fnmatch, fnmatchcase"
   ]
  },
  {
   "cell_type": "code",
   "execution_count": 112,
   "metadata": {},
   "outputs": [],
   "source": [
    "#pretraga izraza u tekstu\n",
    "tekst = 'lalalslsskjgjggjvita;aklkkskslkslssls'\n",
    "k = re.match('vita.txt', tekst)\n",
    "k"
   ]
  },
  {
   "cell_type": "code",
   "execution_count": 113,
   "metadata": {
    "scrolled": true
   },
   "outputs": [
    {
     "data": {
      "text/plain": [
       "False"
      ]
     },
     "execution_count": 113,
     "metadata": {},
     "output_type": "execute_result"
    }
   ],
   "source": [
    "fnmatchcase(tekst, '* vita')"
   ]
  },
  {
   "cell_type": "code",
   "execution_count": 114,
   "metadata": {},
   "outputs": [],
   "source": [
    "adrese = ['clarck st', 'belgreda', 'mirk st', 'mica', 'okean st']"
   ]
  },
  {
   "cell_type": "code",
   "execution_count": 115,
   "metadata": {},
   "outputs": [
    {
     "data": {
      "text/plain": [
       "['clarck st', 'mirk st', 'okean st']"
      ]
     },
     "execution_count": 115,
     "metadata": {},
     "output_type": "execute_result"
    }
   ],
   "source": [
    "[adresa for adresa in adrese if fnmatchcase(adresa, '* st')]"
   ]
  },
  {
   "cell_type": "code",
   "execution_count": 116,
   "metadata": {},
   "outputs": [],
   "source": [
    "#\\d+  znači podudaranje jedne ili više cifara\n",
    "datepattern = re.compile('\\d+/\\d+/\\d+')"
   ]
  },
  {
   "cell_type": "code",
   "execution_count": 117,
   "metadata": {},
   "outputs": [],
   "source": [
    "text1='11/27/2021'\n",
    "text2='nov 27, 2012'"
   ]
  },
  {
   "cell_type": "code",
   "execution_count": 118,
   "metadata": {},
   "outputs": [
    {
     "name": "stdout",
     "output_type": "stream",
     "text": [
      "yes\n"
     ]
    }
   ],
   "source": [
    "if datepattern.match(text1):\n",
    "    print('yes')\n",
    "else:\n",
    "    print('no')"
   ]
  },
  {
   "cell_type": "code",
   "execution_count": 119,
   "metadata": {},
   "outputs": [
    {
     "name": "stdout",
     "output_type": "stream",
     "text": [
      "no\n"
     ]
    }
   ],
   "source": [
    "if datepattern.match(text2):\n",
    "    print('yes')\n",
    "else:\n",
    "    print('no')"
   ]
  },
  {
   "cell_type": "code",
   "execution_count": 120,
   "metadata": {},
   "outputs": [],
   "source": [
    "text = 'Danas je 10/10/2020 a nije 11/10/2020'"
   ]
  },
  {
   "cell_type": "code",
   "execution_count": 121,
   "metadata": {},
   "outputs": [
    {
     "data": {
      "text/plain": [
       "['10/10/2020', '11/10/2020']"
      ]
     },
     "execution_count": 121,
     "metadata": {},
     "output_type": "execute_result"
    }
   ],
   "source": [
    "datepattern.findall(text)"
   ]
  },
  {
   "cell_type": "code",
   "execution_count": 122,
   "metadata": {},
   "outputs": [],
   "source": [
    "datepattern=re.compile(r'(\\d+)/(\\d+)/(\\d+)')"
   ]
  },
  {
   "cell_type": "code",
   "execution_count": 123,
   "metadata": {},
   "outputs": [],
   "source": [
    "m=datepattern.match('11/12/2011')"
   ]
  },
  {
   "cell_type": "code",
   "execution_count": 124,
   "metadata": {},
   "outputs": [
    {
     "name": "stdout",
     "output_type": "stream",
     "text": [
      "11/12/2011 \n",
      " 11 \n",
      " 12 \n",
      " 2011\n"
     ]
    }
   ],
   "source": [
    "print(m.group(0), '\\n', m.group(1), '\\n', m.group(2), '\\n', m.group(3))"
   ]
  },
  {
   "cell_type": "code",
   "execution_count": 125,
   "metadata": {},
   "outputs": [
    {
     "name": "stdout",
     "output_type": "stream",
     "text": [
      "('10', '10', '2020')\n",
      "('11', '10', '2020')\n"
     ]
    }
   ],
   "source": [
    "for m in datepattern.finditer(text):\n",
    "    print(m.groups())"
   ]
  },
  {
   "cell_type": "code",
   "execution_count": 126,
   "metadata": {},
   "outputs": [
    {
     "data": {
      "text/plain": [
       "'yep yep no non yep yep no no'"
      ]
     },
     "execution_count": 126,
     "metadata": {},
     "output_type": "execute_result"
    }
   ],
   "source": [
    "text = 'yes yes no non yes yes no no'\n",
    "text.replace('yes', 'yep')"
   ]
  },
  {
   "cell_type": "code",
   "execution_count": 127,
   "metadata": {},
   "outputs": [],
   "source": [
    "text = 'Danas je 10/10/2020 a nije 11/10/2020'"
   ]
  },
  {
   "cell_type": "code",
   "execution_count": 128,
   "metadata": {},
   "outputs": [
    {
     "data": {
      "text/plain": [
       "'Danas je 2020-10-10) a nije 2020-11-10)'"
      ]
     },
     "execution_count": 128,
     "metadata": {},
     "output_type": "execute_result"
    }
   ],
   "source": [
    "#broj je oznaka za kapitažnu grupu\n",
    "re.sub(r'(\\d+)/(\\d+)/(\\d+)', r'\\3-\\1-\\2)', text)"
   ]
  },
  {
   "cell_type": "code",
   "execution_count": 129,
   "metadata": {},
   "outputs": [
    {
     "data": {
      "text/plain": [
       "'Danas je 10-10-2020) a nije 11-10-2020)'"
      ]
     },
     "execution_count": 129,
     "metadata": {},
     "output_type": "execute_result"
    }
   ],
   "source": [
    "re.sub(r'(\\d+)/(\\d+)/(\\d+)', r'\\1-\\2-\\3)', text)"
   ]
  },
  {
   "cell_type": "code",
   "execution_count": 130,
   "metadata": {},
   "outputs": [],
   "source": [
    "pat = re.compile(r'\\\"(.*)\\\"')"
   ]
  },
  {
   "cell_type": "code",
   "execution_count": 131,
   "metadata": {},
   "outputs": [],
   "source": [
    "text1 = 'Computer says \"no\".'"
   ]
  },
  {
   "cell_type": "code",
   "execution_count": 132,
   "metadata": {},
   "outputs": [
    {
     "data": {
      "text/plain": [
       "['no']"
      ]
     },
     "execution_count": 132,
     "metadata": {},
     "output_type": "execute_result"
    }
   ],
   "source": [
    "pat.findall(text1)"
   ]
  },
  {
   "cell_type": "code",
   "execution_count": 133,
   "metadata": {},
   "outputs": [],
   "source": [
    "text2='Computer says \"no\", Phone says \"yes\".'"
   ]
  },
  {
   "cell_type": "code",
   "execution_count": 134,
   "metadata": {},
   "outputs": [
    {
     "data": {
      "text/plain": [
       "['no\", Phone says \"yes']"
      ]
     },
     "execution_count": 134,
     "metadata": {},
     "output_type": "execute_result"
    }
   ],
   "source": [
    "pat.findall(text2)"
   ]
  },
  {
   "cell_type": "code",
   "execution_count": 135,
   "metadata": {},
   "outputs": [],
   "source": [
    "#korekcija gramzivosti - kroz upitnik traži najmanji podudarni segment\n",
    "kor_pat=re.compile(r'\\\"(.*?)\\\"')"
   ]
  },
  {
   "cell_type": "code",
   "execution_count": 136,
   "metadata": {},
   "outputs": [
    {
     "data": {
      "text/plain": [
       "['no', 'yes']"
      ]
     },
     "execution_count": 136,
     "metadata": {},
     "output_type": "execute_result"
    }
   ],
   "source": [
    "kor_pat.findall(text2)"
   ]
  },
  {
   "cell_type": "markdown",
   "metadata": {},
   "source": [
    "Izuzimanje neželjenih znakova iz teksta"
   ]
  },
  {
   "cell_type": "code",
   "execution_count": 137,
   "metadata": {},
   "outputs": [],
   "source": [
    "s='    helo world   '"
   ]
  },
  {
   "cell_type": "code",
   "execution_count": 138,
   "metadata": {},
   "outputs": [
    {
     "data": {
      "text/plain": [
       "'helo world'"
      ]
     },
     "execution_count": 138,
     "metadata": {},
     "output_type": "execute_result"
    }
   ],
   "source": [
    "s.strip()"
   ]
  },
  {
   "cell_type": "code",
   "execution_count": 139,
   "metadata": {},
   "outputs": [],
   "source": [
    "s='//////////////helo world------------'"
   ]
  },
  {
   "cell_type": "code",
   "execution_count": 140,
   "metadata": {},
   "outputs": [
    {
     "data": {
      "text/plain": [
       "'helo world'"
      ]
     },
     "execution_count": 140,
     "metadata": {},
     "output_type": "execute_result"
    }
   ],
   "source": [
    "s.strip('/-')"
   ]
  },
  {
   "cell_type": "code",
   "execution_count": 141,
   "metadata": {},
   "outputs": [],
   "source": [
    "with open('100strana.csv') as g:\n",
    "    strane = [line.rstrip('a') for line in g]\n",
    "    strane=g.readlines()"
   ]
  },
  {
   "cell_type": "code",
   "execution_count": 142,
   "metadata": {},
   "outputs": [],
   "source": [
    "with open('100strana.csv') as f:\n",
    "    strane = f.readlines()"
   ]
  },
  {
   "cell_type": "code",
   "execution_count": 143,
   "metadata": {},
   "outputs": [
    {
     "data": {
      "text/plain": [
       "['The\\n',\n",
       " 'Hundred-\\n',\n",
       " 'Page\\n',\n",
       " 'Machine\\n',\n",
       " 'Learning\\n',\n",
       " 'Book\\n',\n",
       " 'Andriy Burkov\\n',\n",
       " '\\n',\n",
       " '\"“All models are wrong, but some are useful.”\"\\n',\n",
       " '— George Box\\n',\n",
       " '\"The book is distributed on the “read first, buy later” principle.\"\\n',\n",
       " 'Andriy Burkov The Hundred-Page Machine Learning Book - Draft\\n',\n",
       " '\\n',\n",
       " 'Preface\\n',\n",
       " 'Let’s start by telling the truth: machines don’t learn. What a typical “learning machine”\\n',\n",
       " '\"does, is finding a mathematical formula, which, when applied to a collection of inputs (called\"\\n',\n",
       " '\"“training data”), produces the desired outputs. This mathematical formula also generates the\"\\n',\n",
       " 'correct outputs for most other inputs (distinct from the training data) on the condition that\\n',\n",
       " 'those inputs come from the same or a similar statistical distribution as the one the training\\n',\n",
       " 'data was drawn from.\\n',\n",
       " '\"Why isn’t that learning? Because if you slightly distort the inputs, the output is very likely\"\\n',\n",
       " 'to become completely wrong. It’s not how learning in animals works. If you learned to play\\n',\n",
       " '\"a video game by looking straight at the screen, you would still be a good player if someone\"\\n',\n",
       " '\"rotates the screen slightly. A machine learning algorithm, if it was trained by “looking”\"\\n',\n",
       " '\"straight at the screen, unless it was also trained to recognize rotation, will fail to play the\"\\n',\n",
       " 'game on a rotated screen.\\n',\n",
       " '\"So why the name “machine learning” then? The reason, as is often the case, is marketing:\"\\n',\n",
       " '\"Arthur Samuel, an American pioneer in the field of computer gaming and artificial intelligence,\"\\n',\n",
       " 'coined the term in 1959 while at IBM. Similarly to how in the 2010s IBM tried to market\\n',\n",
       " '\"the term “cognitive computing” to stand out from competition, in the 1960s, IBM used the\"\\n',\n",
       " 'new cool term “machine learning” to attract both clients and talented employees.\\n',\n",
       " '\"As you can see, just like artificial intelligence is not intelligence, machine learning is not\"\\n',\n",
       " '\"learning. However, machine learning is a universally recognized term that usually refers\"\\n',\n",
       " 'to the science and engineering of building machines capable of doing various useful things\\n',\n",
       " '\"without being explicitly programmed to do so. So, the word “learning” in the term is used\"\\n',\n",
       " 'by analogy with the learning in animals rather than literally.\\n',\n",
       " 'Who This Book is For\\n',\n",
       " 'This book contains only those parts of the vast body of material on machine learning developed\\n',\n",
       " 'since the 1960s that have proven to have a significant practical value. A beginner in machine\\n',\n",
       " 'learning will find in this book just enough details to get a comfortable level of understanding\\n',\n",
       " 'of the field and start asking the right questions.\\n',\n",
       " 'Practitioners with experience can use this book as a collection of directions for further\\n',\n",
       " 'self-improvement. The book also comes in handy when brainstorming at the beginning of a\\n',\n",
       " '\"project, when you try to answer the question whether a given technical or business problem\"\\n',\n",
       " '\"is “machine-learnable” and, if yes, which techniques you should try to solve it.\"\\n',\n",
       " 'How to Use This Book\\n',\n",
       " '\"If you are about to start learning machine learning, you should read this book from the\"\\n',\n",
       " '\"beginning to the end. (It’s just a hundred pages, not a big deal.) If you are interested\"\\n',\n",
       " 'Andriy Burkov The Hundred-Page Machine Learning Book - Draft 3\\n',\n",
       " '\\n',\n",
       " '\"in a specific topic covered in the book and want to know more, most sections have a QR\"\\n',\n",
       " '\"code. By scanning one of those QR codes with your phone, you will get a link to a page on\"\\n',\n",
       " '\"the book’s companion wiki theMLbook.com with additional materials: recommended reads,\"\\n',\n",
       " '\"videos, Q&As, code snippets, tutorials, and other bonuses.\"\\n',\n",
       " 'The book’s wiki is continuously updated with contributions from the book’s author himself\\n',\n",
       " '\"as well as volunteers from all over the world. So this book, like a good wine, keeps getting\"\\n',\n",
       " 'better after you buy it.\\n',\n",
       " 'Scan the QR code below with your phone to get to the book’s wiki:\\n',\n",
       " '\"Some sections don’t have a QR code, but they still most likely have a wiki page. You can\"\\n',\n",
       " 'find it by submitting the section’s title to the wiki’s search engine.\\n',\n",
       " 'Should You Buy This Book?\\n',\n",
       " '\"This book is distributed on the “read first, buy later” principle. I firmly believe that paying\"\\n',\n",
       " 'for the content before consuming it is buying a pig in a poke. You can see and try a car in a\\n',\n",
       " 'dealership before you buy it. You can try on a shirt or a dress in a department store. You\\n',\n",
       " 'have to be able to read a book before paying for it.\\n',\n",
       " '\"The read first, buy later principle implies that you can freely download the book, read it and\"\\n',\n",
       " '\"share it with your friends and colleagues. If you liked the book, only then you have to buy it.\"\\n',\n",
       " 'Now you are all set. Enjoy your reading!\\n',\n",
       " 'Andriy Burkov The Hundred-Page Machine Learning Book - Draft 4\\n',\n",
       " '\\n',\n",
       " 'The\\n',\n",
       " 'Hundred-\\n',\n",
       " 'Page\\n',\n",
       " 'Machine\\n',\n",
       " 'Learning\\n',\n",
       " 'Book\\n',\n",
       " 'Andriy Burkov\\n',\n",
       " '\\n',\n",
       " '\"“All models are wrong, but some are useful.”\"\\n',\n",
       " '— George Box\\n',\n",
       " '\"The book is distributed on the “read first, buy later” principle.\"\\n',\n",
       " 'Andriy Burkov The Hundred-Page Machine Learning Book - Draft\\n',\n",
       " '\\n',\n",
       " '1 Introduction,,,\\n',\n",
       " '1.1 What is Machine Learning,,,\\n',\n",
       " 'Machine learning is a subfield of computer science that is concerned with building algorithms,,,\\n',\n",
       " '\"which, to be useful, rely on a collection of examples of some phenomenon. These examples\",,,\\n',\n",
       " '\"can come from nature, be handcrafted by humans or generated by another algorithm.\",,,\\n',\n",
       " 'Machine learning can also be defined as the process of solving a practical problem by 1),,,\\n',\n",
       " '\"gathering a dataset, and 2) algorithmically building a statistical model based on that dataset.\",,,\\n',\n",
       " 'That statistical model is assumed to be used somehow to solve the practical problem.,,,\\n',\n",
       " '\"To save keystrokes, I use the terms “learning” and “machine learning” interchangeably.\",,,\\n',\n",
       " '1.2 Types of Learning,,,\\n',\n",
       " '\"Learning can be supervised, semi-supervised, unsupervised and reinforcement.\",,,\\n',\n",
       " '1.2.1 Supervised Learning,,,\\n',\n",
       " '\"In supervised learning 1 , the dataset is the collection of labeled examples\",\", y\",)}N,.\\n',\n",
       " '{(x,,,\\n',\n",
       " 'i  i,,,\\n',\n",
       " 'i=1 Each element xiamong N is called a feature vector. A feature vector is a vector in which,,,\\n',\n",
       " '\"each dimension j = 1, . . . , D contains a value that describes the example somehow. That\",,,\\n',\n",
       " '\"value is called a feature and is denoted as x(j) . For instance, if each example x in our\",,,\\n',\n",
       " '\"collection represents a person, then the first feature, x(1) , could contain height in cm, the\",,,\\n',\n",
       " '\"second feature, x(2) , could contain weight in kg, x(3) could contain gender, and so on. For all\",,,\\n',\n",
       " '\"examples in the dataset, the feature at position j in the feature vector always contains the\",,,\\n',\n",
       " '\"same kind of information. It means that if xi(2)contains weight in kg in some example xi ,\",,,\\n',\n",
       " '\"then x(k2)will also contain weight in kg in every example xk , k = 1, . . . , N . The label y ican\",,,\\n',\n",
       " '\"be either an element belonging to a finite set of classes {1, 2, . . . , C}, or a real number, or a\",,,\\n',\n",
       " '\"more complex structure, like a vector, a matrix, a tree, or a graph. Unless otherwise stated,\",,,\\n',\n",
       " 'in this book y iis either one of a finite set of classes or a real number. You can see a class as,,,\\n',\n",
       " '\"a category to which an example belongs. For instance, if your examples are email messages\",,,\\n',\n",
       " '\"and your problem is spam detection, then you have two classes {spam, not_spam}.\",,,\\n',\n",
       " 'The goal of a supervised learning algorithm is to use the dataset to produce a model,,,\\n',\n",
       " 'that takes a feature vector x as input and outputs information that allows deducing the label,,,\\n',\n",
       " '\"for this feature vector. For instance, the model created using the dataset of people could\",,,\\n',\n",
       " 'take as input a feature vector describing a person and output a probability that the person,,,\\n',\n",
       " 'has cancer.,,,\\n',\n",
       " '\"1 In this book, if a term is in bold, that means that this term can be found in the index at the end of the\",,,\\n',\n",
       " 'book.,,,\\n',\n",
       " 'Andriy Burkov The Hundred-Page Machine Learning Book - Draft 3,,,\\n',\n",
       " '\\n',\n",
       " '1.2.2 Unsupervised Learning\\n',\n",
       " '\"In unsupervised learning, the dataset is a collection of unlabeled examples  N .\"\\n',\n",
       " '{xi }i=1\\n',\n",
       " '\"Again, x is a feature vector, and the goal of an unsupervised learning algorithm is\"\\n',\n",
       " 'to create a model that takes a feature vector x as input and either transforms it into\\n',\n",
       " '\"another vector or into a value that can be used to solve a practical problem. For example,\"\\n',\n",
       " '\"in clustering, the model returns the id of the cluster for each feature vector in the dataset.\"\\n',\n",
       " '\"In dimensionality reduction, the output of the model is a feature vector that has fewer\"\\n',\n",
       " '\"features than the input x; in outlier detection, the output is a real number that indicates\"\\n',\n",
       " 'how x is different from a “typical” example in the dataset.\\n',\n",
       " '1.2.3 Semi-Supervised Learning\\n',\n",
       " '\"In semi-supervised learning, the dataset contains both labeled and unlabeled examples.\"\\n',\n",
       " '\"Usually, the quantity of unlabeled examples is much higher than the number of labeled\"\\n',\n",
       " 'examples. The goal of a semi-supervised learning algorithm is the same as the goal of\\n',\n",
       " 'the supervised learning algorithm. The hope here is that using many unlabeled examples can\\n',\n",
       " 'help the learning algorithm to find (we might say “produce” or “compute”) a better model2 .\\n',\n",
       " '1.2.4 Reinforcement Learning\\n',\n",
       " 'Reinforcement learning is a subfield of machine learning where the machine “lives” in an\\n',\n",
       " 'environment and is capable of perceiving the state of that environment as a vector of\\n',\n",
       " 'features. The machine can execute actions in every state. Different actions bring different\\n',\n",
       " 'rewards and could also move the machine to another state of the environment. The goal\\n',\n",
       " 'of a reinforcement learning algorithm is to learn a policy. A policy is a function f (similar\\n',\n",
       " 'to the model in supervised learning) that takes the feature vector of a state as input and\\n',\n",
       " 'outputs an optimal action to execute in that state. The action is optimal if it maximizes the\\n',\n",
       " 'expected average reward.\\n',\n",
       " 'Reinforcement learning solves a particular kind of problems where\\n',\n",
       " '\"decision making is sequential, and the goal is long-term, such as game\"\\n',\n",
       " '\"playing, robotics, resource management, or logistics. In this book, I\"\\n',\n",
       " 'put emphasis on one-shot decision making where input examples are\\n',\n",
       " 'independent of one another and the predictions made in the past. I\\n',\n",
       " 'leave reinforcement learning out of the scope of this book.\\n',\n",
       " '2 It could look counter-intuitive that learning could benefit from adding more unlabeled examples. It seems\\n',\n",
       " '\"like we add more uncertainty to the problem. However, when you add unlabeled examples, you add more\"\\n',\n",
       " 'information about your problem: a larger sample reflects better the probability distribution the data we\\n',\n",
       " '\"labeled came from. Theoretically, a learning algorithm should be able to leverage this additional information.\"\\n',\n",
       " 'Andriy Burkov The Hundred-Page Machine Learning Book - Draft 4\\n',\n",
       " '\\n',\n",
       " '1.3 How Supervised Learning Works\\n',\n",
       " '\"In this section, I briefly explain how supervised learning works so that you have the picture\"\\n',\n",
       " 'of the whole process before we go into detail. I decided to use supervised learning as an\\n',\n",
       " 'example because it’s the type of machine learning most frequently used in practice.\\n',\n",
       " 'The supervised learning process starts with gathering the data. The data for supervised\\n',\n",
       " '\"learning is a collection of pairs (input, output). Input could be anything, for example, email\"\\n',\n",
       " '\"messages, pictures, or sensor measurements. Outputs are usually real numbers, or labels (e.g.\"\\n',\n",
       " '\"“spam”, “not_spam”, “cat”, “dog”, “mouse”, etc). In some cases, outputs are vectors (e.g.,\"\\n',\n",
       " '\"four coordinates of the rectangle around a person on the picture), sequences (e.g. [“adjective”,\"\\n',\n",
       " '\"“adjective”, “noun”] for the input “big beautiful car”), or have some other structure.\"\\n',\n",
       " 'Let’s say the problem that you want to solve using supervised learning is spam detection.\\n',\n",
       " '\"You gather the data, for example, 10,000 email messages, each with a label either “spam” or\"\\n',\n",
       " '\"“not_spam” (you could add those labels manually or pay someone to do that for us). Now,\"\\n',\n",
       " 'you have to convert each email message into a feature vector.\\n',\n",
       " '\"The data analyst decides, based on their experience, how to convert a real-world entity, such\"\\n',\n",
       " '\"as an email message, into a feature vector. One common way to convert a text into a feature\"\\n',\n",
       " '\"vector, called bag of words, is to take a dictionary of English words (let’s say it contains\"\\n',\n",
       " '\"20,000 alphabetically sorted words) and stipulate that in our feature vector:\"\\n',\n",
       " '\"• the first feature is equal to 1 if the email message contains the word “a”; otherwise,\"\\n',\n",
       " 'this feature is 0;\\n',\n",
       " '\"• the second feature is equal to 1 if the email message contains the word “aaron”; otherwise,\"\\n',\n",
       " 'this feature equals 0;\\n',\n",
       " '• ...\\n',\n",
       " '\"• the feature at position 20,000 is equal to 1 if the email message contains the word\"\\n',\n",
       " '\"“zulu”; otherwise, this feature is equal to 0.\"\\n',\n",
       " '\"You repeat the above procedure for every email message in our collection, which gives\"\\n',\n",
       " '\"us 10,000 feature vectors (each vector having the dimensionality of 20,000) and a label\"\\n',\n",
       " '(“spam”/“not_spam”).\\n',\n",
       " '\"Now you have a machine-readable input data, but the output labels are still in the form of\"\\n',\n",
       " 'human-readable text. Some learning algorithms require transforming labels into numbers.\\n',\n",
       " '\"For example, some algorithms require numbers like 0 (to represent the label “not_spam”)\"\\n',\n",
       " 'and 1 (to represent the label “spam”). The algorithm I use to illustrate supervised learning is\\n',\n",
       " 'called Support Vector Machine (SVM). This algorithm requires that the positive label (in\\n',\n",
       " '\"our case it’s “spam”) has the numeric value of +1 (one), and the negative label (“not_spam”)\"\\n',\n",
       " 'has the value of ≠1 (minus one).\\n',\n",
       " '\"At this point, you have a dataset and a learning algorithm, so you are ready to apply\"\\n',\n",
       " 'the learning algorithm to the dataset to get the model.\\n',\n",
       " '\"SVM sees every feature vector as a point in a high-dimensional space (in our case, space\"\\n',\n",
       " 'Andriy Burkov The Hundred-Page Machine Learning Book - Draft 5\\n',\n",
       " '\\n',\n",
       " '\"is 20,000-dimensional). The algorithm puts all feature vectors on an imaginary 20,000-\",\\n',\n",
       " '\"dimensional plot and draws an imaginary 20,000-dimensional line (a hyperplane) that separates\",\\n',\n",
       " '\"examples with positive labels from examples with negative labels. In machine learning, the\",\\n',\n",
       " 'boundary separating the examples of different classes is called the decision boundary.,\\n',\n",
       " '\"The equation of the hyperplane is given by two parameters, a real-valued vector w of the\",\\n',\n",
       " '\"same dimensionality as our input feature vector x, and a real number b like this:\",\\n',\n",
       " '\"wx ≠ b = 0,\",\\n',\n",
       " '\"where the expression wx means w (1) x(1) + w (2) x(2) + . . . + w (D) x(D) , and D is the number\",\\n',\n",
       " 'of dimensions of the feature vector x.,\\n',\n",
       " '\"(If some equations aren’t clear to you right now, in Chapter 2 we revisit the math and\",\\n',\n",
       " '\"statistical concepts necessary to understand them. For the moment, try to get an intuition of\",\\n',\n",
       " 'what’s happening here. It all becomes more clear after you read the next chapter.),\\n',\n",
       " '\"Now, the predicted label for some input feature vector x is given like this:\",\\n',\n",
       " '\"y = sign(wx ≠ b),\",\\n',\n",
       " 'where sign is a mathematical operator that takes any value as input and returns +1 if the,\\n',\n",
       " 'input is a positive number or ≠1 if the input is a negative number.,\\n',\n",
       " 'The goal of the learning algorithm — SVM in this case — is to leverage the dataset and find,\\n',\n",
       " 'the optimal values w ú and b ú for parameters w and b. Once the learning algorithm identifies,\\n',\n",
       " '\"these optimal values, the model f (x) is then defined as:\",\\n',\n",
       " 'f (x) = sign(w ú x ≠ b ú ),\\n',\n",
       " '\"Therefore, to predict whether an email message is spam or not spam using an SVM model,\",\\n',\n",
       " '\"you have to take a text of the message, convert it into a feature vector, then multiply this\",\\n',\n",
       " '\"vector by w ú , subtract b ú and take the sign of the result. This will give us the prediction (+1\",\\n',\n",
       " '\"means “spam”, ≠1 means “not_spam”).\",\\n',\n",
       " '\"Now, how does the machine find w ú and b ú ? It solves an optimization problem. Machines\",\\n',\n",
       " 'are good at optimizing functions under constraints.,\\n',\n",
       " '\"So what are the constraints we want to satisfy here? First of all, we want the model to predict\",\\n',\n",
       " '\"the labels of our 10,000 examples correctly. Remember that each example i = 1, . . . , 10000 is\",\\n',\n",
       " '\"given by a pair (xi , yi ), where xiis the feature vector of example i and y i\",is its label that\\n',\n",
       " 'takes values either ≠1 or +1. So the constraints are naturally:,\\n',\n",
       " '\"• wxi ≠ b Ø 1 if y i = +1, and\",\\n',\n",
       " '• wx b  if y =,\\n',\n",
       " 'i ≠  Æ ≠1  i  ≠1,\\n',\n",
       " 'Andriy Burkov The Hundred-Page Machine Learning Book - Draft,6\\n',\n",
       " '\\n',\n",
       " 'x(2),| |w||,2,,\\n',\n",
       " ',,,x(1),\\n',\n",
       " 'b,,,,\\n',\n",
       " '| |w||,,,,\\n',\n",
       " 'Figure 1: An example of an SVM model for two-dimensional feature vectors.,,,,\\n',\n",
       " 'We would also prefer that the hyperplane separates positive examples from negative ones with,,,,\\n',\n",
       " '\"the largest margin. The margin is the distance between the closest examples of two classes,\",,,,\\n',\n",
       " '\"as defined by the decision boundary. A large margin contributes to a better generalization,\",,,,\\n',\n",
       " '\"that is how well the model will classify new examples in the future. Toachieve that, we need\",,,,\\n',\n",
       " 'to minimize the Euclidean norm of w denoted by ÎwÎ and given byÒqjD=1 (w(j) )2 .,,,,\\n',\n",
       " '\"So, the optimization problem that we want the machine to solve looks like this:\",,,,\\n',\n",
       " '\"Minimize  subject to  (wx 1 for = 1,  . The expression\",,,(wx,1\\n',\n",
       " '\"ÎwÎ  y i  i ≠ b) Ø  i  . . . , N  y i  i ≠ b) Ø\",,,,\\n',\n",
       " 'is just a compact way to write the above two constraints.,,,,\\n',\n",
       " '\"The solution of this optimization problem, given by w ú and b ú , is called the statistical\",,,,\\n',\n",
       " '\"model, or, simply, the model. The process of building the model is called training.\",,,,\\n',\n",
       " '\"For two-dimensional feature vectors, the problem and the solution can be visualized as shown\",,,,\\n',\n",
       " '\"in fig. 1. The blue and orange circles represent, respectively, positive and negative examples,\",,,,\\n',\n",
       " 'and the line given by wx ≠ b = 0 is the decision boundary.,,,,\\n',\n",
       " '\"Why, by minimizing the norm of w, do we find the highest margin between the two classes?\",,,,\\n',\n",
       " '\"Geometrically, the equations wx ≠ b = 1 and wx ≠ b = ≠1 define two parallel hyperplanes,\",,,,\\n',\n",
       " 'as you see in fig. 1. The distance between these hyperplanes is given by 2,,,\", so the smaller\",\\n',\n",
       " 'ÎwÎ,,,,\\n',\n",
       " 'Andriy Burkov The Hundred-Page Machine Learning Book - Draft,,,,7\\n',\n",
       " '\\n',\n",
       " '\"the norm ÎwÎ, the larger the distance between these two hyperplanes.\"\\n',\n",
       " 'That’s how Support Vector Machines work. This particular version of the algorithm builds\\n',\n",
       " 'the so-called linear model. It’s called linear because the decision boundary is a straight line\\n',\n",
       " '\"(or a plane, or a hyperplane). SVM can also incorporate kernels that can make the decision\"\\n',\n",
       " '\"boundary arbitrarily non-linear. In some cases, it could be impossible to perfectly separate\"\\n',\n",
       " '\"the two groups of points because of noise in the data, errors of labeling, or outliers (examples\"\\n',\n",
       " 'very different from a “typical” example in the dataset). Another version of SVM can also\\n',\n",
       " 'incorporate a penalty hyperparameter for misclassification of training examples of specific\\n',\n",
       " 'classes. We study the SVM algorithm in more detail in Chapter 3.\\n',\n",
       " '\"At this point, you should retain the following: any classification learning algorithm that\"\\n',\n",
       " 'builds a model implicitly or explicitly creates a decision boundary. The decision boundary\\n',\n",
       " '\"can be straight, or curved, or it can have a complex form, or it can be a superposition of\"\\n',\n",
       " 'some geometrical figures. The form of the decision boundary determines the accuracy of\\n',\n",
       " 'the model (that is the ratio of examples whose labels are predicted correctly). The form of\\n',\n",
       " '\"the decision boundary, the way it is algorithmically or mathematically computed based on\"\\n',\n",
       " '\"the training data, differentiates one learning algorithm from another.\"\\n',\n",
       " '\"In practice, there are two other essential differentiators of learning algorithms to consider:\"\\n',\n",
       " '\"speed of model building and prediction processing time. In many practical cases, you would\"\\n',\n",
       " '\"prefer a learning algorithm that builds a less accurate model fast. Additionally, you might\"\\n',\n",
       " 'prefer a less accurate model that is much quicker at making predictions.\\n',\n",
       " '1.4 Why the Model Works on New Data\\n',\n",
       " '\"Why is a machine-learned model capable of predicting correctly the labels of new, previously\"\\n',\n",
       " '\"unseen examples? To understand that, look at the plot in fig. 1. If two classes are separable\"\\n',\n",
       " '\"from one another by a decision boundary, then, obviously, examples that belong to each class\"\\n',\n",
       " 'are located in two different subspaces which the decision boundary creates.\\n',\n",
       " '\"If the examples used for training were selected randomly, independently of one another, and\"\\n',\n",
       " '\"following the same procedure, then, statistically, it is more likely that the new negative\"\\n',\n",
       " 'example will be located on the plot somewhere not too far from other negative examples.\\n',\n",
       " 'The same concerns the new positive example: it will likely come from the surroundings of\\n',\n",
       " '\"other positive examples. In such a case, our decision boundary will still, with high probability,\"\\n',\n",
       " '\"separate well new positive and negative examples from one another. For other, less likely\"\\n',\n",
       " '\"situations, our model will make errors, but because such situations are less likely, the number\"\\n',\n",
       " 'of errors will likely be smaller than the number of correct predictions.\\n',\n",
       " '\"Intuitively, the larger is the set of training examples, the more unlikely that the new examples\"\\n',\n",
       " 'will be dissimilar to (and lie on the plot far from) the examples used for training. To minimize\\n',\n",
       " '\"the probability of making errors on new examples, the SVM algorithm, by looking for the\"\\n',\n",
       " '\"largest margin, explicitly tries to draw the decision boundary in such a way that it lies as far\"\\n',\n",
       " 'as possible from examples of both classes.\\n',\n",
       " 'Andriy Burkov The Hundred-Page Machine Learning Book - Draft 8\\n',\n",
       " '\\n',\n",
       " 'The reader interested in knowing more about the learnability and un-\\n',\n",
       " '\"derstanding the close relationship between the model error, the size of\"\\n',\n",
       " '\"the training set, the form of the mathematical equation that defines\"\\n',\n",
       " '\"the model, and the time it takes to build the model is encouraged to\"\\n',\n",
       " 'read about the PAC learning. The PAC (for “probably approximately\\n',\n",
       " 'correct”) learning theory helps to analyze whether and under what\\n',\n",
       " 'conditions a learning algorithm will probably output an approximately\\n',\n",
       " 'correct classifier.\\n',\n",
       " 'Andriy Burkov The Hundred-Page Machine Learning Book - Draft 9\\n',\n",
       " '\\n',\n",
       " 'The\\n',\n",
       " 'Hundred-\\n',\n",
       " 'Page\\n',\n",
       " 'Machine\\n',\n",
       " 'Learning\\n',\n",
       " 'Book\\n',\n",
       " 'Andriy Burkov\\n',\n",
       " '\\n',\n",
       " '\"“All models are wrong, but some are useful.”\"\\n',\n",
       " '— George Box\\n',\n",
       " '\"The book is distributed on the “read first, buy later” principle.\"\\n',\n",
       " 'Andriy Burkov The Hundred-Page Machine Learning Book - Draft\\n',\n",
       " '\\n',\n",
       " '2 Notation and Definitions\\n',\n",
       " '2.1 Notation\\n',\n",
       " '\"Let’s start by revisiting the mathematical notation we all learned at school, but some likely\"\\n',\n",
       " 'forgot right after the prom.\\n',\n",
       " '\"2.1.1 Scalars, Vectors, and Sets\"\\n',\n",
       " '\"A scalar is a simple numerical value, like 15 or ≠3.25. Variables or constants that take scalar\"\\n',\n",
       " '\"values are denoted by an italic letter, like x or a.\"\\n',\n",
       " 'Figure 1: Three vectors visualized as directions and as points.\\n',\n",
       " '\"A vector is an ordered list of scalar values, called attributes. We denote a vector as a bold\"\\n',\n",
       " '\"character, for example, x or w. Vectors can be visualized as arrows that point to somedirections as well as points in a multi-dimensional space. Illustrations of three two-dimensional\"\\n',\n",
       " '\"vectors, a = [2, 3], b = [≠2, 5], and c = [1, 0] is given in fig. 1. We denote an attribute of a\"\\n',\n",
       " '\"vector as an italic value with an index, like this: w (j) or x(j) . The index j denotes a specific\"\\n',\n",
       " '\"dimension of the vector, the position of an attribute in the list. For instance, in the vector a\"\\n',\n",
       " '\"shown in red in fig. 1, a(1) = 2 and a(2) = 3.\"\\n',\n",
       " '\"The notation x(j) should not be confused with the power operator, like this x2 (squared) or\"\\n',\n",
       " '\"x3 (cubed). If we want to apply a power operator, say square, to an indexed attribute of a\"\\n',\n",
       " '\"vector, we write like this: (x(j) )2 .\"\\n',\n",
       " '\"A variable can have two or more indices, like this: xi(j)or like this xi(,kj) . For example, in\"\\n',\n",
       " '\"neural networks, we denote as xl(,ju)the input feature j of unit u in layer l.\"\\n',\n",
       " 'Andriy Burkov The Hundred-Page Machine Learning Book - Draft 3\\n',\n",
       " '\\n',\n",
       " 'A set is an unordered collection of unique elements. We denote a set as a calligraphic,,,,\\n',\n",
       " '\"capital character, for example,  A set of numbers can be finite (include a fixed amount\",,,,\\n',\n",
       " 'S.,,,,\\n',\n",
       " '\"of values). In this case, it is denoted using accolades, for example, {1, 3, 18, 23, 235} or\",,,,\\n',\n",
       " '\"{x1 , x2 , x3 , x4 , . . . , xn }. A set can be infinite and include all values in some interval. If a set\",,,,\\n',\n",
       " '\"includes all values between a and b, including a and b, it is denoted using brackets as [a, b].\",,,,\\n',\n",
       " '\"If the set doesn’t include the values a and b, such a set is denoted using parentheses like this:\",,,,\\n',\n",
       " '\"(a, b). For example, the set [0, 1] includes such values as 0, 0.0001, 0.25, 0.784, 0.9995, and\",,,,\\n',\n",
       " '1.0. A special set denoted R includes all numbers from minus infinity to plus infinity.,,,,\\n',\n",
       " 'When an element x belongs to a set  we write x  We can obtain a new set  as,,,,\\n',\n",
       " '\"S,  œ S.  S3 an intersection of two sets S1 and S2 . In this case, we write S3 Ω S1 fl S2 . For example\",,,,\\n',\n",
       " '\"{1, 3, 5, 8} fl {1, 8, 4} gives the new set {1, 8}.\",,,,\\n',\n",
       " '\"We can obtain a new set S3as a union of two sets S1and S2 . In this case, we write\",,,,\\n',\n",
       " '\"S3 Ω S1 fi S2 . For example {1, 3, 5, 8} fi {1, 8, 4} gives the new set {1, 3, 4, 5, 8}.\",,,,\\n',\n",
       " '2.1.2 Capital Sigma Notation,,,,\\n',\n",
       " '\"The summation over a collection X = {x1 , x2 , . . . , xn≠1 , xn } or over the attributes of a vector\",,,,\\n',\n",
       " '\"x = [x(1) , x(2) , . . . , x(m≠1) , x(m) ] is denoted like this:\",,,,\\n',\n",
       " 'n,,,m,\\n',\n",
       " 'ÿ,xi,\"d=ef x1 + x2 + . . . + xn≠1 + xn , or else:\",ÿ,x(j) d=ef x(1) + x(2) + . . . + x(m≠1) + x(m) .\\n',\n",
       " 'i=1,,,j=1,\\n',\n",
       " 'The notation d=ef means “is defined as”.,,,,\\n',\n",
       " '2.1.3,,Capital Pi Notation,,\\n',\n",
       " 'A notation analogous to capital sigma is the capital pi notation. It denotes a product of,,,,\\n',\n",
       " 'elements in a collection or attributes of a vector:,,,,\\n',\n",
       " 'n,,,,\\n',\n",
       " ',,,def,\\n',\n",
       " 'Ÿ,,xi,\"= x1 · x2 · . . . · xn≠1 · xn ,\",\\n',\n",
       " 'i=1,,,,\\n',\n",
       " '\"where a · b means a multiplied by b. Where possible, we omit · to simplify the notation, so ab\",,,,\\n',\n",
       " 'also means a multiplied by b.,,,,\\n',\n",
       " 'Andriy Burkov The Hundred-Page Machine Learning Book - Draft 4,,,,\\n',\n",
       " '\\n',\n",
       " '2.1.4 Operations on Sets,,,,,,\\n',\n",
       " 'A derived set creation operator looks like this:  Õ  2 x  x > 3}. This notation means,,,,,,\\n',\n",
       " '\"S Ω {x| œ S,\",,,,,,\\n',\n",
       " '\"that we create a new set S Õ by putting into it x squared such that that x is in S, and x is\",,,,,,\\n',\n",
       " 'greater than 3.,,,,,,\\n',\n",
       " 'The cardinality operator |S| returns the number of elements in set S.,,,,,,\\n',\n",
       " '2.1.5 Operations on Vectors,,,,,,\\n',\n",
       " '\"The sum of two vectors x + z is defined as the vector [x(1) + z (1) , x(2) + z (2) , . . . , x(m) + z (m) ].\",,,,,,\\n',\n",
       " '\"The difference of two vectors x  z is defined as the vector [x(1)  z (1) , x(2)  z (2) , . . . , x(m) ≠  ≠  ≠  ≠\",,,,,,\\n',\n",
       " 'z (m) ].,,,,,,\\n',\n",
       " '\"A vector multiplied by a scalar is a vector. For example xc d=ef [cx(1) , cx(2) , . . . , cx(m) ].\",,,,,,\\n',\n",
       " '\"A dot-product of two vectors is a scalar. For example, wx d=ef  m w (i) x(i) . In some books,\",,,,,,\\n',\n",
       " 'qi=1 the dot-product is denoted as w · x. The two vectors must be of the same dimensionality.,,,,,,\\n',\n",
       " '\"Otherwise, the dot-product is undefined.\",,,,,,\\n',\n",
       " 'The multiplication of a matrix W by a vector x gives another vector as a result. Let our,,,,,,\\n',\n",
       " '\"matrix be,\",,,,,,\\n',\n",
       " ',,\"w(1,1)\",\"w (1,2)\",\"w (1,3)\",,\\n',\n",
       " ',W =,\"5w  (2,1)\",\"w (2,2)\",\"w (2,3)\",6,.\\n',\n",
       " '\"When vectors participate in operations on matrices, a vector is by default represented as a\",,,,,,\\n',\n",
       " '\"matrix with one column. When the vector is on the right of the matrix, it remains a column\",,,,,,\\n',\n",
       " 'vector. We can only multiply a matrix by vector if the vector has the same number of rows,,,,,,\\n',\n",
       " '\"as the number of columns in the matrix. Let our vector be x d=ef [x(1) , x(2) , x(3) ]. Then Wx\",,,,,,\\n',\n",
       " '\"is a two-dimensional vector defined as,\",,,,,,\\n',\n",
       " ',,,,,(1),\\n',\n",
       " ',\"(1,1)w\",w,\"(1,2)\",\"(1,3)w\",xS,\\n',\n",
       " 'Wx =,\"5w  (2,1)\",\"w (2,2)\",,\"(2) Tw (2,3)6 Uxx(3)V\",,\\n',\n",
       " 'def,\"w(1,1)\",\"x(1)+ w (1,2) x(2) + w (1,3) x(3)\",,,,\\n',\n",
       " '=,\"5w  (2,1) x(1) + w (2,2) x(2) + w (2,3) x(3)6\",,,,,\\n',\n",
       " ',w(1)x,,,,,\\n',\n",
       " '=,5w  (2) x6,,,,,\\n',\n",
       " '\"If our matrix had, say, five rows, the result of the above product would be a five-dimensional\",,,,,,\\n',\n",
       " 'vector.,,,,,,\\n',\n",
       " 'Andriy Burkov The Hundred-Page Machine Learning Book - Draft 5,,,,,,\\n',\n",
       " '\\n',\n",
       " '\"When the vector is on the left side of the matrix in the multiplication, then it has to be\",,,,,,,\\n',\n",
       " 'transposed before we multiply it by the matrix. The transpose of the vector x denoted as x €,,,,,,,\\n',\n",
       " '\"makes a row vector out of a column vector. Let’s say,\",,,,,,,\\n',\n",
       " ',,,x(1),,,,\\n',\n",
       " ',x =,,5,6,\",\",,\\n',\n",
       " ',,,x(2),,,,\\n',\n",
       " '\"then,\",,,,,,,\\n',\n",
       " ',x € d=ef,,\"Ëx(1) , x(2)\",,,È,.\\n',\n",
       " '\"The multiplication of the vector x by the matrix W is given by x € W,\",,,,,,,\\n',\n",
       " ',\"(1,1)\",\"(1,2)\",\"(1,3)\",,,,\\n',\n",
       " 'x € W =,\"w (1)  (2)x , x 5Ë È w (2,1)\",\"w w (2,2)\",\"w  6w (2,3)\",,,,\\n',\n",
       " '\"d=ef #w (1,1)x(1)+ w (2,1) x(2) , w (1,2) x(1) + w (2,2) x(2) , w (1,3) x(1) + w (2,3) x(2)$\",,,,,,,\\n',\n",
       " '\"As you can see, we can only multiply a vector by a matrix if the vector has the same number\",,,,,,,\\n',\n",
       " 'of dimensions as the number of rows in the matrix.,,,,,,,\\n',\n",
       " '2.1.6 Functions,,,,,,,\\n',\n",
       " '\"A function is a relation that associates each element x of a set X , the domain of the function,\",,,,,,,\\n',\n",
       " '\"to a single element y of another set Y, the codomain of the function. A function usually has a\",,,,,,,\\n',\n",
       " '\"name. If the function is called f , this relation is denoted y = f (x) (read f of x), the element\",,,,,,,\\n',\n",
       " '\"x is the argument or input of the function, and y is the value of the function or the output.\",,,,,,,\\n',\n",
       " 'The symbol that is used for representing the input is the variable of the function (we often,,,,,,,\\n',\n",
       " 'say that f is a function of the variable x).,,,,,,,\\n',\n",
       " 'We say that f (x) has a local minimum at x = c if f (x) Ø f (c) for every x in some open,,,,,,,\\n',\n",
       " 'interval around x = c. An interval is a set of real numbers with the property that any number,,,,,,,\\n',\n",
       " 'that lies between two numbers in the set is also included in the set. An open interval does,,,,,,,\\n',\n",
       " '\"not include its endpoints and is denoted using parentheses. For example, (0, 1) means greater\",,,,,,,\\n',\n",
       " 'than 0 and less than 1. The minimal value among all the local minima is called the global,,,,,,,\\n',\n",
       " 'minimum. See illustration in fig. 2.,,,,,,,\\n',\n",
       " '\"A vector function, denoted as y = f (x) is a function that returns a vector y. It can have a\",,,,,,,\\n',\n",
       " 'vector or a scalar argument.,,,,,,,\\n',\n",
       " 'Andriy Burkov The Hundred-Page Machine Learning Book - Draft 6,,,,,,,\\n',\n",
       " '\\n',\n",
       " ',6,\\n',\n",
       " ',4,\\n',\n",
       " ',2,\\n',\n",
       " 'f(x),0,\\n',\n",
       " ',–2,\\n',\n",
       " ',,local minimum\\n',\n",
       " ',–4,global minimum\\n',\n",
       " ',–6,\\n',\n",
       " 'Figure 2: A local and a global minima of a function.,,\\n',\n",
       " '2.1.7 Max and Arg Max,,\\n',\n",
       " '\"Given a set of values A = {a1 , a2 , . . . , an }, the operator,\",,\\n',\n",
       " 'max f (a),,\\n',\n",
       " 'aœA,,\\n',\n",
       " '\"returns the highest value f (a) for all elements in the set A. On the other hand, the operator,\",,\\n',\n",
       " 'arg max f (a),,\\n',\n",
       " 'aœA,,\\n',\n",
       " 'returns the element of the set A that maximizes f (a).,,\\n',\n",
       " '\"Sometimes, when the set is implicit or infinite, we can write max a f (a) or arg max f (a).\",,\\n',\n",
       " ',,a\\n',\n",
       " 'Operators min and arg min operate in a similar manner.,,\\n',\n",
       " '2.1.8 Assignment Operator,,\\n',\n",
       " 'The expression a Ω f (x) means that the variable a gets the new value: the result of f (x).,,\\n',\n",
       " '\"We say that the variable a gets assigned a new value. Similarly, a Ω [a1 , a2 ] means that the\",,\\n',\n",
       " '\"two-dimensional vector a gets the value [a1 , a2 ].\",,\\n',\n",
       " 'Andriy Burkov The Hundred-Page Machine Learning Book - Draft 7,,\\n',\n",
       " '\\n',\n",
       " '2.1.9 Derivative and Gradient,,\\n',\n",
       " 'A derivative f Õ of a function f is a function or a value that describes how fast f grows (or,,\\n',\n",
       " '\"decreases). If the derivative is a constant value, like 5 or  then the function grows (or\",,\\n',\n",
       " '\"≠3,\",,\\n',\n",
       " '\"decreases) constantly at any point x of its domain. If the derivative f Õ is a function, then the\",,\\n',\n",
       " 'function f can grow at a different pace in different regions of its domain. If the derivative f Õ,,\\n',\n",
       " '\"is positive at some point x, then the function f grows at this point. If the derivative of f is\",,\\n',\n",
       " '\"negative at some x, then the function decreases at this point. The derivative of zero at x\",,\\n',\n",
       " 'means that the function’s slope at x is horizontal.,,\\n',\n",
       " 'The process of finding a derivative is called differentiation.,,\\n',\n",
       " '\"Derivatives for basic functions are known. For example if f (x) = x2 , then f Õ (x) = 2x; if\",,\\n',\n",
       " '\"f (x) = 2x then f Õ (x) = 2; if f (x) = 2 then f Õ (x) = 0 (the derivative of any function f (x) = c,\",,\\n',\n",
       " '\"where c is a constant value, is zero).\",,\\n',\n",
       " '\"If the function we want to differentiate is not basic, we can find its derivative using the\",,\\n',\n",
       " '\"chain rule. For example if F (x) = f (g(x)), where f and g are some functions, then F Õ (x) =\",,\\n',\n",
       " 'f Õ (g(x))g Õ (x). For example if F (x) = (5x + 1)2 then g(x) = 5x + 1 and f (g(x)) = (g(x))2 .,,\\n',\n",
       " '\"By applying the chain rule, we find F Õ (x) = 2(5x + 1)g Õ (x) = 2(5x + 1)5 = 50x + 10.\",,\\n',\n",
       " 'Gradient is the generalization of derivative for functions that take several inputs (or one,,\\n',\n",
       " 'input in the form of a vector or some other complex structure). A gradient of a function,,\\n',\n",
       " 'is a vector of partial derivatives. You can look at finding a partial derivative of a function,,\\n',\n",
       " 'as the process of finding the derivative by focusing on one of the function’s inputs and by,,\\n',\n",
       " 'considering all other inputs as constant values.,,\\n',\n",
       " '\"For example, if our function is defined as f ([x(1) , x(2) ]) = ax(1) + bx(2) + c, then the partial\",,\\n',\n",
       " '\"derivative of function f with respect to x(1) , denoted as ˆˆx(f1) , is given by,\",,\\n',\n",
       " '\"ˆ(f1)= a + 0 + 0 = a,\",,\\n',\n",
       " 'where a is the derivative of the function ax(1) ; the two zeroes are respectively derivatives of,,\\n',\n",
       " '\"bx(2) and c, because x(2) is considered constant when we compute the derivative with respect\",,\\n',\n",
       " '\"to x(1) , and the derivative of any constant is zero.\",,\\n',\n",
       " '\"Similarly, the partial derivative of function f with respect to x(2) ,\",\",\",\"is given by,\"\\n',\n",
       " 'ˆˆx (f2),,\\n',\n",
       " 'ˆ(f = 0 + b + 0 = b.,,\\n',\n",
       " '2),,\\n',\n",
       " '\"The gradient of function f , denoted as Òf is given by the vector [ ˆˆ\",,\\n',\n",
       " '\"x(f1) , ˆˆx(f2) ].\",,\\n',\n",
       " '\"The chain rule works with partial derivatives too, as I illustrate in Chapter 4.\",,\\n',\n",
       " 'Andriy Burkov The Hundred-Page Machine Learning Book - Draft,,8\\n',\n",
       " '\\n',\n",
       " '(a) (b)\\n',\n",
       " 'Figure 3: A probability mass function and a probability density function.\\n',\n",
       " '2.2 Random Variable\\n',\n",
       " '\"A random variable, usually written as an italic capital letter, like X, is a variable whose\"\\n',\n",
       " 'possible values are numerical outcomes of a random phenomenon. There are two types of\\n',\n",
       " 'random variables: discrete and continuous.\\n',\n",
       " '\"A discrete random variable takes on only a countable number of distinct values such as red,\"\\n',\n",
       " '\"yellow, blue or 1, 2, 3, . . ..\"\\n',\n",
       " 'The probability distribution of a discrete random variable is described by a list of probabilities\\n',\n",
       " 'associated with each of its possible values. This list of probabilities is called probability mass\\n',\n",
       " '\"function (pmf). For example: Pr(X = red) = 0.3, Pr(X = yellow) = 0.45, Pr(X = blue) =\"\\n',\n",
       " '0.25. Each probability in a probability mass function is a value greater than or equal to 0.\\n',\n",
       " 'The sum of probabilities equals 1 (fig. 3a).\\n',\n",
       " 'A continuous random variable takes an infinite number of possible values in some interval.\\n',\n",
       " '\"Examples include height, weight, and time. Because the number of values of a continuous\"\\n',\n",
       " '\"random variable X is infinite, the probability Pr(X = c) for any c is 0. Therefore, instead\"\\n',\n",
       " '\"of the list of probabilities, the probability distribution of a continuous random variable (a\"\\n',\n",
       " 'continuous probability distribution) is described by a probability density function (pdf). The\\n',\n",
       " 'pdf is a function whose codomain is nonnegative and the area under the curve is equal to 1\\n',\n",
       " '(fig. 3b).\\n',\n",
       " 'Let a discrete random variable X have k possible values {xi }i=1 . The expectation of X\\n',\n",
       " '\"denoted as E[X] is given by,\"\\n',\n",
       " 'Andriy Burkov The Hundred-Page Machine Learning Book - Draft 9\\n',\n",
       " '\\n',\n",
       " ',k,,,,,,,,,,,\\n',\n",
       " 'd=ef,,Pr(X =  ) =  Pr(X =,,) +  Pr(X =,,) +,+,\"Pr(X =  ),\",,(1),,\\n',\n",
       " 'E[X],ÿ,xi,xi  x1  x1,,x2  x2,· · ·,xk,,xk,,,\\n',\n",
       " ',i=1,,,,,,,,,,,\\n',\n",
       " 'where Pr(X = xi ) is the probability that X has the value xi,,,,,,according to the pmf. The,,,,,,\\n',\n",
       " '\"expectation of a random variable is also called the mean, average or expected value and is\",,,,,,,,,,,,\\n',\n",
       " 'frequently denoted with the letter μ. The expectation is one of the most important statistics,,,,,,,,,,,,\\n',\n",
       " 'of a random variable. Another important statistic is the standard deviation. For a discrete,,,,,,,,,,,,\\n',\n",
       " '\"random variable, the standard deviation usually denoted as ‡ is given by:\",,,,,,,,,,,,\\n',\n",
       " 'd=ef,,2 ] =,Pr(X =  )(x,2 + Pr(X =  )(x,,,2 +  + Pr(X =,,,)(x,2,\\n',\n",
       " '‡  \\uf8ffE[(X ≠ μ),,,\\uf8ff x1  1 ≠ μ),,x2,2 ≠ μ),,· · ·,xk,,k ≠ μ),\",\"\\n',\n",
       " 'where μ = E[X].,,,,,,,,,,,,\\n',\n",
       " '\"The expectation of a continuous random variable X is given by,\",,,,,,,,,,,,\\n',\n",
       " ',,,E[X] d=ef,⁄,\"xfX (x) dx,\",,,,,(2),,\\n',\n",
       " ',,,,R,,,,,,,,\\n',\n",
       " 'where fX,is the pdf of the variable X and,,,sR,is the integral of function xfX .,,,,,,,\\n',\n",
       " 'Integral is an equivalent of the summation over all values of the function when the function,,,,,,,,,,,,\\n',\n",
       " 'has a continuous domain. It equals the area under the curve of the function.The property of,,,,,,,,,,,,\\n',\n",
       " 'the pdf that the area under its curve is 1 mathematically means thatsR fX (x) dx = 1.,,,,,,,,,,,,\\n',\n",
       " '\"Most of the time we don’t know fX , but we can observe some values of X.In machine\",,,,,,,,,,,,\\n',\n",
       " '\"learning, we call these values examples, and the collection of these examples is called a\",,,,,,,,,,,,\\n',\n",
       " 'sample or a dataset.,,,,,,,,,,,,\\n',\n",
       " '2.3 Unbiased Estimators,,,,,,,,,,,,\\n',\n",
       " '\"Because f is usually unknown, but we have a sample S X X\",,,,,,=,N,\", we often content\",,,,\\n',\n",
       " '\"{xi }i=1 ourselves not with the true values of statistics of the probability distribution, such as\",,,,,,,,,,,,\\n',\n",
       " '\"expectation, but with their unbiased estimators.\",,,,,,,,,,,,\\n',\n",
       " 'We say that ◊ˆ(SX ) is an unbiased estimator of some statistic ◊ calculated using a sample S X,,,,,,,,,,,,\\n',\n",
       " 'drawn from an unknown probability distribution if ◊ˆ(SX ) has the following property:,,,,,,,,,,,,\\n',\n",
       " ',,,\"E Ë◊ˆ(SX )È= ◊,\",,,,,,,,,\\n',\n",
       " 'Andriy Burkov The Hundred-Page Machine Learning Book - Draft,,,,,,,,,,10,,\\n',\n",
       " '\\n',\n",
       " '\"where ◊ˆ is a sample statistic, obtained using a sample S Xand not the real statistic ◊ that\",,,,,,,\\n',\n",
       " 'can be obtained only knowing X; the expectation is taken over all possible samples drawn,,,,,,,\\n',\n",
       " '\"from X. Intuitively, this means that if you can have an unlimited number of such samples\",,,,,,,\\n',\n",
       " '\"as S X , and you compute some unbiased estimator, such as μ̂, using each sample, then the\",,,,,,,\\n',\n",
       " 'average of all these μ̂ equals the real statistic μ that you would get computed on X.,,,,,,,\\n',\n",
       " 'It can be shown that an unbiased estimator of an unknown E[X] (given by either eq. 1 or,,,,,,,\\n',\n",
       " 'eq. 2) is given by N1qiN=1 xi(called in statistics the sample mean).,,,,,,,\\n',\n",
       " '2.4 Bayes’ Rule,,,,,,,\\n',\n",
       " 'The conditional probability Pr(X = x|Y = y) is the probability of the random variable X to,,,,,,,\\n',\n",
       " 'have a specific value x given that another random variable Yhas a specific value of y. The,,,,,,,\\n',\n",
       " 'Bayes’ Rule (also known as the Bayes’ Theorem) stipulates that:,,,,,,,\\n',\n",
       " ',,Pr(Y = y|X = x) Pr(X = x),,,,,\\n',\n",
       " ',Pr(X =  =  =x|Y  y),Pr(Y = y),,,.,,\\n',\n",
       " '2.5,Parameter Estimation,,,,,,\\n',\n",
       " '\"Bayes’ Rule comes in handy when we have a model of X’s distribution, and this model f\",,,,,,,is a\\n',\n",
       " '◊,,,,,,,\\n',\n",
       " 'function that has some parameters in the form of a vector ◊. An example of such a function,,,,,,,\\n',\n",
       " '\"could be the Gaussian function that has two parameters, μ and ‡, and is defined as:\",,,,,,,\\n',\n",
       " ',,1,,(x≠μ)2,,,\\n',\n",
       " ',f◊ (x) = Ô2fi‡ 2,,e≠,2‡ 2,\",\",,\\n',\n",
       " '\"where ◊ d=ef [μ, ‡].\",,,,,,,\\n',\n",
       " '\"This function has all the properties of a pdf. Therefore, we can use it as a model of an\",,,,,,,\\n',\n",
       " 'unknown distribution of X. We can update the values of parameters in the vector ◊ from the,,,,,,,\\n',\n",
       " 'data using the Bayes’ Rule:,,,,,,,\\n',\n",
       " 'ˆ,,Pr(X = x|◊ = ◊ˆ) Pr(◊ = ◊ˆ)  Pr(X,,,= x|◊ = ◊ˆ) Pr(◊ = ◊ˆ),,\\n',\n",
       " 'Pr(◊ = ◊|X,= x) Ω,Pr(X = x),=,,\" ̃q◊ ̃ Pr(X = x|◊ = ◊)\",.,(3)\\n',\n",
       " 'where Pr(X = x|◊ = ◊ˆ) d=ef fˆ.,,,,,,,\\n',\n",
       " '◊,,,,,,,\\n',\n",
       " '\"If we have a sample S of X and the set of possible values for ◊ is finite, we can easily estimate\",,,,,,,\\n',\n",
       " '\"Pr(◊ = ◊ˆ) by applying Bayes’ Rule iteratively, one example x œ S at a time. The initial value\",,,,,,,\\n',\n",
       " 'Pr(◊ = ◊ˆ) can be guessed such that  ◊ˆ Pr(◊ = ◊ˆ) = 1. This guess of the probabilities for,,,,,,,\\n',\n",
       " 'different ◊ˆ is called the prior. q,,,,,,,\\n',\n",
       " 'Andriy Burkov The Hundred-Page Machine Learning Book - Draft 11,,,,,,,\\n',\n",
       " '\\n',\n",
       " '\"First, we compute Pr(◊ = ◊ˆ|X= x1 ) for all possible values ◊ˆ. Then, before updating\",,,,\\n',\n",
       " '\"Pr(◊ = ◊ˆ|X= x) once again, this time for x = x2 œ S using eq. 3, we replace the prior\",,,,\\n',\n",
       " 'Pr(◊ = ◊ˆ) in eq. 3 by the new estimate Pr(◊ = ◊ˆ) Ω N1 qxœS Pr(◊ = ◊ˆ|X = x).,,,,\\n',\n",
       " 'The best value of the parameters ◊ ú given one example is obtained using the principle of,,,,\\n',\n",
       " 'maximum-likelihood:,,,,\\n',\n",
       " ',N,,,\\n',\n",
       " '◊ ú = arg max,Ÿ,Pr(◊ = ◊ˆ|X,= xi ).,(4)\\n',\n",
       " '◊,i=1,,,\\n',\n",
       " '\"If the set of possible values for ◊ isn’t finite, then we need to optimize eq. 4 directly using a\",,,,\\n',\n",
       " '\"numerical optimization routine, such as gradient descent, which we consider in Chapter 4.\",,,,\\n',\n",
       " '\"Usually, we optimize the natural logarithm of the right-hand side expression in eq. 4 because\",,,,\\n',\n",
       " 'the logarithm of a product becomes the sum of logarithms and it’s easier for the machine to,,,,\\n',\n",
       " 'work with the sum than with a product1 .,,,,\\n',\n",
       " '2.6 Classification vs. Regression,,,,\\n',\n",
       " 'Classification is a problem of automatically assigning a label to an unlabeled example.,,,,\\n',\n",
       " 'Spam detection is a famous example of classification.,,,,\\n',\n",
       " '\"In machine learning, the classification problem is solved by a classification learning algorithm\",,,,\\n',\n",
       " 'that takes a collection of labeled examples as inputs and produces a model that can take,,,,\\n',\n",
       " 'an unlabeled example as input and either directly output a label or output a number that,,,,\\n',\n",
       " 'can be used by the data analyst to deduce the label easily. An example of such a number is,,,,\\n',\n",
       " 'a probability.,,,,\\n',\n",
       " '\"In a classification problem, a label is a member of a finite set of classes. If the size of\",,,,\\n',\n",
       " '\"the set of classes is two (“sick”/“healthy”, “spam”/“not_spam”), we talk about binary\",,,,\\n',\n",
       " 'classification (also called binomial in some books).,,,,\\n',\n",
       " 'Multiclass classification (also called multinomial) is a classification problem with three,,,,\\n',\n",
       " 'or more classes 2 .,,,,\\n',\n",
       " '\"While some learning algorithms naturally allow for more than two classes, others are by nature\",,,,\\n',\n",
       " 'binary classification algorithms. There are strategies allowing to turn a binary classification,,,,\\n',\n",
       " 'learning algorithm into a multiclass one. I talk about one of them in Chapter 7.,,,,\\n',\n",
       " 'Regression is a problem of predicting a real-valued label (often called a target) given an,,,,\\n',\n",
       " '\"unlabeled example. Estimating house price valuation based on house features, such as area,\",,,,\\n',\n",
       " '\"the number of bedrooms, location and so on is a famous example of regression.\",,,,\\n',\n",
       " '1 Multiplication of many numbers can give either a very small result or a very large one. It often results in,,,,\\n',\n",
       " 'the problem of numerical overflow when the machine cannot store such extreme numbers in memory.,,,,\\n',\n",
       " '2 There’s still one label per example though.,,,,\\n',\n",
       " 'Andriy Burkov The Hundred-Page Machine Learning Book - Draft,,,,12\\n',\n",
       " '\\n',\n",
       " 'The regression problem is solved by a regression learning algorithm that takes a collection\\n',\n",
       " 'of labeled examples as inputs and produces a model that can take an unlabeled example as\\n',\n",
       " 'input and output a target.\\n',\n",
       " '2.7 Model-Based vs. Instance-Based Learning\\n',\n",
       " 'Most supervised learning algorithms are model-based. We have already seen one such\\n',\n",
       " 'algorithm: SVM. Model-based learning algorithms use the training data to create a model\\n',\n",
       " '\"that has parameters learned from the training data. In SVM, the two parameters we saw\"\\n',\n",
       " '\"were w ú and b ú . After the model was built, the training data can be discarded.\"\\n',\n",
       " 'Instance-based learning algorithms use the whole dataset as the model. One instance-based\\n',\n",
       " '\"algorithm frequently used in practice is k-Nearest Neighbors (kNN). In classification, to\"\\n',\n",
       " 'predict a label for an input example the kNN algorithm looks at the close neighborhood of\\n',\n",
       " 'the input example in the space of feature vectors and outputs the label that it saw the most\\n',\n",
       " 'often in this close neighborhood.\\n',\n",
       " '2.8 Shallow vs. Deep Learning\\n',\n",
       " 'A shallow learning algorithm learns the parameters of the model directly from the features\\n',\n",
       " 'of the training examples. Most supervised learning algorithms are shallow. The notorious\\n',\n",
       " '\"exceptions are neural network learning algorithms, specifically those that build neural\"\\n',\n",
       " 'networks with more than one layer between input and output. Such neural networks are\\n',\n",
       " '\"called deep neural networks. In deep neural network learning (or, simply, deep learning),\"\\n',\n",
       " '\"contrary to shallow learning, most model parameters are learned not directly from the features\"\\n',\n",
       " '\"of the training examples, but from the outputs of the preceding layers.\"\\n',\n",
       " 'Don’t worry if you don’t understand what that means right now. We look at neural networks\\n',\n",
       " 'more closely in Chapter 6.\\n',\n",
       " 'Andriy Burkov The Hundred-Page Machine Learning Book - Draft 13\\n',\n",
       " '\\n',\n",
       " 'The\\n',\n",
       " 'Hundred-\\n',\n",
       " 'Page\\n',\n",
       " 'Machine\\n',\n",
       " 'Learning\\n',\n",
       " 'Book\\n',\n",
       " 'Andriy Burkov\\n',\n",
       " '\\n',\n",
       " '\"“All models are wrong, but some are useful.”\"\\n',\n",
       " '— George Box\\n',\n",
       " '\"The book is distributed on the “read first, buy later” principle.\"\\n',\n",
       " 'Andriy Burkov The Hundred-Page Machine Learning Book - Draft\\n',\n",
       " '\\n',\n",
       " '3 Fundamental Algorithms,\\n',\n",
       " '\"In this chapter, I describe five algorithms which are not just the most known but also either\",\\n',\n",
       " 'very effective on their own or are used as building blocks for the most effective learning,\\n',\n",
       " 'algorithms out there.,\\n',\n",
       " '3.1 Linear Regression,\\n',\n",
       " 'Linear regression is a popular regression learning algorithm that learns a model which is a,\\n',\n",
       " 'linear combination of features of the input example.,\\n',\n",
       " '3.1.1 Problem Statement,\\n',\n",
       " '\"We have a collection of labeled examples {(xi , yi )}iN=1 , where N is the size of the collection,\",\\n',\n",
       " '\"xiis the D-dimensional feature vector of example i = 1, . . . , N , y iis a real-valued1 target\",\\n',\n",
       " '\"and every feature xi(j), j = 1, . . . , D, is also a real number.\",\\n',\n",
       " '\"We want to build a model fw,b (x) as a linear combination of features of example x:\",\\n',\n",
       " '\"fw,b (x) = wx + b,\",(1)\\n',\n",
       " '\"where w is a D-dimensional vector of parameters and b is a real number. The notation fw,b\",\\n',\n",
       " 'means that the model f is parametrized by two values: w and b.,\\n',\n",
       " '\"We will use the model to predict the unknown y for a given x like this: y  f (x). Twow,b\",\\n',\n",
       " '\"Ω models parametrized by two different pairs (w, b) will likely produce two different predictions\",\\n',\n",
       " '\"when applied to the same example. We want to find the optimal values (w ú , bú ). Obviously,\",\\n',\n",
       " 'the optimal values of parameters define the model that makes the most accurate predictions.,\\n',\n",
       " 'You could have noticed that the form of our linear model in eq. 1 is very similar to the form,\\n',\n",
       " 'of the SVM model. The only difference is the missing sign operator. The two models are,\\n',\n",
       " '\"indeed similar. However, the hyperplane in the SVM plays the role of the decision boundary:\",\\n',\n",
       " '\"it’s used to separate two groups of examples from one another. As such, it has to be as far\",\\n',\n",
       " 'from each group as possible.,\\n',\n",
       " '\"On the other hand, the hyperplane in linear regression is chosen to be as close to all training\",\\n',\n",
       " 'examples as possible.,\\n',\n",
       " 'You can see why this latter requirement is essential by looking at the illustration in fig. 1. It,\\n',\n",
       " 'displays the regression line (in light-blue) for one-dimensional examples (dark-blue dots). We,\\n',\n",
       " 'can use this line to predict the value of the target y newfor a new unlabeled input example,\\n',\n",
       " '\"xnew . If our examples are D-dimensional feature vectors (for D > 1), the only difference\",\\n',\n",
       " '\"1 To say that yiis real-valued, we write yiœ R, where R denotes the set of all real numbers, an infinite set\",\\n',\n",
       " 'of numbers from minus infinity to plus infinity.,\\n',\n",
       " 'Andriy Burkov The Hundred-Page Machine Learning Book - Draft 3,\\n',\n",
       " '\\n',\n",
       " 'Figure 1: Linear Regression for one-dimensional examples.,,,,,,\\n',\n",
       " 'with the one-dimensional case is that the regression model is not a line but a plane (for two,,,,,,\\n',\n",
       " 'dimensions) or a hyperplane (for D > 2).,,,,,,\\n',\n",
       " 'Now you see why it’s essential to have the requirement that the regression hyperplane lies as,,,,,,\\n',\n",
       " '\"close to the training examples as possible: if the blue line in fig. 1 was far from the blue dots,\",,,,,,\\n',\n",
       " 'the prediction y newwould have fewer chances to be correct.,,,,,,\\n',\n",
       " '3.1.2 Solution,,,,,,\\n',\n",
       " '\"To get this latter requirement satisfied, the optimization procedure which we use to find the\",,,,,,\\n',\n",
       " 'optimal values for w ú and b ú tries to minimize the following expression:,,,,,,\\n',\n",
       " '1,,(f (x)  )2,,,,(2)\\n',\n",
       " 'N,ÿ,\"w,b\",i,y ≠ i,.,\\n',\n",
       " ',i=1...N,,,,,\\n',\n",
       " '\"In mathematics, the expression we minimize or maximize is called an objective function, or,\",,,,,,\\n',\n",
       " '\"simply, an objective. The expression (f (xi ) ≠ y i )2 in the above objective is called the loss\",,,,,,\\n',\n",
       " 'function. It’s a measure of penalty for misclassification of example i. This particular choice,,,,,,\\n',\n",
       " 'of the loss function is called squared error loss. All model-based learning algorithms have,,,,,,\\n',\n",
       " 'a loss function and what we do to find the best model is we try to minimize the objective,,,,,,\\n',\n",
       " '\"known as the cost function. In linear regression, the cost function is given by the average\",,,,,,\\n',\n",
       " '\"loss, also called the empirical risk. The average loss, or empirical risk, for a model, is the\",,,,,,\\n',\n",
       " 'average of all penalties obtained by applying the model to the training data.,,,,,,\\n',\n",
       " 'Andriy Burkov The Hundred-Page Machine Learning Book - Draft,,,,,,4\\n',\n",
       " '\\n',\n",
       " 'Why is the loss in linear regression a quadratic function? Why couldn’t we get the absolute\\n',\n",
       " 'value of the difference between the true target y iand the predicted value f (xi ) and use that\\n',\n",
       " '\"as a penalty? We could. Moreover, we also could use a cube instead of a square.\"\\n',\n",
       " 'Now you probably start realizing how many seemingly arbitrary decisions are made when we\\n',\n",
       " 'design a machine learning algorithm: we decided to use the linear combination of features to\\n',\n",
       " '\"predict the target. However, we could use a square or some other polynomial to combine the\"\\n',\n",
       " 'values of features. We could also use some other loss function that makes sense: the absolute\\n',\n",
       " '\"difference between f (xi ) and y imakes sense, the cube of the difference too; the binary loss\"\\n',\n",
       " '\"(1 when f (xi ) and y iare different and 0 when they are the same) also makes sense, right?\"\\n',\n",
       " '\"If we made different decisions about the form of the model, the form of the loss function,\"\\n',\n",
       " 'and about the choice of the algorithm that minimizes the average loss to find the best values\\n',\n",
       " '\"of parameters, we would end up inventing a different machine learning algorithm. Sounds\"\\n',\n",
       " '\"easy, doesn’t it? However, do not rush to invent a new learning algorithm. The fact that it’s\"\\n',\n",
       " 'different doesn’t mean that it will work better in practice.\\n',\n",
       " 'People invent new learning algorithms for one of the two main reasons:\\n',\n",
       " '1. The new algorithm solves a specific practical problem better than the existing algorithms.\\n',\n",
       " '2. The new algorithm has better theoretical guarantees on the quality of the model it\\n',\n",
       " 'produces.\\n',\n",
       " 'One practical justification of the choice of the linear form for the model is that it’s simple.\\n',\n",
       " 'Why use a complex model when you can use a simple one? Another consideration is that\\n',\n",
       " 'linear models rarely overfit. Overfitting is the property of a model such that the model\\n',\n",
       " 'predicts very well labels of the examples used during training but frequently makes errors\\n',\n",
       " 'when applied to examples that weren’t seen by the learning algorithm during training.\\n',\n",
       " 'An example of overfitting in regression is shown in fig. 2. The data used to build the red\\n',\n",
       " '\"regression line is the same as in fig. 1. The difference is that this time, this is the polynomial\"\\n',\n",
       " 'regression with a polynomial of degree 10. The regression line predicts almost perfectly the\\n',\n",
       " '\"targets almost all training examples, but will likely make significant errors on new data, as\"\\n',\n",
       " 'you can see in fig. 1 for xnew . We talk more about overfitting and how to avoid it Chapter 5.\\n',\n",
       " 'Now you know why linear regression can be useful: it doesn’t overfit much. But what\\n',\n",
       " '\"about the squared loss? Why did we decide that it should be squared? In 1705, the French\"\\n',\n",
       " '\"mathematician Adrien-Marie Legendre, who first published the sum of squares method for\"\\n',\n",
       " 'gauging the quality of the model stated that squaring the error before summing is convenient.\\n',\n",
       " '\"Why did he say that? The absolute value is not convenient, because it doesn’t have a\"\\n',\n",
       " '\"continuous derivative, which makes the function not smooth. Functions that are not smooth\"\\n',\n",
       " 'create unnecessary difficulties when employing linear algebra to find closed form solutions\\n',\n",
       " 'to optimization problems. Closed form solutions to finding an optimum of a function are\\n',\n",
       " 'simple algebraic expressions and are often preferable to using complex numerical optimization\\n',\n",
       " '\"methods, such as gradient descent (used, among others, to train neural networks).\"\\n',\n",
       " '\"Intuitively, squared penalties are also advantageous because they exaggerate the difference\"\\n',\n",
       " 'between the true target and the predicted one according to the value of this difference. We\\n',\n",
       " 'Andriy Burkov The Hundred-Page Machine Learning Book - Draft 5\\n',\n",
       " '\\n',\n",
       " 'y,\\n',\n",
       " 'new,\\n',\n",
       " ',x new\\n',\n",
       " 'Figure 2: Overfitting.,\\n',\n",
       " '\"might also use the powers 3 or 4, but their derivatives are more complicated to work with.\",\\n',\n",
       " '\"Finally, why do we care about the derivative of the average loss? Remember from algebra\",\\n',\n",
       " '\"that if we can calculate the gradient of the function in eq. 2, we can then set this gradient to\",\\n',\n",
       " 'zero2 and find the solution to a system of equations that gives us the optimal values w ú and,\\n',\n",
       " 'b ú . You can spend several minutes and check it yourself.,\\n',\n",
       " '3.2 Logistic Regression,\\n',\n",
       " '\"The first thing to say is that logistic regression is not a regression, but a classification learning\",\\n',\n",
       " 'algorithm. The name comes from statistics and is due to the fact that the mathematical,\\n',\n",
       " 'formulation of logistic regression is similar to that of linear regression.,\\n',\n",
       " '\"I explain logistic regression on the case of binary classification. However, it can naturally be\",\\n',\n",
       " 'extended to multiclass classification.,\\n',\n",
       " '3.2.1 Problem Statement,\\n',\n",
       " '\"In logistic regression, we still want to model y i\",\"as a linear function of xi , however, with a\"\\n',\n",
       " 'binary y ithis is not straightforward. The linear combination of features such as wxi + b is a,\\n',\n",
       " '\"function that spans from minus infinity to plus infinity, while y ihas only two possible values.\",\\n',\n",
       " '\"2 To find the minimum or the maximum of a function, we set the gradient to zero because the value of the\",\\n',\n",
       " '\"gradient at extrema of a function is always zero. In 2D, the gradient at an extremum is a horizontal line.\",\\n',\n",
       " 'Andriy Burkov The Hundred-Page Machine Learning Book - Draft 6,\\n',\n",
       " '\\n',\n",
       " 'Figure 3: Standard logistic function.,,\\n',\n",
       " '\"At the time where the absence of computers required scientists to perform manual calculations,\",,\\n',\n",
       " 'they were eager to find a linear classification model. They figured out that if we define a,,\\n',\n",
       " '\"negative label as 0 and the positive label as 1, we would just need to find a simple continuous\",,\\n',\n",
       " '\"function whose codomain is (0, 1). In such a case, if the value returned by the model for\",,\\n',\n",
       " '\"input x is closer to 0, then we assign a negative label to x; otherwise, the example is labeled\",,\\n',\n",
       " 'as positive. One function that has such a property is the standard logistic function (also,,\\n',\n",
       " 'known as the sigmoid function):,,\\n',\n",
       " 'f (x) =,\",\",\\n',\n",
       " '1 + e≠x,,\\n',\n",
       " 'where e is the base of the natural logarithm (also called Euler’s number; ex,,is also known as\\n',\n",
       " 'the exp(x) function in Excel and many programming languages). Its graph is depicted in fig.,,\\n',\n",
       " '3.,,\\n',\n",
       " '\"By looking at the graph of the standard logistic function, we can see how well it fits our\",,\\n',\n",
       " '\"classification purpose: if we optimize the values of x and b appropriately, we could interpret\",,\\n',\n",
       " '\"the output of f (x) as the probability of y ibeing positive. For example, if it’s higher than or\",,\\n',\n",
       " '\"equal to the threshold 0.5 we would say that the class of x is positive; otherwise, it’s negative.\",,\\n',\n",
       " '\"In practice, the choice of the threshold could be different depending on the problem. We\",,\\n',\n",
       " 'return to this discussion in Chapter 5 when we talk about model performance assessment.,,\\n',\n",
       " 'So our logistic regression model looks like this:,,\\n',\n",
       " 'Andriy Burkov The Hundred-Page Machine Learning Book - Draft,,7\\n',\n",
       " '\\n',\n",
       " '(x) d=ef,,,1,,(3),\\n',\n",
       " '\"fw,b\",,,,.,,\\n',\n",
       " ',,1 +,,,,\\n',\n",
       " ',,e≠(wx+b),,,,\\n',\n",
       " '\"You can see the familiar term wx + b from linear regression. Now, how do we find the best\",,,,,,\\n',\n",
       " '\"values w ú and b ú for our model? In linear regression, we minimized the empirical risk which\",,,,,,\\n',\n",
       " '\"was defined as the average squared error loss, also known as the mean squared error or\",,,,,,\\n',\n",
       " 'MSE.,,,,,,\\n',\n",
       " '3.2.2 Solution,,,,,,\\n',\n",
       " '\"In logistic regression, instead of using a squared loss and trying to minimize the empirical\",,,,,,\\n',\n",
       " '\"risk, we maximize the likelihood of our training set according to the model. In statistics, the\",,,,,,\\n',\n",
       " 'likelihood function defines how likely the observation (an example) is according to our model.,,,,,,\\n',\n",
       " '\"For instance, assume that we have a labeled example (xi , yi ) in our training data. Assume\",,,,,,\\n',\n",
       " 'also that we have found (guessed) some specific values ŵ and b̂ of our parameters. If we now,,,,,,\\n',\n",
       " '\"apply our model fŵ,b̂ to xiusing eq. 3 we will get some value 0 < p < 1 as output. If y iis\",,,,,,\\n',\n",
       " '\"the positive class, the likelihood of y ibeing the positive class, according to our model, is\",,,,,,\\n',\n",
       " '\"given by p. Similarly, if y iis the negative class, the likelihood of it being the negative class is\",,,,,,\\n',\n",
       " 'given by 1 ≠ p.,,,,,,\\n',\n",
       " 'The optimization criterion in logistic regression is called maximum likelihood. Instead of,,,,,,\\n',\n",
       " '\"minimizing the average loss, like in linear regression, we now maximize the likelihood of the\",,,,,,\\n',\n",
       " 'training data according to our model:,,,,,,\\n',\n",
       " '\"d=efLw,b\",\"(xfw,b\",,)y i (1,(x,))(1≠y i ) .,(4)\\n',\n",
       " 'Ÿ,,i,\"≠ fw,b\",,i,\\n',\n",
       " 'i=1...N,,,,,,\\n',\n",
       " '\"The expression fw,b (x)y i (1 ≠ fw,b (x))(1≠y i ) may look scary but it’s just a fancy mathematical\",,,,,,\\n',\n",
       " '\"way of saying: “fw,b (x) when y i= 1 and (1 ≠ fw,b (x)) otherwise”. Indeed, if y i= 1, then\",,,,,,\\n',\n",
       " '\"(1 ≠ fw,b (x))(1≠y i ) equals 1 because (1 ≠ y i ) = 0 and we know that anything power 0 equals\",,,,,,\\n',\n",
       " '\"1. On the other hand, if y i = 0, then fw,b (x)y iequals 1 for the same reason.\",,,,,,\\n',\n",
       " 'You may have noticedthat we used the product operator in the objective function instead,,,,,,\\n',\n",
       " 'of the sum operator which was used in linear regressiron. It’s because the likelihood of,,,,,,\\n',\n",
       " 'observing N labels for qN examples is the product of likelihoods of each observation (assuming,,,,,,\\n',\n",
       " '\"that all observations are independent of one another, which is the case). You can draw\",,,,,,\\n',\n",
       " 'a parallel with the multiplication of probabilities of outcomes in a series of independent,,,,,,\\n',\n",
       " 'experiments in the probability theory.,,,,,,\\n',\n",
       " '\"Because of the exp function used in the model, in practice, it’s more convenient to maximize\",,,,,,\\n',\n",
       " 'the log-likelihood instead of likelihood. The log-likelihood is defined like follows:,,,,,,\\n',\n",
       " ',N,,,,,\\n',\n",
       " 'd=ef ln(L((x)) =,,ln  (x) + (1  ) ln (1  (x)).,,,,\\n',\n",
       " '\"LogLw,b  w,b\",ÿ,\"y i  fw,b  ≠ y i  ≠ fw,b\",,,,\\n',\n",
       " ',i=1,,,,,\\n',\n",
       " 'Andriy Burkov The Hundred-Page Machine Learning Book - Draft,,,,,,8\\n',\n",
       " '\\n',\n",
       " '\"Because ln is a strictly increasing function, maximizing this function is the same as maximizing\",,,,,,,,\\n',\n",
       " '\"its argument, and the solution to this new optimization problem is the same as the solution\",,,,,,,,\\n',\n",
       " 'to the original problem.,,,,,,,,\\n',\n",
       " '\"Contrary to linear regression, there’s no closed form solution to the above optimization\",,,,,,,,\\n',\n",
       " 'problem. A typical numerical optimization procedure used in such cases is gradient descent.,,,,,,,,\\n',\n",
       " 'I talk about it in the next chapter.,,,,,,,,\\n',\n",
       " '3.3 Decision Tree Learning,,,,,,,,\\n',\n",
       " 'A decision tree is an acyclic graph that can be used to make decisions. In each branching,,,,,,,,\\n',\n",
       " '\"node of the graph, a specific feature j of the feature vector is examined. If the value of the\",,,,,,,,\\n',\n",
       " '\"feature is below a specific threshold, then the left branch is followed; otherwise, the right\",,,,,,,,\\n',\n",
       " '\"branch is followed. As the leaf node is reached, the decision is made about the class to which\",,,,,,,,\\n',\n",
       " 'the example belongs.,,,,,,,,\\n',\n",
       " '\"As the title of the section suggests, a decision tree can be learned from data.\",,,,,,,,\\n',\n",
       " '3.3.1 Problem Statement,,,,,,,,\\n',\n",
       " '\"Like previously, we have a collection of labeled examples; labels belong to the set\",,,,,,,,1}. We\\n',\n",
       " '\"{0,\",,,,,,,,\\n',\n",
       " 'want to build a decision tree that would allow us to predict the class of an example given a,,,,,,,,\\n',\n",
       " 'feature vector.,,,,,,,,\\n',\n",
       " '3.3.2 Solution,,,,,,,,\\n',\n",
       " '\"There are various formulations of the decision tree learning algorithm. In this book, we\",,,,,,,,\\n',\n",
       " '\"consider just one, called ID3.\",,,,,,,,\\n',\n",
       " '\"The optimization criterion, in this case, is the average log-likelihood:\",,,,,,,,\\n',\n",
       " ',1 N,ln  (x) + (1,,,) ln (1,\"(x)),\",,(5)\\n',\n",
       " ',N ÿ,y i,fID3,i,y ≠ i,f≠ ID3,i,\\n',\n",
       " ',i=1,,,,,,,\\n',\n",
       " 'where f,is a decision tree.,,,,,,,\\n',\n",
       " 'ID3,,,,,,,,\\n',\n",
       " '\"By now, it looks very similar to logistic regression. However, contrary to the logistic regression\",,,,,,,,\\n',\n",
       " '\"learning algorithm which builds a parametric model fw ú ,b úby finding an optimal solution\",,,,,,,,\\n',\n",
       " '\"to the optimization criterion, the ID3 algorithm optimizes it approximately by constructing a\",,,,,,,,\\n',\n",
       " 'non-parametric model fID3 (x) d=ef Pr(y = 1|x).,,,,,,,,\\n',\n",
       " 'Andriy Burkov The Hundred-Page Machine Learning Book - Draft 9,,,,,,,,\\n',\n",
       " '\\n',\n",
       " ',,,,,x,\\n',\n",
       " ',,,,Yes,,No\\n',\n",
       " ',,,,,x(3) < 18.3?,\\n',\n",
       " 'x,,,,,,\\n',\n",
       " '\"S={(x1, y1), (x2, y2), (x3, y3),\",,,,,,\\n',\n",
       " '\"(x, y), (x, y), (x, y),\",\"S\\xad = {(x1, y1), (x2, y2),\",,,,,\\n',\n",
       " '4 4 5 5 6 6,,,,,,\"S+ = {(x3, y3), (x5, y5), (x10, y10),\"\\n',\n",
       " '\"(x7, y7), (x8, y8), (x9, y9),\",\"(x4, y4), (x6, y6), (x7, y7),\",,,,,\"(x11, y11), (x12, y12)}\"\\n',\n",
       " '\"(x10, y10), (x11, y11), (x12, y12)}\",\"(x8, y8), (x9, y9)}\",,,,,\\n',\n",
       " 'Pr(y = 1|x) = (y1+y2+y3+y4+y5,Pr(y = 1|x) = (y1+y2+y4,,,,,Pr(y = 1|x) =\\n',\n",
       " '+y6+y7+y8+y9+y10+y11+y12)/12,+y6+y7+y8+y9)/7,,,,,(y3+y5+y10+y11+y12)/5\\n',\n",
       " 'Pr(y = 1|x),Pr(y = 1|x),,,,,Pr(y = 1|x)\\n',\n",
       " '(a),,,,,(b),\\n',\n",
       " 'Figure 4: An illustration of a decision tree building algorithm. The set,,,,,,contains 12 labeled\\n',\n",
       " '\"S examples. (a) In the beginning, the decision tree only contains the start node; it makes the\",,,,,,\\n',\n",
       " 'same prediction for any input. (b) The decision tree after the first split; it tests whether,,,,,,\\n',\n",
       " '\"feature 3 is less than 18.3 and, depending on the result, the prediction is made in one of the\",,,,,,\\n',\n",
       " 'two leaf nodes.,,,,,,\\n',\n",
       " 'The ID3 learning algorithm works as follows. Let S denote a set of labeled examples. In the,,,,,,\\n',\n",
       " '\"beginning, the decision tree only has a start node that contains all examples: S d=ef {(xi , yi )}iN=1 .\",,,,,,\\n',\n",
       " 'Start with a constant model fISD3:,,,,,,\\n',\n",
       " ',S,=,1,,,(6)\\n',\n",
       " ',fID3,,,ÿ,y.,\\n',\n",
       " ',,,|S|,\"(x,y)œS\",,\\n',\n",
       " '\"The prediction given by the above model, fISD3\",,,,\"(x), would be the same for any input x. The\",,\\n',\n",
       " 'corresponding decision tree is shown in fig 4a.,,,,,,\\n',\n",
       " '\"Then we search through all features j = 1, . . . , D and all thresholds t, and split the set S\",,,,,,\\n',\n",
       " '\"into two subsets:  d=ef  y) (x, y)\",,,\"x(j) < t} and  + =  y) (x, y)  S, x(j)  t}.\",,,\\n',\n",
       " '\"S≠  {(x,  |  œ S,  S {(x,  |  œ  Ø The two new subsets would go to two new leaf nodes, and we evaluate, for all possible pairs\",,,,,,\\n',\n",
       " '\"(j, t) how good the split with pieces S and S+ is. Finally, we pick the best such values (j, t),\\n',\n",
       " '≠\",,,,,,\\n',\n",
       " '\"split S into S+ and S, form two new leaf nodes, and continue recursively on S+ and S (or\",,,,,,\\n',\n",
       " 'quit if no split produc≠e s a model that’s sufficiently better than the current one). A dec≠is ion,,,,,,\\n',\n",
       " 'Andriy Burkov The Hundred-Page Machine Learning Book - Draft,,,,,,10\\n',\n",
       " '\\n',\n",
       " 'tree after one split is illustrated in fig 4b.\\n',\n",
       " '\"Now you should wonder what do the words “evaluate how good the split is” mean. In ID3, the\"\\n',\n",
       " 'goodness of a split is estimated by using the criterion called entropy. Entropy is a measure of\\n',\n",
       " 'uncertainty about a random variable. It reaches its maximum when all values of the random\\n',\n",
       " 'variables are equiprobable. Entropy reaches its minimum when the random variable can have\\n',\n",
       " 'only one value. The entropy of a set of examples S is given by:\\n',\n",
       " '=  S ln S (1  S ) ln(1  S ).\\n',\n",
       " 'H(S)  ≠fID3 fID3≠  ≠ fID3 ≠ fID3\\n',\n",
       " '\"When we split a set of examples by a certain feature j and a threshold t, the entropy of a\"\\n',\n",
       " '\"split, H(S≠ , S+ ), is simply a weighted sum of two entropies:\"\\n',\n",
       " '\"H(S≠ , S+ ) =|S≠ |H(S≠ ) +|S+ |H(S+ ). (7)\"\\n',\n",
       " '\"So, in ID3, at each step, at each leaf node, we find a split that minimizes the entropy given\"\\n',\n",
       " 'by eq. 7 or we stop at this leaf node.\\n',\n",
       " 'The algorithm stops at a leaf node in any of the below situations:\\n',\n",
       " '• All examples in the leaf node are classified correctly by the one-piece model (eq. 6).\\n',\n",
       " '• We cannot find an attribute to split upon.\\n',\n",
       " '• The split reduces the entropy less than some ‘ (the value for which has to be found\\n',\n",
       " 'experimentally3 ).\\n',\n",
       " '• The tree reaches some maximum depth d (also has to be found experimentally).\\n',\n",
       " '\"Because in ID3, the decision to split the dataset on each iteration is local (doesn’t depend\"\\n',\n",
       " '\"on future splits), the algorithm doesn’t guarantee an optimal solution. The model can be\"\\n',\n",
       " 'improved by using techniques like backtracking during the search for the optimal decision\\n',\n",
       " 'tree at the cost of possibly taking longer to build a model.\\n',\n",
       " 'The entropy-based split criterion intuitively makes sense: entropy\\n',\n",
       " 'reaches its minimum of 0 when all examples in  have the same label;S\\n',\n",
       " '\"on the other hand, the entropy is at its maximum of 1 when exactly\"\\n',\n",
       " '\"one-half of examples in  is labeled with 1, making such a leaf uselessS\"\\n',\n",
       " 'for classification. The only remaining question is how this algorithm\\n',\n",
       " 'approximately maximizes the average log-likelihood criterion. I leave it\\n',\n",
       " 'for further reading.\\n',\n",
       " '\"3 InChapter 5, we will see how to do that when we talk about hyperparameter tuning.\"\\n',\n",
       " 'Andriy Burkov The Hundred-Page Machine Learning Book - Draft 11\\n',\n",
       " '\\n',\n",
       " '3.4 Support Vector Machine,\\n',\n",
       " '\"We already considered SVM in the introduction, so this section only fills a couple of blanks.\",\\n',\n",
       " 'Two critical questions need to be answered:,\\n',\n",
       " '1. What if there’s noise in the data and no hyperplane can perfectly separate positive,\\n',\n",
       " '\"examples from negative ones?2. What if the data cannot be separated using a plane, but could be separated by a\",\\n',\n",
       " 'higher-order polynomial?,\\n',\n",
       " 'Figure 5: Linearly non-separable cases. Left: the presence of noise. Right: inherent,\\n',\n",
       " 'nonlinearity.,\\n',\n",
       " '\"You can see both situations depicted in fig 5. In the left case, the data could be separated by\",\\n',\n",
       " '\"a straight line if not for the noise (outliers or examples with wrong labels). In the right case,\",\\n',\n",
       " 'the decision boundary is a circle and not a straight line.,\\n',\n",
       " '\"Remember that in SVM, we want to satisfy the following constraints:\",\\n',\n",
       " '\"a) wxi ≠ b Ø 1 if y i = +1, and\",\\n',\n",
       " 'b) wx if  =,\\n',\n",
       " 'i ≠ b Æ ≠1  y i  ≠1,\\n',\n",
       " 'We also want to minimize,so that the hyperplane was equally distant from the closest\\n',\n",
       " '\"ÎwÎ examples of each class. Minimizing  is equivalent to minimizing 2  2 , and the use of\",\\n',\n",
       " 'ÎwÎ  ||w||this term makes it possible to perform quadratic programming optimization later on. The,\\n',\n",
       " '\"optimization problem for SVM, therefore, looks like this:\",\\n',\n",
       " '\"min12||w||2 , such that y i (xi w ≠ b) ≠ 1 Ø 0, i = 1, . . . , N.\",(8)\\n',\n",
       " 'Andriy Burkov The Hundred-Page Machine Learning Book - Draft,12\\n',\n",
       " '\\n',\n",
       " '3.4.1 Dealing with Noise\\n',\n",
       " '\"To extend SVM to cases in which the data is not linearly separable, we introduce the hinge\"\\n',\n",
       " '\"loss function: max (0, 1 ≠ y i (wxi ≠ b)).\"\\n',\n",
       " '\"The hinge loss function is zero if the constraints a) and b) are satisfied, in other words, if wxi\"\\n',\n",
       " 'lies on the correct side of the decision boundary. For data on the wrong side of the decision\\n',\n",
       " '\"boundary, the function’s value is proportional to the distance from the decision boundary.\"\\n',\n",
       " '\"We then wish to minimize the following cost function,\"\\n',\n",
       " '\"CÎwÎ2 +1 Nÿmax (0, 1 ≠ y i (wxi ≠ b)) ,\\n',\n",
       " 'N i=1\"\\n',\n",
       " 'where the hyperparameter Cdetermines the tradeoff between increasing the size of the\\n',\n",
       " 'decision boundary and ensuring that each xilies on the correct side of the decision boundary.\\n',\n",
       " '\"The value of C is usually chosen experimentally, just like ID3’s hyperparameters ‘ and d.\"\\n',\n",
       " '\"SVMs that optimize hinge loss are called soft-margin SVMs, while the original formulation is\"\\n',\n",
       " 'referred to as a hard-margin SVM.\\n',\n",
       " '\"As you can see, for sufficiently high values of C, the second term in the cost function will\"\\n',\n",
       " '\"become negligible, so the SVM algorithm will try to find the highest margin by completely\"\\n',\n",
       " '\"ignoring misclassification. As we decrease the value of C, making classification errors is\"\\n',\n",
       " '\"becoming more costly, so the SVM algorithm will try to make fewer mistakes by sacrificing\"\\n',\n",
       " '\"the margin size. As we have already discussed, a larger margin is better for generalization.\"\\n',\n",
       " '\"Therefore, C regulates the tradeoff between classifying the training data well (minimizing\"\\n',\n",
       " 'empirical risk) and classifying future examples well (generalization).\\n',\n",
       " '3.4.2 Dealing with Inherent Non-Linearity\\n',\n",
       " 'SVM can be adapted to work with datasets that cannot be separated by a hyperplane in\\n',\n",
       " '\"its original space. However, if we manage to transform the original space into a space of\"\\n',\n",
       " '\"higher dimensionality, we could hope that the examples will become linearly separable in this\"\\n',\n",
       " '\"transformed space. In SVMs, using a function to implicitly transform the original space into\"\\n',\n",
       " 'a higher dimensional space during the cost function optimization is called the kernel trick.\\n',\n",
       " ...]"
      ]
     },
     "execution_count": 143,
     "metadata": {},
     "output_type": "execute_result"
    }
   ],
   "source": [
    "strane"
   ]
  },
  {
   "cell_type": "code",
   "execution_count": 144,
   "metadata": {},
   "outputs": [
    {
     "data": {
      "text/plain": [
       "<_io.TextIOWrapper name='100strana.csv' mode='r' encoding='UTF-8'>"
      ]
     },
     "execution_count": 144,
     "metadata": {},
     "output_type": "execute_result"
    }
   ],
   "source": [
    "g"
   ]
  },
  {
   "cell_type": "code",
   "execution_count": 145,
   "metadata": {},
   "outputs": [],
   "source": [
    "delovi = ['Vita', 'voli', 'da', 'programira']"
   ]
  },
  {
   "cell_type": "code",
   "execution_count": 146,
   "metadata": {},
   "outputs": [
    {
     "data": {
      "text/plain": [
       "'Vita voli da programira'"
      ]
     },
     "execution_count": 146,
     "metadata": {},
     "output_type": "execute_result"
    }
   ],
   "source": [
    "spojeno = ' '.join(delovi)\n",
    "spojeno"
   ]
  },
  {
   "cell_type": "code",
   "execution_count": 147,
   "metadata": {},
   "outputs": [
    {
     "data": {
      "text/plain": [
       "'Vita.voli.da.programira'"
      ]
     },
     "execution_count": 147,
     "metadata": {},
     "output_type": "execute_result"
    }
   ],
   "source": [
    "spojeno = '.'.join(delovi)\n",
    "spojeno"
   ]
  },
  {
   "cell_type": "code",
   "execution_count": 148,
   "metadata": {},
   "outputs": [],
   "source": [
    "data= ['Vita', 50, 902]"
   ]
  },
  {
   "cell_type": "code",
   "execution_count": 149,
   "metadata": {},
   "outputs": [
    {
     "data": {
      "text/plain": [
       "'Vita,50,902'"
      ]
     },
     "execution_count": 149,
     "metadata": {},
     "output_type": "execute_result"
    }
   ],
   "source": [
    "','.join(str(d) for d in data)"
   ]
  },
  {
   "cell_type": "code",
   "execution_count": 150,
   "metadata": {},
   "outputs": [
    {
     "name": "stdout",
     "output_type": "stream",
     "text": [
      "['Vita', 50, 902]:['Vita', 'voli', 'da', 'programira']\n"
     ]
    }
   ],
   "source": [
    "print(data, delovi, sep=':')"
   ]
  },
  {
   "cell_type": "code",
   "execution_count": 151,
   "metadata": {},
   "outputs": [],
   "source": [
    "s='{name} has {n} messages'"
   ]
  },
  {
   "cell_type": "code",
   "execution_count": 152,
   "metadata": {},
   "outputs": [
    {
     "data": {
      "text/plain": [
       "'Mina has 20 messages'"
      ]
     },
     "execution_count": 152,
     "metadata": {},
     "output_type": "execute_result"
    }
   ],
   "source": [
    "s.format(name='Mina', n='20')"
   ]
  },
  {
   "cell_type": "code",
   "execution_count": 154,
   "metadata": {},
   "outputs": [],
   "source": [
    "s='2 Da me hoće poljubiti poljupcem usta svojih! Jer je tvoja ljubav bolja od vina. 3 Mirisom su tvoja ulja prekrasna; ime ti je ulje razlito; zato te ljube devojke.4 Vuci me, za tobom ćemo trčati; uvede me car u ložnicu svoju; radovaćemo se i veselićemo se tobom, spominjaćemo ljubav tvoju više nego vino; pravi ljube te. Ps. 45:14, Jer. 31:3, Os. 11:4, Jn. 6:44, Jn. 14:2, Ef. 2:6, Filip. 3:125 Crna sam, ali sam lepa, kćeri jerusalimske, kao šatori kidarski, kao zavesi Solomunovi.Pes. 5:126 Ne gledajte me što sam crna, jer me je sunce opalilo; sinovi matere moje rasrdivši se na me postaviše me da čuvam vinograde, i ne čuvah svoj vinograd, koji ja imam.7 Kaži mi ti, kog ljubi duša moja, gde paseš, gde planduješ? Jer zašto bih lutala među stadima drugova tvojih?Jn. 10:278 Ako ne znaš, najlepša između žena, pođi tragom za stadom, i pasi jariće svoje pokraj stanova pastirskih.9 Ti si mi, draga moja, kao konji u kolima Faraonovim.'"
   ]
  },
  {
   "cell_type": "code",
   "execution_count": 155,
   "metadata": {},
   "outputs": [],
   "source": [
    "import textwrap"
   ]
  },
  {
   "cell_type": "code",
   "execution_count": 157,
   "metadata": {},
   "outputs": [
    {
     "name": "stdout",
     "output_type": "stream",
     "text": [
      "2 Da me hoće poljubiti\n",
      "poljupcem usta svojih! Jer je\n",
      "tvoja ljubav bolja od vina. 3\n",
      "Mirisom su tvoja ulja\n",
      "prekrasna; ime ti je ulje\n",
      "razlito; zato te ljube\n",
      "devojke.4 Vuci me, za tobom\n",
      "ćemo trčati; uvede me car u\n",
      "ložnicu svoju; radovaćemo se i\n",
      "veselićemo se tobom,\n",
      "spominjaćemo ljubav tvoju više\n",
      "nego vino; pravi ljube te. Ps.\n",
      "45:14, Jer. 31:3, Os. 11:4,\n",
      "Jn. 6:44, Jn. 14:2, Ef. 2:6,\n",
      "Filip. 3:125 Crna sam, ali sam\n",
      "lepa, kćeri jerusalimske, kao\n",
      "šatori kidarski, kao zavesi\n",
      "Solomunovi.Pes. 5:126 Ne\n",
      "gledajte me što sam crna, jer\n",
      "me je sunce opalilo; sinovi\n",
      "matere moje rasrdivši se na me\n",
      "postaviše me da čuvam\n",
      "vinograde, i ne čuvah svoj\n",
      "vinograd, koji ja imam.7 Kaži\n",
      "mi ti, kog ljubi duša moja,\n",
      "gde paseš, gde planduješ? Jer\n",
      "zašto bih lutala među stadima\n",
      "drugova tvojih?Jn. 10:278 Ako\n",
      "ne znaš, najlepša između žena,\n",
      "pođi tragom za stadom, i pasi\n",
      "jariće svoje pokraj stanova\n",
      "pastirskih.9 Ti si mi, draga\n",
      "moja, kao konji u kolima\n",
      "Faraonovim.\n"
     ]
    }
   ],
   "source": [
    "print(textwrap.fill(s,30))"
   ]
  },
  {
   "cell_type": "markdown",
   "metadata": {},
   "source": [
    "# Deljenje teksta u tokene"
   ]
  },
  {
   "cell_type": "code",
   "execution_count": 158,
   "metadata": {},
   "outputs": [],
   "source": [
    "text='vita = vitomirj@gmail.com + 3232 * 10'"
   ]
  },
  {
   "cell_type": "code",
   "execution_count": 159,
   "metadata": {},
   "outputs": [],
   "source": [
    "#Cilj\n",
    "#tokens = [('NAME', 'vita'), ('EQ', '='), ('MAIL', 'vitomirj@gmail.com'), ('PLUS', '+'), ('NUM', '3232'), ('TIMES', '*'), ('NUM', '10')]"
   ]
  },
  {
   "cell_type": "code",
   "execution_count": 160,
   "metadata": {},
   "outputs": [],
   "source": [
    "NAME = r'(?P<NAME>[a-zA-Z_][a-zA-Z_0-9]*)'\n",
    "NUM = r'(?P<NUM>\\d+)'\n",
    "PLUS = r'(?P<PLUS>\\+)'\n",
    "TIMES = r'(?P<TIMES>\\*)'\n",
    "EQ = r'(?P<EQ>\\=)'\n",
    "WS = r'(?P<WS>\\s+)'"
   ]
  },
  {
   "cell_type": "code",
   "execution_count": 161,
   "metadata": {},
   "outputs": [],
   "source": [
    "#?P<TOKENNAME> koristi se za dodelu imena obrascu"
   ]
  },
  {
   "cell_type": "code",
   "execution_count": 162,
   "metadata": {},
   "outputs": [],
   "source": [
    "master_obrazac=re.compile('|'.join([NAME, NUM, PLUS, TIMES, EQ, WS]))"
   ]
  },
  {
   "cell_type": "code",
   "execution_count": 163,
   "metadata": {},
   "outputs": [],
   "source": [
    "from collections import namedtuple"
   ]
  },
  {
   "cell_type": "code",
   "execution_count": 164,
   "metadata": {},
   "outputs": [],
   "source": [
    "Token=namedtuple('Token', ['type', 'value'])"
   ]
  },
  {
   "cell_type": "code",
   "execution_count": 165,
   "metadata": {},
   "outputs": [],
   "source": [
    "def napravi_tokene(pat,text):\n",
    "    scanner=pat.scanner(text) #funkcija match() se poziva nad celim tekstom\n",
    "    for m in iter(scanner.match, None):\n",
    "        yield Token(m.lastgroup, m.group())"
   ]
  },
  {
   "cell_type": "code",
   "execution_count": 166,
   "metadata": {},
   "outputs": [
    {
     "name": "stdout",
     "output_type": "stream",
     "text": [
      "Token(type='NAME', value='vita')\n",
      "Token(type='EQ', value='=')\n",
      "Token(type='NAME', value='vitomirj')\n"
     ]
    }
   ],
   "source": [
    "for tok in napravi_tokene(master_obrazac, 'vita=vitomirj@'):\n",
    "    print(tok)"
   ]
  },
  {
   "cell_type": "code",
   "execution_count": 167,
   "metadata": {},
   "outputs": [
    {
     "name": "stdout",
     "output_type": "stream",
     "text": [
      "Token(type='NAME', value='vita')\n",
      "Token(type='EQ', value='=')\n",
      "Token(type='NAME', value='vitomirj')\n"
     ]
    }
   ],
   "source": [
    "#filtriranje tokena\n",
    "tokens =(tok for tok in napravi_tokene(master_obrazac, text)\n",
    "        if tok.type !='WS')\n",
    "for tok in tokens:\n",
    "    print(tok)"
   ]
  },
  {
   "cell_type": "markdown",
   "metadata": {},
   "source": [
    "# Primer rada sa tekstom sa NLTK"
   ]
  },
  {
   "cell_type": "code",
   "execution_count": 170,
   "metadata": {},
   "outputs": [],
   "source": [
    "import nltk"
   ]
  },
  {
   "cell_type": "code",
   "execution_count": 171,
   "metadata": {},
   "outputs": [
    {
     "name": "stdout",
     "output_type": "stream",
     "text": [
      "showing info https://raw.githubusercontent.com/nltk/nltk_data/gh-pages/index.xml\n"
     ]
    },
    {
     "data": {
      "text/plain": [
       "True"
      ]
     },
     "execution_count": 171,
     "metadata": {},
     "output_type": "execute_result"
    }
   ],
   "source": [
    "nltk.download()"
   ]
  },
  {
   "cell_type": "code",
   "execution_count": null,
   "metadata": {},
   "outputs": [],
   "source": [
    "sentence = \"\"\"At eight o'clock on Thursday morning Arthur didn't feel very good.\"\"\"\n",
    "tokens = nl.word_tokenize(sentence)\n"
   ]
  },
  {
   "cell_type": "code",
   "execution_count": null,
   "metadata": {},
   "outputs": [],
   "source": [
    "tokens"
   ]
  },
  {
   "cell_type": "code",
   "execution_count": null,
   "metadata": {},
   "outputs": [],
   "source": [
    "tagged = nl.pos_tag(tokens)\n",
    "tagged[0:6]"
   ]
  },
  {
   "cell_type": "code",
   "execution_count": null,
   "metadata": {},
   "outputs": [],
   "source": [
    "entities = nltk.chunk.ne_chunk(tagged)\n",
    "entities"
   ]
  },
  {
   "cell_type": "code",
   "execution_count": null,
   "metadata": {},
   "outputs": [],
   "source": [
    "from nltk.corpus import treebank\n",
    "t = treebank.parsed_sents('wsj_0001.mrg')[0]\n",
    "t.draw()"
   ]
  },
  {
   "cell_type": "markdown",
   "metadata": {},
   "source": [
    "# Rad sa brojevima i datumima"
   ]
  },
  {
   "cell_type": "code",
   "execution_count": 172,
   "metadata": {},
   "outputs": [],
   "source": [
    "import numpy as np"
   ]
  },
  {
   "cell_type": "code",
   "execution_count": null,
   "metadata": {},
   "outputs": [],
   "source": [
    "x=[1,2,3,4,5,6,7,8]"
   ]
  },
  {
   "cell_type": "code",
   "execution_count": null,
   "metadata": {},
   "outputs": [],
   "source": [
    "x+10"
   ]
  },
  {
   "cell_type": "code",
   "execution_count": null,
   "metadata": {},
   "outputs": [],
   "source": [
    "ax=np.array([1,2,3,4,5,6,7,8])\n",
    "ay=np.array([9,10,11,12,13,14,15,16])"
   ]
  },
  {
   "cell_type": "code",
   "execution_count": null,
   "metadata": {},
   "outputs": [],
   "source": [
    "ax+10"
   ]
  },
  {
   "cell_type": "code",
   "execution_count": null,
   "metadata": {},
   "outputs": [],
   "source": [
    "#da bi se sabirali vektori moraju biti iste dužine\n",
    "ax+ay"
   ]
  },
  {
   "cell_type": "code",
   "execution_count": null,
   "metadata": {},
   "outputs": [],
   "source": [
    "np.sqrt(ax)"
   ]
  },
  {
   "cell_type": "code",
   "execution_count": null,
   "metadata": {},
   "outputs": [],
   "source": [
    "np.cos(ax)"
   ]
  },
  {
   "cell_type": "code",
   "execution_count": null,
   "metadata": {},
   "outputs": [],
   "source": [
    "a=np.array([[1,2,3],[4,5,6],[7,8,9]])"
   ]
  },
  {
   "cell_type": "code",
   "execution_count": null,
   "metadata": {},
   "outputs": [],
   "source": [
    "a"
   ]
  },
  {
   "cell_type": "code",
   "execution_count": null,
   "metadata": {},
   "outputs": [],
   "source": [
    "#drugi red\n",
    "a[1]"
   ]
  },
  {
   "cell_type": "code",
   "execution_count": null,
   "metadata": {},
   "outputs": [],
   "source": [
    "#druga kolona\n",
    "a[:,1]"
   ]
  },
  {
   "cell_type": "code",
   "execution_count": null,
   "metadata": {},
   "outputs": [],
   "source": [
    "#odabira region i menja ga\n",
    "a[0:2,0:2]+=10\n",
    "a"
   ]
  },
  {
   "cell_type": "code",
   "execution_count": null,
   "metadata": {},
   "outputs": [],
   "source": [
    "#Matrice\n",
    "m=np.matrix([[1,-2,3],[4,5,6],[7,8,-9]])"
   ]
  },
  {
   "cell_type": "code",
   "execution_count": null,
   "metadata": {},
   "outputs": [],
   "source": [
    "m"
   ]
  },
  {
   "cell_type": "code",
   "execution_count": null,
   "metadata": {},
   "outputs": [],
   "source": [
    "#Transpon matrice\n",
    "m.T"
   ]
  },
  {
   "cell_type": "code",
   "execution_count": null,
   "metadata": {},
   "outputs": [],
   "source": [
    "#Invers matrice A-1\n",
    "m.I"
   ]
  },
  {
   "cell_type": "code",
   "execution_count": null,
   "metadata": {},
   "outputs": [],
   "source": [
    "v=np.matrix([[2],[3],[4]])"
   ]
  },
  {
   "cell_type": "code",
   "execution_count": null,
   "metadata": {},
   "outputs": [],
   "source": [
    "m*v"
   ]
  },
  {
   "cell_type": "code",
   "execution_count": null,
   "metadata": {},
   "outputs": [],
   "source": [
    "import numpy.linalg\n",
    "#Determinanta matrice\n",
    "np.linalg.det(m)"
   ]
  },
  {
   "cell_type": "code",
   "execution_count": null,
   "metadata": {},
   "outputs": [],
   "source": [
    "#Svojstvene vrednosti\n",
    "numpy.linalg.eigvals(m)"
   ]
  },
  {
   "cell_type": "code",
   "execution_count": null,
   "metadata": {},
   "outputs": [],
   "source": [
    "np.random.randint(0,10)"
   ]
  },
  {
   "cell_type": "code",
   "execution_count": null,
   "metadata": {},
   "outputs": [],
   "source": [
    "np.random.randint(0,10,10)"
   ]
  },
  {
   "cell_type": "code",
   "execution_count": null,
   "metadata": {},
   "outputs": [],
   "source": [
    "np.random.random(3)"
   ]
  },
  {
   "cell_type": "markdown",
   "metadata": {},
   "source": [
    "Datumi"
   ]
  },
  {
   "cell_type": "code",
   "execution_count": null,
   "metadata": {},
   "outputs": [],
   "source": [
    "from datetime import timedelta"
   ]
  },
  {
   "cell_type": "code",
   "execution_count": null,
   "metadata": {},
   "outputs": [],
   "source": [
    "a=timedelta(days=2, hours=6)\n",
    "b=timedelta(hours=4.5)"
   ]
  },
  {
   "cell_type": "code",
   "execution_count": null,
   "metadata": {},
   "outputs": [],
   "source": [
    "c=a+b\n",
    "c"
   ]
  },
  {
   "cell_type": "code",
   "execution_count": null,
   "metadata": {},
   "outputs": [],
   "source": [
    "c.seconds/3600"
   ]
  },
  {
   "cell_type": "code",
   "execution_count": null,
   "metadata": {},
   "outputs": [],
   "source": [
    "c.total_seconds()/3600"
   ]
  },
  {
   "cell_type": "code",
   "execution_count": null,
   "metadata": {},
   "outputs": [],
   "source": [
    "a=datetime(2012,9,23)"
   ]
  },
  {
   "cell_type": "code",
   "execution_count": null,
   "metadata": {},
   "outputs": [],
   "source": [
    "print(a+timedelta(days=10))"
   ]
  },
  {
   "cell_type": "code",
   "execution_count": null,
   "metadata": {},
   "outputs": [],
   "source": [
    "b=datetime(2012,12,23)"
   ]
  },
  {
   "cell_type": "code",
   "execution_count": null,
   "metadata": {},
   "outputs": [],
   "source": [
    "d=b-a"
   ]
  },
  {
   "cell_type": "code",
   "execution_count": null,
   "metadata": {},
   "outputs": [],
   "source": [
    "d.days"
   ]
  },
  {
   "cell_type": "code",
   "execution_count": null,
   "metadata": {},
   "outputs": [],
   "source": [
    "now=datetime.today()"
   ]
  },
  {
   "cell_type": "code",
   "execution_count": null,
   "metadata": {},
   "outputs": [],
   "source": [
    "print(now)"
   ]
  },
  {
   "cell_type": "code",
   "execution_count": null,
   "metadata": {},
   "outputs": [],
   "source": [
    "#Konverzija teksta u datum\n",
    "text='2012-09-20'\n",
    "y=datetime.strptime(text, '%Y-%m-%d')"
   ]
  },
  {
   "cell_type": "code",
   "execution_count": null,
   "metadata": {},
   "outputs": [],
   "source": [
    "z=datetime.now()"
   ]
  },
  {
   "cell_type": "code",
   "execution_count": null,
   "metadata": {},
   "outputs": [],
   "source": [
    "diff=z-y"
   ]
  },
  {
   "cell_type": "code",
   "execution_count": null,
   "metadata": {},
   "outputs": [],
   "source": [
    "print(diff)"
   ]
  },
  {
   "cell_type": "markdown",
   "metadata": {},
   "source": [
    "   # Iteratori i generatori"
   ]
  },
  {
   "cell_type": "code",
   "execution_count": null,
   "metadata": {},
   "outputs": [],
   "source": [
    "#Iteracije se mogu obavljati i bez for komande\n",
    "\n",
    "with open('Tekst.txt') as f:\n",
    "    while True:\n",
    "        line=next(f,None)\n",
    "        if line is None:\n",
    "            break\n",
    "        print(line,end='')"
   ]
  },
  {
   "cell_type": "code",
   "execution_count": null,
   "metadata": {},
   "outputs": [],
   "source": [
    "with open('Pismo.rtf') as f:\n",
    "    try:\n",
    "        while True:\n",
    "            line=next(f)\n",
    "            print(line,end='')\n",
    "    except StopIteration:\n",
    "        pass"
   ]
  },
  {
   "cell_type": "code",
   "execution_count": null,
   "metadata": {
    "scrolled": true
   },
   "outputs": [],
   "source": [
    "import re\n",
    "with open('Pismo.rtf') as f:\n",
    "    lines = [line.rstrip(';') for line in f]\n",
    "    for line in lines:\n",
    "        print(line)"
   ]
  },
  {
   "cell_type": "code",
   "execution_count": null,
   "metadata": {},
   "outputs": [],
   "source": [
    "#Preciznije praćenje iteratora nego for\n",
    "items=[1,2,3]\n",
    "it = iter(items) #dobavlja iterator\n",
    "next(it) #pokreće iterator\n"
   ]
  },
  {
   "cell_type": "code",
   "execution_count": null,
   "metadata": {},
   "outputs": [],
   "source": [
    "next(it)"
   ]
  },
  {
   "cell_type": "code",
   "execution_count": null,
   "metadata": {},
   "outputs": [],
   "source": [
    "#Funkcija iter se koristi kod definisanja klasa\n",
    "\n",
    "class Node:\n",
    "    def __init__(self,value):\n",
    "        self._value=value\n",
    "        self._children=[]\n",
    "        \n",
    "    def __repr__(self):\n",
    "        return 'Node({!r})'.format(self._value)\n",
    "    \n",
    "    def add_child(self, node):\n",
    "        self._children.append(node)\n",
    "    \n",
    "    def __iter__(self):\n",
    "        return iter(self._children)"
   ]
  },
  {
   "cell_type": "code",
   "execution_count": null,
   "metadata": {},
   "outputs": [],
   "source": [
    "root=Node(0)\n",
    "child1 = Node(1)\n",
    "child2=Node(2)\n",
    "child3=Node(3)"
   ]
  },
  {
   "cell_type": "code",
   "execution_count": null,
   "metadata": {},
   "outputs": [],
   "source": [
    "root.add_child(child1)\n",
    "root.add_child(child2)\n",
    "root.add_child(child3)"
   ]
  },
  {
   "cell_type": "code",
   "execution_count": null,
   "metadata": {},
   "outputs": [],
   "source": [
    "for child in child3:\n",
    "    print(child)"
   ]
  },
  {
   "cell_type": "code",
   "execution_count": null,
   "metadata": {},
   "outputs": [],
   "source": [
    "#Kreirarnje novog iteratora inkrermentalne funkcije, za decimalne brojeve\n",
    "#The yield statement suspends function’s execution and sends a value back to the caller, \n",
    "#but retains enough state to enable function to resume where it is left off. \n",
    "#When resumed, the function continues execution immediately after the last yield run. \n",
    "#This allows its code to produce a series of values over time, \n",
    "#rather than computing them at once and sending them back like a list.\n",
    "\n",
    "\n",
    "\n",
    "def frange(start,stop,increment):\n",
    "    x=start\n",
    "    while x<stop:\n",
    "        yield x\n",
    "        x+=increment"
   ]
  },
  {
   "cell_type": "code",
   "execution_count": null,
   "metadata": {},
   "outputs": [],
   "source": [
    "for n in frange(0, 10, 0.2):\n",
    "    print(round(n,2), end='')"
   ]
  },
  {
   "cell_type": "code",
   "execution_count": null,
   "metadata": {},
   "outputs": [],
   "source": [
    "class Node:\n",
    "    def __init__(self,value):\n",
    "        self._value=value\n",
    "        self._children=[]\n",
    "        \n",
    "    def __repr__(self):\n",
    "        return 'Node({!r})'.format(self._value)\n",
    "    \n",
    "    def add_child(self, node):\n",
    "        self._children.append(node)\n",
    "    \n",
    "    def __iter__(self):\n",
    "        return iter(self._children)\n",
    "    \n",
    "    def depth_first(self):\n",
    "        yield self\n",
    "        for c in self:\n",
    "            yield from c.depth_first()"
   ]
  },
  {
   "cell_type": "code",
   "execution_count": null,
   "metadata": {},
   "outputs": [],
   "source": [
    "root=Node(1)\n",
    "child1 = Node(2)\n",
    "child2=Node(3)\n",
    "child3=Node(4)"
   ]
  },
  {
   "cell_type": "code",
   "execution_count": null,
   "metadata": {},
   "outputs": [],
   "source": [
    "root.add_child(child1)\n",
    "root.add_child(child2)\n",
    "root.add_child(child3)\n",
    "#child3.add_child(Node(10))\n",
    "\n",
    "child1.add_child(Node(3))\n",
    "#child1.add_child(Node(4))\n",
    "#child2.add_child(Node(5))"
   ]
  },
  {
   "cell_type": "code",
   "execution_count": null,
   "metadata": {},
   "outputs": [],
   "source": [
    "for ch in root.depth_first():\n",
    "    print(ch, end=' ')"
   ]
  },
  {
   "cell_type": "code",
   "execution_count": null,
   "metadata": {},
   "outputs": [],
   "source": [
    "a=[1,2,3,4,5]\n",
    "for i in reversed(a):\n",
    "    print(i, end=' ')"
   ]
  },
  {
   "cell_type": "code",
   "execution_count": null,
   "metadata": {},
   "outputs": [],
   "source": [
    "from collections import deque"
   ]
  },
  {
   "cell_type": "code",
   "execution_count": null,
   "metadata": {},
   "outputs": [],
   "source": [
    "class linehistory:\n",
    "    def __init__(self,lines,histlen=3):\n",
    "        self.lines=lines\n",
    "        self.history=deque(maxlen=histlen)\n",
    "    \n",
    "    def __iter__(self):\n",
    "        for lineno,line in enumerate(self.lines,1):\n",
    "            self.history.append((lineno,line))\n",
    "            yield line\n",
    "    \n",
    "    def clear(self):\n",
    "        self.history.clear()"
   ]
  },
  {
   "cell_type": "code",
   "execution_count": null,
   "metadata": {},
   "outputs": [],
   "source": [
    "with open('Pismo.rtf') as f:\n",
    "    lines = linehistory(f)\n",
    "    for line in lines:\n",
    "        if 'LSTM' in line:\n",
    "            for lineno,line in lines.history:\n",
    "                print('{}:{}'.format(lineno,line), end=' ')"
   ]
  },
  {
   "cell_type": "code",
   "execution_count": null,
   "metadata": {},
   "outputs": [],
   "source": [
    "with open('Pismo.rtf') as f:\n",
    "    lines = [line.rstrip(';') for line in f]\n",
    "    for line in lines:\n",
    "        if 'played' in line:\n",
    "            print(line)"
   ]
  },
  {
   "cell_type": "code",
   "execution_count": null,
   "metadata": {},
   "outputs": [],
   "source": [
    "f = open('Pismo.rtf')\n",
    "lines = linehistory(f)"
   ]
  },
  {
   "cell_type": "code",
   "execution_count": null,
   "metadata": {},
   "outputs": [],
   "source": [
    "it = iter(f)"
   ]
  },
  {
   "cell_type": "code",
   "execution_count": null,
   "metadata": {},
   "outputs": [],
   "source": [
    "next(it)"
   ]
  },
  {
   "cell_type": "code",
   "execution_count": null,
   "metadata": {
    "scrolled": true
   },
   "outputs": [],
   "source": [
    "import itertools\n",
    "#Uzimanje isečka iteratora\n",
    "with open('Pismo.rtf') as f:\n",
    "    lines = [line.rstrip(';') for line in f]\n",
    "    for line in itertools.islice(lines,6,20): #ne štampamo prvih 7 redova, od 7 pa do 20 štampamo\n",
    "            #print(line)"
   ]
  },
  {
   "cell_type": "code",
   "execution_count": null,
   "metadata": {},
   "outputs": [],
   "source": [
    "#Bolji nacin jer ako ne pocinje slovom ne stampa\n",
    "with open('Pismo.rtf') as f:\n",
    "    while True:\n",
    "        line=next(f, '')\n",
    "        if not line.startswith('{'):\n",
    "            break\n",
    "    while line:\n",
    "        #print(line, end='')\n",
    "        line=next(f,None)"
   ]
  },
  {
   "cell_type": "code",
   "execution_count": null,
   "metadata": {
    "scrolled": true
   },
   "outputs": [],
   "source": [
    "with open('Pismo.rtf') as f:\n",
    "    lines = [line for line in f if not line.startswith('I')]\n",
    "    for line in lines:\n",
    "        #print(line, end='')"
   ]
  },
  {
   "cell_type": "markdown",
   "metadata": {},
   "source": [
    "# Kombinacije i permutacije"
   ]
  },
  {
   "cell_type": "code",
   "execution_count": null,
   "metadata": {},
   "outputs": [],
   "source": [
    "from itertools import permutations"
   ]
  },
  {
   "cell_type": "code",
   "execution_count": null,
   "metadata": {},
   "outputs": [],
   "source": [
    "items=['a', 'b', 'c', 'd']"
   ]
  },
  {
   "cell_type": "code",
   "execution_count": null,
   "metadata": {},
   "outputs": [],
   "source": [
    "#Permutacije bez ponavljanja n!\n",
    "#len(items)!\n",
    "permutacija=[]\n",
    "for p in permutations(items):\n",
    "    print(p)\n",
    "    permutacija.append(tuple(p))\n",
    "print('Ukupno permutacija bez ponavljanja:', len(permutacija))"
   ]
  },
  {
   "cell_type": "code",
   "execution_count": null,
   "metadata": {},
   "outputs": [],
   "source": [
    "import math\n",
    "math.factorial(len(items))"
   ]
  },
  {
   "cell_type": "code",
   "execution_count": null,
   "metadata": {},
   "outputs": [],
   "source": [
    "#Varijacije bez ponavljanja n! /(n-r)!\n",
    "varijacija=[]\n",
    "for p in permutations(items,2):\n",
    "    print(p)\n",
    "    varijacija.append(tuple(p))\n",
    "print('Ukupno varijacija bez ponavljanja', len(varijacija))"
   ]
  },
  {
   "cell_type": "code",
   "execution_count": null,
   "metadata": {},
   "outputs": [],
   "source": [
    "math.factorial(len(items))/math.factorial(len(items)-2)"
   ]
  },
  {
   "cell_type": "code",
   "execution_count": null,
   "metadata": {},
   "outputs": [],
   "source": [
    "items=['a','b','c','d']\n",
    "from itertools import combinations\n",
    "# Kombinacije bez ponavljanja n!/r!(n-r)! loto\n",
    "kombinacija=[]\n",
    "for p in combinations(items,3):\n",
    "    print(p)\n",
    "    kombinacija.append(tuple(p))\n",
    "print('Ukupno permutacija sa ponavljanjem', len(kombinacija))"
   ]
  },
  {
   "cell_type": "code",
   "execution_count": null,
   "metadata": {},
   "outputs": [],
   "source": [
    "loto = [n for n in range(1,40)]"
   ]
  },
  {
   "cell_type": "code",
   "execution_count": null,
   "metadata": {},
   "outputs": [],
   "source": [
    "#broj loto kombinacija\n",
    "kombinacija=[]\n",
    "for p in combinations(loto,7):\n",
    "    #print(p)\n",
    "    kombinacija.append(tuple(p))\n",
    "print('Ukupno loto kombinacija', len(kombinacija))"
   ]
  },
  {
   "cell_type": "code",
   "execution_count": null,
   "metadata": {},
   "outputs": [],
   "source": [
    "from itertools import combinations_with_replacement"
   ]
  },
  {
   "cell_type": "code",
   "execution_count": null,
   "metadata": {},
   "outputs": [],
   "source": [
    "#Kombinacije sa ponavljanjem (n+r-1)!/r!(n-1)!\n",
    "#šta bi se desilo kada bi se loptice vraćale u bubanj\n",
    "\n",
    "kombinacija=[]\n",
    "for p in combinations_with_replacement(loto,7):\n",
    "    #print(p)\n",
    "    kombinacija.append(tuple(p))\n",
    "print('Ukupno loto kombinacija', len(kombinacija))"
   ]
  },
  {
   "cell_type": "code",
   "execution_count": null,
   "metadata": {},
   "outputs": [],
   "source": [
    "#Praćenje koji se element liste obrađuje\n",
    "my_list=['a','b','c','d']"
   ]
  },
  {
   "cell_type": "code",
   "execution_count": null,
   "metadata": {
    "scrolled": true
   },
   "outputs": [],
   "source": [
    "for index,value in enumerate(my_list):\n",
    "    print(index, value)"
   ]
  },
  {
   "cell_type": "code",
   "execution_count": null,
   "metadata": {},
   "outputs": [],
   "source": [
    "word_summary=defaultdict(list)"
   ]
  },
  {
   "cell_type": "code",
   "execution_count": null,
   "metadata": {},
   "outputs": [],
   "source": [
    "with open('Tekst.txt', 'r') as f:\n",
    "    lines=f.readlines()"
   ]
  },
  {
   "cell_type": "code",
   "execution_count": null,
   "metadata": {},
   "outputs": [],
   "source": [
    "lines"
   ]
  },
  {
   "cell_type": "code",
   "execution_count": null,
   "metadata": {},
   "outputs": [],
   "source": [
    "for index, line in enumerate(lines):\n",
    "    words=[w.strip().lower() for w in line.split()]\n",
    "    for word in words:\n",
    "        word_summary[word].append(index) #dobijamo indeksiranu reč po redu, a ako je javlja dvaput, broj reda će se navesti dvaput"
   ]
  },
  {
   "cell_type": "code",
   "execution_count": null,
   "metadata": {},
   "outputs": [],
   "source": [
    "word_summary"
   ]
  },
  {
   "cell_type": "code",
   "execution_count": null,
   "metadata": {},
   "outputs": [],
   "source": [
    "#Za simultane iteracije nad više sekvenci koristi se zip()\n",
    "xpt=(1,2,3,4,5)\n",
    "ypt=(101,102,103,104,105)\n",
    "i=(1,2,3)"
   ]
  },
  {
   "cell_type": "code",
   "execution_count": null,
   "metadata": {},
   "outputs": [],
   "source": [
    "for x,y in zip(xpt,ypt):\n",
    "    print(x,y)"
   ]
  },
  {
   "cell_type": "code",
   "execution_count": null,
   "metadata": {},
   "outputs": [],
   "source": [
    "#itercijie određuje najmanja sekvenca\n",
    "for k in zip(i,ypt):\n",
    "    print(k)"
   ]
  },
  {
   "cell_type": "code",
   "execution_count": null,
   "metadata": {},
   "outputs": [],
   "source": [
    "zpt=[201,202,203,204,205]"
   ]
  },
  {
   "cell_type": "code",
   "execution_count": null,
   "metadata": {},
   "outputs": [],
   "source": [
    "for i in zip(xpt,ypt,zpt):\n",
    "    print(i)"
   ]
  },
  {
   "cell_type": "code",
   "execution_count": null,
   "metadata": {},
   "outputs": [],
   "source": [
    "list(zip(xpt,ypt,zpt))[0:2]"
   ]
  },
  {
   "cell_type": "code",
   "execution_count": null,
   "metadata": {},
   "outputs": [],
   "source": [
    "index=['Pera', 'Mika', 'Laza']\n",
    "visina=['183', '170', '165']"
   ]
  },
  {
   "cell_type": "code",
   "execution_count": null,
   "metadata": {},
   "outputs": [],
   "source": [
    "s=dict(zip(index,visina))\n",
    "s"
   ]
  },
  {
   "cell_type": "code",
   "execution_count": null,
   "metadata": {
    "scrolled": false
   },
   "outputs": [],
   "source": [
    "#uvezivanje dve liste u jednu u iteriranju\n",
    "from itertools import chain\n",
    "for i in chain(xpt,ypt):\n",
    "    print(i)"
   ]
  },
  {
   "cell_type": "code",
   "execution_count": null,
   "metadata": {},
   "outputs": [],
   "source": [
    "def vreme(method):\n",
    "    def timed(*args, **kw):\n",
    "        pocetak = time.time()\n",
    "        result = method(*args, **kw)\n",
    "        kraj = time.time()\n",
    "        if 'log_time' in kw:\n",
    "            name = kw.get('log_name', method.__name__.upper())\n",
    "            kw['log_time'][name] = int((kraj - pocetak))\n",
    "        else:\n",
    "            print('%r  %2.2f sekundi' % \\\n",
    "                  (method.__name__, (kraj - pocetak)))\n",
    "        return result\n",
    "    return timed"
   ]
  },
  {
   "cell_type": "code",
   "execution_count": null,
   "metadata": {},
   "outputs": [],
   "source": [
    "from collections.abc import Iterable"
   ]
  },
  {
   "cell_type": "code",
   "execution_count": null,
   "metadata": {},
   "outputs": [],
   "source": [
    "def flatten(items, ignore_types=(str, bytes)):\n",
    "    for x in items:\n",
    "        if isinstance(x, Iterable) and not isinstance(x,ignore_types):\n",
    "            yield from flatten(x)\n",
    "        else:\n",
    "            yield x"
   ]
  },
  {
   "cell_type": "code",
   "execution_count": null,
   "metadata": {},
   "outputs": [],
   "source": [
    "item=[1,2,[3,4,[5,6],7],8]"
   ]
  },
  {
   "cell_type": "code",
   "execution_count": null,
   "metadata": {},
   "outputs": [],
   "source": [
    "for i in flatten(item):\n",
    "    print(i)"
   ]
  },
  {
   "cell_type": "code",
   "execution_count": null,
   "metadata": {},
   "outputs": [],
   "source": [
    "def flatten(items, ignore_types=(str, bytes)):\n",
    "    for x in items:\n",
    "        if isinstance(x, Iterable) and not isinstance(x,ignore_types):\n",
    "            for i in flatten(x):\n",
    "                yield i\n",
    "        else:\n",
    "            yield x"
   ]
  },
  {
   "cell_type": "code",
   "execution_count": null,
   "metadata": {},
   "outputs": [],
   "source": [
    "for i in flatten(item):\n",
    "    print(i)"
   ]
  },
  {
   "cell_type": "code",
   "execution_count": null,
   "metadata": {},
   "outputs": [],
   "source": [
    "import heapq\n",
    "a=[1,3,5,7,9]\n",
    "b=[2,4,6,8,10]"
   ]
  },
  {
   "cell_type": "code",
   "execution_count": null,
   "metadata": {},
   "outputs": [],
   "source": [
    "for i in heapq.merge(a,b):\n",
    "    print(i, end=' ')"
   ]
  },
  {
   "cell_type": "code",
   "execution_count": null,
   "metadata": {},
   "outputs": [],
   "source": [
    "#spajanje dve uređene datoteke\n",
    "with open('Tekst.txt', 'rt') as file1,\n",
    "     open('Pismo.rtf') 'rt' as file2\n",
    "     open('merged_file', 'wt') as outf:\n",
    "            for line in heapq.merge(file1,file2):\n",
    "                outf.write(line)"
   ]
  },
  {
   "cell_type": "markdown",
   "metadata": {},
   "source": [
    "# Funkcije"
   ]
  },
  {
   "cell_type": "code",
   "execution_count": null,
   "metadata": {},
   "outputs": [],
   "source": [
    "#Pišemo funkciju koja prihvata promenljiv broj ulaznih elemenata\n",
    "def avg(first, *rest):\n",
    "    return(first+sum(rest))/(1+len(rest))"
   ]
  },
  {
   "cell_type": "code",
   "execution_count": null,
   "metadata": {},
   "outputs": [],
   "source": [
    "avg(1,2)"
   ]
  },
  {
   "cell_type": "code",
   "execution_count": null,
   "metadata": {},
   "outputs": [],
   "source": [
    "avg(1,2,2)"
   ]
  },
  {
   "cell_type": "code",
   "execution_count": null,
   "metadata": {},
   "outputs": [],
   "source": [
    "avg(1,2,2,2)"
   ]
  },
  {
   "cell_type": "code",
   "execution_count": null,
   "metadata": {},
   "outputs": [],
   "source": [
    "import html"
   ]
  },
  {
   "cell_type": "code",
   "execution_count": null,
   "metadata": {},
   "outputs": [],
   "source": [
    "\n",
    "import html\n",
    "\n",
    "def make_element(name, value, **attrs):\n",
    "    keyvals = [' %s=\"%s\"' % item for item in attrs.items()]\n",
    "    attr_str = ''.join(keyvals)\n",
    "    element = '<{name}{attrs}>{value}</{name}>'.format(\n",
    "                name=name,\n",
    "                attrs=attr_str,\n",
    "                value=html.escape(value))\n",
    "    return element\n",
    "\n"
   ]
  },
  {
   "cell_type": "code",
   "execution_count": 308,
   "metadata": {},
   "outputs": [
    {
     "data": {
      "text/plain": [
       "'<item size=\"large\" quantity=\"6\">Albatross</item>'"
      ]
     },
     "execution_count": 308,
     "metadata": {},
     "output_type": "execute_result"
    }
   ],
   "source": [
    "# Example\n",
    "# Creates '<item size=\"large\" quantity=\"6\">Albatross</item>'\n",
    "make_element('item', 'Albatross', size='large', quantity=6)"
   ]
  },
  {
   "cell_type": "code",
   "execution_count": null,
   "metadata": {},
   "outputs": [],
   "source": [
    "# Creates '<p>&lt;spam&gt;</p>'\n",
    "make_element('p', '<spam>')"
   ]
  },
  {
   "cell_type": "code",
   "execution_count": 179,
   "metadata": {},
   "outputs": [],
   "source": [
    "def anyargs(*args, **kwargs):\n",
    "    print(args)\n",
    "    print(kwargs)"
   ]
  },
  {
   "cell_type": "code",
   "execution_count": 180,
   "metadata": {},
   "outputs": [],
   "source": [
    "vita=np.random.randint(3,20,10)"
   ]
  },
  {
   "cell_type": "code",
   "execution_count": 183,
   "metadata": {},
   "outputs": [
    {
     "data": {
      "text/plain": [
       "array([17,  4, 16,  3,  6, 18,  9, 11,  3, 16])"
      ]
     },
     "execution_count": 183,
     "metadata": {},
     "output_type": "execute_result"
    }
   ],
   "source": [
    "vita"
   ]
  },
  {
   "cell_type": "code",
   "execution_count": 193,
   "metadata": {},
   "outputs": [],
   "source": [
    "recnik_11={'a':'1', 'b':'2', 'c':'3', 'd':'6'}"
   ]
  },
  {
   "cell_type": "code",
   "execution_count": 194,
   "metadata": {},
   "outputs": [
    {
     "name": "stdout",
     "output_type": "stream",
     "text": [
      "(array([17,  4, 16,  3,  6, 18,  9, 11,  3, 16]), {'a': '1', 'b': '2', 'c': '3', 'd': '6'})\n",
      "{}\n"
     ]
    }
   ],
   "source": [
    "anyargs(vita, recnik_11)"
   ]
  },
  {
   "cell_type": "code",
   "execution_count": 184,
   "metadata": {},
   "outputs": [],
   "source": [
    "def minimum(*values, clip=None):\n",
    "    m=min(values)\n",
    "    if clip is not None:\n",
    "        m=clip if clip>m else m\n",
    "    return m"
   ]
  },
  {
   "cell_type": "code",
   "execution_count": 185,
   "metadata": {},
   "outputs": [
    {
     "data": {
      "text/plain": [
       "-5"
      ]
     },
     "execution_count": 185,
     "metadata": {},
     "output_type": "execute_result"
    }
   ],
   "source": [
    "minimum(1,5,2,-5,10)"
   ]
  },
  {
   "cell_type": "code",
   "execution_count": 186,
   "metadata": {},
   "outputs": [
    {
     "data": {
      "text/plain": [
       "0"
      ]
     },
     "execution_count": 186,
     "metadata": {},
     "output_type": "execute_result"
    }
   ],
   "source": [
    "minimum(1,5,2,-5,10, clip=0)"
   ]
  },
  {
   "cell_type": "code",
   "execution_count": 195,
   "metadata": {},
   "outputs": [],
   "source": [
    "def add(x:int,y:int) -> int:\n",
    "    return x+y"
   ]
  },
  {
   "cell_type": "code",
   "execution_count": 197,
   "metadata": {},
   "outputs": [
    {
     "data": {
      "text/plain": [
       "10"
      ]
     },
     "execution_count": 197,
     "metadata": {},
     "output_type": "execute_result"
    }
   ],
   "source": [
    "add(8,2)"
   ]
  },
  {
   "cell_type": "code",
   "execution_count": 198,
   "metadata": {},
   "outputs": [
    {
     "data": {
      "text/plain": [
       "{'x': int, 'y': int, 'return': int}"
      ]
     },
     "execution_count": 198,
     "metadata": {},
     "output_type": "execute_result"
    }
   ],
   "source": [
    "add.__annotations__"
   ]
  },
  {
   "cell_type": "code",
   "execution_count": 199,
   "metadata": {},
   "outputs": [],
   "source": [
    "#korišćenje funkcije koja vraća više vrednosti, a vraća i n-torku (tuple)\n",
    "def myfun():\n",
    "    return 1,2,3"
   ]
  },
  {
   "cell_type": "code",
   "execution_count": 200,
   "metadata": {},
   "outputs": [],
   "source": [
    "a,b,c=myfun()"
   ]
  },
  {
   "cell_type": "code",
   "execution_count": 201,
   "metadata": {
    "scrolled": true
   },
   "outputs": [
    {
     "data": {
      "text/plain": [
       "2"
      ]
     },
     "execution_count": 201,
     "metadata": {},
     "output_type": "execute_result"
    }
   ],
   "source": [
    "b"
   ]
  },
  {
   "cell_type": "code",
   "execution_count": 202,
   "metadata": {},
   "outputs": [
    {
     "data": {
      "text/plain": [
       "(1, 2, 3)"
      ]
     },
     "execution_count": 202,
     "metadata": {},
     "output_type": "execute_result"
    }
   ],
   "source": [
    "x=myfun()\n",
    "x"
   ]
  },
  {
   "cell_type": "code",
   "execution_count": 203,
   "metadata": {},
   "outputs": [],
   "source": [
    "#Pisanje funkcije sa podrazumevanim argumentima\n",
    "def spam(a, b=42):\n",
    "    print(a,b)"
   ]
  },
  {
   "cell_type": "code",
   "execution_count": 204,
   "metadata": {},
   "outputs": [
    {
     "name": "stdout",
     "output_type": "stream",
     "text": [
      "1 42\n"
     ]
    }
   ],
   "source": [
    "spam(1)"
   ]
  },
  {
   "cell_type": "code",
   "execution_count": 205,
   "metadata": {},
   "outputs": [
    {
     "name": "stdout",
     "output_type": "stream",
     "text": [
      "1 2\n"
     ]
    }
   ],
   "source": [
    "spam(1,2)"
   ]
  },
  {
   "cell_type": "code",
   "execution_count": 206,
   "metadata": {},
   "outputs": [],
   "source": [
    "_no_value=object()"
   ]
  },
  {
   "cell_type": "code",
   "execution_count": 212,
   "metadata": {},
   "outputs": [],
   "source": [
    "def spam(a,b=_no_value):\n",
    "    if b is _no_value:\n",
    "        print(a,'No b value supplied')\n",
    "    else: \n",
    "        print(a,b)"
   ]
  },
  {
   "cell_type": "code",
   "execution_count": 213,
   "metadata": {},
   "outputs": [
    {
     "name": "stdout",
     "output_type": "stream",
     "text": [
      "1 No b value supplied\n"
     ]
    }
   ],
   "source": [
    "spam(1)"
   ]
  },
  {
   "cell_type": "code",
   "execution_count": 214,
   "metadata": {},
   "outputs": [
    {
     "name": "stdout",
     "output_type": "stream",
     "text": [
      "1 2\n"
     ]
    }
   ],
   "source": [
    "spam(1,2)"
   ]
  },
  {
   "cell_type": "code",
   "execution_count": 215,
   "metadata": {},
   "outputs": [
    {
     "name": "stdout",
     "output_type": "stream",
     "text": [
      "1 None\n"
     ]
    }
   ],
   "source": [
    "spam(1,None)"
   ]
  },
  {
   "cell_type": "code",
   "execution_count": 216,
   "metadata": {},
   "outputs": [],
   "source": [
    "#Definisanje anonimnih ilii ugrađenih funkcija\n",
    "add=lambda x,y: x+y"
   ]
  },
  {
   "cell_type": "code",
   "execution_count": 217,
   "metadata": {},
   "outputs": [
    {
     "data": {
      "text/plain": [
       "5"
      ]
     },
     "execution_count": 217,
     "metadata": {},
     "output_type": "execute_result"
    }
   ],
   "source": [
    "add(2,3)"
   ]
  },
  {
   "cell_type": "code",
   "execution_count": 220,
   "metadata": {},
   "outputs": [],
   "source": [
    "imena =['Pera Andric', 'Mika Mikic', 'Laza Sazic', 'Sole Bolic']"
   ]
  },
  {
   "cell_type": "code",
   "execution_count": 221,
   "metadata": {},
   "outputs": [
    {
     "data": {
      "text/plain": [
       "['Pera Andric', 'Sole Bolic', 'Mika Mikic', 'Laza Sazic']"
      ]
     },
     "execution_count": 221,
     "metadata": {},
     "output_type": "execute_result"
    }
   ],
   "source": [
    "#Sortira po prezimenu\n",
    "sorted(imena, key=lambda imena: imena.split()[-1].lower())"
   ]
  },
  {
   "cell_type": "code",
   "execution_count": 306,
   "metadata": {
    "scrolled": true
   },
   "outputs": [],
   "source": [
    "x=4"
   ]
  },
  {
   "cell_type": "code",
   "execution_count": 307,
   "metadata": {},
   "outputs": [],
   "source": [
    "funcs=[lambda x: x+n for n in range(5)]"
   ]
  },
  {
   "cell_type": "code",
   "execution_count": 225,
   "metadata": {},
   "outputs": [
    {
     "name": "stdout",
     "output_type": "stream",
     "text": [
      "4\n",
      "4\n",
      "4\n",
      "4\n",
      "4\n"
     ]
    }
   ],
   "source": [
    "for f in funcs:\n",
    "    print(f(0))"
   ]
  },
  {
   "cell_type": "code",
   "execution_count": 226,
   "metadata": {},
   "outputs": [],
   "source": [
    "#Funkcija sada hvata n u trenutku definisanja\n",
    "funcs = [lambda x, n=n: x+n for n in range(5)]"
   ]
  },
  {
   "cell_type": "code",
   "execution_count": 227,
   "metadata": {},
   "outputs": [
    {
     "name": "stdout",
     "output_type": "stream",
     "text": [
      "0\n",
      "1\n",
      "2\n",
      "3\n",
      "4\n"
     ]
    }
   ],
   "source": [
    "for f in funcs:\n",
    "    print(f(0))"
   ]
  },
  {
   "cell_type": "code",
   "execution_count": 228,
   "metadata": {},
   "outputs": [],
   "source": [
    "points=[(1,2),(3,4),(5,6), (7,8)]"
   ]
  },
  {
   "cell_type": "code",
   "execution_count": 229,
   "metadata": {},
   "outputs": [],
   "source": [
    "import math"
   ]
  },
  {
   "cell_type": "code",
   "execution_count": 235,
   "metadata": {},
   "outputs": [],
   "source": [
    "#funkcija koja izračunava distancu od tačke\n",
    "def distance(p1,p2):\n",
    "    x1,y1=p1\n",
    "    x2,y2=p2\n",
    "    return math.hypot(x2-x1,y2-y1)"
   ]
  },
  {
   "cell_type": "code",
   "execution_count": 236,
   "metadata": {},
   "outputs": [],
   "source": [
    "p1=(9,9)\n",
    "p2=(1,-1)"
   ]
  },
  {
   "cell_type": "code",
   "execution_count": 237,
   "metadata": {},
   "outputs": [
    {
     "data": {
      "text/plain": [
       "12.806248474865697"
      ]
     },
     "execution_count": 237,
     "metadata": {},
     "output_type": "execute_result"
    }
   ],
   "source": [
    "distance(p1,p2)"
   ]
  },
  {
   "cell_type": "code",
   "execution_count": 239,
   "metadata": {},
   "outputs": [],
   "source": [
    "from functools import partial"
   ]
  },
  {
   "cell_type": "code",
   "execution_count": 240,
   "metadata": {},
   "outputs": [
    {
     "name": "stdout",
     "output_type": "stream",
     "text": [
      "Help on class partial in module functools:\n",
      "\n",
      "class partial(builtins.object)\n",
      " |  partial(func, *args, **keywords) - new function with partial application\n",
      " |  of the given arguments and keywords.\n",
      " |  \n",
      " |  Methods defined here:\n",
      " |  \n",
      " |  __call__(self, /, *args, **kwargs)\n",
      " |      Call self as a function.\n",
      " |  \n",
      " |  __delattr__(self, name, /)\n",
      " |      Implement delattr(self, name).\n",
      " |  \n",
      " |  __getattribute__(self, name, /)\n",
      " |      Return getattr(self, name).\n",
      " |  \n",
      " |  __reduce__(...)\n",
      " |      Helper for pickle.\n",
      " |  \n",
      " |  __repr__(self, /)\n",
      " |      Return repr(self).\n",
      " |  \n",
      " |  __setattr__(self, name, value, /)\n",
      " |      Implement setattr(self, name, value).\n",
      " |  \n",
      " |  __setstate__(...)\n",
      " |  \n",
      " |  ----------------------------------------------------------------------\n",
      " |  Static methods defined here:\n",
      " |  \n",
      " |  __new__(*args, **kwargs) from builtins.type\n",
      " |      Create and return a new object.  See help(type) for accurate signature.\n",
      " |  \n",
      " |  ----------------------------------------------------------------------\n",
      " |  Data descriptors defined here:\n",
      " |  \n",
      " |  __dict__\n",
      " |  \n",
      " |  args\n",
      " |      tuple of arguments to future partial calls\n",
      " |  \n",
      " |  func\n",
      " |      function object to use in future partial calls\n",
      " |  \n",
      " |  keywords\n",
      " |      dictionary of keyword arguments to future partial calls\n",
      "\n"
     ]
    }
   ],
   "source": [
    "help(partial)"
   ]
  },
  {
   "cell_type": "code",
   "execution_count": 242,
   "metadata": {},
   "outputs": [],
   "source": [
    "#Sortiramo tačke prema udaljenosti od tačke pt\n",
    "pt=(4,3)\n",
    "points.sort(key=partial(distance,pt))"
   ]
  },
  {
   "cell_type": "code",
   "execution_count": 243,
   "metadata": {},
   "outputs": [
    {
     "data": {
      "text/plain": [
       "[(3, 4), (1, 2), (5, 6), (7, 8)]"
      ]
     },
     "execution_count": 243,
     "metadata": {},
     "output_type": "execute_result"
    }
   ],
   "source": [
    "points"
   ]
  },
  {
   "cell_type": "code",
   "execution_count": 272,
   "metadata": {},
   "outputs": [],
   "source": [
    "def apply_async(func, args, *, callback):\n",
    "    #računa rezultat\n",
    "    rezultat =func(*args)\n",
    "    #poziva povratnu funkciju prosleđujući joj rezultat\n",
    "    callback(rezultat)"
   ]
  },
  {
   "cell_type": "code",
   "execution_count": 273,
   "metadata": {},
   "outputs": [],
   "source": [
    "def print_result(rezultat):\n",
    "    print('Imamo rezultat:', rezultat)"
   ]
  },
  {
   "cell_type": "code",
   "execution_count": 274,
   "metadata": {},
   "outputs": [],
   "source": [
    "def multiplicative(x,y):\n",
    "    return x**y"
   ]
  },
  {
   "cell_type": "code",
   "execution_count": 275,
   "metadata": {},
   "outputs": [
    {
     "name": "stdout",
     "output_type": "stream",
     "text": [
      "Imamo rezultat: 256\n"
     ]
    }
   ],
   "source": [
    "apply_async(multiplicative, (2,8), callback=print_result)"
   ]
  },
  {
   "cell_type": "code",
   "execution_count": 276,
   "metadata": {},
   "outputs": [],
   "source": [
    "class ResultHandler:\n",
    "    def __init__(self):\n",
    "        self.sekvenca=0\n",
    "    def handler(self, rezultat):\n",
    "        self.sekvenca +=1\n",
    "        print('[{}] Imamo rezultat: {}'.format(self.sekvenca, rezultat))"
   ]
  },
  {
   "cell_type": "code",
   "execution_count": 277,
   "metadata": {},
   "outputs": [],
   "source": [
    "r=ResultHandler()"
   ]
  },
  {
   "cell_type": "code",
   "execution_count": 280,
   "metadata": {},
   "outputs": [
    {
     "name": "stdout",
     "output_type": "stream",
     "text": [
      "[2] Imamo rezultat: 256\n"
     ]
    }
   ],
   "source": [
    "apply_async(multiplicative, (2,8), callback=r.handler)"
   ]
  },
  {
   "cell_type": "code",
   "execution_count": 281,
   "metadata": {},
   "outputs": [],
   "source": [
    "#Kreiramo povratnu funkciju pomoću generatora i korutina\n",
    "from queue import Queue\n",
    "from functools import wraps"
   ]
  },
  {
   "cell_type": "code",
   "execution_count": 309,
   "metadata": {},
   "outputs": [],
   "source": [
    "from queue import Queue\n",
    "from functools import wraps\n",
    "\n",
    "class Async:\n",
    "    def __init__(self, func, args):\n",
    "        self.func = func\n",
    "        self.args = args\n",
    "    \n",
    "    def inlined_async(func):\n",
    "        @wraps(func)\n",
    "        def wrapper(*args):\n",
    "            f = func(*args)\n",
    "            result_queue = Queue()\n",
    "            result_queue.put(None)\n",
    "            while True:\n",
    "                result = result_queue.get()\n",
    "                try:\n",
    "                    a = f.send(result)\n",
    "                    apply_async(a.func, a.args, callback=result_queue.put)\n",
    "                except StopIteration:\n",
    "                    break\n",
    "        return wrapper"
   ]
  },
  {
   "cell_type": "code",
   "execution_count": 310,
   "metadata": {},
   "outputs": [],
   "source": [
    "def add(x, y):\n",
    "    return x + y\n",
    "\n",
    "@inlined_async\n",
    "def test():\n",
    "    r = yield Async(add, (2, 3))\n",
    "    print(r)\n",
    "    r = yield Async(add, ('hello', 'world'))\n",
    "    print(r)\n",
    "    for n in range(10):\n",
    "        r = yield Async(add, (n, n))\n",
    "        print(r)\n",
    "    print('Goodbye')"
   ]
  },
  {
   "cell_type": "code",
   "execution_count": 312,
   "metadata": {},
   "outputs": [],
   "source": [
    "if __name__ == '__main__':\n",
    "    import multiprocessing\n",
    "    pool = multiprocessing.Pool()\n",
    "    apply_async = pool.apply_async\n",
    "\n",
    "# Run the test function\n",
    "    #test()"
   ]
  },
  {
   "cell_type": "markdown",
   "metadata": {},
   "source": [
    "# Klase"
   ]
  },
  {
   "cell_type": "code",
   "execution_count": 331,
   "metadata": {},
   "outputs": [],
   "source": [
    "class Pair:\n",
    "    def __init__(self, x, y):\n",
    "        self.x=x\n",
    "        self.y=y\n",
    "    def __repr__(self):\n",
    "        return 'Pair({0.x!r}, {0.y!r})'.format(self)\n",
    "    def __str__(self):\n",
    "        return '({0.x!s}, {0.y!s})'.format(self)"
   ]
  },
  {
   "cell_type": "code",
   "execution_count": 332,
   "metadata": {},
   "outputs": [],
   "source": [
    "p=Pair(3,4)"
   ]
  },
  {
   "cell_type": "code",
   "execution_count": 333,
   "metadata": {},
   "outputs": [
    {
     "data": {
      "text/plain": [
       "Pair(3, 4)"
      ]
     },
     "execution_count": 333,
     "metadata": {},
     "output_type": "execute_result"
    }
   ],
   "source": [
    "p"
   ]
  },
  {
   "cell_type": "code",
   "execution_count": 334,
   "metadata": {},
   "outputs": [
    {
     "name": "stdout",
     "output_type": "stream",
     "text": [
      "p is Pair(3, 4)\n"
     ]
    }
   ],
   "source": [
    "print('p is {0!r}'.format(p))"
   ]
  },
  {
   "cell_type": "code",
   "execution_count": 335,
   "metadata": {
    "scrolled": true
   },
   "outputs": [
    {
     "name": "stdout",
     "output_type": "stream",
     "text": [
      "p is (3, 4)\n"
     ]
    }
   ],
   "source": [
    "print('p is {0!s}'.format(p))"
   ]
  },
  {
   "cell_type": "code",
   "execution_count": 341,
   "metadata": {},
   "outputs": [],
   "source": [
    "_formats = {\n",
    "    'ymd' : '{d.year}-{d.month}-{d.day}',\n",
    "    'mdy' : '{d.month}/{d.day}/{d.year}',\n",
    "    'dmy' : '{d.day}/{d.month}/{d.year}',\n",
    "    'ydm' : '{d.year}/{d.day}/{d.month}'\n",
    "    }"
   ]
  },
  {
   "cell_type": "code",
   "execution_count": 342,
   "metadata": {},
   "outputs": [],
   "source": [
    "class Date:\n",
    "    def __init__(self, year, month, day):\n",
    "        self.year=year\n",
    "        self.month = month\n",
    "        self.day=day\n",
    "    def __format__(self, code):\n",
    "        if code=='':\n",
    "            code='ymd'\n",
    "        fmt=_formats[code]\n",
    "        return fmt.format(d=self)"
   ]
  },
  {
   "cell_type": "code",
   "execution_count": 347,
   "metadata": {},
   "outputs": [],
   "source": [
    "d = Date(2020,11,17)"
   ]
  },
  {
   "cell_type": "code",
   "execution_count": 348,
   "metadata": {},
   "outputs": [
    {
     "data": {
      "text/plain": [
       "'2020-11-17'"
      ]
     },
     "execution_count": 348,
     "metadata": {},
     "output_type": "execute_result"
    }
   ],
   "source": [
    "format(d)"
   ]
  },
  {
   "cell_type": "code",
   "execution_count": 349,
   "metadata": {},
   "outputs": [
    {
     "data": {
      "text/plain": [
       "'2020/17/11'"
      ]
     },
     "execution_count": 349,
     "metadata": {},
     "output_type": "execute_result"
    }
   ],
   "source": [
    "format(d, 'ydm')"
   ]
  },
  {
   "cell_type": "code",
   "execution_count": 350,
   "metadata": {},
   "outputs": [
    {
     "data": {
      "text/plain": [
       "17"
      ]
     },
     "execution_count": 350,
     "metadata": {},
     "output_type": "execute_result"
    }
   ],
   "source": [
    "d.day"
   ]
  },
  {
   "cell_type": "code",
   "execution_count": 351,
   "metadata": {},
   "outputs": [],
   "source": [
    "from socket import socket, AF_INET, SOCK_STREAM\n",
    "class LazyConnection:\n",
    "    def __init__(self, address, family=AF_INET, type=SOCK_STREAM):\n",
    "        self.address = address\n",
    "        self.family = AF_INET\n",
    "        self.type = SOCK_STREAM\n",
    "        self.sock = None\n",
    " \n",
    "    \n",
    "    def __enter__(self):\n",
    "        if self.sock is not None:\n",
    "            raise RuntimeError('Already connected')\n",
    "        self.sock = socket(self.family, self.type)\n",
    "        self.sock.connect(self.address)\n",
    "        return self.sock\n",
    "\n",
    "    \n",
    "    def __exit__(self, exc_ty, exc_val, tb):\n",
    "        self.sock.close()\n",
    "        self.sock = None"
   ]
  },
  {
   "cell_type": "code",
   "execution_count": 355,
   "metadata": {},
   "outputs": [],
   "source": [
    "from functools import partial\n",
    "conn = LazyConnection(('www.python.org', 80))\n",
    "# Connection closed\n",
    "\n",
    "\n",
    "with conn as s:\n",
    "    #conn.__enter__()\n",
    "    s.send(b'GET /index.html HTTP/1.0\\r\\n')\n",
    "    s.send(b'Host: www.python.org\\r\\n')\n",
    "    s.send(b'\\r\\n')\n",
    "    resp = b''.join(iter(partial(s.recv, 8192), b''))"
   ]
  },
  {
   "cell_type": "code",
   "execution_count": 356,
   "metadata": {},
   "outputs": [],
   "source": [
    "class Person:\n",
    "    def __init__(self, first_name):\n",
    "        self.first_name = first_name\n",
    "    \n",
    "    # Getter function\n",
    "    @property\n",
    "    def first_name(self):\n",
    "        return self._first_name\n",
    " \n",
    "    # Setter function\n",
    "    @first_name.setter\n",
    "    def first_name(self, value):\n",
    "        if not isinstance(value, str):\n",
    "            raise TypeError('Expected a string')\n",
    "        self._first_name = value\n",
    " \n",
    "    # Deleter function (optional)\n",
    "    @first_name.deleter\n",
    "    def first_name(self):\n",
    "        raise AttributeError(\"Can't delete attribute\")"
   ]
  },
  {
   "cell_type": "code",
   "execution_count": 358,
   "metadata": {},
   "outputs": [
    {
     "data": {
      "text/plain": [
       "'Guido'"
      ]
     },
     "execution_count": 358,
     "metadata": {},
     "output_type": "execute_result"
    }
   ],
   "source": [
    "a = Person('Guido')\n",
    "a.first_name # Calls the getter"
   ]
  },
  {
   "cell_type": "code",
   "execution_count": 359,
   "metadata": {},
   "outputs": [
    {
     "ename": "TypeError",
     "evalue": "Expected a string",
     "output_type": "error",
     "traceback": [
      "\u001b[0;31m---------------------------------------------------------------------------\u001b[0m",
      "\u001b[0;31mTypeError\u001b[0m                                 Traceback (most recent call last)",
      "\u001b[0;32m<ipython-input-359-063b4c95da99>\u001b[0m in \u001b[0;36m<module>\u001b[0;34m\u001b[0m\n\u001b[0;32m----> 1\u001b[0;31m \u001b[0ma\u001b[0m\u001b[0;34m.\u001b[0m\u001b[0mfirst_name\u001b[0m\u001b[0;34m=\u001b[0m\u001b[0;36m42\u001b[0m\u001b[0;34m\u001b[0m\u001b[0;34m\u001b[0m\u001b[0m\n\u001b[0m",
      "\u001b[0;32m<ipython-input-356-20b26e793390>\u001b[0m in \u001b[0;36mfirst_name\u001b[0;34m(self, value)\u001b[0m\n\u001b[1;32m     12\u001b[0m     \u001b[0;32mdef\u001b[0m \u001b[0mfirst_name\u001b[0m\u001b[0;34m(\u001b[0m\u001b[0mself\u001b[0m\u001b[0;34m,\u001b[0m \u001b[0mvalue\u001b[0m\u001b[0;34m)\u001b[0m\u001b[0;34m:\u001b[0m\u001b[0;34m\u001b[0m\u001b[0;34m\u001b[0m\u001b[0m\n\u001b[1;32m     13\u001b[0m         \u001b[0;32mif\u001b[0m \u001b[0;32mnot\u001b[0m \u001b[0misinstance\u001b[0m\u001b[0;34m(\u001b[0m\u001b[0mvalue\u001b[0m\u001b[0;34m,\u001b[0m \u001b[0mstr\u001b[0m\u001b[0;34m)\u001b[0m\u001b[0;34m:\u001b[0m\u001b[0;34m\u001b[0m\u001b[0;34m\u001b[0m\u001b[0m\n\u001b[0;32m---> 14\u001b[0;31m             \u001b[0;32mraise\u001b[0m \u001b[0mTypeError\u001b[0m\u001b[0;34m(\u001b[0m\u001b[0;34m'Expected a string'\u001b[0m\u001b[0;34m)\u001b[0m\u001b[0;34m\u001b[0m\u001b[0;34m\u001b[0m\u001b[0m\n\u001b[0m\u001b[1;32m     15\u001b[0m         \u001b[0mself\u001b[0m\u001b[0;34m.\u001b[0m\u001b[0m_first_name\u001b[0m \u001b[0;34m=\u001b[0m \u001b[0mvalue\u001b[0m\u001b[0;34m\u001b[0m\u001b[0;34m\u001b[0m\u001b[0m\n\u001b[1;32m     16\u001b[0m \u001b[0;34m\u001b[0m\u001b[0m\n",
      "\u001b[0;31mTypeError\u001b[0m: Expected a string"
     ]
    }
   ],
   "source": [
    "a.first_name=42"
   ]
  },
  {
   "cell_type": "code",
   "execution_count": 360,
   "metadata": {},
   "outputs": [],
   "source": [
    "import math"
   ]
  },
  {
   "cell_type": "code",
   "execution_count": 361,
   "metadata": {},
   "outputs": [],
   "source": [
    "class Krug:\n",
    "    def __init__(self, precnik):\n",
    "        self.precnik=precnik\n",
    "    @property\n",
    "    def povrsina(self):\n",
    "        return math.pi*self.precnik ** 2 #r2p\n",
    "    @property\n",
    "    def obim(self):\n",
    "        return 2*self.precnik*math.pi"
   ]
  },
  {
   "cell_type": "code",
   "execution_count": 362,
   "metadata": {},
   "outputs": [],
   "source": [
    "k = Krug (5)"
   ]
  },
  {
   "cell_type": "code",
   "execution_count": 363,
   "metadata": {},
   "outputs": [
    {
     "data": {
      "text/plain": [
       "78.53981633974483"
      ]
     },
     "execution_count": 363,
     "metadata": {},
     "output_type": "execute_result"
    }
   ],
   "source": [
    "k.povrsina"
   ]
  },
  {
   "cell_type": "code",
   "execution_count": 364,
   "metadata": {},
   "outputs": [
    {
     "data": {
      "text/plain": [
       "31.41592653589793"
      ]
     },
     "execution_count": 364,
     "metadata": {},
     "output_type": "execute_result"
    }
   ],
   "source": [
    "k.obim"
   ]
  },
  {
   "cell_type": "code",
   "execution_count": 371,
   "metadata": {},
   "outputs": [],
   "source": [
    "class Krugic:\n",
    "    def __init__(self, precnik):\n",
    "        self.precnik=precnik\n",
    "   \n",
    "    def __povrsina__(self):\n",
    "        return math.pi*self.precnik ** 2 #r2p\n",
    "    \n",
    "    def __obim__(self):\n",
    "        return 2*self.precnik*math.pi"
   ]
  },
  {
   "cell_type": "code",
   "execution_count": 369,
   "metadata": {},
   "outputs": [],
   "source": [
    "l = Krugic(5)"
   ]
  },
  {
   "cell_type": "code",
   "execution_count": 402,
   "metadata": {},
   "outputs": [
    {
     "data": {
      "text/plain": [
       "78.53981633974483"
      ]
     },
     "execution_count": 402,
     "metadata": {},
     "output_type": "execute_result"
    }
   ],
   "source": [
    "l.__povrsina__()"
   ]
  },
  {
   "cell_type": "code",
   "execution_count": 387,
   "metadata": {},
   "outputs": [],
   "source": [
    "class Krugcina:\n",
    "    def __init__(self, precnik):\n",
    "        self.precnik=precnik\n",
    "   \n",
    "    def povrsina(self,precnik):\n",
    "        self.povrsina=math.pi*self.precnik ** 2 #r2p\n",
    "        return self.povrsina\n",
    "    \n",
    "    def obim(self, precnik):\n",
    "        self.obim= 2*self.precnik*math.pi\n",
    "        return self.obim"
   ]
  },
  {
   "cell_type": "code",
   "execution_count": 400,
   "metadata": {},
   "outputs": [],
   "source": [
    "m=Krugcina(5)"
   ]
  },
  {
   "cell_type": "code",
   "execution_count": 397,
   "metadata": {},
   "outputs": [
    {
     "data": {
      "text/plain": [
       "78.53981633974483"
      ]
     },
     "execution_count": 397,
     "metadata": {},
     "output_type": "execute_result"
    }
   ],
   "source": [
    "m.povrsina(5)"
   ]
  },
  {
   "cell_type": "code",
   "execution_count": 398,
   "metadata": {},
   "outputs": [
    {
     "data": {
      "text/plain": [
       "31.41592653589793"
      ]
     },
     "execution_count": 398,
     "metadata": {},
     "output_type": "execute_result"
    }
   ],
   "source": [
    "m.obim(5)"
   ]
  },
  {
   "cell_type": "markdown",
   "metadata": {},
   "source": [
    "Roditelji klasa"
   ]
  },
  {
   "cell_type": "code",
   "execution_count": 403,
   "metadata": {},
   "outputs": [],
   "source": [
    "class A:\n",
    "    def spam(self):\n",
    "        print('A.spam')\n",
    "\n",
    "\n",
    "class B(A):\n",
    "    def spam(self):\n",
    "        print('B.spam')\n",
    "        super().spam() #inicijalizije roditeljsku klasu"
   ]
  },
  {
   "cell_type": "code",
   "execution_count": 404,
   "metadata": {},
   "outputs": [],
   "source": [
    "p = A"
   ]
  },
  {
   "cell_type": "code",
   "execution_count": 411,
   "metadata": {},
   "outputs": [
    {
     "data": {
      "text/plain": [
       "<function __main__.A.spam(self)>"
      ]
     },
     "execution_count": 411,
     "metadata": {},
     "output_type": "execute_result"
    }
   ],
   "source": [
    "A.spam"
   ]
  },
  {
   "cell_type": "code",
   "execution_count": 414,
   "metadata": {},
   "outputs": [
    {
     "name": "stdout",
     "output_type": "stream",
     "text": [
      "A.spam\n"
     ]
    }
   ],
   "source": [
    "p.spam(5)"
   ]
  },
  {
   "cell_type": "code",
   "execution_count": 418,
   "metadata": {},
   "outputs": [],
   "source": [
    "p=B()"
   ]
  },
  {
   "cell_type": "code",
   "execution_count": 420,
   "metadata": {
    "scrolled": true
   },
   "outputs": [
    {
     "name": "stdout",
     "output_type": "stream",
     "text": [
      "B.spam\n",
      "A.spam\n"
     ]
    }
   ],
   "source": [
    "p.spam()"
   ]
  },
  {
   "cell_type": "code",
   "execution_count": 421,
   "metadata": {},
   "outputs": [],
   "source": [
    "class Proxy:\n",
    "    def __init__(self, obj):\n",
    "        self._obj = obj\n",
    "\n",
    "    # Delegate attribute lookup to internal obj\n",
    "    def __getattr__(self, name):\n",
    "        return getattr(self._obj, name)\n",
    " \n",
    "    # Delegate attribute assignment\n",
    "    def __setattr__(self, name, value):\n",
    "        if name.startswith('_'):\n",
    "            super().__setattr__(name, value) # Call original __setattr__\n",
    "        else:\n",
    "            setattr(self._obj, name, value)"
   ]
  },
  {
   "cell_type": "code",
   "execution_count": 448,
   "metadata": {},
   "outputs": [],
   "source": [
    "mica = '__kakaka' 'milojka rade'"
   ]
  },
  {
   "cell_type": "code",
   "execution_count": 458,
   "metadata": {
    "scrolled": true
   },
   "outputs": [],
   "source": [
    "k = Proxy(mica)"
   ]
  },
  {
   "cell_type": "code",
   "execution_count": 459,
   "metadata": {
    "scrolled": true
   },
   "outputs": [
    {
     "ename": "TypeError",
     "evalue": "'Proxy' object is not callable",
     "output_type": "error",
     "traceback": [
      "\u001b[0;31m---------------------------------------------------------------------------\u001b[0m",
      "\u001b[0;31mTypeError\u001b[0m                                 Traceback (most recent call last)",
      "\u001b[0;32m<ipython-input-459-eb423d65edb7>\u001b[0m in \u001b[0;36m<module>\u001b[0;34m\u001b[0m\n\u001b[0;32m----> 1\u001b[0;31m \u001b[0mk\u001b[0m\u001b[0;34m(\u001b[0m\u001b[0mmica\u001b[0m\u001b[0;34m)\u001b[0m\u001b[0;34m\u001b[0m\u001b[0;34m\u001b[0m\u001b[0m\n\u001b[0m",
      "\u001b[0;31mTypeError\u001b[0m: 'Proxy' object is not callable"
     ]
    }
   ],
   "source": [
    "k(mica)"
   ]
  },
  {
   "cell_type": "code",
   "execution_count": 460,
   "metadata": {},
   "outputs": [],
   "source": [
    "class Base:\n",
    "    def __init__(self):\n",
    "        print('Base.__init__')\n",
    "\n",
    "        \n",
    "class A(Base):\n",
    "    def __init__(self):\n",
    "        Base.__init__(self)\n",
    "        print('A.__init__')\n"
   ]
  },
  {
   "cell_type": "code",
   "execution_count": 461,
   "metadata": {},
   "outputs": [],
   "source": [
    "class Base:\n",
    "    def __init__(self):\n",
    "        print('Base.__init__')\n",
    "\n",
    "        \n",
    "class A(Base):\n",
    "    def __init__(self):\n",
    "        Base.__init__(self)\n",
    "        print('A.__init__')\n",
    "\n",
    "        \n",
    "class B(Base):\n",
    "    def __init__(self):\n",
    "        Base.__init__(self)\n",
    "        print('B.__init__')\n",
    "\n",
    "        \n",
    "class C(A,B):\n",
    "    def __init__(self):\n",
    "        A.__init__(self)\n",
    "        B.__init__(self)\n",
    "        print('C.__init__')"
   ]
  },
  {
   "cell_type": "code",
   "execution_count": 462,
   "metadata": {},
   "outputs": [
    {
     "name": "stdout",
     "output_type": "stream",
     "text": [
      "Base.__init__\n",
      "A.__init__\n",
      "Base.__init__\n",
      "B.__init__\n",
      "C.__init__\n"
     ]
    }
   ],
   "source": [
    "c = C()"
   ]
  },
  {
   "cell_type": "code",
   "execution_count": 464,
   "metadata": {},
   "outputs": [],
   "source": [
    "class Base:\n",
    "    def __init__(self):\n",
    "        print('Base.__init__')\n",
    "\n",
    "    \n",
    "class A(Base):\n",
    "    def __init__(self):\n",
    "        super().__init__()\n",
    "        print('A.__init__')\n",
    "\n",
    "        \n",
    "class B(Base):\n",
    "    def __init__(self):\n",
    "        super().__init__()\n",
    "        print('B.__init__')\n",
    "\n",
    "        \n",
    "class C(A,B):\n",
    "    def __init__(self):\n",
    "        super().__init__() # Only one call to super() here\n",
    "        print('C.__init__')"
   ]
  },
  {
   "cell_type": "code",
   "execution_count": 465,
   "metadata": {
    "scrolled": true
   },
   "outputs": [
    {
     "name": "stdout",
     "output_type": "stream",
     "text": [
      "Base.__init__\n",
      "B.__init__\n",
      "A.__init__\n",
      "C.__init__\n"
     ]
    }
   ],
   "source": [
    "#svaka init metoda poziva se samo jednom\n",
    "c = C()"
   ]
  },
  {
   "cell_type": "code",
   "execution_count": 466,
   "metadata": {},
   "outputs": [],
   "source": [
    "class A:\n",
    "    def spam(self):\n",
    "        print('A.spam')\n",
    "        super().spam() #nema roditeljsku klasu pa poziva sledeći super() u B"
   ]
  },
  {
   "cell_type": "code",
   "execution_count": 467,
   "metadata": {},
   "outputs": [
    {
     "name": "stdout",
     "output_type": "stream",
     "text": [
      "A.spam\n",
      "B.spam\n"
     ]
    }
   ],
   "source": [
    "class B:\n",
    "    def spam(self):\n",
    "        print('B.spam')\n",
    "\n",
    "class C(A,B):\n",
    "    pass\n",
    "\n",
    "c = C()\n",
    "c.spam()"
   ]
  },
  {
   "cell_type": "code",
   "execution_count": 468,
   "metadata": {},
   "outputs": [],
   "source": [
    "# Descriptor attribute for an integer type-checked attribute\n",
    "class Integer:\n",
    "    def __init__(self, name):\n",
    "        self.name = name\n",
    "\n",
    "    def __get__(self, instance, cls):\n",
    "        if instance is None:\n",
    "            return self\n",
    "        else:\n",
    "            return instance.__dict__[self.name]\n",
    " \n",
    "    def __set__(self, instance, value):\n",
    "        if not isinstance(value, int):\n",
    "            raise TypeError('Expected an int')\n",
    "        instance.__dict__[self.name] = value\n",
    "\n",
    "    def __delete__(self, instance):\n",
    "        del instance.__dict__[self.name]"
   ]
  },
  {
   "cell_type": "code",
   "execution_count": 469,
   "metadata": {},
   "outputs": [],
   "source": [
    "class Point:\n",
    "    x = Integer('x')\n",
    "    y = Integer('y')\n",
    "    def __init__(self, x, y):\n",
    "        self.x = x\n",
    "        self.y = y"
   ]
  },
  {
   "cell_type": "code",
   "execution_count": 470,
   "metadata": {},
   "outputs": [],
   "source": [
    "p=Point(2,3)"
   ]
  },
  {
   "cell_type": "code",
   "execution_count": 471,
   "metadata": {},
   "outputs": [
    {
     "data": {
      "text/plain": [
       "2"
      ]
     },
     "execution_count": 471,
     "metadata": {},
     "output_type": "execute_result"
    }
   ],
   "source": [
    "p.x"
   ]
  },
  {
   "cell_type": "code",
   "execution_count": 476,
   "metadata": {},
   "outputs": [],
   "source": [
    "class Structure:\n",
    " # Class variable that specifies expected fields\n",
    "    _fields= []\n",
    "    def __init__(self, *args):\n",
    "        if len(args) != len(self._fields):\n",
    "            raise TypeError('Expected {} arguments'.format(len(self._fields)))\n",
    " \n",
    "    # Set the arguments\n",
    "        for name, value in zip(self._fields, args):\n",
    "            setattr(self, name, value)"
   ]
  },
  {
   "cell_type": "code",
   "execution_count": 477,
   "metadata": {},
   "outputs": [],
   "source": [
    "    # Example class definitions\n",
    "    if __name__ == '__main__':\n",
    "        class Stock(Structure):\n",
    "            _fields = ['name', 'shares', 'price']\n",
    " \n",
    "        class Point(Structure):\n",
    "            _fields = ['x','y']\n",
    " \n",
    "        class Circle(Structure):\n",
    "            _fields = ['radius']\n",
    "            def area(self):\n",
    "                return math.pi * self.radius ** 2"
   ]
  },
  {
   "cell_type": "code",
   "execution_count": 479,
   "metadata": {},
   "outputs": [],
   "source": [
    "s = Stock('ACME', 50, 91.1)\n",
    "p = Point(2, 3)\n",
    "c = Circle(4.5)"
   ]
  },
  {
   "cell_type": "code",
   "execution_count": 480,
   "metadata": {},
   "outputs": [
    {
     "ename": "TypeError",
     "evalue": "Expected 3 arguments",
     "output_type": "error",
     "traceback": [
      "\u001b[0;31m---------------------------------------------------------------------------\u001b[0m",
      "\u001b[0;31mTypeError\u001b[0m                                 Traceback (most recent call last)",
      "\u001b[0;32m<ipython-input-480-a7f160771797>\u001b[0m in \u001b[0;36m<module>\u001b[0;34m\u001b[0m\n\u001b[0;32m----> 1\u001b[0;31m \u001b[0ms2\u001b[0m \u001b[0;34m=\u001b[0m \u001b[0mStock\u001b[0m\u001b[0;34m(\u001b[0m\u001b[0;34m'ACME'\u001b[0m\u001b[0;34m,\u001b[0m \u001b[0;36m50\u001b[0m\u001b[0;34m)\u001b[0m\u001b[0;34m\u001b[0m\u001b[0;34m\u001b[0m\u001b[0m\n\u001b[0m",
      "\u001b[0;32m<ipython-input-476-c931b1c3d6c3>\u001b[0m in \u001b[0;36m__init__\u001b[0;34m(self, *args)\u001b[0m\n\u001b[1;32m      4\u001b[0m     \u001b[0;32mdef\u001b[0m \u001b[0m__init__\u001b[0m\u001b[0;34m(\u001b[0m\u001b[0mself\u001b[0m\u001b[0;34m,\u001b[0m \u001b[0;34m*\u001b[0m\u001b[0margs\u001b[0m\u001b[0;34m)\u001b[0m\u001b[0;34m:\u001b[0m\u001b[0;34m\u001b[0m\u001b[0;34m\u001b[0m\u001b[0m\n\u001b[1;32m      5\u001b[0m         \u001b[0;32mif\u001b[0m \u001b[0mlen\u001b[0m\u001b[0;34m(\u001b[0m\u001b[0margs\u001b[0m\u001b[0;34m)\u001b[0m \u001b[0;34m!=\u001b[0m \u001b[0mlen\u001b[0m\u001b[0;34m(\u001b[0m\u001b[0mself\u001b[0m\u001b[0;34m.\u001b[0m\u001b[0m_fields\u001b[0m\u001b[0;34m)\u001b[0m\u001b[0;34m:\u001b[0m\u001b[0;34m\u001b[0m\u001b[0;34m\u001b[0m\u001b[0m\n\u001b[0;32m----> 6\u001b[0;31m             \u001b[0;32mraise\u001b[0m \u001b[0mTypeError\u001b[0m\u001b[0;34m(\u001b[0m\u001b[0;34m'Expected {} arguments'\u001b[0m\u001b[0;34m.\u001b[0m\u001b[0mformat\u001b[0m\u001b[0;34m(\u001b[0m\u001b[0mlen\u001b[0m\u001b[0;34m(\u001b[0m\u001b[0mself\u001b[0m\u001b[0;34m.\u001b[0m\u001b[0m_fields\u001b[0m\u001b[0;34m)\u001b[0m\u001b[0;34m)\u001b[0m\u001b[0;34m)\u001b[0m\u001b[0;34m\u001b[0m\u001b[0;34m\u001b[0m\u001b[0m\n\u001b[0m\u001b[1;32m      7\u001b[0m \u001b[0;34m\u001b[0m\u001b[0m\n\u001b[1;32m      8\u001b[0m     \u001b[0;31m# Set the arguments\u001b[0m\u001b[0;34m\u001b[0m\u001b[0;34m\u001b[0m\u001b[0;34m\u001b[0m\u001b[0m\n",
      "\u001b[0;31mTypeError\u001b[0m: Expected 3 arguments"
     ]
    }
   ],
   "source": [
    "s2 = Stock('ACME', 50)"
   ]
  },
  {
   "cell_type": "code",
   "execution_count": 481,
   "metadata": {},
   "outputs": [],
   "source": [
    "# Base class. Uses a descriptor to set a value\n",
    "class Descriptor:\n",
    "    def __init__(self, name=None, **opts):\n",
    "        self.name = name\n",
    "        for key, value in opts.items():\n",
    "            setattr(self, key, value)\n",
    " \n",
    "\n",
    "    def __set__(self, instance, value):\n",
    "        instance.__dict__[self.name] = value\n",
    "\n",
    "        \n",
    "# Descriptor for enforcing types\n",
    "class Typed(Descriptor):\n",
    "    expected_type = type(None)\n",
    "    def __set__(self, instance, value):\n",
    "        if not isinstance(value, self.expected_type):\n",
    "            raise TypeError('expected ' + str(self.expected_type))\n",
    "        super().__set__(instance, value)\n",
    "\n",
    "        \n",
    "# Descriptor for enforcing values\n",
    "class Unsigned(Descriptor):\n",
    "    def __set__(self, instance, value):\n",
    "        if value < 0:\n",
    "            raise ValueError('Expected >= 0')\n",
    "        super().__set__(instance, value)\n",
    "\n",
    "        \n",
    "class MaxSized(Descriptor):\n",
    "    def __init__(self, name=None, **opts):\n",
    "        if 'size' not in opts:\n",
    "            raise TypeError('missing size option')\n",
    "        super().__init__(name, **opts)\n",
    "\n",
    "    def __set__(self, instance, value):\n",
    "        if len(value) >= self.size:\n",
    "            raise ValueError('size must be < ' + str(self.size))\n",
    "        super().__set__(instance, value)"
   ]
  },
  {
   "cell_type": "code",
   "execution_count": 482,
   "metadata": {},
   "outputs": [],
   "source": [
    "class Integer(Typed):\n",
    "    expected_type = int\n",
    "\n",
    "class UnsignedInteger(Integer, Unsigned):\n",
    "    pass\n",
    "\n",
    "class Float(Typed):\n",
    "    expected_type = float\n",
    "\n",
    "class UnsignedFloat(Float, Unsigned):\n",
    "    pass\n",
    "\n",
    "class String(Typed):\n",
    "    expected_type = str\n",
    "\n",
    "class SizedString(String, MaxSized):\n",
    "    pass"
   ]
  },
  {
   "cell_type": "code",
   "execution_count": 483,
   "metadata": {},
   "outputs": [],
   "source": [
    "class Stock:\n",
    "    # Specify constraints\n",
    "    name = SizedString('name',size=8)\n",
    "    shares = UnsignedInteger('shares')\n",
    "    price = UnsignedFloat('price')\n",
    "    def __init__(self, name, shares, price):\n",
    "        self.name = name\n",
    "        self.shares = shares\n",
    "        self.price = price"
   ]
  },
  {
   "cell_type": "code",
   "execution_count": 484,
   "metadata": {},
   "outputs": [
    {
     "data": {
      "text/plain": [
       "'ACME'"
      ]
     },
     "execution_count": 484,
     "metadata": {},
     "output_type": "execute_result"
    }
   ],
   "source": [
    "s = Stock('ACME', 50, 91.1)\n",
    "s.name"
   ]
  },
  {
   "cell_type": "code",
   "execution_count": 485,
   "metadata": {},
   "outputs": [
    {
     "data": {
      "text/plain": [
       "50"
      ]
     },
     "execution_count": 485,
     "metadata": {},
     "output_type": "execute_result"
    }
   ],
   "source": [
    "s.shares"
   ]
  },
  {
   "cell_type": "code",
   "execution_count": 486,
   "metadata": {},
   "outputs": [
    {
     "data": {
      "text/plain": [
       "91.1"
      ]
     },
     "execution_count": 486,
     "metadata": {},
     "output_type": "execute_result"
    }
   ],
   "source": [
    "s.price"
   ]
  },
  {
   "cell_type": "code",
   "execution_count": 498,
   "metadata": {},
   "outputs": [
    {
     "ename": "TypeError",
     "evalue": "expected <class 'int'>",
     "output_type": "error",
     "traceback": [
      "\u001b[0;31m---------------------------------------------------------------------------\u001b[0m",
      "\u001b[0;31mTypeError\u001b[0m                                 Traceback (most recent call last)",
      "\u001b[0;32m<ipython-input-498-26d6ec24d079>\u001b[0m in \u001b[0;36m<module>\u001b[0;34m\u001b[0m\n\u001b[0;32m----> 1\u001b[0;31m \u001b[0mnamerna_greska\u001b[0m\u001b[0;34m=\u001b[0m\u001b[0mStock\u001b[0m\u001b[0;34m(\u001b[0m\u001b[0;34m'Acme'\u001b[0m\u001b[0;34m,\u001b[0m \u001b[0;36m50.0\u001b[0m\u001b[0;34m,\u001b[0m \u001b[0;36m91.0\u001b[0m\u001b[0;34m)\u001b[0m\u001b[0;34m\u001b[0m\u001b[0;34m\u001b[0m\u001b[0m\n\u001b[0m",
      "\u001b[0;32m<ipython-input-483-1b9f805ff1d4>\u001b[0m in \u001b[0;36m__init__\u001b[0;34m(self, name, shares, price)\u001b[0m\n\u001b[1;32m      6\u001b[0m     \u001b[0;32mdef\u001b[0m \u001b[0m__init__\u001b[0m\u001b[0;34m(\u001b[0m\u001b[0mself\u001b[0m\u001b[0;34m,\u001b[0m \u001b[0mname\u001b[0m\u001b[0;34m,\u001b[0m \u001b[0mshares\u001b[0m\u001b[0;34m,\u001b[0m \u001b[0mprice\u001b[0m\u001b[0;34m)\u001b[0m\u001b[0;34m:\u001b[0m\u001b[0;34m\u001b[0m\u001b[0;34m\u001b[0m\u001b[0m\n\u001b[1;32m      7\u001b[0m         \u001b[0mself\u001b[0m\u001b[0;34m.\u001b[0m\u001b[0mname\u001b[0m \u001b[0;34m=\u001b[0m \u001b[0mname\u001b[0m\u001b[0;34m\u001b[0m\u001b[0;34m\u001b[0m\u001b[0m\n\u001b[0;32m----> 8\u001b[0;31m         \u001b[0mself\u001b[0m\u001b[0;34m.\u001b[0m\u001b[0mshares\u001b[0m \u001b[0;34m=\u001b[0m \u001b[0mshares\u001b[0m\u001b[0;34m\u001b[0m\u001b[0;34m\u001b[0m\u001b[0m\n\u001b[0m\u001b[1;32m      9\u001b[0m         \u001b[0mself\u001b[0m\u001b[0;34m.\u001b[0m\u001b[0mprice\u001b[0m \u001b[0;34m=\u001b[0m \u001b[0mprice\u001b[0m\u001b[0;34m\u001b[0m\u001b[0;34m\u001b[0m\u001b[0m\n",
      "\u001b[0;32m<ipython-input-481-ceae860f1cfa>\u001b[0m in \u001b[0;36m__set__\u001b[0;34m(self, instance, value)\u001b[0m\n\u001b[1;32m     16\u001b[0m     \u001b[0;32mdef\u001b[0m \u001b[0m__set__\u001b[0m\u001b[0;34m(\u001b[0m\u001b[0mself\u001b[0m\u001b[0;34m,\u001b[0m \u001b[0minstance\u001b[0m\u001b[0;34m,\u001b[0m \u001b[0mvalue\u001b[0m\u001b[0;34m)\u001b[0m\u001b[0;34m:\u001b[0m\u001b[0;34m\u001b[0m\u001b[0;34m\u001b[0m\u001b[0m\n\u001b[1;32m     17\u001b[0m         \u001b[0;32mif\u001b[0m \u001b[0;32mnot\u001b[0m \u001b[0misinstance\u001b[0m\u001b[0;34m(\u001b[0m\u001b[0mvalue\u001b[0m\u001b[0;34m,\u001b[0m \u001b[0mself\u001b[0m\u001b[0;34m.\u001b[0m\u001b[0mexpected_type\u001b[0m\u001b[0;34m)\u001b[0m\u001b[0;34m:\u001b[0m\u001b[0;34m\u001b[0m\u001b[0;34m\u001b[0m\u001b[0m\n\u001b[0;32m---> 18\u001b[0;31m             \u001b[0;32mraise\u001b[0m \u001b[0mTypeError\u001b[0m\u001b[0;34m(\u001b[0m\u001b[0;34m'expected '\u001b[0m \u001b[0;34m+\u001b[0m \u001b[0mstr\u001b[0m\u001b[0;34m(\u001b[0m\u001b[0mself\u001b[0m\u001b[0;34m.\u001b[0m\u001b[0mexpected_type\u001b[0m\u001b[0;34m)\u001b[0m\u001b[0;34m)\u001b[0m\u001b[0;34m\u001b[0m\u001b[0;34m\u001b[0m\u001b[0m\n\u001b[0m\u001b[1;32m     19\u001b[0m         \u001b[0msuper\u001b[0m\u001b[0;34m(\u001b[0m\u001b[0;34m)\u001b[0m\u001b[0;34m.\u001b[0m\u001b[0m__set__\u001b[0m\u001b[0;34m(\u001b[0m\u001b[0minstance\u001b[0m\u001b[0;34m,\u001b[0m \u001b[0mvalue\u001b[0m\u001b[0;34m)\u001b[0m\u001b[0;34m\u001b[0m\u001b[0;34m\u001b[0m\u001b[0m\n\u001b[1;32m     20\u001b[0m \u001b[0;34m\u001b[0m\u001b[0m\n",
      "\u001b[0;31mTypeError\u001b[0m: expected <class 'int'>"
     ]
    }
   ],
   "source": [
    "namerna_greska=Stock('Acme', 50.0, 91.0)"
   ]
  },
  {
   "cell_type": "code",
   "execution_count": 497,
   "metadata": {},
   "outputs": [
    {
     "data": {
      "text/plain": [
       "91.0"
      ]
     },
     "execution_count": 497,
     "metadata": {},
     "output_type": "execute_result"
    }
   ],
   "source": [
    "namerna_greska.price"
   ]
  },
  {
   "cell_type": "code",
   "execution_count": 499,
   "metadata": {},
   "outputs": [],
   "source": [
    "#Sve ovo može i putem dekoratera\n",
    "# Class decorator to apply constraints\n",
    "def check_attributes(**kwargs):\n",
    "    def decorate(cls):\n",
    "        for key, value in kwargs.items():\n",
    "            if isinstance(value, Descriptor):\n",
    "                value.name = key\n",
    "                setattr(cls, key, value)\n",
    "            else:\n",
    "                setattr(cls, key, value(key))\n",
    "        return cls\n",
    "    return decorate\n",
    "\n",
    "# Example\n",
    "@check_attributes(name=SizedString(size=8),\n",
    "                    shares=UnsignedInteger,\n",
    "                    price=UnsignedFloat)\n",
    "\n",
    "class Stock:\n",
    "    def __init__(self, name, shares, price):\n",
    "        self.name = name\n",
    "        self.shares = shares\n",
    "        self.price = price"
   ]
  },
  {
   "cell_type": "code",
   "execution_count": 500,
   "metadata": {},
   "outputs": [
    {
     "data": {
      "text/plain": [
       "'ACME'"
      ]
     },
     "execution_count": 500,
     "metadata": {},
     "output_type": "execute_result"
    }
   ],
   "source": [
    "s = Stock('ACME', 50, 91.1)\n",
    "s.name"
   ]
  },
  {
   "cell_type": "code",
   "execution_count": 501,
   "metadata": {
    "scrolled": true
   },
   "outputs": [
    {
     "ename": "TypeError",
     "evalue": "expected <class 'int'>",
     "output_type": "error",
     "traceback": [
      "\u001b[0;31m---------------------------------------------------------------------------\u001b[0m",
      "\u001b[0;31mTypeError\u001b[0m                                 Traceback (most recent call last)",
      "\u001b[0;32m<ipython-input-501-26d6ec24d079>\u001b[0m in \u001b[0;36m<module>\u001b[0;34m\u001b[0m\n\u001b[0;32m----> 1\u001b[0;31m \u001b[0mnamerna_greska\u001b[0m\u001b[0;34m=\u001b[0m\u001b[0mStock\u001b[0m\u001b[0;34m(\u001b[0m\u001b[0;34m'Acme'\u001b[0m\u001b[0;34m,\u001b[0m \u001b[0;36m50.0\u001b[0m\u001b[0;34m,\u001b[0m \u001b[0;36m91.0\u001b[0m\u001b[0;34m)\u001b[0m\u001b[0;34m\u001b[0m\u001b[0;34m\u001b[0m\u001b[0m\n\u001b[0m",
      "\u001b[0;32m<ipython-input-499-f0e04de91a5b>\u001b[0m in \u001b[0;36m__init__\u001b[0;34m(self, name, shares, price)\u001b[0m\n\u001b[1;32m     20\u001b[0m     \u001b[0;32mdef\u001b[0m \u001b[0m__init__\u001b[0m\u001b[0;34m(\u001b[0m\u001b[0mself\u001b[0m\u001b[0;34m,\u001b[0m \u001b[0mname\u001b[0m\u001b[0;34m,\u001b[0m \u001b[0mshares\u001b[0m\u001b[0;34m,\u001b[0m \u001b[0mprice\u001b[0m\u001b[0;34m)\u001b[0m\u001b[0;34m:\u001b[0m\u001b[0;34m\u001b[0m\u001b[0;34m\u001b[0m\u001b[0m\n\u001b[1;32m     21\u001b[0m         \u001b[0mself\u001b[0m\u001b[0;34m.\u001b[0m\u001b[0mname\u001b[0m \u001b[0;34m=\u001b[0m \u001b[0mname\u001b[0m\u001b[0;34m\u001b[0m\u001b[0;34m\u001b[0m\u001b[0m\n\u001b[0;32m---> 22\u001b[0;31m         \u001b[0mself\u001b[0m\u001b[0;34m.\u001b[0m\u001b[0mshares\u001b[0m \u001b[0;34m=\u001b[0m \u001b[0mshares\u001b[0m\u001b[0;34m\u001b[0m\u001b[0;34m\u001b[0m\u001b[0m\n\u001b[0m\u001b[1;32m     23\u001b[0m         \u001b[0mself\u001b[0m\u001b[0;34m.\u001b[0m\u001b[0mprice\u001b[0m \u001b[0;34m=\u001b[0m \u001b[0mprice\u001b[0m\u001b[0;34m\u001b[0m\u001b[0;34m\u001b[0m\u001b[0m\n",
      "\u001b[0;32m<ipython-input-481-ceae860f1cfa>\u001b[0m in \u001b[0;36m__set__\u001b[0;34m(self, instance, value)\u001b[0m\n\u001b[1;32m     16\u001b[0m     \u001b[0;32mdef\u001b[0m \u001b[0m__set__\u001b[0m\u001b[0;34m(\u001b[0m\u001b[0mself\u001b[0m\u001b[0;34m,\u001b[0m \u001b[0minstance\u001b[0m\u001b[0;34m,\u001b[0m \u001b[0mvalue\u001b[0m\u001b[0;34m)\u001b[0m\u001b[0;34m:\u001b[0m\u001b[0;34m\u001b[0m\u001b[0;34m\u001b[0m\u001b[0m\n\u001b[1;32m     17\u001b[0m         \u001b[0;32mif\u001b[0m \u001b[0;32mnot\u001b[0m \u001b[0misinstance\u001b[0m\u001b[0;34m(\u001b[0m\u001b[0mvalue\u001b[0m\u001b[0;34m,\u001b[0m \u001b[0mself\u001b[0m\u001b[0;34m.\u001b[0m\u001b[0mexpected_type\u001b[0m\u001b[0;34m)\u001b[0m\u001b[0;34m:\u001b[0m\u001b[0;34m\u001b[0m\u001b[0;34m\u001b[0m\u001b[0m\n\u001b[0;32m---> 18\u001b[0;31m             \u001b[0;32mraise\u001b[0m \u001b[0mTypeError\u001b[0m\u001b[0;34m(\u001b[0m\u001b[0;34m'expected '\u001b[0m \u001b[0;34m+\u001b[0m \u001b[0mstr\u001b[0m\u001b[0;34m(\u001b[0m\u001b[0mself\u001b[0m\u001b[0;34m.\u001b[0m\u001b[0mexpected_type\u001b[0m\u001b[0;34m)\u001b[0m\u001b[0;34m)\u001b[0m\u001b[0;34m\u001b[0m\u001b[0;34m\u001b[0m\u001b[0m\n\u001b[0m\u001b[1;32m     19\u001b[0m         \u001b[0msuper\u001b[0m\u001b[0;34m(\u001b[0m\u001b[0;34m)\u001b[0m\u001b[0;34m.\u001b[0m\u001b[0m__set__\u001b[0m\u001b[0;34m(\u001b[0m\u001b[0minstance\u001b[0m\u001b[0;34m,\u001b[0m \u001b[0mvalue\u001b[0m\u001b[0;34m)\u001b[0m\u001b[0;34m\u001b[0m\u001b[0;34m\u001b[0m\u001b[0m\n\u001b[1;32m     20\u001b[0m \u001b[0;34m\u001b[0m\u001b[0m\n",
      "\u001b[0;31mTypeError\u001b[0m: expected <class 'int'>"
     ]
    }
   ],
   "source": [
    "namerna_greska=Stock('Acme', 50.0, 91.0)"
   ]
  },
  {
   "cell_type": "code",
   "execution_count": 502,
   "metadata": {},
   "outputs": [],
   "source": [
    "#Definisanje više konstuktora u klasi (više načina na koje možemo da kreiramo objekt određene klase)\n",
    "import time\n",
    "\n",
    "class Date:\n",
    "    # Primary constructor\n",
    "    def __init__(self, year, month, day):\n",
    "        self.year = year\n",
    "        self.month = month\n",
    "        self.day = day\n",
    " \n",
    "    # Alternate constructor\n",
    "    @classmethod\n",
    "    def today(cls):\n",
    "        t = time.localtime()\n",
    "        return cls(t.tm_year, t.tm_mon, t.tm_mday)"
   ]
  },
  {
   "cell_type": "code",
   "execution_count": 503,
   "metadata": {},
   "outputs": [],
   "source": [
    "datum = Date(2020,11,17)"
   ]
  },
  {
   "cell_type": "code",
   "execution_count": 504,
   "metadata": {},
   "outputs": [
    {
     "data": {
      "text/plain": [
       "2020"
      ]
     },
     "execution_count": 504,
     "metadata": {},
     "output_type": "execute_result"
    }
   ],
   "source": [
    "datum.year"
   ]
  },
  {
   "cell_type": "code",
   "execution_count": 508,
   "metadata": {},
   "outputs": [],
   "source": [
    "datumcic = Date.today()"
   ]
  },
  {
   "cell_type": "code",
   "execution_count": 509,
   "metadata": {},
   "outputs": [
    {
     "data": {
      "text/plain": [
       "17"
      ]
     },
     "execution_count": 509,
     "metadata": {},
     "output_type": "execute_result"
    }
   ],
   "source": [
    "datumcic.day"
   ]
  },
  {
   "cell_type": "code",
   "execution_count": 510,
   "metadata": {},
   "outputs": [],
   "source": [
    "class Connection:\n",
    "    def __init__(self):\n",
    "        self.state = 'CLOSED'\n",
    " \n",
    "    def read(self):\n",
    "        if self.state != 'OPEN':\n",
    "            raise RuntimeError('Not open')\n",
    "        print('reading')\n",
    " \n",
    "    def write(self, data):\n",
    "        if self.state != 'OPEN':\n",
    "            raise RuntimeError('Not open')\n",
    "        print('writing')\n",
    " \n",
    "    def open(self):\n",
    "        if self.state == 'OPEN':\n",
    "            raise RuntimeError('Already open')\n",
    "        self.state = 'OPEN'\n",
    " \n",
    "    def close(self):\n",
    "        if self.state == 'CLOSED':\n",
    "            raise RuntimeError('Already closed')\n",
    "        self.state = 'CLOSED'"
   ]
  },
  {
   "cell_type": "code",
   "execution_count": 511,
   "metadata": {},
   "outputs": [],
   "source": [
    "class Connection:\n",
    "    def __init__(self):\n",
    "        self.new_state(ClosedConnectionState)\n",
    " \n",
    "    def new_state(self, newstate):\n",
    "        self._state = newstate\n",
    " \n",
    "    # Delegate to the state class\n",
    "    def read(self):\n",
    "        return self._state.read(self)\n",
    " \n",
    "    def write(self, data):\n",
    "        return self._state.write(self, data)\n",
    " \n",
    "    def open(self):\n",
    "        return self._state.open(self)\n",
    "    \n",
    "    def close(self):\n",
    "        return self._state.close(self)\n",
    "\n",
    "    \n",
    "# Connection state base class\n",
    "class ConnectionState:\n",
    "    @staticmethod #Convert a function to be a static method. \n",
    "    #A static method does not receive an implicit first argument.\n",
    "    def read(conn):\n",
    "        raise NotImplementedError()\n",
    " \n",
    "    @staticmethod\n",
    "    def write(conn, data):\n",
    "        raise NotImplementedError()\n",
    " \n",
    "    @staticmethod\n",
    "    def open(conn):\n",
    "        raise NotImplementedError()\n",
    " \n",
    "    @staticmethod\n",
    "    def close(conn):\n",
    "        raise NotImplementedError()\n",
    "\n",
    "        \n",
    "# Implementation of different states\n",
    "class ClosedConnectionState(ConnectionState):\n",
    "    @staticmethod\n",
    "    def read(conn):\n",
    "        raise RuntimeError('Not open')\n",
    " \n",
    "    @staticmethod\n",
    "    def write(conn, data):\n",
    "        raise RuntimeError('Not open')\n",
    "\n",
    "    @staticmethod\n",
    "    def open(conn):\n",
    "        conn.new_state(OpenConnectionState)\n",
    " \n",
    "    @staticmethod\n",
    "    def close(conn):\n",
    "        raise RuntimeError('Already closed')\n",
    "\n",
    "\n",
    "class OpenConnectionState(ConnectionState):\n",
    "    @staticmethod\n",
    "    def read(conn):\n",
    "        print('reading')\n",
    " \n",
    "    @staticmethod\n",
    "    def write(conn, data):\n",
    "        print('writing')\n",
    " \n",
    "    @staticmethod\n",
    "    def open(conn):\n",
    "        raise RuntimeError('Already open')\n",
    " \n",
    "    @staticmethod\n",
    "    def close(conn):\n",
    "        conn.new_state(ClosedConnectionState)"
   ]
  },
  {
   "cell_type": "code",
   "execution_count": 512,
   "metadata": {},
   "outputs": [],
   "source": [
    "c = Connection()\n"
   ]
  },
  {
   "cell_type": "code",
   "execution_count": 513,
   "metadata": {},
   "outputs": [
    {
     "data": {
      "text/plain": [
       "__main__.ClosedConnectionState"
      ]
     },
     "execution_count": 513,
     "metadata": {},
     "output_type": "execute_result"
    }
   ],
   "source": [
    "c._state"
   ]
  },
  {
   "cell_type": "code",
   "execution_count": 514,
   "metadata": {},
   "outputs": [
    {
     "ename": "RuntimeError",
     "evalue": "Not open",
     "output_type": "error",
     "traceback": [
      "\u001b[0;31m---------------------------------------------------------------------------\u001b[0m",
      "\u001b[0;31mRuntimeError\u001b[0m                              Traceback (most recent call last)",
      "\u001b[0;32m<ipython-input-514-aaae037ddc31>\u001b[0m in \u001b[0;36m<module>\u001b[0;34m\u001b[0m\n\u001b[0;32m----> 1\u001b[0;31m \u001b[0mc\u001b[0m\u001b[0;34m.\u001b[0m\u001b[0mread\u001b[0m\u001b[0;34m(\u001b[0m\u001b[0;34m)\u001b[0m\u001b[0;34m\u001b[0m\u001b[0;34m\u001b[0m\u001b[0m\n\u001b[0m",
      "\u001b[0;32m<ipython-input-511-ed67ae66e174>\u001b[0m in \u001b[0;36mread\u001b[0;34m(self)\u001b[0m\n\u001b[1;32m      8\u001b[0m     \u001b[0;31m# Delegate to the state class\u001b[0m\u001b[0;34m\u001b[0m\u001b[0;34m\u001b[0m\u001b[0;34m\u001b[0m\u001b[0m\n\u001b[1;32m      9\u001b[0m     \u001b[0;32mdef\u001b[0m \u001b[0mread\u001b[0m\u001b[0;34m(\u001b[0m\u001b[0mself\u001b[0m\u001b[0;34m)\u001b[0m\u001b[0;34m:\u001b[0m\u001b[0;34m\u001b[0m\u001b[0;34m\u001b[0m\u001b[0m\n\u001b[0;32m---> 10\u001b[0;31m         \u001b[0;32mreturn\u001b[0m \u001b[0mself\u001b[0m\u001b[0;34m.\u001b[0m\u001b[0m_state\u001b[0m\u001b[0;34m.\u001b[0m\u001b[0mread\u001b[0m\u001b[0;34m(\u001b[0m\u001b[0mself\u001b[0m\u001b[0;34m)\u001b[0m\u001b[0;34m\u001b[0m\u001b[0;34m\u001b[0m\u001b[0m\n\u001b[0m\u001b[1;32m     11\u001b[0m \u001b[0;34m\u001b[0m\u001b[0m\n\u001b[1;32m     12\u001b[0m     \u001b[0;32mdef\u001b[0m \u001b[0mwrite\u001b[0m\u001b[0;34m(\u001b[0m\u001b[0mself\u001b[0m\u001b[0;34m,\u001b[0m \u001b[0mdata\u001b[0m\u001b[0;34m)\u001b[0m\u001b[0;34m:\u001b[0m\u001b[0;34m\u001b[0m\u001b[0;34m\u001b[0m\u001b[0m\n",
      "\u001b[0;32m<ipython-input-511-ed67ae66e174>\u001b[0m in \u001b[0;36mread\u001b[0;34m(conn)\u001b[0m\n\u001b[1;32m     43\u001b[0m     \u001b[0;34m@\u001b[0m\u001b[0mstaticmethod\u001b[0m\u001b[0;34m\u001b[0m\u001b[0;34m\u001b[0m\u001b[0m\n\u001b[1;32m     44\u001b[0m     \u001b[0;32mdef\u001b[0m \u001b[0mread\u001b[0m\u001b[0;34m(\u001b[0m\u001b[0mconn\u001b[0m\u001b[0;34m)\u001b[0m\u001b[0;34m:\u001b[0m\u001b[0;34m\u001b[0m\u001b[0;34m\u001b[0m\u001b[0m\n\u001b[0;32m---> 45\u001b[0;31m         \u001b[0;32mraise\u001b[0m \u001b[0mRuntimeError\u001b[0m\u001b[0;34m(\u001b[0m\u001b[0;34m'Not open'\u001b[0m\u001b[0;34m)\u001b[0m\u001b[0;34m\u001b[0m\u001b[0;34m\u001b[0m\u001b[0m\n\u001b[0m\u001b[1;32m     46\u001b[0m \u001b[0;34m\u001b[0m\u001b[0m\n\u001b[1;32m     47\u001b[0m     \u001b[0;34m@\u001b[0m\u001b[0mstaticmethod\u001b[0m\u001b[0;34m\u001b[0m\u001b[0;34m\u001b[0m\u001b[0m\n",
      "\u001b[0;31mRuntimeError\u001b[0m: Not open"
     ]
    }
   ],
   "source": [
    "c.read()"
   ]
  },
  {
   "cell_type": "code",
   "execution_count": 515,
   "metadata": {},
   "outputs": [],
   "source": [
    "c.open()"
   ]
  },
  {
   "cell_type": "code",
   "execution_count": 516,
   "metadata": {},
   "outputs": [
    {
     "data": {
      "text/plain": [
       "__main__.OpenConnectionState"
      ]
     },
     "execution_count": 516,
     "metadata": {},
     "output_type": "execute_result"
    }
   ],
   "source": [
    "c._state"
   ]
  },
  {
   "cell_type": "code",
   "execution_count": 517,
   "metadata": {},
   "outputs": [
    {
     "ename": "RuntimeError",
     "evalue": "Already open",
     "output_type": "error",
     "traceback": [
      "\u001b[0;31m---------------------------------------------------------------------------\u001b[0m",
      "\u001b[0;31mRuntimeError\u001b[0m                              Traceback (most recent call last)",
      "\u001b[0;32m<ipython-input-517-7085a47c7e0b>\u001b[0m in \u001b[0;36m<module>\u001b[0;34m\u001b[0m\n\u001b[0;32m----> 1\u001b[0;31m \u001b[0mc\u001b[0m\u001b[0;34m.\u001b[0m\u001b[0mopen\u001b[0m\u001b[0;34m(\u001b[0m\u001b[0;34m)\u001b[0m\u001b[0;34m\u001b[0m\u001b[0;34m\u001b[0m\u001b[0m\n\u001b[0m",
      "\u001b[0;32m<ipython-input-511-ed67ae66e174>\u001b[0m in \u001b[0;36mopen\u001b[0;34m(self)\u001b[0m\n\u001b[1;32m     14\u001b[0m \u001b[0;34m\u001b[0m\u001b[0m\n\u001b[1;32m     15\u001b[0m     \u001b[0;32mdef\u001b[0m \u001b[0mopen\u001b[0m\u001b[0;34m(\u001b[0m\u001b[0mself\u001b[0m\u001b[0;34m)\u001b[0m\u001b[0;34m:\u001b[0m\u001b[0;34m\u001b[0m\u001b[0;34m\u001b[0m\u001b[0m\n\u001b[0;32m---> 16\u001b[0;31m         \u001b[0;32mreturn\u001b[0m \u001b[0mself\u001b[0m\u001b[0;34m.\u001b[0m\u001b[0m_state\u001b[0m\u001b[0;34m.\u001b[0m\u001b[0mopen\u001b[0m\u001b[0;34m(\u001b[0m\u001b[0mself\u001b[0m\u001b[0;34m)\u001b[0m\u001b[0;34m\u001b[0m\u001b[0;34m\u001b[0m\u001b[0m\n\u001b[0m\u001b[1;32m     17\u001b[0m \u001b[0;34m\u001b[0m\u001b[0m\n\u001b[1;32m     18\u001b[0m     \u001b[0;32mdef\u001b[0m \u001b[0mclose\u001b[0m\u001b[0;34m(\u001b[0m\u001b[0mself\u001b[0m\u001b[0;34m)\u001b[0m\u001b[0;34m:\u001b[0m\u001b[0;34m\u001b[0m\u001b[0;34m\u001b[0m\u001b[0m\n",
      "\u001b[0;32m<ipython-input-511-ed67ae66e174>\u001b[0m in \u001b[0;36mopen\u001b[0;34m(conn)\u001b[0m\n\u001b[1;32m     69\u001b[0m     \u001b[0;34m@\u001b[0m\u001b[0mstaticmethod\u001b[0m\u001b[0;34m\u001b[0m\u001b[0;34m\u001b[0m\u001b[0m\n\u001b[1;32m     70\u001b[0m     \u001b[0;32mdef\u001b[0m \u001b[0mopen\u001b[0m\u001b[0;34m(\u001b[0m\u001b[0mconn\u001b[0m\u001b[0;34m)\u001b[0m\u001b[0;34m:\u001b[0m\u001b[0;34m\u001b[0m\u001b[0;34m\u001b[0m\u001b[0m\n\u001b[0;32m---> 71\u001b[0;31m         \u001b[0;32mraise\u001b[0m \u001b[0mRuntimeError\u001b[0m\u001b[0;34m(\u001b[0m\u001b[0;34m'Already open'\u001b[0m\u001b[0;34m)\u001b[0m\u001b[0;34m\u001b[0m\u001b[0;34m\u001b[0m\u001b[0m\n\u001b[0m\u001b[1;32m     72\u001b[0m \u001b[0;34m\u001b[0m\u001b[0m\n\u001b[1;32m     73\u001b[0m     \u001b[0;34m@\u001b[0m\u001b[0mstaticmethod\u001b[0m\u001b[0;34m\u001b[0m\u001b[0;34m\u001b[0m\u001b[0m\n",
      "\u001b[0;31mRuntimeError\u001b[0m: Already open"
     ]
    }
   ],
   "source": [
    "c.open()"
   ]
  },
  {
   "cell_type": "code",
   "execution_count": 518,
   "metadata": {},
   "outputs": [],
   "source": [
    "c.close()"
   ]
  },
  {
   "cell_type": "code",
   "execution_count": 519,
   "metadata": {},
   "outputs": [],
   "source": [
    "c.open()"
   ]
  },
  {
   "cell_type": "code",
   "execution_count": 520,
   "metadata": {},
   "outputs": [
    {
     "data": {
      "text/plain": [
       "__main__.OpenConnectionState"
      ]
     },
     "execution_count": 520,
     "metadata": {},
     "output_type": "execute_result"
    }
   ],
   "source": [
    "c._state"
   ]
  },
  {
   "cell_type": "code",
   "execution_count": 521,
   "metadata": {
    "scrolled": true
   },
   "outputs": [
    {
     "name": "stdout",
     "output_type": "stream",
     "text": [
      "writing\n"
     ]
    }
   ],
   "source": [
    "c.write('vita')"
   ]
  },
  {
   "cell_type": "code",
   "execution_count": 522,
   "metadata": {},
   "outputs": [
    {
     "name": "stdout",
     "output_type": "stream",
     "text": [
      "reading\n"
     ]
    }
   ],
   "source": [
    "c.read()"
   ]
  },
  {
   "cell_type": "code",
   "execution_count": 523,
   "metadata": {},
   "outputs": [],
   "source": [
    "c.close()"
   ]
  },
  {
   "cell_type": "code",
   "execution_count": 524,
   "metadata": {},
   "outputs": [
    {
     "ename": "RuntimeError",
     "evalue": "Not open",
     "output_type": "error",
     "traceback": [
      "\u001b[0;31m---------------------------------------------------------------------------\u001b[0m",
      "\u001b[0;31mRuntimeError\u001b[0m                              Traceback (most recent call last)",
      "\u001b[0;32m<ipython-input-524-aaae037ddc31>\u001b[0m in \u001b[0;36m<module>\u001b[0;34m\u001b[0m\n\u001b[0;32m----> 1\u001b[0;31m \u001b[0mc\u001b[0m\u001b[0;34m.\u001b[0m\u001b[0mread\u001b[0m\u001b[0;34m(\u001b[0m\u001b[0;34m)\u001b[0m\u001b[0;34m\u001b[0m\u001b[0;34m\u001b[0m\u001b[0m\n\u001b[0m",
      "\u001b[0;32m<ipython-input-511-ed67ae66e174>\u001b[0m in \u001b[0;36mread\u001b[0;34m(self)\u001b[0m\n\u001b[1;32m      8\u001b[0m     \u001b[0;31m# Delegate to the state class\u001b[0m\u001b[0;34m\u001b[0m\u001b[0;34m\u001b[0m\u001b[0;34m\u001b[0m\u001b[0m\n\u001b[1;32m      9\u001b[0m     \u001b[0;32mdef\u001b[0m \u001b[0mread\u001b[0m\u001b[0;34m(\u001b[0m\u001b[0mself\u001b[0m\u001b[0;34m)\u001b[0m\u001b[0;34m:\u001b[0m\u001b[0;34m\u001b[0m\u001b[0;34m\u001b[0m\u001b[0m\n\u001b[0;32m---> 10\u001b[0;31m         \u001b[0;32mreturn\u001b[0m \u001b[0mself\u001b[0m\u001b[0;34m.\u001b[0m\u001b[0m_state\u001b[0m\u001b[0;34m.\u001b[0m\u001b[0mread\u001b[0m\u001b[0;34m(\u001b[0m\u001b[0mself\u001b[0m\u001b[0;34m)\u001b[0m\u001b[0;34m\u001b[0m\u001b[0;34m\u001b[0m\u001b[0m\n\u001b[0m\u001b[1;32m     11\u001b[0m \u001b[0;34m\u001b[0m\u001b[0m\n\u001b[1;32m     12\u001b[0m     \u001b[0;32mdef\u001b[0m \u001b[0mwrite\u001b[0m\u001b[0;34m(\u001b[0m\u001b[0mself\u001b[0m\u001b[0;34m,\u001b[0m \u001b[0mdata\u001b[0m\u001b[0;34m)\u001b[0m\u001b[0;34m:\u001b[0m\u001b[0;34m\u001b[0m\u001b[0;34m\u001b[0m\u001b[0m\n",
      "\u001b[0;32m<ipython-input-511-ed67ae66e174>\u001b[0m in \u001b[0;36mread\u001b[0;34m(conn)\u001b[0m\n\u001b[1;32m     43\u001b[0m     \u001b[0;34m@\u001b[0m\u001b[0mstaticmethod\u001b[0m\u001b[0;34m\u001b[0m\u001b[0;34m\u001b[0m\u001b[0m\n\u001b[1;32m     44\u001b[0m     \u001b[0;32mdef\u001b[0m \u001b[0mread\u001b[0m\u001b[0;34m(\u001b[0m\u001b[0mconn\u001b[0m\u001b[0;34m)\u001b[0m\u001b[0;34m:\u001b[0m\u001b[0;34m\u001b[0m\u001b[0;34m\u001b[0m\u001b[0m\n\u001b[0;32m---> 45\u001b[0;31m         \u001b[0;32mraise\u001b[0m \u001b[0mRuntimeError\u001b[0m\u001b[0;34m(\u001b[0m\u001b[0;34m'Not open'\u001b[0m\u001b[0;34m)\u001b[0m\u001b[0;34m\u001b[0m\u001b[0;34m\u001b[0m\u001b[0m\n\u001b[0m\u001b[1;32m     46\u001b[0m \u001b[0;34m\u001b[0m\u001b[0m\n\u001b[1;32m     47\u001b[0m     \u001b[0;34m@\u001b[0m\u001b[0mstaticmethod\u001b[0m\u001b[0;34m\u001b[0m\u001b[0;34m\u001b[0m\u001b[0m\n",
      "\u001b[0;31mRuntimeError\u001b[0m: Not open"
     ]
    }
   ],
   "source": [
    "c.read()"
   ]
  },
  {
   "cell_type": "code",
   "execution_count": 525,
   "metadata": {},
   "outputs": [],
   "source": [
    "\n",
    "import math\n",
    "\n",
    "class Point:\n",
    "    def __init__(self, x, y):\n",
    "        self.x = x\n",
    "        self.y = y\n",
    " \n",
    "    def __repr__(self):\n",
    "        return 'Point({!r:},{!r:})'.format(self.x, self.y)\n",
    " \n",
    "    def distance(self, x, y):\n",
    "        return math.hypot(self.x - x, self.y - y)\n",
    "\n"
   ]
  },
  {
   "cell_type": "code",
   "execution_count": 533,
   "metadata": {},
   "outputs": [],
   "source": [
    "p = Point(2, 3)\n",
    "d = getattr(p, 'distance')(0, 0) # Calls p.distance(0, 0)"
   ]
  },
  {
   "cell_type": "code",
   "execution_count": 535,
   "metadata": {},
   "outputs": [
    {
     "data": {
      "text/plain": [
       "3.6055512754639896"
      ]
     },
     "execution_count": 535,
     "metadata": {},
     "output_type": "execute_result"
    }
   ],
   "source": [
    "d"
   ]
  },
  {
   "cell_type": "code",
   "execution_count": 534,
   "metadata": {},
   "outputs": [
    {
     "data": {
      "text/plain": [
       "3.6055512754639896"
      ]
     },
     "execution_count": 534,
     "metadata": {},
     "output_type": "execute_result"
    }
   ],
   "source": [
    "p.distance(0,0)"
   ]
  },
  {
   "cell_type": "code",
   "execution_count": 538,
   "metadata": {},
   "outputs": [],
   "source": [
    "import operator\n",
    "operator.methodcaller('distance', 0, 0)(p)\n",
    "\n",
    "points = [\n",
    "    Point(1, 2),\n",
    "    Point(3, 0),\n",
    "    Point(10, -3),\n",
    "    Point(-5, -7),\n",
    "    Point(-1, 8),\n",
    "    Point(3, 2)\n",
    "]\n",
    "\n",
    "# Sort by distance from origin (0, 0)\n",
    "points.sort(key=operator.methodcaller('distance', 0, 0))"
   ]
  },
  {
   "cell_type": "code",
   "execution_count": 539,
   "metadata": {},
   "outputs": [
    {
     "data": {
      "text/plain": [
       "[Point(1,2), Point(3,0), Point(3,2), Point(-1,8), Point(-5,-7), Point(10,-3)]"
      ]
     },
     "execution_count": 539,
     "metadata": {},
     "output_type": "execute_result"
    }
   ],
   "source": [
    "points"
   ]
  },
  {
   "cell_type": "code",
   "execution_count": 537,
   "metadata": {},
   "outputs": [
    {
     "data": {
      "text/plain": [
       "3.6055512754639896"
      ]
     },
     "execution_count": 537,
     "metadata": {},
     "output_type": "execute_result"
    }
   ],
   "source": [
    "p = Point(2, 3)\n",
    "d = operator.methodcaller('distance', 0, 0)\n",
    "d(p)"
   ]
  },
  {
   "cell_type": "markdown",
   "metadata": {},
   "source": [
    "Obrazac vizitora"
   ]
  },
  {
   "cell_type": "code",
   "execution_count": 540,
   "metadata": {},
   "outputs": [],
   "source": [
    "class Node:\n",
    "    pass\n",
    "\n",
    "class UnaryOperator(Node):\n",
    "    def __init__(self, operand):\n",
    "        self.operand = operand\n",
    "\n",
    "class BinaryOperator(Node):\n",
    "    def __init__(self, left, right):\n",
    "        self.left = left\n",
    "        self.right = right\n",
    "\n",
    "class Add(BinaryOperator):\n",
    "    pass\n",
    "\n",
    "class Sub(BinaryOperator):\n",
    "    pass\n",
    "\n",
    "class Mul(BinaryOperator):\n",
    "    pass\n",
    "\n",
    "class Div(BinaryOperator):\n",
    "    pass\n",
    "\n",
    "class Negate(UnaryOperator):\n",
    "    pass\n",
    "\n",
    "class Number(Node):\n",
    "    def __init__(self, value):\n",
    "        self.value = value"
   ]
  },
  {
   "cell_type": "code",
   "execution_count": 541,
   "metadata": {},
   "outputs": [],
   "source": [
    "# Representation of 1 + 2 * (3 - 4) / 5\n",
    "t1 = Sub(Number(3), Number(4))\n",
    "t2 = Mul(Number(2), t1)\n",
    "t3 = Div(t2, Number(5))\n",
    "t4 = Add(Number(1), t3)"
   ]
  },
  {
   "cell_type": "code",
   "execution_count": 547,
   "metadata": {},
   "outputs": [
    {
     "data": {
      "text/plain": [
       "0.6"
      ]
     },
     "execution_count": 547,
     "metadata": {},
     "output_type": "execute_result"
    }
   ],
   "source": [
    "1+2*(3-4)/5"
   ]
  },
  {
   "cell_type": "code",
   "execution_count": 542,
   "metadata": {},
   "outputs": [],
   "source": [
    "class NodeVisitor:\n",
    "    def visit(self, node):\n",
    "        methname = 'visit_' + type(node).__name__\n",
    "        meth = getattr(self, methname, None)\n",
    "        if meth is None:\n",
    "            meth = self.generic_visit\n",
    "        return meth(node)\n",
    " \n",
    "\n",
    "    def generic_visit(self, node):\n",
    "        raise RuntimeError('No {} method'.format('visit_' + type(node).__name__))"
   ]
  },
  {
   "cell_type": "code",
   "execution_count": 544,
   "metadata": {},
   "outputs": [],
   "source": [
    "class Evaluator(NodeVisitor):\n",
    "    def visit_Number(self, node):\n",
    "        return node.value\n",
    " \n",
    "    def visit_Add(self, node):\n",
    "        return self.visit(node.left) + self.visit(node.right)\n",
    " \n",
    "    def visit_Sub(self, node):\n",
    "        return self.visit(node.left) - self.visit(node.right)\n",
    " \n",
    "    def visit_Mul(self, node):\n",
    "        return self.visit(node.left) * self.visit(node.right)\n",
    " \n",
    "    def visit_Div(self, node):\n",
    "        return self.visit(node.left) / self.visit(node.right)\n",
    " \n",
    "    def visit_Negate(self, node):\n",
    "        return -node.operand"
   ]
  },
  {
   "cell_type": "code",
   "execution_count": 545,
   "metadata": {},
   "outputs": [
    {
     "data": {
      "text/plain": [
       "0.6"
      ]
     },
     "execution_count": 545,
     "metadata": {},
     "output_type": "execute_result"
    }
   ],
   "source": [
    "e = Evaluator()\n",
    "e.visit(t4)"
   ]
  },
  {
   "cell_type": "code",
   "execution_count": 548,
   "metadata": {},
   "outputs": [],
   "source": [
    "import types\n",
    "\n",
    "class Node:\n",
    "    pass\n",
    "\n",
    "import types\n",
    "class NodeVisitor:\n",
    "    def visit(self, node):\n",
    "        stack = [ node ]\n",
    "        last_result = None\n",
    "        while stack:\n",
    "            try:\n",
    "                last = stack[-1]\n",
    "                if isinstance(last, types.GeneratorType):\n",
    "                    stack.append(last.send(last_result))\n",
    "                    last_result = None\n",
    "                elif isinstance(last, Node):\n",
    "                    stack.append(self._visit(stack.pop()))\n",
    "                else:\n",
    "                    last_result = stack.pop()\n",
    "            except StopIteration:\n",
    "                stack.pop()\n",
    "        return last_result\n",
    "    \n",
    "    def _visit(self, node):\n",
    "        methname = 'visit_' + type(node).__name__\n",
    "        meth = getattr(self, methname, None)\n",
    "        if meth is None:\n",
    "            meth = self.generic_visit\n",
    "        return meth(node)\n",
    " \n",
    "    def generic_visit(self, node):\n",
    "        raise RuntimeError('No {} method'.format('visit_' + type(node).__name__))"
   ]
  },
  {
   "cell_type": "code",
   "execution_count": 549,
   "metadata": {},
   "outputs": [
    {
     "name": "stdout",
     "output_type": "stream",
     "text": [
      "0.6\n"
     ]
    }
   ],
   "source": [
    "class UnaryOperator(Node):\n",
    "    def __init__(self, operand):\n",
    "        self.operand = operand\n",
    "\n",
    "class BinaryOperator(Node):\n",
    "    def __init__(self, left, right):\n",
    "        self.left = left\n",
    "        self.right = right\n",
    "\n",
    "class Add(BinaryOperator):\n",
    "    pass\n",
    "\n",
    "class Sub(BinaryOperator):\n",
    "    pass\n",
    "\n",
    "class Mul(BinaryOperator):\n",
    "    pass\n",
    "\n",
    "class Div(BinaryOperator):\n",
    "    pass\n",
    "\n",
    "class Negate(UnaryOperator):\n",
    "    pass\n",
    "\n",
    "class Number(Node):\n",
    "    def __init__(self, value):\n",
    "        self.value = value\n",
    "\n",
    "# A sample visitor class that evaluates expressions\n",
    "class Evaluator(NodeVisitor):\n",
    "    def visit_Number(self, node):\n",
    "        return node.value\n",
    "    \n",
    "    def visit_Add(self, node):\n",
    "        return self.visit(node.left) + self.visit(node.right)\n",
    "    \n",
    "    def visit_Sub(self, node):\n",
    "        return self.visit(node.left) - self.visit(node.right)\n",
    " \n",
    "    def visit_Mul(self, node):\n",
    "        return self.visit(node.left) * self.visit(node.right)\n",
    " \n",
    "    def visit_Div(self, node):\n",
    "        return self.visit(node.left) / self.visit(node.right)\n",
    " \n",
    "    def visit_Negate(self, node):\n",
    "        return -self.visit(node.operand)\n",
    "\n",
    "    \n",
    "if __name__ == '__main__':\n",
    "    # 1 + 2*(3-4) / 5\n",
    "    t1 = Sub(Number(3), Number(4))\n",
    "    t2 = Mul(Number(2), t1)\n",
    "    t3 = Div(t2, Number(5))\n",
    "    t4 = Add(Number(1), t3)\n",
    " \n",
    "    # Evaluate it\n",
    "    e = Evaluator()\n",
    "    print(e.visit(t4)) # Outputs 0.6"
   ]
  },
  {
   "cell_type": "code",
   "execution_count": 550,
   "metadata": {},
   "outputs": [
    {
     "ename": "RecursionError",
     "evalue": "maximum recursion depth exceeded while calling a Python object",
     "output_type": "error",
     "traceback": [
      "\u001b[0;31m---------------------------------------------------------------------------\u001b[0m",
      "\u001b[0;31mRecursionError\u001b[0m                            Traceback (most recent call last)",
      "\u001b[0;32m<ipython-input-550-a8cb28082930>\u001b[0m in \u001b[0;36m<module>\u001b[0;34m\u001b[0m\n\u001b[1;32m      4\u001b[0m \u001b[0;34m\u001b[0m\u001b[0m\n\u001b[1;32m      5\u001b[0m \u001b[0me\u001b[0m \u001b[0;34m=\u001b[0m \u001b[0mEvaluator\u001b[0m\u001b[0;34m(\u001b[0m\u001b[0;34m)\u001b[0m\u001b[0;34m\u001b[0m\u001b[0;34m\u001b[0m\u001b[0m\n\u001b[0;32m----> 6\u001b[0;31m \u001b[0me\u001b[0m\u001b[0;34m.\u001b[0m\u001b[0mvisit\u001b[0m\u001b[0;34m(\u001b[0m\u001b[0ma\u001b[0m\u001b[0;34m)\u001b[0m\u001b[0;34m\u001b[0m\u001b[0;34m\u001b[0m\u001b[0m\n\u001b[0m",
      "\u001b[0;32m<ipython-input-548-cc313577637b>\u001b[0m in \u001b[0;36mvisit\u001b[0;34m(self, node)\u001b[0m\n\u001b[1;32m     16\u001b[0m                     \u001b[0mlast_result\u001b[0m \u001b[0;34m=\u001b[0m \u001b[0;32mNone\u001b[0m\u001b[0;34m\u001b[0m\u001b[0;34m\u001b[0m\u001b[0m\n\u001b[1;32m     17\u001b[0m                 \u001b[0;32melif\u001b[0m \u001b[0misinstance\u001b[0m\u001b[0;34m(\u001b[0m\u001b[0mlast\u001b[0m\u001b[0;34m,\u001b[0m \u001b[0mNode\u001b[0m\u001b[0;34m)\u001b[0m\u001b[0;34m:\u001b[0m\u001b[0;34m\u001b[0m\u001b[0;34m\u001b[0m\u001b[0m\n\u001b[0;32m---> 18\u001b[0;31m                     \u001b[0mstack\u001b[0m\u001b[0;34m.\u001b[0m\u001b[0mappend\u001b[0m\u001b[0;34m(\u001b[0m\u001b[0mself\u001b[0m\u001b[0;34m.\u001b[0m\u001b[0m_visit\u001b[0m\u001b[0;34m(\u001b[0m\u001b[0mstack\u001b[0m\u001b[0;34m.\u001b[0m\u001b[0mpop\u001b[0m\u001b[0;34m(\u001b[0m\u001b[0;34m)\u001b[0m\u001b[0;34m)\u001b[0m\u001b[0;34m)\u001b[0m\u001b[0;34m\u001b[0m\u001b[0;34m\u001b[0m\u001b[0m\n\u001b[0m\u001b[1;32m     19\u001b[0m                 \u001b[0;32melse\u001b[0m\u001b[0;34m:\u001b[0m\u001b[0;34m\u001b[0m\u001b[0;34m\u001b[0m\u001b[0m\n\u001b[1;32m     20\u001b[0m                     \u001b[0mlast_result\u001b[0m \u001b[0;34m=\u001b[0m \u001b[0mstack\u001b[0m\u001b[0;34m.\u001b[0m\u001b[0mpop\u001b[0m\u001b[0;34m(\u001b[0m\u001b[0;34m)\u001b[0m\u001b[0;34m\u001b[0m\u001b[0;34m\u001b[0m\u001b[0m\n",
      "\u001b[0;32m<ipython-input-548-cc313577637b>\u001b[0m in \u001b[0;36m_visit\u001b[0;34m(self, node)\u001b[0m\n\u001b[1;32m     28\u001b[0m         \u001b[0;32mif\u001b[0m \u001b[0mmeth\u001b[0m \u001b[0;32mis\u001b[0m \u001b[0;32mNone\u001b[0m\u001b[0;34m:\u001b[0m\u001b[0;34m\u001b[0m\u001b[0;34m\u001b[0m\u001b[0m\n\u001b[1;32m     29\u001b[0m             \u001b[0mmeth\u001b[0m \u001b[0;34m=\u001b[0m \u001b[0mself\u001b[0m\u001b[0;34m.\u001b[0m\u001b[0mgeneric_visit\u001b[0m\u001b[0;34m\u001b[0m\u001b[0;34m\u001b[0m\u001b[0m\n\u001b[0;32m---> 30\u001b[0;31m         \u001b[0;32mreturn\u001b[0m \u001b[0mmeth\u001b[0m\u001b[0;34m(\u001b[0m\u001b[0mnode\u001b[0m\u001b[0;34m)\u001b[0m\u001b[0;34m\u001b[0m\u001b[0;34m\u001b[0m\u001b[0m\n\u001b[0m\u001b[1;32m     31\u001b[0m \u001b[0;34m\u001b[0m\u001b[0m\n\u001b[1;32m     32\u001b[0m     \u001b[0;32mdef\u001b[0m \u001b[0mgeneric_visit\u001b[0m\u001b[0;34m(\u001b[0m\u001b[0mself\u001b[0m\u001b[0;34m,\u001b[0m \u001b[0mnode\u001b[0m\u001b[0;34m)\u001b[0m\u001b[0;34m:\u001b[0m\u001b[0;34m\u001b[0m\u001b[0;34m\u001b[0m\u001b[0m\n",
      "\u001b[0;32m<ipython-input-549-318561f49f17>\u001b[0m in \u001b[0;36mvisit_Add\u001b[0;34m(self, node)\u001b[0m\n\u001b[1;32m     33\u001b[0m \u001b[0;34m\u001b[0m\u001b[0m\n\u001b[1;32m     34\u001b[0m     \u001b[0;32mdef\u001b[0m \u001b[0mvisit_Add\u001b[0m\u001b[0;34m(\u001b[0m\u001b[0mself\u001b[0m\u001b[0;34m,\u001b[0m \u001b[0mnode\u001b[0m\u001b[0;34m)\u001b[0m\u001b[0;34m:\u001b[0m\u001b[0;34m\u001b[0m\u001b[0;34m\u001b[0m\u001b[0m\n\u001b[0;32m---> 35\u001b[0;31m         \u001b[0;32mreturn\u001b[0m \u001b[0mself\u001b[0m\u001b[0;34m.\u001b[0m\u001b[0mvisit\u001b[0m\u001b[0;34m(\u001b[0m\u001b[0mnode\u001b[0m\u001b[0;34m.\u001b[0m\u001b[0mleft\u001b[0m\u001b[0;34m)\u001b[0m \u001b[0;34m+\u001b[0m \u001b[0mself\u001b[0m\u001b[0;34m.\u001b[0m\u001b[0mvisit\u001b[0m\u001b[0;34m(\u001b[0m\u001b[0mnode\u001b[0m\u001b[0;34m.\u001b[0m\u001b[0mright\u001b[0m\u001b[0;34m)\u001b[0m\u001b[0;34m\u001b[0m\u001b[0;34m\u001b[0m\u001b[0m\n\u001b[0m\u001b[1;32m     36\u001b[0m \u001b[0;34m\u001b[0m\u001b[0m\n\u001b[1;32m     37\u001b[0m     \u001b[0;32mdef\u001b[0m \u001b[0mvisit_Sub\u001b[0m\u001b[0;34m(\u001b[0m\u001b[0mself\u001b[0m\u001b[0;34m,\u001b[0m \u001b[0mnode\u001b[0m\u001b[0;34m)\u001b[0m\u001b[0;34m:\u001b[0m\u001b[0;34m\u001b[0m\u001b[0;34m\u001b[0m\u001b[0m\n",
      "... last 3 frames repeated, from the frame below ...\n",
      "\u001b[0;32m<ipython-input-548-cc313577637b>\u001b[0m in \u001b[0;36mvisit\u001b[0;34m(self, node)\u001b[0m\n\u001b[1;32m     16\u001b[0m                     \u001b[0mlast_result\u001b[0m \u001b[0;34m=\u001b[0m \u001b[0;32mNone\u001b[0m\u001b[0;34m\u001b[0m\u001b[0;34m\u001b[0m\u001b[0m\n\u001b[1;32m     17\u001b[0m                 \u001b[0;32melif\u001b[0m \u001b[0misinstance\u001b[0m\u001b[0;34m(\u001b[0m\u001b[0mlast\u001b[0m\u001b[0;34m,\u001b[0m \u001b[0mNode\u001b[0m\u001b[0;34m)\u001b[0m\u001b[0;34m:\u001b[0m\u001b[0;34m\u001b[0m\u001b[0;34m\u001b[0m\u001b[0m\n\u001b[0;32m---> 18\u001b[0;31m                     \u001b[0mstack\u001b[0m\u001b[0;34m.\u001b[0m\u001b[0mappend\u001b[0m\u001b[0;34m(\u001b[0m\u001b[0mself\u001b[0m\u001b[0;34m.\u001b[0m\u001b[0m_visit\u001b[0m\u001b[0;34m(\u001b[0m\u001b[0mstack\u001b[0m\u001b[0;34m.\u001b[0m\u001b[0mpop\u001b[0m\u001b[0;34m(\u001b[0m\u001b[0;34m)\u001b[0m\u001b[0;34m)\u001b[0m\u001b[0;34m)\u001b[0m\u001b[0;34m\u001b[0m\u001b[0;34m\u001b[0m\u001b[0m\n\u001b[0m\u001b[1;32m     19\u001b[0m                 \u001b[0;32melse\u001b[0m\u001b[0;34m:\u001b[0m\u001b[0;34m\u001b[0m\u001b[0;34m\u001b[0m\u001b[0m\n\u001b[1;32m     20\u001b[0m                     \u001b[0mlast_result\u001b[0m \u001b[0;34m=\u001b[0m \u001b[0mstack\u001b[0m\u001b[0;34m.\u001b[0m\u001b[0mpop\u001b[0m\u001b[0;34m(\u001b[0m\u001b[0;34m)\u001b[0m\u001b[0;34m\u001b[0m\u001b[0;34m\u001b[0m\u001b[0m\n",
      "\u001b[0;31mRecursionError\u001b[0m: maximum recursion depth exceeded while calling a Python object"
     ]
    }
   ],
   "source": [
    "a = Number(0)\n",
    "for n in range(1, 100000):\n",
    "    a = Add(a, Number(n))\n",
    "\n",
    "e = Evaluator()\n",
    "e.visit(a)"
   ]
  },
  {
   "cell_type": "code",
   "execution_count": 551,
   "metadata": {},
   "outputs": [],
   "source": [
    "class Evaluator(NodeVisitor):\n",
    "    def visit_Number(self, node):\n",
    "        return node.value\n",
    " \n",
    "    def visit_Add(self, node):\n",
    "        yield (yield node.left) + (yield node.right)\n",
    " \n",
    "    def visit_Sub(self, node):\n",
    "        yield (yield node.left) - (yield node.right)\n",
    "        \n",
    "    def visit_Mul(self, node):\n",
    "        yield (yield node.left) * (yield node.right)\n",
    " \n",
    "    def visit_Div(self, node):\n",
    "        yield (yield node.left) / (yield node.right)\n",
    " \n",
    "    def visit_Negate(self, node):\n",
    "        yield -(yield node.operand)"
   ]
  },
  {
   "cell_type": "code",
   "execution_count": 552,
   "metadata": {},
   "outputs": [
    {
     "data": {
      "text/plain": [
       "4999950000"
      ]
     },
     "execution_count": 552,
     "metadata": {},
     "output_type": "execute_result"
    }
   ],
   "source": [
    "a = Number(0)\n",
    "for n in range(1,100000):\n",
    "    a = Add(a, Number(n))\n",
    "\n",
    "e = Evaluator()\n",
    "e.visit(a)"
   ]
  },
  {
   "cell_type": "markdown",
   "metadata": {},
   "source": [
    "Poređenje objekata različitih klasa"
   ]
  },
  {
   "cell_type": "code",
   "execution_count": 553,
   "metadata": {},
   "outputs": [],
   "source": [
    "from functools import total_ordering\n",
    "class Room:\n",
    "    def __init__(self, name, length, width):\n",
    "        self.name = name\n",
    "        self.length = length\n",
    "        self.width = width\n",
    "        self.square_feet = self.length * self.width\n",
    "\n",
    "\n",
    "@total_ordering\n",
    "class House:\n",
    "    def __init__(self, name, style):\n",
    "        self.name = name\n",
    "        self.style = style\n",
    "        self.rooms = list()\n",
    " \n",
    "    @property\n",
    "    def living_space_footage(self):\n",
    "        return sum(r.square_feet for r in self.rooms)\n",
    " \n",
    "    def add_room(self, room):\n",
    "        self.rooms.append(room)\n",
    " \n",
    "    def __str__(self):\n",
    "        return '{}: {} square foot {}'.format(self.name,\n",
    "                                              self.living_space_footage,\n",
    "                                              self.style)\n",
    "    def __eq__(self, other):\n",
    "        return self.living_space_footage == other.living_space_footage\n",
    " \n",
    "    def __lt__(self, other):\n",
    "        return self.living_space_footage < other.living_space_footage"
   ]
  },
  {
   "cell_type": "code",
   "execution_count": 554,
   "metadata": {},
   "outputs": [
    {
     "name": "stdout",
     "output_type": "stream",
     "text": [
      "Is h1 bigger than h2? True\n",
      "Is h2 smaller than h3? True\n",
      "Is h2 greater than or equal to h1? False\n",
      "Which one is biggest? h3: 1101 square foot Split\n",
      "Which is smallest? h2: 846 square foot Ranch\n"
     ]
    }
   ],
   "source": [
    "# Build a few houses, and add rooms to them\n",
    "h1 = House('h1', 'Cape')\n",
    "h1.add_room(Room('Master Bedroom', 14, 21))\n",
    "h1.add_room(Room('Living Room', 18, 20))\n",
    "h1.add_room(Room('Kitchen', 12, 16))\n",
    "h1.add_room(Room('Office', 12, 12))\n",
    "\n",
    "h2 = House('h2', 'Ranch')\n",
    "h2.add_room(Room('Master Bedroom', 14, 21))\n",
    "h2.add_room(Room('Living Room', 18, 20))\n",
    "h2.add_room(Room('Kitchen', 12, 16))\n",
    "\n",
    "h3 = House('h3', 'Split')\n",
    "h3.add_room(Room('Master Bedroom', 14, 21))\n",
    "h3.add_room(Room('Living Room', 18, 20))\n",
    "h3.add_room(Room('Office', 12, 16))\n",
    "h3.add_room(Room('Kitchen', 15, 17))\n",
    "houses = [h1, h2, h3]\n",
    "\n",
    "print('Is h1 bigger than h2?', h1 > h2) # prints True\n",
    "print('Is h2 smaller than h3?', h2 < h3) # prints True\n",
    "print('Is h2 greater than or equal to h1?', h2 >= h1) # Prints False\n",
    "print('Which one is biggest?', max(houses)) # Prints 'h3: 1101-square-foot Split'\n",
    "print('Which is smallest?', min(houses)) # Prints 'h2: 846-square-foot Ranch'"
   ]
  }
 ],
 "metadata": {
  "kernelspec": {
   "display_name": "Python 3",
   "language": "python",
   "name": "python3"
  },
  "language_info": {
   "codemirror_mode": {
    "name": "ipython",
    "version": 3
   },
   "file_extension": ".py",
   "mimetype": "text/x-python",
   "name": "python",
   "nbconvert_exporter": "python",
   "pygments_lexer": "ipython3",
   "version": "3.8.5"
  }
 },
 "nbformat": 4,
 "nbformat_minor": 4
}
