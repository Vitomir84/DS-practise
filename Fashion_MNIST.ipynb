{
  "nbformat": 4,
  "nbformat_minor": 0,
  "metadata": {
    "colab": {
      "name": "Fashion_MNIST.ipynb",
      "provenance": [],
      "collapsed_sections": []
    },
    "kernelspec": {
      "name": "python3",
      "display_name": "Python 3"
    },
    "accelerator": "GPU"
  },
  "cells": [
    {
      "cell_type": "markdown",
      "metadata": {
        "id": "bC7-g3yGJCdW",
        "colab_type": "text"
      },
      "source": [
        "# Fashion-MNIST Neural Network\n",
        "\n",
        "This notebook implements a simple NN consisting of two dense layers, and uses this network to classify Fashion-MNIST images.\n",
        "\n",
        "These Fashion-MNIST images consist of clothing items from these ten classes. (*T-shirt/top, Trouser, Pullover, Dress, Coat, Sandal, Shirt, Sneaker, Bag, Ankle boot)*"
      ]
    },
    {
      "cell_type": "markdown",
      "metadata": {
        "id": "tL0ZtKVL6NN4",
        "colab_type": "text"
      },
      "source": [
        "## Load correct version of TensorFlow\n",
        "\n",
        "Before we use TensorFlow we must load the correct version. We want version 2.x. To do this we execute the Colab commands below. Note that these commands ONLY WORK IN COLAB."
      ]
    },
    {
      "cell_type": "code",
      "metadata": {
        "id": "leSo_zfF6QXV",
        "colab_type": "code",
        "colab": {}
      },
      "source": [
        "# Install TensorFlow using Colab's tensorflow_version command\n",
        "try:\n",
        "  # %tensorflow_version only exists in Colab.\n",
        "  %tensorflow_version 2.x\n",
        "except Exception:\n",
        "  pass\n"
      ],
      "execution_count": 0,
      "outputs": []
    },
    {
      "cell_type": "markdown",
      "metadata": {
        "id": "Sy_y_E9_NFc8",
        "colab_type": "text"
      },
      "source": [
        "## Import Libraries\n",
        "\n",
        "We import TensorFlow, Numpy, and Matplotlib libraries.  \n",
        "\n",
        "Numpy is a powerful n-dimensional array library that\n",
        "allows us to easily create and manipulate arrays of data, and more!\n",
        "\n",
        "Numpy also allows us to convert TensorFlow's native data structures,\n",
        "to Python native data types.\n",
        "\n",
        "Matplotlib is a graphics plot library"
      ]
    },
    {
      "cell_type": "code",
      "metadata": {
        "id": "RgDK_bJeJpua",
        "colab_type": "code",
        "colab": {}
      },
      "source": [
        "# Import libraries\n",
        "import tensorflow as tf\n",
        "import numpy as np\n",
        "import matplotlib.pyplot as plt\n",
        "\n",
        "print(tf.__version__)"
      ],
      "execution_count": 0,
      "outputs": []
    },
    {
      "cell_type": "markdown",
      "metadata": {
        "id": "EMWdw_E_QPhY",
        "colab_type": "text"
      },
      "source": [
        "## Problem Statement\n",
        "\n",
        "Using example data, train a model that will correctly predict the class of images of fashion items.\n",
        "\n"
      ]
    },
    {
      "cell_type": "markdown",
      "metadata": {
        "id": "N49Xfo21RTr9",
        "colab_type": "text"
      },
      "source": [
        "## Get Data\n",
        "\n",
        "### About the Fashion-MNIST dataset\n",
        "\n",
        "The Fashion-MNIST dataset is a widely available dataset.  It is documented at the https://github.com/zalandoresearch/fashion-mnist\n",
        "\n",
        "Each image in the dataset is 28 X 28 pixels.  The pixel values are a grayscale with values ranging from 0 to 255.\n",
        "\n",
        "Associated with each image is a number from 0 to 9 specifying the class of the fashion item in the image.  The values for the classes are:\n",
        "\n",
        "| Label | Description |\n",
        "|-------|-------------|\n",
        "| 0     | T-shirt/top |\n",
        "|   1    | Trouser    | \n",
        "|  2     |  Pullover  |\n",
        "|   3    |    Dress    |\n",
        "|    4   |    Coat      |\n",
        "|   5    | Sandal     |\n",
        "|   6    | Shirt         |\n",
        "|    7   |  Sneaker  |\n",
        "|   8    |  Bag          |\n",
        "|  9     | Ankle boot |\n",
        "\n",
        "There are 60,000 Training examples and 10,000 Testing examples. "
      ]
    },
    {
      "cell_type": "markdown",
      "metadata": {
        "id": "qswhm4c7nMVl",
        "colab_type": "text"
      },
      "source": [
        "We will need these class names later in the code.  So we create an list of names we can index by the class label number.  For example, class_names[2] = 'Pullover' and class_names[9] = 'Ankle boot'."
      ]
    },
    {
      "cell_type": "code",
      "metadata": {
        "id": "zK737-ABm7od",
        "colab_type": "code",
        "colab": {}
      },
      "source": [
        "# Define class names to display\n",
        "class_names = ['T-shirt/top', 'Trouser', 'Pullover', 'Dress', 'Coat',\n",
        "                  'Sandal', 'Shirt', 'Sneaker', 'Bag', 'Ankle boot']"
      ],
      "execution_count": 0,
      "outputs": []
    },
    {
      "cell_type": "markdown",
      "metadata": {
        "id": "YcAJeHCCm_TW",
        "colab_type": "text"
      },
      "source": [
        "Fashion-MNIST is one of the datasets provided with Keras in Tensorflow.  Keras' Dataset library provides a load_data() method that will download the dataset of 60,000 Training images and their corresponding 60,000 labels, and 10,000 Test images and their corresponding 10,000 labels."
      ]
    },
    {
      "cell_type": "code",
      "metadata": {
        "id": "1MMs613GNLe4",
        "colab_type": "code",
        "colab": {}
      },
      "source": [
        "fashion_mnist = tf.keras.datasets.fashion_mnist\n",
        "(train_images, train_labels), (test_images, test_labels) = fashion_mnist.load_data()\n"
      ],
      "execution_count": 0,
      "outputs": []
    },
    {
      "cell_type": "markdown",
      "metadata": {
        "id": "oAcxPIjJkLKZ",
        "colab_type": "text"
      },
      "source": [
        "### Explore the data\n",
        "\n",
        "Let's look at our data."
      ]
    },
    {
      "cell_type": "code",
      "metadata": {
        "id": "Umx96CdYV-yz",
        "colab_type": "code",
        "colab": {}
      },
      "source": [
        "# Print the shape of the data tensors we loaded.  Should be:\n",
        "#   60,000 training 28X28 images and their labels, and 10,000 testing images and their labels\n",
        "print ('Training data:', train_images.shape, train_labels.shape)\n",
        "print ('Test data:', test_images.shape, test_labels.shape)"
      ],
      "execution_count": 0,
      "outputs": []
    },
    {
      "cell_type": "markdown",
      "metadata": {
        "id": "4Jq_XBs9Xa6C",
        "colab_type": "text"
      },
      "source": [
        "### Inspect data\n",
        "Each image should be a 28 X 28 image and have a gray scale value of 0-255. Let's display an arbitrary image.\n",
        "\n",
        "You should see:  \n",
        "* A title that specifies the class of the image, whose description is shown on the table above.\n",
        "* The image \n",
        "* The 28 by 28 width and height pixel index \n",
        "* and on the right the grayscale legend associated with the pixel values."
      ]
    },
    {
      "cell_type": "code",
      "metadata": {
        "id": "ni0bRFhjWP1y",
        "colab_type": "code",
        "colab": {}
      },
      "source": [
        "def show_training_image(index):\n",
        "  img_label = str(train_labels[index]) + ' (' +  class_names[train_labels[index]] + ')'\n",
        "  plt.figure()\n",
        "  plt.title('Image Label ' + img_label) \n",
        "  plt.imshow(train_images[index], cmap='gray')  # data is grayscale, but displays in color without cmap='gray'\n",
        "  plt.colorbar()\n",
        "  plt.show()\n"
      ],
      "execution_count": 0,
      "outputs": []
    },
    {
      "cell_type": "code",
      "metadata": {
        "id": "gJa1Wq_4acop",
        "colab_type": "code",
        "colab": {}
      },
      "source": [
        "img_index = 100\n",
        "show_training_image(img_index)"
      ],
      "execution_count": 0,
      "outputs": []
    },
    {
      "cell_type": "markdown",
      "metadata": {
        "id": "Db_TW6wccWHw",
        "colab_type": "text"
      },
      "source": [
        "## Prepare Data\n",
        "\n",
        "As usual we need to do some pre-processing of the data.  Here we want to scale the pixels values from 0 to 255 to 0.0 to 1.0.  We scale both the training and testing image values."
      ]
    },
    {
      "cell_type": "code",
      "metadata": {
        "id": "o0vDE9tBYUWx",
        "colab_type": "code",
        "colab": {}
      },
      "source": [
        "# scale training and testing image values\n",
        "train_images = train_images / 255.0\n",
        "test_images = test_images / 255.0\n",
        "\n",
        "# Print the image again and notice the values now range from 0 to 1.\n",
        "#   And the image looks the same, just on a different scale. \n",
        "show_training_image(img_index)"
      ],
      "execution_count": 0,
      "outputs": []
    },
    {
      "cell_type": "markdown",
      "metadata": {
        "id": "ZAAj8oXkeBsY",
        "colab_type": "text"
      },
      "source": [
        "## Create Model\n",
        "\n",
        "We can now create the model we are going to train with the data.\n",
        "\n",
        "This will be a simple model that:\n",
        "* Flattens the 28 X 28 pixel values into a long stream of 28 by 28 = 784 pixel values - Note this is a Keras layer but is not a neural network layer. Notice the input_shape parameter contains only the shape of a single data element.  There are n data elements each with this same shape. \n",
        "* Passes each pixel value as the input to each of the 128 neurons.  \n",
        "* And finally passes values to the last layer that contains 10 neurons, one for each of the ten classes (t-shirt, pullover, etc).  Each of these 10 neurons uses the Softmax activation function to determine the probability that the image is each class.  The final output from the model is a vector of probabilities that the image is of each class.  Such as :\n",
        "[0.01, 0.05, 0.04, 0.06, 0.50, 0.20, 0.04, 0.00, 0.03, 0.07].  This example vector adds up to 1.0 and shows the probability that the image is class 0 (T-shirt/top) is 0.01 (1%), class 1 (Trousers) is 0.05 (5%), class 2 (Pullover) is 0.04 (4%), ....\n"
      ]
    },
    {
      "cell_type": "code",
      "metadata": {
        "id": "0N2R893MdSZn",
        "colab_type": "code",
        "colab": {}
      },
      "source": [
        "\n",
        "model = tf.keras.models.Sequential()      # Create a new sequential model\n",
        "model.add(tf.keras.layers.Flatten(input_shape=(28,28)))    # keras processing layer - no neurons\n",
        "model.add(tf.keras.layers.Dense(128, activation='relu', name='dense-128-relu'))   # 128 neurons connected to pixels\n",
        "model.add(tf.keras.layers.Dense(10, activation='softmax', name='dense-10-softmax')) # determines probability of each of the 10 classes\n"
      ],
      "execution_count": 0,
      "outputs": []
    },
    {
      "cell_type": "markdown",
      "metadata": {
        "id": "6nu2185LTBq8",
        "colab_type": "text"
      },
      "source": [
        "### Structure of the model\n",
        "\n",
        "To make it easy for us to visualize the model, Keras models have a summary method.  When we call it we see our model structure.  \n",
        "\n",
        "For completeness we also show the shape of the input data.\n"
      ]
    },
    {
      "cell_type": "code",
      "metadata": {
        "id": "0gXXuAqQURdH",
        "colab_type": "code",
        "colab": {}
      },
      "source": [
        "print('Input Shape:', train_images.shape)\n",
        "print()\n",
        "print(model.summary())"
      ],
      "execution_count": 0,
      "outputs": []
    },
    {
      "cell_type": "markdown",
      "metadata": {
        "id": "BJTmzxCJ3Bpi",
        "colab_type": "text"
      },
      "source": [
        "### Compile the model\n",
        "\n",
        "Before we can train the model we need to specify how the model will learn from the training data.  To do this we specify:\n",
        "*  loss - how we measure loss (error).  We will use sparse_categorical_crossentropy, which determines the highest predicted class and calculates loss based on how often this is the correct class.\n",
        "*     optimizer - how the model will update the model's weights to reduce the loss.  We use the Adam variant of Mini-batch Gradient Descent.\n",
        "* metrics  - the metrics used for evaluation of training and test.  In this case we use accuracy, that is how often the images are correctly classified.  Higher is better. (1.00 would be perfect (100%), 0,75 = 75%, 0.25 = 25%, ...) \n"
      ]
    },
    {
      "cell_type": "code",
      "metadata": {
        "id": "TW9pZ8kw2Nid",
        "colab_type": "code",
        "colab": {}
      },
      "source": [
        "model.compile(optimizer='adam',\n",
        "              loss='sparse_categorical_crossentropy',\n",
        "              metrics=['accuracy'])\n"
      ],
      "execution_count": 0,
      "outputs": []
    },
    {
      "cell_type": "markdown",
      "metadata": {
        "id": "T7wyz8jh6ZA6",
        "colab_type": "text"
      },
      "source": [
        "## Train the Model\n",
        "Now that we have our data and model, and have specified how the model will learn from the data we can train it."
      ]
    },
    {
      "cell_type": "code",
      "metadata": {
        "id": "osxdZq5y6qF1",
        "colab_type": "code",
        "colab": {}
      },
      "source": [
        "train_hist = model.fit(train_images, train_labels, epochs=40)"
      ],
      "execution_count": 0,
      "outputs": []
    },
    {
      "cell_type": "markdown",
      "metadata": {
        "id": "R2TLdEfR9tus",
        "colab_type": "text"
      },
      "source": [
        "Plot the training to makes sure it is converging."
      ]
    },
    {
      "cell_type": "code",
      "metadata": {
        "id": "5hCztJ2o90DS",
        "colab_type": "code",
        "colab": {}
      },
      "source": [
        "def plot_acc(hist):\n",
        "  # plot the accuracy\n",
        "  plt.title('Accuracy History')\n",
        "  plt.plot(hist.history['accuracy'])\n",
        "  plt.ylabel('Accuracy')\n",
        "  plt.xlabel('epoch')\n",
        "  plt.show()\n",
        "  \n",
        "def plot_loss(hist):\n",
        "  # plot the loss\n",
        "  plt.title('Loss History')\n",
        "  plt.plot(hist.history['loss'])\n",
        "  plt.ylabel('loss')\n",
        "  plt.xlabel('epoch')\n",
        "  plt.show()\n",
        "\n"
      ],
      "execution_count": 0,
      "outputs": []
    },
    {
      "cell_type": "code",
      "metadata": {
        "id": "Zljp5aHqv514",
        "colab_type": "code",
        "colab": {}
      },
      "source": [
        "plot_loss(train_hist)\n",
        "plot_acc(train_hist)"
      ],
      "execution_count": 0,
      "outputs": []
    },
    {
      "cell_type": "markdown",
      "metadata": {
        "id": "0WOXQpc99Ttj",
        "colab_type": "text"
      },
      "source": [
        "## Evaluate Trained Model\n",
        "\n",
        "Once we have the model trained, we need to see how it will perform on data that it was not trained on, that is, test data. \n",
        "\n",
        "We do this with Keras' evaluation function and the test dataset we retrieved earlier.\n"
      ]
    },
    {
      "cell_type": "code",
      "metadata": {
        "id": "9yEEjOV69uay",
        "colab_type": "code",
        "colab": {}
      },
      "source": [
        "test_loss, test_acc = model.evaluate(test_images, test_labels, verbose=0)\n",
        "\n",
        "print('max training accuracy:', max(train_hist.history['accuracy']), '  test accuracy:', test_acc)"
      ],
      "execution_count": 0,
      "outputs": []
    },
    {
      "cell_type": "markdown",
      "metadata": {
        "id": "nAB01AmFAYw6",
        "colab_type": "text"
      },
      "source": [
        "## Training Results\n",
        "\n",
        "The model has **about 96% accuracy** on the training data.  And **only 88% accuracy** on testing data on which it was not trained. This is a classic sign that the model overfits the training data.  \n",
        "\n",
        "We need to determine how we can reduce this overfitting and get **good accuracy on both training and test data!**\n",
        "\n",
        "\n"
      ]
    },
    {
      "cell_type": "markdown",
      "metadata": {
        "id": "6olDUcpiVkxe",
        "colab_type": "text"
      },
      "source": [
        "# Monitoring and Improving our Trained Model’s Performance \n",
        "\n",
        "In this section, we want to make changes to improve the performance of our trained model.  By improved performance we mean having the model not overfit the training data and perform poorly on the testing data.\n",
        "\n",
        "There are serveral common techniques to fix this problem.  These include:\n",
        "\n",
        "1.   Reducing Model Complexity - removing neurons or layers\n",
        "2.   Dropout - Randomly removing the contributions from some neurons\n",
        "3.   Early Stopping - Terminating training as early as possible\n",
        "\n",
        "We will try these below.\n",
        "\n"
      ]
    },
    {
      "cell_type": "markdown",
      "metadata": {
        "id": "gxM0Nan9ZjmK",
        "colab_type": "text"
      },
      "source": [
        "## Monitoring performance with TensorBoard\n",
        "\n",
        "We want to ensure we are getting good data to evaluate the performance of our changes.  Fortunately the TensorFlow family include the tool **TensorBoard**.  \n",
        "\n",
        "TensorBoard provides us various ways to monitor the performance of our models including:\n",
        "\n",
        "*    Visualizing metrics such as loss and accuracy\n",
        "*    Comparision of training and evaluation metrics\n",
        "*    Visualizing the model graph (ops and layers)\n",
        "*    Viewing histograms of weights, biases, or other tensors as they change over time\n"
      ]
    },
    {
      "cell_type": "markdown",
      "metadata": {
        "id": "rdydWnoYe7gy",
        "colab_type": "text"
      },
      "source": [
        "TensorBoard can be run inside a Colab notebook, or if you are running your code directly in Python you can invoke TensorBoard from the command line."
      ]
    },
    {
      "cell_type": "code",
      "metadata": {
        "id": "3d1xtI7LjJyf",
        "colab_type": "code",
        "colab": {}
      },
      "source": [
        "import datetime"
      ],
      "execution_count": 0,
      "outputs": []
    },
    {
      "cell_type": "code",
      "metadata": {
        "id": "m6dqMFnCbkC_",
        "colab_type": "code",
        "colab": {}
      },
      "source": [
        "# Load the tensorboard extension\n",
        "% reload_ext tensorboard"
      ],
      "execution_count": 0,
      "outputs": []
    },
    {
      "cell_type": "code",
      "metadata": {
        "id": "vaXgSi2yi550",
        "colab_type": "code",
        "colab": {}
      },
      "source": [
        "# Clear any logs from previous runs\n",
        "!rm -rf ./logs/ "
      ],
      "execution_count": 0,
      "outputs": []
    },
    {
      "cell_type": "code",
      "metadata": {
        "id": "08RQKiAXi_Yz",
        "colab_type": "code",
        "colab": {}
      },
      "source": [
        "# Start with a fresh model\n",
        "model = tf.keras.models.Sequential()      # Create a new sequential model\n",
        "model.add(tf.keras.layers.Flatten(input_shape=(28,28)))    # keras processing layer - no neurons\n",
        "model.add(tf.keras.layers.Dense(128, activation='relu', name='dense-128-relu'))   # 128 neurons connected to pixels\n",
        "model.add(tf.keras.layers.Dense(10, activation='softmax', name='dense-10-softmax')) # determine probability of each of the 10 classes"
      ],
      "execution_count": 0,
      "outputs": []
    },
    {
      "cell_type": "code",
      "metadata": {
        "id": "Ig5AjqzkjEwM",
        "colab_type": "code",
        "colab": {}
      },
      "source": [
        "model.compile(optimizer='adam',\n",
        "              loss='sparse_categorical_crossentropy',\n",
        "              metrics=['accuracy'])\n",
        "\n",
        "\n",
        "log_dir='logs/fit/' + datetime.datetime.now().strftime('%Y%m%d-%H%M%S')\n",
        "tensorboard_callback = tf.keras.callbacks.TensorBoard(log_dir=log_dir, histogram_freq=1)\n",
        "\n",
        "# We add to the fit method the validation/test data.  This will cause the training model \n",
        "# to evaluate itself on the validation/test data on each epoch.  This provides per \n",
        "# epoch data points TensorBoard can plot so we can see the trend.\n",
        "train_hist = model.fit(train_images, train_labels, epochs=40,\n",
        "                       validation_data=(test_images, test_labels), \n",
        "                        callbacks=[tensorboard_callback])\n",
        "\n"
      ],
      "execution_count": 0,
      "outputs": []
    },
    {
      "cell_type": "code",
      "metadata": {
        "id": "wx9ATGksjWyV",
        "colab_type": "code",
        "colab": {}
      },
      "source": [
        "#!kill 1234   # sometime TensorBoard does not show all data.  If it shows reusing previous instance use kill command listed\n",
        "%tensorboard --logdir logs/fit"
      ],
      "execution_count": 0,
      "outputs": []
    },
    {
      "cell_type": "markdown",
      "metadata": {
        "id": "v05icTF1mDfB",
        "colab_type": "text"
      },
      "source": [
        "## Fixing Fashion MNIST "
      ]
    },
    {
      "cell_type": "markdown",
      "metadata": {
        "id": "E6zDDPjrFm17",
        "colab_type": "text"
      },
      "source": [
        "### Reducing Model Complexity\n",
        "\n",
        "In a large model we can consider reducing the number of hidden layers.  But our model only has one hidden layer and we need it.  So the only thing to do is reduce the number of neurons in the hidden layer.  Everthing else is the same \n",
        "as above."
      ]
    },
    {
      "cell_type": "code",
      "metadata": {
        "colab_type": "code",
        "id": "I1UvcFL9Qmps",
        "colab": {}
      },
      "source": [
        "# Load the tensorboard extension\n",
        "% reload_ext tensorboard"
      ],
      "execution_count": 0,
      "outputs": []
    },
    {
      "cell_type": "code",
      "metadata": {
        "colab_type": "code",
        "id": "UNwSQKJyQmp-",
        "colab": {}
      },
      "source": [
        "# Clear any logs from previous runs\n",
        "!rm -rf ./logs/ "
      ],
      "execution_count": 0,
      "outputs": []
    },
    {
      "cell_type": "code",
      "metadata": {
        "colab_type": "code",
        "id": "CCUSydw2QmqJ",
        "colab": {}
      },
      "source": [
        "\n",
        "model = tf.keras.models.Sequential()      # Create a new sequential model\n",
        "model.add(tf.keras.layers.Flatten(input_shape=(28,28)))    # keras processing layer - no neurons\n",
        "model.add(tf.keras.layers.Dense(64, activation='relu', name='dense-64-relu'))   # 64 neurons connected to pixels\n",
        "#model.add(tf.keras.layers.Dense(128, activation='relu', name='dense-128-relu'))   # 128 neurons connected to pixels\n",
        "model.add(tf.keras.layers.Dense(10, activation='softmax', name='dense-10-softmax')) # determine probability of each of the 10 classes"
      ],
      "execution_count": 0,
      "outputs": []
    },
    {
      "cell_type": "code",
      "metadata": {
        "colab_type": "code",
        "id": "n8yt3SeaQmqN",
        "colab": {}
      },
      "source": [
        "model.compile(optimizer='adam',\n",
        "              loss='sparse_categorical_crossentropy',\n",
        "              metrics=['accuracy'])\n",
        "\n",
        "\n",
        "log_dir= 'logs/fit/' + datetime.datetime.now().strftime('%Y%m%d-%H%M%S')\n",
        "tensorboard_callback = tf.keras.callbacks.TensorBoard(log_dir=log_dir, histogram_freq=1)\n",
        "\n",
        "# We add to the fit method the validation/test data.  This will cause the training model \n",
        "# to evaluate itself on the validation/test data on each epoch.  This provides per \n",
        "# epoch data points TensorBoard can plot so we can see the trend.\n",
        "train_hist = model.fit(train_images, train_labels, epochs=40,\n",
        "                       validation_data=(test_images, test_labels), \n",
        "                        callbacks=[tensorboard_callback])\n",
        "\n"
      ],
      "execution_count": 0,
      "outputs": []
    },
    {
      "cell_type": "markdown",
      "metadata": {
        "id": "Ke-rDI6UmGaX",
        "colab_type": "text"
      },
      "source": [
        "Show the results with TensorBoard"
      ]
    },
    {
      "cell_type": "code",
      "metadata": {
        "id": "hox4ABkzmFWm",
        "colab_type": "code",
        "colab": {}
      },
      "source": [
        "#!kill 1234   # sometime TensorBoard does not show all data.  If it shows reusing previous instance use kill command listed\n",
        "%tensorboard --logdir logs/fit"
      ],
      "execution_count": 0,
      "outputs": []
    },
    {
      "cell_type": "markdown",
      "metadata": {
        "id": "qBwxV4HjFOwT",
        "colab_type": "text"
      },
      "source": [
        "### Randomly dropout some neurons\n",
        "\n",
        "To randomly shut down the contribution from some neurons, we add a Keras dropout layer.  This layer randomly sets the outputs from the previous layer to 0.  How many outputs are set to 0 is defined by the parameter we pass.  To set 50% of \n",
        "the outputs to 0 pass 0.5.  For 20% pass 0.2.\n",
        "\n",
        "Also, the decision on which connections get dropped is a random selection that \n",
        "changes from epoch to epoch."
      ]
    },
    {
      "cell_type": "code",
      "metadata": {
        "colab_type": "code",
        "id": "xSMjk8zBpc2A",
        "colab": {}
      },
      "source": [
        "# Load the tensorboard extension\n",
        "% reload_ext tensorboard"
      ],
      "execution_count": 0,
      "outputs": []
    },
    {
      "cell_type": "code",
      "metadata": {
        "colab_type": "code",
        "id": "3GcFNsSBpc2O",
        "colab": {}
      },
      "source": [
        "# Clear any logs from previous runs\n",
        "!rm -rf ./logs/ "
      ],
      "execution_count": 0,
      "outputs": []
    },
    {
      "cell_type": "code",
      "metadata": {
        "id": "W9SazRfplKGA",
        "colab_type": "code",
        "colab": {}
      },
      "source": [
        "model = tf.keras.models.Sequential()      # Create a new sequential model\n",
        "model.add(tf.keras.layers.Flatten(input_shape=(28,28)))    # keras processing layer - no neurons\n",
        "model.add(tf.keras.layers.Dense(128, activation='relu', name='dense-128-relu'))   # 128 neurons connected to pixels\n",
        "model.add(tf.keras.layers.Dropout(0.2))  # dropout 20%\n",
        "model.add(tf.keras.layers.Dense(10, activation='softmax', name='dense-10-softmax')) # determine probability of each of the 10 classes"
      ],
      "execution_count": 0,
      "outputs": []
    },
    {
      "cell_type": "code",
      "metadata": {
        "id": "OM9BuhuBlWo0",
        "colab_type": "code",
        "colab": {}
      },
      "source": [
        "model.compile(optimizer='adam',\n",
        "              loss='sparse_categorical_crossentropy',\n",
        "              metrics=['accuracy'])"
      ],
      "execution_count": 0,
      "outputs": []
    },
    {
      "cell_type": "code",
      "metadata": {
        "id": "jM5sr1YGlcIb",
        "colab_type": "code",
        "colab": {}
      },
      "source": [
        "log_dir='logs/fit/' + datetime.datetime.now().strftime('%Y%m%d-%H%M%S')\n",
        "tensorboard_callback = tf.keras.callbacks.TensorBoard(log_dir=log_dir, histogram_freq=1)\n",
        "\n",
        "model.fit(x=train_images, \n",
        "          y=train_labels, \n",
        "          epochs=40, \n",
        "          validation_data=(test_images, test_labels), \n",
        "          callbacks=[tensorboard_callback])\n"
      ],
      "execution_count": 0,
      "outputs": []
    },
    {
      "cell_type": "code",
      "metadata": {
        "id": "qlUy6ZlRlOZ8",
        "colab_type": "code",
        "colab": {}
      },
      "source": [
        "#!kill 1234   # sometime TensorBoard does not show all data.  If it shows reusing previous instance use kill command listed\n",
        "%tensorboard --logdir logs/fit"
      ],
      "execution_count": 0,
      "outputs": []
    },
    {
      "cell_type": "markdown",
      "metadata": {
        "id": "3wrym729ZWre",
        "colab_type": "text"
      },
      "source": [
        "### Implementing Early Stopping\n",
        "\n",
        "Early stopping involves having the training stop when the model has been trained enough.  \n",
        "\n",
        "Often training is slow in terms of time, and expensive in terms of compute time on big clusters or a cloud service.  So it is useful to be able to stop training as soon as reasonable.  And reasonable is usually when the metric like lose quits decreasing.  So the question is, how can we know when the loss quits decreasing?  \n",
        "\n",
        "We could run a bunch of trials and use a tool like TensorBoard to plot curves.  But it is tedious to write a model with 20 epochs, run it, see loss was decreasing, then repeat that with 40 epochs, etc.  Worse, if we change the model or it's parameters, like adjusting the dropout percentage, the number of epochs required to see when the loss stops decreasing might be different.\n",
        "\n",
        "So what we need is an automated way to detect when training has quit improving and terminate training.  And fortunately Keras has an early stopping feature that does just this!"
      ]
    },
    {
      "cell_type": "markdown",
      "metadata": {
        "id": "_lKTkBVvN2dI",
        "colab_type": "text"
      },
      "source": [
        "We start with the same model, optimizer, loss, and log clearing code as before."
      ]
    },
    {
      "cell_type": "code",
      "metadata": {
        "id": "D0FSUxUT3Cuf",
        "colab_type": "code",
        "colab": {}
      },
      "source": [
        "# Load the tensorboard extension\n",
        "% reload_ext tensorboard"
      ],
      "execution_count": 0,
      "outputs": []
    },
    {
      "cell_type": "code",
      "metadata": {
        "id": "dGm6LMEL2--j",
        "colab_type": "code",
        "colab": {}
      },
      "source": [
        "# Clear any logs from previous runs\n",
        "!rm -rf ./logs/ "
      ],
      "execution_count": 0,
      "outputs": []
    },
    {
      "cell_type": "code",
      "metadata": {
        "colab_type": "code",
        "id": "62luPqB8NqaI",
        "colab": {}
      },
      "source": [
        "model = tf.keras.models.Sequential()      # Create a new sequential model\n",
        "model.add(tf.keras.layers.Flatten(input_shape=(28,28)))    # keras processing layer - no neurons\n",
        "model.add(tf.keras.layers.Dense(128, activation='relu', name='dense-128-relu'))   # 128 neurons connected to pixels\n",
        "model.add(tf.keras.layers.Dense(10, activation='softmax', name='dense-10-softmax')) # determine probability of each of the 10 classes"
      ],
      "execution_count": 0,
      "outputs": []
    },
    {
      "cell_type": "code",
      "metadata": {
        "colab_type": "code",
        "id": "ROXcHFavNqaS",
        "colab": {}
      },
      "source": [
        "model.compile(optimizer='adam',\n",
        "              loss='sparse_categorical_crossentropy',\n",
        "              metrics=['accuracy'])"
      ],
      "execution_count": 0,
      "outputs": []
    },
    {
      "cell_type": "markdown",
      "metadata": {
        "id": "F6TY_BVDOou_",
        "colab_type": "text"
      },
      "source": [
        "We create a new EarlyStopping callback.\n",
        "\n",
        "And we set the **monitor** parameter to the parameter to monitor, which is **validation loss**. And the  **patience** parameter to the maximum number of epochs without improvement allowed.  And if the parameter does not improve within the patience number of epochs, the training will be terminated.\n",
        "\n",
        "This new callback gets added to the list of callbacks."
      ]
    },
    {
      "cell_type": "code",
      "metadata": {
        "id": "1o3tiyB_NyhV",
        "colab_type": "code",
        "colab": {}
      },
      "source": [
        "log_dir='logs/fit/' + datetime.datetime.now().strftime('%Y%m%d-%H%M%S')\n",
        "tensorboard_callback = tf.keras.callbacks.TensorBoard(log_dir=log_dir, histogram_freq=1)\n",
        "early_stopping_callback = tf.keras.callbacks.EarlyStopping(monitor='val_loss', patience=4)\n",
        "\n",
        "model.fit(x=train_images, \n",
        "          y=train_labels, \n",
        "          epochs=40, \n",
        "          validation_data=(test_images, test_labels), \n",
        "          callbacks=[tensorboard_callback, early_stopping_callback])\n"
      ],
      "execution_count": 0,
      "outputs": []
    },
    {
      "cell_type": "code",
      "metadata": {
        "id": "vUIOxIxcQSRH",
        "colab_type": "code",
        "colab": {}
      },
      "source": [
        "#!kill 1234   # sometime TensorBoard does not show all data.  If it shows reusing previous instance use kill command listed\n",
        "%tensorboard --logdir logs/fit"
      ],
      "execution_count": 0,
      "outputs": []
    },
    {
      "cell_type": "markdown",
      "metadata": {
        "colab_type": "text",
        "id": "AwGPItyphqXT"
      },
      "source": [
        "## Save Your Model\n",
        "\n",
        "Now that we have our model working well.  We can save it for reuse.\n",
        "\n",
        "By saving the model's structure and the associated trained weights we preserve our work.  Those weights are well over 101,000 values for which we had to work hard to get to the proper numbers!!\n"
      ]
    },
    {
      "cell_type": "code",
      "metadata": {
        "colab_type": "code",
        "id": "0w5Rq8SsgWE6",
        "colab": {}
      },
      "source": [
        "# We use the Python tempfile library to create files in a generated folder.  \n",
        "# If you want to used a defined path, replace this code with your own \n",
        "# path definitions. \n",
        "import tempfile\n",
        "import os\n",
        "\n",
        "# get the tempfile location for this Colab session\n",
        "MODEL_DIR = tempfile.gettempdir()\n",
        "version = 1   # NOTE: Adjust if you don't want to replace a version of your model\n",
        "export_path = os.path.join(MODEL_DIR, str(version))  # the final path includes the version\n",
        "print('Saving model to : {}\\n'.format(export_path))\n",
        "\n",
        "# if path already exists delete everything at the location\n",
        "if os.path.isdir(export_path):\n",
        "  print('\\nPreviously saved model found, deleting it\\n')\n",
        "  !rm -r {export_path}\n",
        "\n",
        "# Save the model  \n",
        "tf.saved_model.save(model, export_path)\n",
        "\n",
        "# Print save complete message\n",
        "print('Model saved')\n"
      ],
      "execution_count": 0,
      "outputs": []
    },
    {
      "cell_type": "markdown",
      "metadata": {
        "id": "8YbP9MjFLkRJ",
        "colab_type": "text"
      },
      "source": [
        "\n",
        "\n",
        "# Deploying our Trained Model\n",
        "\n",
        "Once we are satisified with the model's performance we can deploy it so other programs can use it.  This is a complex subject since the deployment strategies depend on how our model will be used.\n",
        "\n",
        "In this script we will show a very basic way of deploying the model.  We will do just enough so we can make predictions with our trained model from Python.\n",
        "\n"
      ]
    },
    {
      "cell_type": "markdown",
      "metadata": {
        "id": "BjXJXg2dZKlZ",
        "colab_type": "text"
      },
      "source": [
        "## TensorFlow ModelServer\n",
        "\n",
        "We are going to use the Tensorflow ModelServer to serve our model.  This install may only work in Colab.  \n",
        "\n",
        "*The recommendation for general installation and usage of the server is to use a docker container.  This is documented in the repo, https://github.com/tensorflow/serving/blob/master/tensorflow_serving/g3doc/setup.md*"
      ]
    },
    {
      "cell_type": "markdown",
      "metadata": {
        "id": "BTWb0-KjnHSP",
        "colab_type": "text"
      },
      "source": [
        "## Add TensorFlow Serving as installable\n",
        "\n",
        "Before we can install the TensorFlow ModelServer we need to make it known to the APT installer so the installer know where to fetch the bits.\n",
        "\n",
        "We do this by adding a key in to the APT database refering to the tensorflow-serving files location."
      ]
    },
    {
      "cell_type": "code",
      "metadata": {
        "id": "yadLd4SqnwMT",
        "colab_type": "code",
        "colab": {}
      },
      "source": [
        "# add the key\n",
        "!echo 'deb http://storage.googleapis.com/tensorflow-serving-apt stable tensorflow-model-server tensorflow-model-server-universal' | tee /etc/apt/sources.list.d/tensorflow-serving.list && \\\n",
        "curl https://storage.googleapis.com/tensorflow-serving-apt/tensorflow-serving.release.pub.gpg | apt-key add -\n",
        "# update the database with the new key\n",
        "!apt update"
      ],
      "execution_count": 0,
      "outputs": []
    },
    {
      "cell_type": "markdown",
      "metadata": {
        "colab_type": "text",
        "id": "W1ZVp_VOU7Wu"
      },
      "source": [
        "### Install TensorFlow ModelServer\n",
        "\n",
        "We use apt-get to fetch and install TensorFlow ModelServer"
      ]
    },
    {
      "cell_type": "code",
      "metadata": {
        "colab_type": "code",
        "id": "ygwa9AgRloYy",
        "colab": {}
      },
      "source": [
        "!apt-get install tensorflow-model-server"
      ],
      "execution_count": 0,
      "outputs": []
    },
    {
      "cell_type": "markdown",
      "metadata": {
        "colab_type": "text",
        "id": "k5NrYdQeVm52"
      },
      "source": [
        "### Start TensorFlow ModelServer\n",
        "\n",
        "This is where we start TensorFlow ModelServer and load our model.  After it loads we can start making inference requests using REST.  There are some important parameters:\n",
        "\n",
        "* `rest_api_port`: The port that you'll use for REST requests.\n",
        "* `model_name`: You'll use this in the URL of the REST requests.  It can be anything.\n",
        "* `model_base_path`: This is the path to the directory where you've saved your model.\n",
        "\n",
        "We need to define these as Python variables and as shell environment variables.  This will make this information available in Python code and in \n",
        "the shell where we will start the TensorFlow ModelServer process."
      ]
    },
    {
      "cell_type": "code",
      "metadata": {
        "colab_type": "code",
        "id": "aUgp3vUdU5GS",
        "colab": {}
      },
      "source": [
        "# Define the environment variable where our saved model resides\n",
        "os.environ['MODEL_DIR'] = MODEL_DIR\n",
        "# Define the Python constant and environment variable to point to the port number used to access our model\n",
        "REST_PORT = '8501'\n",
        "os.environ['REST_PORT'] = REST_PORT\n",
        "# Define the Python constant and environment variable to point to the our model name.\n",
        "#  This is an abitrary name.\n",
        "MODEL_NAME = 'fashion_mnist'\n",
        "os.environ['MODEL_NAME'] = MODEL_NAME"
      ],
      "execution_count": 0,
      "outputs": []
    },
    {
      "cell_type": "code",
      "metadata": {
        "colab_type": "code",
        "id": "kJDhHNJVnaLN",
        "colab": {}
      },
      "source": [
        "# Run the shell command to launch tensorflow_model_server.  Output status and error\n",
        "#  messages to the file server.log\n",
        "%%bash --bg \n",
        "nohup tensorflow_model_server \\\n",
        "  --rest_api_port=\"${REST_PORT}\" \\\n",
        "  --model_name=\"${MODEL_NAME}\" \\\n",
        "  --model_base_path=\"${MODEL_DIR}\" >server.log 2>&1\n"
      ],
      "execution_count": 0,
      "outputs": []
    },
    {
      "cell_type": "code",
      "metadata": {
        "colab_type": "code",
        "id": "IxbeiOCUUs2z",
        "colab": {}
      },
      "source": [
        "# Display the tail (last few lines) of the server log which will show any errors\n",
        "!tail server.log"
      ],
      "execution_count": 0,
      "outputs": []
    },
    {
      "cell_type": "markdown",
      "metadata": {
        "colab_type": "text",
        "id": "vwg1JKaGXWAg"
      },
      "source": [
        "### Function to display image with user defined title"
      ]
    },
    {
      "cell_type": "code",
      "metadata": {
        "colab_type": "code",
        "id": "Luqm_Jyff9iR",
        "colab": {}
      },
      "source": [
        "def show_image(index, title, show_colorbar=False):\n",
        "  plt.figure()\n",
        "  plt.title('\\n\\n{}'.format(title), fontdict={'size': 16})\n",
        "  plt.imshow(test_images[index].reshape(28,28), cmap='gray')  # data is grayscale, but displays in color without cmap='gray'\n",
        "  if (show_colorbar):\n",
        "    plt.colorbar()\n",
        "  plt.axis('off')\n",
        "  plt.show()\n",
        "  \n",
        "  \n"
      ],
      "execution_count": 0,
      "outputs": []
    },
    {
      "cell_type": "markdown",
      "metadata": {
        "colab_type": "text",
        "id": "x-Cc6WAFf4eg"
      },
      "source": [
        "## Make a REST request to predict class of our example image\n",
        "\n",
        "\n"
      ]
    },
    {
      "cell_type": "code",
      "metadata": {
        "id": "ReGh9AElrE4_",
        "colab_type": "code",
        "colab": {}
      },
      "source": [
        "!pip install -q requests    # Install the requests library which makes HTTP requests to the TensorFlow server \n",
        "                            # using our trained our model \n",
        "import requests     # import requests "
      ],
      "execution_count": 0,
      "outputs": []
    },
    {
      "cell_type": "code",
      "metadata": {
        "id": "3dJFAJ9LqXMk",
        "colab_type": "code",
        "colab": {}
      },
      "source": [
        "# Select a random image to classify\n",
        "import random\n",
        "image_index = random.randint(0,len(test_images)-1)\n"
      ],
      "execution_count": 0,
      "outputs": []
    },
    {
      "cell_type": "code",
      "metadata": {
        "id": "pll06kNWsCBF",
        "colab_type": "code",
        "colab": {}
      },
      "source": [
        " # Import json library and create the json data structure to be passed in the request.\n",
        "import json\n",
        "\n",
        "# The data is assumed to be a list of images, a 4D tensor of the shape [*,28,28,1].  \n",
        "# Convert the single 3d to 4d\n",
        "check_images = np.reshape(test_images[image_index],(-1,28,28,1))\n",
        "\n",
        "# Construct json data passed to server.  \"instances\" will hold the image(s) we \n",
        "#   want the model to classify\n",
        "data = json.dumps({'signature_name': 'serving_default', 'instances': check_images.tolist()})  "
      ],
      "execution_count": 0,
      "outputs": []
    },
    {
      "cell_type": "code",
      "metadata": {
        "colab_type": "code",
        "id": "gelYGr-s2RXw",
        "colab": {}
      },
      "source": [
        "# Create the request\n",
        "\n",
        "# HTTP request header\n",
        "headers = {'content-type': 'application/json'}\n",
        "\n",
        "# Build the url to the service using the constants we defined earlier, should be of the form:\n",
        "#      http://localhost:8501/v1/models/fashion_mnist:predict\n",
        "predict_service_url = 'http://localhost:' + REST_PORT + '/v1/models/' + MODEL_NAME + ':predict'\n",
        "\n",
        "# Make request to the service.  Pass the headers and data.  Wait for the server's reponse.\n",
        "json_response = requests.post(predict_service_url, data=data, headers=headers)\n",
        "\n",
        "# Parse the response.  For each images we pass we get a list of probabilities \n",
        "predictions = json.loads(json_response.text)['predictions']\n",
        "# predictions[0] is the 10 probabilites for our first and only image.\n",
        "# predictions[0] has values in the form [0.1, 0.05, ...., 0.6]\n",
        "\n",
        "# The numpy argmax function returns the index of the highest value.  This is \n",
        "# the highest probabilty class predicted by our model. \n",
        "predicted_class = np.argmax(predictions[0])\n",
        "\n",
        "# Display image, the actual class and the predicted class\n",
        "show_image(image_index, 'Model predicted class: {} (class {}). \\n Actually class: {} (class {})'.format(\n",
        "  class_names[predicted_class], predicted_class, class_names[test_labels[image_index]], test_labels[image_index]))"
      ],
      "execution_count": 0,
      "outputs": []
    }
  ]
}