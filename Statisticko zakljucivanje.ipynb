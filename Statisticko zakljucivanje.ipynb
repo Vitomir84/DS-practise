{
 "cells": [
  {
   "cell_type": "markdown",
   "metadata": {},
   "source": [
    "Testiranje hipoteze"
   ]
  },
  {
   "cell_type": "markdown",
   "metadata": {},
   "source": [
    "Zamislimo da želimo da ispitamo da li je novčić fer, odnosno da li je verovatnoća da padne glava p=0.5.\n",
    "Naš test će naročito ispitivati pravednost bacanja novčića n-puta i brojanje koliko puta padne glava X. Svako bacanje novčića je Bernoulijev test, što znači da je X Binomna (n, p) slučajna varijabla, koju možemo aproksimirati koristeći normalnu distribuciju."
   ]
  },
  {
   "cell_type": "code",
   "execution_count": 1,
   "metadata": {},
   "outputs": [],
   "source": [
    "def normal_approximation_to_binomial(n, p):\n",
    "    \"\"\"pronalazi aritmetičku sredinu i standardnu devijaciju Binomne varijable(n, p)\"\"\"\n",
    "    mu = p * n\n",
    "    sigma = math.sqrt(p * (1 - p) * n)\n",
    "    return mu, sigma"
   ]
  },
  {
   "cell_type": "markdown",
   "metadata": {},
   "source": [
    "Kad god slučajna varijabla sledi normalnu distribuciju, možemo koristiti normal_cdf da se utvrdi verovatnoća da njena realizovana vrednost leži unutar (ili izvan) određenog intervala:"
   ]
  },
  {
   "cell_type": "code",
   "execution_count": 2,
   "metadata": {},
   "outputs": [],
   "source": [
    "def normal_cdf(x, mu=0,sigma=1):\n",
    "    return (1 + math.erf((x - mu) / math.sqrt(2) / sigma)) / 2"
   ]
  },
  {
   "cell_type": "code",
   "execution_count": 5,
   "metadata": {},
   "outputs": [],
   "source": [
    "import numpy as np\n",
    "import matplotlib.pyplot as plt\n",
    "%matplotlib inline\n",
    "import math\n",
    "from math import exp, expm1, sqrt, pi"
   ]
  },
  {
   "cell_type": "code",
   "execution_count": 21,
   "metadata": {},
   "outputs": [],
   "source": [
    "mean, stdev = 100, 15 # mean and standard deviation for IQ parameterds\n",
    "normal_niz = np.random.normal(mean, stdev, 1000)"
   ]
  },
  {
   "cell_type": "code",
   "execution_count": 23,
   "metadata": {},
   "outputs": [
    {
     "data": {
      "text/plain": [
       "15.071347255116809"
      ]
     },
     "execution_count": 23,
     "metadata": {},
     "output_type": "execute_result"
    }
   ],
   "source": [
    "normal_niz.std() # primecuje se mali sum u odnosu na unetu stdev"
   ]
  },
  {
   "cell_type": "code",
   "execution_count": 25,
   "metadata": {},
   "outputs": [
    {
     "data": {
      "text/plain": [
       "96.004341344829"
      ]
     },
     "execution_count": 25,
     "metadata": {},
     "output_type": "execute_result"
    }
   ],
   "source": [
    "normal_niz[3]"
   ]
  },
  {
   "cell_type": "code",
   "execution_count": 36,
   "metadata": {},
   "outputs": [
    {
     "name": "stdout",
     "output_type": "stream",
     "text": [
      "0.25249253754692297\n"
     ]
    }
   ],
   "source": [
    "print(normal_cdf(90, mu=100, sigma=15)) #Ova funkcija vraca percentil, odnosno za unetu vrednost, vraca procenat povrsine krive iza nje, odnosno ako je u pitanju IQ procenat ispitanika koji se nalaze iza njega"
   ]
  },
  {
   "cell_type": "code",
   "execution_count": 10,
   "metadata": {
    "scrolled": true
   },
   "outputs": [
    {
     "data": {
      "image/png": "[encoded data removed]",
      "text/plain": [
       "<Figure size 432x288 with 1 Axes>"
      ]
     },
     "metadata": {
      "needs_background": "light"
     },
     "output_type": "display_data"
    }
   ],
   "source": [
    "xs = [x / 10.0 for x in range(-50, 50)]\n",
    "plt.plot(xs,[normal_cdf(x,sigma=1) for x in xs],'-',label='mu=0,sigma=1')\n",
    "plt.show()\n",
    "#ovako izgleda kumulativna normalna distribucija za x/10 u rasponu od -50 do 50, sa standardnom devijacijom 1"
   ]
  },
  {
   "cell_type": "code",
   "execution_count": 37,
   "metadata": {},
   "outputs": [],
   "source": [
    "#the normal cdf predstavlja verovatnocu da vrednost varijable ispod odredjenog praga (ispod 0, verovatnoca je 0.5)\n",
    "normal_probability_below = normal_cdf\n",
    "\n",
    "# oduzimanjem ove verovatnoce od jedan dobijamo verovatnocu da je vrednost varijable iznad praga\n",
    "def normal_probability_above(lo, mu=0, sigma=1):\n",
    "    return 1 - normal_cdf(lo, mu, sigma)\n",
    "\n",
    "# izmedju je ako je manje od hi a ali nije manje lo\n",
    "def normal_probability_between(lo, hi, mu=0, sigma=1):\n",
    "    return normal_cdf(hi, mu, sigma) - normal_cdf(lo, mu, sigma)\n",
    "\n",
    "# ako nije unutar onda je izvan tog intervala\n",
    "def normal_probability_outside(lo, hi, mu=0, sigma=1):\n",
    "    return 1 - normal_probability_between(lo, hi, mu, sigma)"
   ]
  },
  {
   "cell_type": "code",
   "execution_count": 45,
   "metadata": {},
   "outputs": [
    {
     "name": "stdout",
     "output_type": "stream",
     "text": [
      "2.28 %\n"
     ]
    }
   ],
   "source": [
    "#koji procenat ljudi je pametniji od nekoga ko ima IQ 130?\n",
    "print(round(100*normal_probability_above(130, mu=100, sigma=15),2), '%')"
   ]
  },
  {
   "cell_type": "code",
   "execution_count": 46,
   "metadata": {},
   "outputs": [
    {
     "name": "stdout",
     "output_type": "stream",
     "text": [
      "22.97 %\n"
     ]
    }
   ],
   "source": [
    "#koji procenat ljudi ima IQ izmedju 110 i 130?\n",
    "print(round(100*normal_probability_between(110, 130, mu=100, sigma=15),2), '%')"
   ]
  },
  {
   "cell_type": "markdown",
   "metadata": {},
   "source": [
    "Takođe možemo uraditi i obrnuto - pronaći povrsinu ili (simetrični) interval\n",
    "koji  predstavlja određeni nivo verovatnoće. Na primer, ako mi želimo da nađemo interval koji je centriran na srednju vrednost i koji sadrži 60% verovatnoće nalazimo preseke gde gornji i donji repovi sadrže 20% verovatnoće (do celokupne povrsine koja predstavlja 100%)."
   ]
  },
  {
   "cell_type": "code",
   "execution_count": 50,
   "metadata": {},
   "outputs": [],
   "source": [
    "def inverse_normal_cdf(p, mu=0, sigma=1, tolerance=0.00001):\n",
    "    \"\"\"find approximate inverse using binary search\"\"\"\n",
    "    # if not standard, compute standard and rescale\n",
    "    if mu != 0 or sigma != 1:\n",
    "        return mu + sigma * inverse_normal_cdf(p, tolerance=tolerance)\n",
    "    low_z, low_p = -10.0, 0 # normal_cdf(-10) is (very close to) 0\n",
    "    hi_z, hi_p = 10.0, 1 # normal_cdf(10) is (very close to) 1\n",
    "    while hi_z - low_z > tolerance:\n",
    "        mid_z = (low_z + hi_z) / 2 # consider the midpoint\n",
    "        mid_p = normal_cdf(mid_z) # and the cdf's value there\n",
    "        if mid_p < p:\n",
    "            # midpoint is still too low, search above it\n",
    "            low_z, low_p = mid_z, mid_p\n",
    "        elif mid_p > p:\n",
    "            # midpoint is still too high, search below it\n",
    "            hi_z, hi_p = mid_z, mid_p\n",
    "        else:\n",
    "            break\n",
    "    return mid_z"
   ]
  },
  {
   "cell_type": "code",
   "execution_count": 48,
   "metadata": {},
   "outputs": [],
   "source": [
    "def normal_upper_bound(probability, mu=0, sigma=1):\n",
    "    \"\"\"returns the z for which P(Z <= z) = probability\"\"\"\n",
    "    return inverse_normal_cdf(probability, mu, sigma)\n",
    "\n",
    "def normal_lower_bound(probability, mu=0, sigma=1):\n",
    "    \"\"\"returns the z for which P(Z >= z) = probability\"\"\"\n",
    "    return inverse_normal_cdf(1 - probability, mu, sigma)\n",
    "\n",
    "def normal_two_sided_bounds(probability, mu=0, sigma=1):\n",
    "    \"\"\"returns the symmetric (about the mean) bounds that contain the specified probability\"\"\"\n",
    "    tail_probability = (1 - probability) / 2\n",
    "    # upper bound should have tail_probability above it\n",
    "    upper_bound = normal_lower_bound(tail_probability, mu, sigma)\n",
    "    # lower bound should have tail_probability below it\n",
    "    lower_bound = normal_upper_bound(tail_probability, mu, sigma)\n",
    "    return lower_bound, upper_bound"
   ]
  },
  {
   "cell_type": "code",
   "execution_count": 51,
   "metadata": {},
   "outputs": [
    {
     "data": {
      "text/plain": [
       "69.19379234313965"
      ]
     },
     "execution_count": 51,
     "metadata": {},
     "output_type": "execute_result"
    }
   ],
   "source": [
    "#Koji iq ima osoba ciji iq se pojavljuje sa verovatnocom od 2%\n",
    "normal_upper_bound(0.02, mu=100, sigma=15)"
   ]
  },
  {
   "cell_type": "code",
   "execution_count": 52,
   "metadata": {},
   "outputs": [
    {
     "data": {
      "text/plain": [
       "130.80620765686035"
      ]
     },
     "execution_count": 52,
     "metadata": {},
     "output_type": "execute_result"
    }
   ],
   "source": [
    "normal_lower_bound(0.02, mu=100, sigma=15)"
   ]
  },
  {
   "cell_type": "code",
   "execution_count": 53,
   "metadata": {},
   "outputs": [
    {
     "data": {
      "text/plain": [
       "(99.6239185333252, 100.3760814666748)"
      ]
     },
     "execution_count": 53,
     "metadata": {},
     "output_type": "execute_result"
    }
   ],
   "source": [
    "normal_two_sided_bounds(0.02, mu=100, sigma=15)"
   ]
  },
  {
   "cell_type": "markdown",
   "metadata": {},
   "source": [
    "Konkretno, recimo da smo odlučili da novčić bacimo n = 1000 puta. Ako je naša hipoteza\n",
    "pravičnosti je istina, X treba rasporediti približno normalno sa srednjim vrednostima 500 i standardnom devijacijom 15.8:"
   ]
  },
  {
   "cell_type": "code",
   "execution_count": 56,
   "metadata": {},
   "outputs": [
    {
     "data": {
      "text/plain": [
       "(500.0, 15.811388300841896)"
      ]
     },
     "execution_count": 56,
     "metadata": {},
     "output_type": "execute_result"
    }
   ],
   "source": [
    "mu_0, sigma_0 = normal_approximation_to_binomial(1000, 0.5)\n",
    "mu_0, sigma_0"
   ]
  },
  {
   "cell_type": "markdown",
   "metadata": {},
   "source": [
    "Moramo da donesemo odluku o statističkoj značajnosti - koliko smo spremni da donesemo tip 1 greške („lažno pozitivna“, trudan muškarac), u kojoj odbacujemo H0 iako je istinita. Iz istorijskih razloga, ova odluka je često postavljena na 5% ili 1%. Izaberimo 5%. Razmotrimo test koji odbija H0 ako X padne izvan granica koje su date kroz:"
   ]
  },
  {
   "cell_type": "code",
   "execution_count": 55,
   "metadata": {},
   "outputs": [
    {
     "data": {
      "text/plain": [
       "(469.01026640487555, 530.9897335951244)"
      ]
     },
     "execution_count": 55,
     "metadata": {},
     "output_type": "execute_result"
    }
   ],
   "source": [
    "normal_two_sided_bounds(0.95, mu_0, sigma_0)"
   ]
  },
  {
   "cell_type": "markdown",
   "metadata": {},
   "source": [
    "Ovo znači da se sa verovatnoćom od 95% aritmetička sredina X nalazi unutar intervala 460-530 u hiljadu bacanja novčića.\n",
    "Takođe nas često zanima snaga testa, što je verovatnoća da neće napraviti grešku tipa 2 (trudnoj ženi reći da nije trudna), u kojoj ne uspevamo da odbacimo H0 iako je lažna. Da bismo merili ovo, moramo precizirati šta tačno H0 znači lažno. (Ako samo znamo da p nije 0,5 ne daje vam tonu informacija o distribuciji X.). Hajde da proverimo šta se dešava ako je p zaista 0,55, tako da je novčić malo pristrasan.\n",
    "U tom slučaju možemo izračunati snagu testa pomoću:"
   ]
  },
  {
   "cell_type": "code",
   "execution_count": 62,
   "metadata": {},
   "outputs": [
    {
     "name": "stdout",
     "output_type": "stream",
     "text": [
      "interval poverenja od 95% za simulaciju bacanja fer novcica, lower_bound:469.01, higher_bound:530.99\n",
      "kolike bi bile mean i stdev za pristasni novcic od 0.55, mean:550.0, stdev:15.73\n",
      "koja je sansa da pogresimo sa intervalom poverenja od 95% za pristrasni novcic:0.11\n",
      "snaga testa:0.89\n"
     ]
    }
   ],
   "source": [
    "#95% bounds based on assumption p is 0.5\n",
    "lo, hi = normal_two_sided_bounds(0.95, mu_0, sigma_0)\n",
    "print(f'interval poverenja od 95% za simulaciju bacanja fer novcica, lower_bound:{round(lo,2)}, higher_bound:{round(hi,2)}')\n",
    "\n",
    "# actual mu and sigma based on p = 0.55\n",
    "mu_1, sigma_1 = normal_approximation_to_binomial(1000, 0.55)\n",
    "print(f'kolike bi bile mean i stdev za pristasni novcic od 0.55, mean:{round(mu_1,2)}, stdev:{round(sigma_1,2)}')\n",
    "\n",
    "# a type 2 error means we fail to reject the null hypothesis\n",
    "# which will happen when X is still in our original interval\n",
    "type_2_probability = normal_probability_between(lo, hi, mu_1, sigma_1)\n",
    "print(f'koja je sansa da pogresimo sa intervalom poverenja od 95% za pristrasni novcic:{round(type_2_probability,2)}')\n",
    "power = 1 - type_2_probability # 0.887\n",
    "print(f'snaga testa:{round(power,2)}')"
   ]
  },
  {
   "cell_type": "markdown",
   "metadata": {},
   "source": [
    "Zamislite umesto toga, naša nultu hipoteza bila je da novčić nije pristran prema glavama, ili da je p ≤ 0. 5. U tom slučaju želimo jednostrani test koji odbacuje ništavnu hipotezu kada je X mnogo veći od 50, ali ne i kada je X manji od 50. Dakle, 5% test značajnosti uključuje upotrebu normalne_probabiliti_below da bi se pronašlo presek ispod koga lezi 95% verovatnoće:"
   ]
  },
  {
   "cell_type": "code",
   "execution_count": 22,
   "metadata": {},
   "outputs": [
    {
     "name": "stdout",
     "output_type": "stream",
     "text": [
      "hi 526.0073585242053 type_2_probability 0.06362051966928267 power 0.9363794803307173\n"
     ]
    }
   ],
   "source": [
    "hi = normal_upper_bound(0.95, mu_0, sigma_0)\n",
    "# is 526 (< 531, since we need more probability in the upper tail)\n",
    "type_2_probability = normal_probability_below(hi, mu_1, sigma_1)\n",
    "power = 1 - type_2_probability # 0.936\n",
    "print(\"hi\", hi, \"type_2_probability\", type_2_probability, \"power\", power)"
   ]
  },
  {
   "cell_type": "markdown",
   "metadata": {},
   "source": [
    "Ovo je snažniji test, jer više ne odbacuje H0 kada je X ispod 469 (što malo je verovatno da će se dogoditi ako je H1 tačno) i umesto toga odbacuje H0 kada je X između 526 i 531 (što se donekle može dogoditi ako je H1 tačna).\n",
    "Alternativni način razmišljanja o prethodnom testu uključuje p-vrednosti. Umesto odabirom granica na osnovu određenog odsecanja verovatnoće, izračunavamo verovatnoću - pod pretpostavkom da je H0 tačno - da bismo videli vrednost bar toliko ekstremnu kao i ona koju imamo i zapravo posmatramo.\n",
    "Za naš dvostrani test da li je novčić fer, računamo:"
   ]
  },
  {
   "cell_type": "code",
   "execution_count": 23,
   "metadata": {},
   "outputs": [
    {
     "data": {
      "text/plain": [
       "0.06207721579598835"
      ]
     },
     "execution_count": 23,
     "metadata": {},
     "output_type": "execute_result"
    }
   ],
   "source": [
    "def two_sided_p_value(x, mu=0, sigma=1):\n",
    "    if x >= mu:\n",
    "        # if x is greater than the mean, the tail is what's greater than x\n",
    "        return 2 * normal_probability_above(x, mu, sigma)\n",
    "    else:\n",
    "    # if x is less than the mean, the tail is what's less than x\n",
    "        return 2 * normal_probability_below(x, mu, sigma)\n",
    "#If we were to see 530 heads, we would compute:\n",
    "two_sided_p_value(529.5, mu_0, sigma_0) # 0.062"
   ]
  },
  {
   "cell_type": "code",
   "execution_count": null,
   "metadata": {},
   "outputs": [],
   "source": [
    "Jedan od načina da se ubedite da je ovo razumna procena je simulacijom:"
   ]
  },
  {
   "cell_type": "code",
   "execution_count": 31,
   "metadata": {},
   "outputs": [
    {
     "name": "stdout",
     "output_type": "stream",
     "text": [
      "0.06319\n"
     ]
    }
   ],
   "source": [
    "import random\n",
    "extreme_value_count = 0\n",
    "for _ in range(100000):\n",
    "    num_heads = sum(1 if random.random() < 0.5 else 0 # count # of heads\n",
    "                    for _ in range(1000)) # in 1000 flips\n",
    "    if num_heads >= 530 or num_heads <= 470: # and count how often\n",
    "        extreme_value_count += 1 # the # is 'extreme'\n",
    "print (extreme_value_count / 100000) # 0.062"
   ]
  },
  {
   "cell_type": "code",
   "execution_count": 32,
   "metadata": {},
   "outputs": [
    {
     "data": {
      "text/plain": [
       "0.046345287837786575"
      ]
     },
     "execution_count": 32,
     "metadata": {},
     "output_type": "execute_result"
    }
   ],
   "source": [
    "two_sided_p_value(531.5, mu_0, sigma_0)"
   ]
  },
  {
   "cell_type": "code",
   "execution_count": 37,
   "metadata": {},
   "outputs": [],
   "source": [
    "upper_p_value = normal_probability_above\n",
    "lower_p_value = normal_probability_below"
   ]
  },
  {
   "cell_type": "code",
   "execution_count": 35,
   "metadata": {},
   "outputs": [
    {
     "data": {
      "text/plain": [
       "0.06062885772582072"
      ]
     },
     "execution_count": 35,
     "metadata": {},
     "output_type": "execute_result"
    }
   ],
   "source": [
    "upper_p_value(524.5, mu_0, sigma_0)"
   ]
  },
  {
   "cell_type": "code",
   "execution_count": 36,
   "metadata": {},
   "outputs": [
    {
     "data": {
      "text/plain": [
       "0.04686839508859242"
      ]
     },
     "execution_count": 36,
     "metadata": {},
     "output_type": "execute_result"
    }
   ],
   "source": [
    "upper_p_value(526.5, mu_0, sigma_0)"
   ]
  },
  {
   "cell_type": "markdown",
   "metadata": {},
   "source": [
    "To nije u potpunosti opravdano, ali čini se da ljudi to ionako rade. Koristeći normalnu\n",
    "distribuciju, zaključujemo da smo „95% sigurni“ da je sledeći interval sadrži pravi parametar p:"
   ]
  },
  {
   "cell_type": "code",
   "execution_count": 39,
   "metadata": {},
   "outputs": [
    {
     "data": {
      "text/plain": [
       "(469.0325870513916, 530.9674129486084)"
      ]
     },
     "execution_count": 39,
     "metadata": {},
     "output_type": "execute_result"
    }
   ],
   "source": [
    "mu,sigma=500,15.8\n",
    "normal_two_sided_bounds(0.95, mu, sigma)"
   ]
  },
  {
   "cell_type": "code",
   "execution_count": 40,
   "metadata": {},
   "outputs": [
    {
     "data": {
      "text/plain": [
       "(0.5091095927295919, 0.5708904072704082)"
      ]
     },
     "execution_count": 40,
     "metadata": {},
     "output_type": "execute_result"
    }
   ],
   "source": [
    "#Sa novcicem koji padne 540 glava\n",
    "p_hat = 540 / 1000\n",
    "mu = p_hat\n",
    "sigma = math.sqrt(p_hat * (1 - p_hat) / 1000) # 0.0158\n",
    "normal_two_sided_bounds(0.95, mu, sigma) # [0.5091, 0.5709]"
   ]
  },
  {
   "cell_type": "markdown",
   "metadata": {},
   "source": [
    "A/B testing (N-broj ljudi videlo reklamo, n -broj koji je kliknuo). A reklama, B reklama"
   ]
  },
  {
   "cell_type": "code",
   "execution_count": 43,
   "metadata": {},
   "outputs": [],
   "source": [
    "def estimated_parameters(N, n):\n",
    "    p = n / N\n",
    "    sigma = math.sqrt(p * (1 - p) / N)\n",
    "    return p, sigma"
   ]
  },
  {
   "cell_type": "code",
   "execution_count": 41,
   "metadata": {},
   "outputs": [],
   "source": [
    "def a_b_test_statistic(N_A, n_A, N_B, n_B):\n",
    "    p_A, sigma_A = estimated_parameters(N_A, n_A)\n",
    "    p_B, sigma_B = estimated_parameters(N_B, n_B)\n",
    "    return (p_B - p_A) / math.sqrt(sigma_A ** 2 + sigma_B ** 2)"
   ]
  },
  {
   "cell_type": "code",
   "execution_count": 44,
   "metadata": {},
   "outputs": [],
   "source": [
    "#Na primer, ako „reklaama A“ dobije 200 klikova od 1.000 pregleda, a „reklama B“  dobije 180\n",
    "#klikova od 1.000 pregleda, statistika je jednaka:\n",
    "z = a_b_test_statistic(1000, 200, 1000, 180)"
   ]
  },
  {
   "cell_type": "code",
   "execution_count": 45,
   "metadata": {},
   "outputs": [
    {
     "data": {
      "text/plain": [
       "0.254141976542236"
      ]
     },
     "execution_count": 45,
     "metadata": {},
     "output_type": "execute_result"
    }
   ],
   "source": [
    "#Verovatnoća da se vidi tako velika razlika da su reklame zaista jednake bi bila:\n",
    "two_sided_p_value(z)"
   ]
  }
 ],
 "metadata": {
  "kernelspec": {
   "display_name": "Python 3",
   "language": "python",
   "name": "python3"
  },
  "language_info": {
   "codemirror_mode": {
    "name": "ipython",
    "version": 3
   },
   "file_extension": ".py",
   "mimetype": "text/x-python",
   "name": "python",
   "nbconvert_exporter": "python",
   "pygments_lexer": "ipython3",
   "version": "3.8.5"
  }
 },
 "nbformat": 4,
 "nbformat_minor": 4
}
