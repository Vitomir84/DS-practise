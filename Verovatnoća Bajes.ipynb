{
 "cells": [
  {
   "cell_type": "markdown",
   "metadata": {},
   "source": [
    "Malo igranja sa verovatnoćom\n",
    "Ako su dva događaja nezavisna odnosno ako pojava jednog događaja (A) nikako nije povezana sa pojavom drugog događa (B)\n",
    "onda je verovatnoća da se oba događaja jave:\n",
    "\n",
    "P(A,B)=P(A)xP(B); verovatnoća da oba puta za redom padne glava je 0,25, kao i da porodica sa dvoje dece ima dve ćerke.\n",
    "\n",
    "Ako su događaji zavisni, onda je verovatnoća da se dogodi A ako se dogodilo B jednaka\n",
    "\n",
    "P(A/B)=P(A,B)/P(B) često se ovo prepisuje i računa kao sledeća jednačina\n",
    "P(A,B)=P(A/B)xP(B) koja zapravo znači - koja je verovatnoća da se dogode i A i B ako znamo koja je verovatnoća da se dogodi \n",
    "A kada se dogodi B (uslovna verovatnoća) i ako znamo koja je verovatnoća da se dogodi B.\n",
    "Na primer, zamislimo da želimo da odredimo verovatnoću da se pojavi duga. Duga se javlja sa verovatnoćom od 0.3 kada pada kiša (P(A/B)), a verovatnoća da padne kiša je 0.2 (P(B)). Verovatnoća da padne kiša i pojavi se duga jeste \n",
    "\n",
    "P(A,B)= 0.3x0.2=0.06. Drugim rečima, ako znamo da se duga i kiša javljaju u 6% slučajeva, a da kiša pada u 20% slučajeva, uslovna verovatnoća da se pojavi duga kada pada kiša je P(A/B)=P(A,B)/P(B)=0.06/0.2=0.3"
   ]
  },
  {
   "cell_type": "markdown",
   "metadata": {},
   "source": [
    "Jedan uobičajeni škakljiv primer uključuje porodicu sa dvoje (nepoznate) dece.\n",
    "Ako pretpostavimo da:\n",
    "\n",
    "1. Svako dete je podjednako verovatno da će biti dečak ili devojčica\n",
    "2. Pol drugog deteta je nezavisno od pola prvog deteta\n",
    "\n",
    "onda događaj \"nema devojke\" ima verovatnoću 1/4, događaj \"jedna devojčica, jedan dečak\" ima verovatnoću\n",
    "1/2, a događaj \"dve devojke\" je verovatnoća 1/4.\n",
    "Sada se možemo pitati kolika je verovatnoća događaja „oboje dece su devojčice“ (B) kada znamo da je „starije dete devojčica“ (G)? Koristeći definiciju uslovne verovatnoće:\n",
    "\n",
    "P (B/G) = P (B, G) / P (G) = P(B)/P(G) = 0.25/0.5 = 1/2\n",
    "\n",
    "Mogli bismo pitati i za verovatnoću događaja „oboje dece su devojčice“ na događaju „barem jedno od dece je devojčica“ (L). Iznenađujuće, odgovor razlikuje se od pre!\n",
    "Kao i ranije, događaj B i L („obojica su devojčice, a najmanje jedno dete je devojka “) je samo događaj B. To znači:\n",
    "\n",
    "P (B/L) = P (B, L) / P (L) = P (B)/P(L) = 0.25/0.75 = 1/3\n",
    "\n",
    "Kako to može biti slučaj? Pa, ako sve što znate jeste da je bar jedno od dece\n",
    "devojka, tada je dvostruko verovatnije da porodica ima jednog dečaka i jednu devojčicu nego što ih ima\n",
    "obe devojke."
   ]
  },
  {
   "cell_type": "code",
   "execution_count": 5,
   "metadata": {},
   "outputs": [
    {
     "name": "stdout",
     "output_type": "stream",
     "text": [
      "P(obe | starija): 0.5007089325501317\n",
      "P(obe | makar jedna):  0.3311897106109325\n"
     ]
    }
   ],
   "source": [
    "import random\n",
    "def nasumicno_dete():\n",
    "    return random.choice([\"decak\", \"devojcica\"])\n",
    "\n",
    "obe_devojcice = 0\n",
    "starija_devojcica = 0\n",
    "makar_jedna_devojcica = 0\n",
    "\n",
    "random.seed(0)\n",
    "\n",
    "for _ in range(10000):\n",
    "    mladje_dete = nasumicno_dete()\n",
    "    starije_dete = nasumicno_dete()\n",
    "    if starije_dete == \"devojcica\":\n",
    "        starija_devojcica += 1\n",
    "    if starije_dete == \"devojcica\" and mladje_dete == \"devojcica\":\n",
    "        obe_devojcice += 1\n",
    "    if starije_dete == \"devojcica\" or mladje_dete == \"devojcica\":\n",
    "        makar_jedna_devojcica += 1\n",
    "print (\"P(obe | starija):\", obe_devojcice/starija_devojcica)\n",
    "print (\"P(obe | makar jedna): \", obe_devojcice / makar_jedna_devojcica)"
   ]
  },
  {
   "cell_type": "markdown",
   "metadata": {},
   "source": [
    "Bajesova teorema dopunjava uslovnu verovatnoću.\n",
    "Znamo da je uslovna verovatnoća da se B dogodi ako se A dogodilo:\n",
    "\n",
    "(1) P(A/B)=P(A,B)/P(B)\n",
    "\n",
    "Bajes kaže: Uslovna verovatnoća da se dogodi A kada se dogodi B, jednaka je pored poređenja učestalosti javljanja oba događaja (P(A,B)) u odnosu na verovatnoću javljanja događaja B (P(B)), i sledećem:\n",
    "\n",
    "(2) P(A/B)=P(B/A)xP(A)/P(B)\n",
    "\n",
    "Ovo deluje komplikovano ali je u suštini jednostavno:\n",
    "\n",
    "(3) P(B/A)=P(A,B)/P(A)\n",
    "\n",
    "Jednačina (3) se može transformisati u P(A,B)=P(B/A)xP(A) i onda se može ubaciti u (1):\n",
    "\n",
    "P(A/B)=(P(B/A)xP(A))/P(B)\n",
    "\n",
    "Čime dobijamo Bajesovu teoremu.\n",
    "\n",
    "P(A/B)=P(B/A)xP(A)/(P(B/A)xP(A)+P(B/¬A)P(¬A))\n",
    "\n",
    "Ova poslednja jednačina nam zapravo govori P(B)=(P(B/A)xP(A)+P(B/¬A)P(¬A)) a to znači da je verovatnoća\n",
    "događaja B jednaka zbiru uslovnih verovatnoća B od A kada se A javi i kada se ne javi (P(¬A)).\n"
   ]
  },
  {
   "cell_type": "markdown",
   "metadata": {},
   "source": [
    "Zamislite određenu bolest koja pogađa jednog čoveka na svakih 10.000 ljudi. I zamislite da postoji test za ovu bolest koji daje tačan rezultat (\"bolestan\") ako imate bolest, \"zdravi\" ako nemate u 99% slučajeva.\n",
    "Šta nam govori pozitivan test? U kom procentu slučajeva je pozitivna osoba stvarno i bolesna.\n",
    "Mi zapravo imamo datu uslovnu verovatnoću kada je test pozitivan da će osoba biti i bolesna P(bolesna/pozitivna)=0.99\n",
    "I imamo verovatnoću da je osoba bolesna - P(bolesna)=0.001.\n",
    "Mi treba da izračunamo verovatnoću da je osoba i pozitivna i bolesna (P(bolestan,pozitivan)).\n",
    "\n",
    "Verovatnoća da je osoba i pozitivna i bolesna je \n",
    "\n",
    "P(bolesna, pozitivna) = P(pozitivna/bolesna)xP(bolesna)=0.99x0.0001=0.001%\n",
    "\n",
    "P (bolesna/pozitivna) = P (pozitivna/bolesna) P (bolesna) / (P(pozitivna)\n",
    "\n",
    "P(pozitivna)=P(pozitivna/bolesna)P (bolesna) + P (pozitivna/nije bolesna) P(nije bolesna)\n",
    "\n",
    "P (bolesna/pozitivna) = P (pozitivna/bolesna) P (bolesna) / (P(pozitivna/bolesna)P (bolesna) + P (pozitivna/nije bolesna) P(nije bolesna))\n",
    "\n",
    "P (pozitivna/bolesna)=0.99\n",
    "P(pozitivna/nije bolesna)=0.01\n",
    "P (bolesna)=0.0001\n",
    "P (nije bolesna)=0.9999\n",
    "\n",
    "Kada sve ovo ubacimo u gornju jednačinu dobijemo\n",
    "\n",
    "P(bolesna/pozitivna)=0.99x0.0001/0.99x0.0001 + 0.01x0.9999\n",
    "\n",
    "P(bolesna/pozitivna)=0.000099/0.000099+0.009999\n",
    "\n",
    "P(bolesna/pozitivna)=0.000099/0.001098\n",
    "\n",
    "P(bolesna/pozitivna)=0.009\n",
    "\n",
    "Ovaj zadatak se može lakše rešiti confusion matrice i računanjem tru positive rate (TPR).\n",
    "Na zamišljenoj populaciji od 1 000 000 ljudi, 100 ima bolest od čega 99 je tačno dijagnostifikovano.\n",
    "Od preostalih 999 900 zdravih, 1% je pogresno dijagnostifikovano kao bolesni a u stvari su zdravi,\n",
    "a tih 1% iznosi 9999. Ako želimo da izračunamo koliko je onih koji su označeni kao pozitivni i stvarno bolesni\n",
    "onda jednostavno računamo TPR = True pozitives/True Positive+False Positive, što je jednako 99/99+9999=0.009\n",
    "odnosno manje od 1% onih koji su pozitivni na testu su zapravo i bolesni. \n"
   ]
  },
  {
   "cell_type": "code",
   "execution_count": null,
   "metadata": {},
   "outputs": [],
   "source": []
  },
  {
   "cell_type": "code",
   "execution_count": null,
   "metadata": {},
   "outputs": [],
   "source": []
  }
 ],
 "metadata": {
  "kernelspec": {
   "display_name": "Python 3",
   "language": "python",
   "name": "python3"
  },
  "language_info": {
   "codemirror_mode": {
    "name": "ipython",
    "version": 3
   },
   "file_extension": ".py",
   "mimetype": "text/x-python",
   "name": "python",
   "nbconvert_exporter": "python",
   "pygments_lexer": "ipython3",
   "version": "3.8.3"
  }
 },
 "nbformat": 4,
 "nbformat_minor": 4
}
