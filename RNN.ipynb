{
 "cells": [
  {
   "cell_type": "markdown",
   "metadata": {
    "id": "xpAuMVCwfWs8"
   },
   "source": [
    "# Recurrent Neural Network"
   ]
  },
  {
   "cell_type": "markdown",
   "metadata": {
    "id": "nxJfRe4bfYVA"
   },
   "source": [
    "## Part 1 - Data Preprocessing"
   ]
  },
  {
   "cell_type": "markdown",
   "metadata": {
    "id": "ir9zwETrfbrp"
   },
   "source": [
    "### Importing the libraries"
   ]
  },
  {
   "cell_type": "code",
   "execution_count": 1,
   "metadata": {
    "id": "ZT1f24vHffuf"
   },
   "outputs": [],
   "source": [
    "import numpy as np\n",
    "import matplotlib.pyplot as plt\n",
    "import pandas as pd"
   ]
  },
  {
   "cell_type": "markdown",
   "metadata": {
    "id": "nQ47JAxrgmaL"
   },
   "source": [
    "### Importing the training set"
   ]
  },
  {
   "cell_type": "code",
   "execution_count": 2,
   "metadata": {
    "colab": {
     "base_uri": "https://localhost:8080/",
     "height": 392
    },
    "id": "1xiv3pJOgqY3",
    "outputId": "a7b5fdd1-e81d-4364-c95c-73389bcaaa62"
   },
   "outputs": [],
   "source": [
    "dataset_train = pd.read_csv('UNRATE.csv')\n",
    "training_set = dataset_train.iloc[:, 1:2].values"
   ]
  },
  {
   "cell_type": "markdown",
   "metadata": {
    "id": "HT8_2UJegtG5"
   },
   "source": [
    "### Feature Scaling"
   ]
  },
  {
   "cell_type": "code",
   "execution_count": 3,
   "metadata": {
    "id": "OTrF2kR7gx9x"
   },
   "outputs": [],
   "source": [
    "from sklearn.preprocessing import MinMaxScaler\n",
    "sc = MinMaxScaler(feature_range = (0, 1))\n",
    "training_set_scaled = sc.fit_transform(training_set)"
   ]
  },
  {
   "cell_type": "markdown",
   "metadata": {
    "id": "JyYgYocqhNUg"
   },
   "source": [
    "### Creating a data structure with 60 timesteps and 1 output"
   ]
  },
  {
   "cell_type": "code",
   "execution_count": 4,
   "metadata": {
    "id": "iofU21B0i6ST"
   },
   "outputs": [],
   "source": [
    "X_train = []\n",
    "y_train = []\n",
    "for i in range(60, 873):\n",
    "    X_train.append(training_set_scaled[i-60:i, 0])\n",
    "    y_train.append(training_set_scaled[i, 0])\n",
    "X_train, y_train = np.array(X_train), np.array(y_train)"
   ]
  },
  {
   "cell_type": "markdown",
   "metadata": {
    "id": "D8yaN7Zvi95l"
   },
   "source": [
    "### Reshaping"
   ]
  },
  {
   "cell_type": "code",
   "execution_count": 5,
   "metadata": {
    "id": "FOXqJHmNjBkz"
   },
   "outputs": [],
   "source": [
    "X_train = np.reshape(X_train, (X_train.shape[0], X_train.shape[1], 1))"
   ]
  },
  {
   "cell_type": "markdown",
   "metadata": {
    "id": "ZRRSOJeVjEWV"
   },
   "source": [
    "## Part 2 - Building and Training the RNN"
   ]
  },
  {
   "cell_type": "markdown",
   "metadata": {
    "id": "k4XV88JMjHXG"
   },
   "source": [
    "### Importing the Keras libraries and packages"
   ]
  },
  {
   "cell_type": "code",
   "execution_count": 11,
   "metadata": {},
   "outputs": [
    {
     "name": "stdout",
     "output_type": "stream",
     "text": [
      "Collecting keras\n",
      "  Downloading Keras-2.4.3-py2.py3-none-any.whl (36 kB)\n",
      "Collecting h5py\n",
      "  Downloading h5py-2.10.0-cp38-cp38-macosx_10_9_x86_64.whl (3.0 MB)\n",
      "\u001b[K     |████████████████████████████████| 3.0 MB 2.5 MB/s eta 0:00:01\n",
      "\u001b[?25hCollecting pyyaml\n",
      "  Downloading PyYAML-5.3.1.tar.gz (269 kB)\n",
      "\u001b[K     |████████████████████████████████| 269 kB 14.5 MB/s eta 0:00:01\n",
      "\u001b[?25hRequirement already satisfied: numpy>=1.9.1 in /opt/anaconda3/envs/timeseries/lib/python3.8/site-packages (from keras) (1.19.1)\n",
      "Requirement already satisfied: scipy>=0.14 in /opt/anaconda3/envs/timeseries/lib/python3.8/site-packages (from keras) (1.5.3)\n",
      "Requirement already satisfied: six in /opt/anaconda3/envs/timeseries/lib/python3.8/site-packages (from h5py->keras) (1.15.0)\n",
      "Building wheels for collected packages: pyyaml\n",
      "  Building wheel for pyyaml (setup.py) ... \u001b[?25ldone\n",
      "\u001b[?25h  Created wheel for pyyaml: filename=PyYAML-5.3.1-cp38-cp38-macosx_10_9_x86_64.whl size=44624 sha256=8b4603381260fd18f31a865a6aefee1f5f8e983fc6712ade1459d17056d0ca1e\n",
      "  Stored in directory: /Users/vjovanovic/Library/Caches/pip/wheels/13/90/db/290ab3a34f2ef0b5a0f89235dc2d40fea83e77de84ed2dc05c\n",
      "Successfully built pyyaml\n",
      "Installing collected packages: h5py, pyyaml, keras\n",
      "Successfully installed h5py-2.10.0 keras-2.4.3 pyyaml-5.3.1\n"
     ]
    }
   ],
   "source": [
    "!pip3  install keras"
   ]
  },
  {
   "cell_type": "code",
   "execution_count": 20,
   "metadata": {},
   "outputs": [],
   "source": [
    "import numpy as np\n",
    "import tensorflow as tf\n",
    "from tensorflow.keras import layers\n",
    "from tensorflow import keras"
   ]
  },
  {
   "cell_type": "code",
   "execution_count": 31,
   "metadata": {},
   "outputs": [],
   "source": [
    "from tensorflow.keras.layers import LSTM\n",
    "from tensorflow.keras.layers import Dropout\n",
    "from tensorflow.keras.layers import Dense\n",
    "from tensorflow.keras import Sequential"
   ]
  },
  {
   "cell_type": "markdown",
   "metadata": {
    "id": "FEIE-1s9jNzC"
   },
   "source": [
    "### Initialising the RNN"
   ]
  },
  {
   "cell_type": "code",
   "execution_count": 32,
   "metadata": {
    "id": "1338dJ0UjRKH"
   },
   "outputs": [],
   "source": [
    "regressor = Sequential()"
   ]
  },
  {
   "cell_type": "markdown",
   "metadata": {
    "id": "62eg1OPGjT8z"
   },
   "source": [
    "### Adding the first LSTM layer and some Dropout regularisation"
   ]
  },
  {
   "cell_type": "code",
   "execution_count": 33,
   "metadata": {
    "id": "2hIinyXUjbVU"
   },
   "outputs": [],
   "source": [
    "regressor.add(LSTM(units = 50, return_sequences = True, input_shape = (X_train.shape[1], 1)))\n",
    "regressor.add(Dropout(0.2))"
   ]
  },
  {
   "cell_type": "markdown",
   "metadata": {
    "id": "3XBIYLyOjlMx"
   },
   "source": [
    "### Adding a second LSTM layer and some Dropout regularisation"
   ]
  },
  {
   "cell_type": "code",
   "execution_count": 34,
   "metadata": {
    "id": "UG7nrVaSjuZ2"
   },
   "outputs": [],
   "source": [
    "regressor.add(LSTM(units = 50, return_sequences = True))\n",
    "regressor.add(Dropout(0.2))"
   ]
  },
  {
   "cell_type": "markdown",
   "metadata": {
    "id": "Ey3fHVnGj1cu"
   },
   "source": [
    "### Adding a third LSTM layer and some Dropout regularisation"
   ]
  },
  {
   "cell_type": "code",
   "execution_count": 35,
   "metadata": {
    "id": "PuNi6PgFj7jO"
   },
   "outputs": [],
   "source": [
    "regressor.add(LSTM(units = 50, return_sequences = True))\n",
    "regressor.add(Dropout(0.2))"
   ]
  },
  {
   "cell_type": "markdown",
   "metadata": {
    "id": "SYTrtfTmj933"
   },
   "source": [
    "### Adding a fourth LSTM layer and some Dropout regularisation"
   ]
  },
  {
   "cell_type": "code",
   "execution_count": 36,
   "metadata": {
    "id": "Jp4Ty8fRkBYV"
   },
   "outputs": [],
   "source": [
    "regressor.add(LSTM(units = 50))\n",
    "regressor.add(Dropout(0.2))"
   ]
  },
  {
   "cell_type": "markdown",
   "metadata": {
    "id": "9ABI6rOIkHhk"
   },
   "source": [
    "### Adding the output layer"
   ]
  },
  {
   "cell_type": "code",
   "execution_count": 37,
   "metadata": {
    "id": "aM6R1z4WkME8"
   },
   "outputs": [],
   "source": [
    "regressor.add(Dense(units = 1))"
   ]
  },
  {
   "cell_type": "markdown",
   "metadata": {
    "id": "zLx4K7uUkPSh"
   },
   "source": [
    "### Compiling the RNN"
   ]
  },
  {
   "cell_type": "code",
   "execution_count": 38,
   "metadata": {
    "id": "XTrhVN-tkbko"
   },
   "outputs": [],
   "source": [
    "regressor.compile(optimizer = 'adam', loss = 'mean_squared_error')"
   ]
  },
  {
   "cell_type": "markdown",
   "metadata": {
    "id": "-mPhwKGkkebi"
   },
   "source": [
    "### Fitting the RNN to the Training set"
   ]
  },
  {
   "cell_type": "code",
   "execution_count": 39,
   "metadata": {
    "colab": {
     "base_uri": "https://localhost:8080/",
     "height": 1000
    },
    "id": "I06Nkrz5kkb-",
    "outputId": "dc9d947a-4d5c-4dbc-ed45-31bf44b98dfb"
   },
   "outputs": [
    {
     "name": "stdout",
     "output_type": "stream",
     "text": [
      "Epoch 1/100\n",
      "26/26 [==============================] - 1s 57ms/step - loss: 0.0219\n",
      "Epoch 2/100\n",
      "26/26 [==============================] - 1s 55ms/step - loss: 0.0109\n",
      "Epoch 3/100\n",
      "26/26 [==============================] - 1s 54ms/step - loss: 0.0102\n",
      "Epoch 4/100\n",
      "26/26 [==============================] - 1s 58ms/step - loss: 0.0083\n",
      "Epoch 5/100\n",
      "26/26 [==============================] - 2s 61ms/step - loss: 0.0076\n",
      "Epoch 6/100\n",
      "26/26 [==============================] - 1s 55ms/step - loss: 0.0071\n",
      "Epoch 7/100\n",
      "26/26 [==============================] - 1s 54ms/step - loss: 0.0062\n",
      "Epoch 8/100\n",
      "26/26 [==============================] - 1s 55ms/step - loss: 0.0057\n",
      "Epoch 9/100\n",
      "26/26 [==============================] - 1s 54ms/step - loss: 0.0056\n",
      "Epoch 10/100\n",
      "26/26 [==============================] - 1s 54ms/step - loss: 0.0058\n",
      "Epoch 11/100\n",
      "26/26 [==============================] - 1s 54ms/step - loss: 0.0051\n",
      "Epoch 12/100\n",
      "26/26 [==============================] - 1s 55ms/step - loss: 0.0051\n",
      "Epoch 13/100\n",
      "26/26 [==============================] - 1s 54ms/step - loss: 0.0050\n",
      "Epoch 14/100\n",
      "26/26 [==============================] - 1s 54ms/step - loss: 0.0050\n",
      "Epoch 15/100\n",
      "26/26 [==============================] - 1s 54ms/step - loss: 0.0043\n",
      "Epoch 16/100\n",
      "26/26 [==============================] - 2s 62ms/step - loss: 0.0043\n",
      "Epoch 17/100\n",
      "26/26 [==============================] - 1s 56ms/step - loss: 0.0046\n",
      "Epoch 18/100\n",
      "26/26 [==============================] - 1s 55ms/step - loss: 0.0043\n",
      "Epoch 19/100\n",
      "26/26 [==============================] - 1s 54ms/step - loss: 0.0043\n",
      "Epoch 20/100\n",
      "26/26 [==============================] - 1s 54ms/step - loss: 0.0042\n",
      "Epoch 21/100\n",
      "26/26 [==============================] - 1s 54ms/step - loss: 0.0037\n",
      "Epoch 22/100\n",
      "26/26 [==============================] - 1s 55ms/step - loss: 0.0035\n",
      "Epoch 23/100\n",
      "26/26 [==============================] - 1s 56ms/step - loss: 0.0038\n",
      "Epoch 24/100\n",
      "26/26 [==============================] - 2s 58ms/step - loss: 0.0035\n",
      "Epoch 25/100\n",
      "26/26 [==============================] - 2s 58ms/step - loss: 0.0041\n",
      "Epoch 26/100\n",
      "26/26 [==============================] - 1s 57ms/step - loss: 0.0036\n",
      "Epoch 27/100\n",
      "26/26 [==============================] - 1s 57ms/step - loss: 0.0036\n",
      "Epoch 28/100\n",
      "26/26 [==============================] - 1s 57ms/step - loss: 0.0033\n",
      "Epoch 29/100\n",
      "26/26 [==============================] - 1s 55ms/step - loss: 0.0033\n",
      "Epoch 30/100\n",
      "26/26 [==============================] - 1s 55ms/step - loss: 0.0033\n",
      "Epoch 31/100\n",
      "26/26 [==============================] - 1s 58ms/step - loss: 0.0032\n",
      "Epoch 32/100\n",
      "26/26 [==============================] - 2s 59ms/step - loss: 0.0032\n",
      "Epoch 33/100\n",
      "26/26 [==============================] - 2s 64ms/step - loss: 0.0030\n",
      "Epoch 34/100\n",
      "26/26 [==============================] - 2s 61ms/step - loss: 0.0033\n",
      "Epoch 35/100\n",
      "26/26 [==============================] - 2s 62ms/step - loss: 0.0030\n",
      "Epoch 36/100\n",
      "26/26 [==============================] - 2s 65ms/step - loss: 0.0029\n",
      "Epoch 37/100\n",
      "26/26 [==============================] - 2s 66ms/step - loss: 0.0032\n",
      "Epoch 38/100\n",
      "26/26 [==============================] - 2s 67ms/step - loss: 0.0029\n",
      "Epoch 39/100\n",
      "26/26 [==============================] - 2s 65ms/step - loss: 0.0032\n",
      "Epoch 40/100\n",
      "26/26 [==============================] - 2s 63ms/step - loss: 0.0026\n",
      "Epoch 41/100\n",
      "26/26 [==============================] - 2s 64ms/step - loss: 0.0025\n",
      "Epoch 42/100\n",
      "26/26 [==============================] - 2s 62ms/step - loss: 0.0027\n",
      "Epoch 43/100\n",
      "26/26 [==============================] - 2s 62ms/step - loss: 0.0024\n",
      "Epoch 44/100\n",
      "26/26 [==============================] - 2s 65ms/step - loss: 0.0026\n",
      "Epoch 45/100\n",
      "26/26 [==============================] - 2s 63ms/step - loss: 0.0023\n",
      "Epoch 46/100\n",
      "26/26 [==============================] - 2s 60ms/step - loss: 0.0024\n",
      "Epoch 47/100\n",
      "26/26 [==============================] - 2s 60ms/step - loss: 0.0024\n",
      "Epoch 48/100\n",
      "26/26 [==============================] - 2s 59ms/step - loss: 0.0025\n",
      "Epoch 49/100\n",
      "26/26 [==============================] - 1s 57ms/step - loss: 0.0021\n",
      "Epoch 50/100\n",
      "26/26 [==============================] - 1s 55ms/step - loss: 0.0023\n",
      "Epoch 51/100\n",
      "26/26 [==============================] - 1s 58ms/step - loss: 0.0022\n",
      "Epoch 52/100\n",
      "26/26 [==============================] - 2s 62ms/step - loss: 0.0024\n",
      "Epoch 53/100\n",
      "26/26 [==============================] - 2s 66ms/step - loss: 0.0021\n",
      "Epoch 54/100\n",
      "26/26 [==============================] - 2s 58ms/step - loss: 0.0019\n",
      "Epoch 55/100\n",
      "26/26 [==============================] - 1s 55ms/step - loss: 0.0020\n",
      "Epoch 56/100\n",
      "26/26 [==============================] - 1s 54ms/step - loss: 0.0020\n",
      "Epoch 57/100\n",
      "26/26 [==============================] - 2s 63ms/step - loss: 0.0021\n",
      "Epoch 58/100\n",
      "26/26 [==============================] - 2s 67ms/step - loss: 0.0019\n",
      "Epoch 59/100\n",
      "26/26 [==============================] - 2s 61ms/step - loss: 0.0021\n",
      "Epoch 60/100\n",
      "26/26 [==============================] - 1s 56ms/step - loss: 0.0019\n",
      "Epoch 61/100\n",
      "26/26 [==============================] - 1s 54ms/step - loss: 0.0022\n",
      "Epoch 62/100\n",
      "26/26 [==============================] - 1s 55ms/step - loss: 0.0021\n",
      "Epoch 63/100\n",
      "26/26 [==============================] - 2s 61ms/step - loss: 0.0018\n",
      "Epoch 64/100\n",
      "26/26 [==============================] - 2s 60ms/step - loss: 0.0018\n",
      "Epoch 65/100\n",
      "26/26 [==============================] - 1s 57ms/step - loss: 0.0018\n",
      "Epoch 66/100\n",
      "26/26 [==============================] - 1s 57ms/step - loss: 0.0019\n",
      "Epoch 67/100\n",
      "26/26 [==============================] - 1s 54ms/step - loss: 0.0021\n",
      "Epoch 68/100\n",
      "26/26 [==============================] - 1s 53ms/step - loss: 0.0020\n",
      "Epoch 69/100\n",
      "26/26 [==============================] - 1s 54ms/step - loss: 0.0018\n",
      "Epoch 70/100\n",
      "26/26 [==============================] - 1s 55ms/step - loss: 0.0019\n",
      "Epoch 71/100\n",
      "26/26 [==============================] - 1s 55ms/step - loss: 0.0018\n",
      "Epoch 72/100\n",
      "26/26 [==============================] - 1s 54ms/step - loss: 0.0017\n",
      "Epoch 73/100\n",
      "26/26 [==============================] - 1s 54ms/step - loss: 0.0017\n",
      "Epoch 74/100\n",
      "26/26 [==============================] - 1s 55ms/step - loss: 0.0017\n",
      "Epoch 75/100\n",
      "26/26 [==============================] - 1s 55ms/step - loss: 0.0017\n",
      "Epoch 76/100\n",
      "26/26 [==============================] - 1s 54ms/step - loss: 0.0018\n",
      "Epoch 77/100\n",
      "26/26 [==============================] - 1s 54ms/step - loss: 0.0017\n",
      "Epoch 78/100\n",
      "26/26 [==============================] - 1s 55ms/step - loss: 0.0016\n",
      "Epoch 79/100\n",
      "26/26 [==============================] - 1s 57ms/step - loss: 0.0017\n",
      "Epoch 80/100\n",
      "26/26 [==============================] - 1s 55ms/step - loss: 0.0018\n",
      "Epoch 81/100\n",
      "26/26 [==============================] - 1s 55ms/step - loss: 0.0018\n",
      "Epoch 82/100\n",
      "26/26 [==============================] - 1s 53ms/step - loss: 0.0018\n",
      "Epoch 83/100\n",
      "26/26 [==============================] - 1s 54ms/step - loss: 0.0016\n",
      "Epoch 84/100\n",
      "26/26 [==============================] - 1s 55ms/step - loss: 0.0019\n",
      "Epoch 85/100\n",
      "26/26 [==============================] - 1s 56ms/step - loss: 0.0019\n",
      "Epoch 86/100\n",
      "26/26 [==============================] - 1s 55ms/step - loss: 0.0016\n",
      "Epoch 87/100\n",
      "26/26 [==============================] - 1s 54ms/step - loss: 0.0016\n",
      "Epoch 88/100\n",
      "26/26 [==============================] - 1s 55ms/step - loss: 0.0017\n",
      "Epoch 89/100\n",
      "26/26 [==============================] - 1s 56ms/step - loss: 0.0017\n",
      "Epoch 90/100\n",
      "26/26 [==============================] - 1s 56ms/step - loss: 0.0016\n",
      "Epoch 91/100\n",
      "26/26 [==============================] - 1s 55ms/step - loss: 0.0016\n",
      "Epoch 92/100\n",
      "26/26 [==============================] - 1s 54ms/step - loss: 0.0017\n",
      "Epoch 93/100\n",
      "26/26 [==============================] - 1s 54ms/step - loss: 0.0015\n",
      "Epoch 94/100\n",
      "26/26 [==============================] - 1s 54ms/step - loss: 0.0017\n",
      "Epoch 95/100\n",
      "26/26 [==============================] - 1s 56ms/step - loss: 0.0017\n",
      "Epoch 96/100\n",
      "26/26 [==============================] - 1s 55ms/step - loss: 0.0016\n",
      "Epoch 97/100\n",
      "26/26 [==============================] - 1s 54ms/step - loss: 0.0017\n",
      "Epoch 98/100\n",
      "26/26 [==============================] - 1s 53ms/step - loss: 0.0017\n",
      "Epoch 99/100\n",
      "26/26 [==============================] - 1s 55ms/step - loss: 0.0016\n",
      "Epoch 100/100\n",
      "26/26 [==============================] - 1s 55ms/step - loss: 0.0016\n"
     ]
    },
    {
     "data": {
      "text/plain": [
       "<tensorflow.python.keras.callbacks.History at 0x7faa432c63d0>"
      ]
     },
     "execution_count": 39,
     "metadata": {},
     "output_type": "execute_result"
    }
   ],
   "source": [
    "regressor.fit(X_train, y_train, epochs = 100, batch_size = 32)"
   ]
  },
  {
   "cell_type": "markdown",
   "metadata": {
    "id": "4hRau_lIkrE8"
   },
   "source": [
    "## Part 3 - Making the predictions and visualising the results"
   ]
  },
  {
   "cell_type": "markdown",
   "metadata": {
    "id": "SgJO6qEDksxD"
   },
   "source": [
    "### Getting the real data"
   ]
  },
  {
   "cell_type": "code",
   "execution_count": 40,
   "metadata": {
    "id": "FmBT2zqukxTz"
   },
   "outputs": [],
   "source": [
    "dataset_test = pd.read_csv('UNRATE.csv')\n",
    "real_stock_price = dataset_test.iloc[:, 1:2].values"
   ]
  },
  {
   "cell_type": "markdown",
   "metadata": {
    "id": "GrvrLblxkz42"
   },
   "source": [
    "### Getting the predicted unemployment rate"
   ]
  },
  {
   "cell_type": "code",
   "execution_count": 45,
   "metadata": {
    "id": "emikTvUpk3Ck"
   },
   "outputs": [],
   "source": [
    "dataset_total = pd.concat((dataset_train['UNRATE'], dataset_test['UNRATE']), axis = 0)\n",
    "inputs = dataset_total[len(dataset_total) - len(dataset_test) - 60:].values\n",
    "inputs = inputs.reshape(-1,1)\n",
    "inputs = sc.transform(inputs)\n",
    "X_test = []\n",
    "for i in range(60, 873):\n",
    "    X_test.append(inputs[i-60:i, 0])\n",
    "X_test = np.array(X_test)\n",
    "X_test = np.reshape(X_test, (X_test.shape[0], X_test.shape[1], 1))\n",
    "predicted_stock_price = regressor.predict(X_test)\n",
    "predicted_stock_price = sc.inverse_transform(predicted_stock_price)"
   ]
  },
  {
   "cell_type": "markdown",
   "metadata": {
    "id": "iFTNs3YHk6FQ"
   },
   "source": [
    "### Visualising the results"
   ]
  },
  {
   "cell_type": "code",
   "execution_count": 46,
   "metadata": {
    "colab": {
     "base_uri": "https://localhost:8080/",
     "height": 295
    },
    "id": "8OUI8U49k9tH",
    "outputId": "db0ed15e-071b-4bae-955e-0eda3df95238"
   },
   "outputs": [
    {
     "data": {
      "image/png": "[encoded data removed]",
      "text/plain": [
       "<Figure size 432x288 with 1 Axes>"
      ]
     },
     "metadata": {
      "needs_background": "light"
     },
     "output_type": "display_data"
    }
   ],
   "source": [
    "plt.plot(real_stock_price, color = 'red', label = 'Stvarna nezaposlenost')\n",
    "plt.plot(predicted_stock_price, color = 'blue', label = 'Predviđena nezaposlenost')\n",
    "plt.title('Predviđanje nezaposlenosti')\n",
    "plt.xlabel('Vreme')\n",
    "plt.ylabel('Stopa nezaposlenosti u SAD')\n",
    "plt.legend()\n",
    "plt.show()"
   ]
  }
 ],
 "metadata": {
  "colab": {
   "collapsed_sections": [],
   "name": "Copy of rnn.ipynb",
   "provenance": []
  },
  "kernelspec": {
   "display_name": "Python 3",
   "language": "python",
   "name": "python3"
  },
  "language_info": {
   "codemirror_mode": {
    "name": "ipython",
    "version": 3
   },
   "file_extension": ".py",
   "mimetype": "text/x-python",
   "name": "python",
   "nbconvert_exporter": "python",
   "pygments_lexer": "ipython3",
   "version": "3.8.5"
  }
 },
 "nbformat": 4,
 "nbformat_minor": 1
}
