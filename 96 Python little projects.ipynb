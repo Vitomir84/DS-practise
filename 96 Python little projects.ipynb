{
 "cells": [
  {
   "cell_type": "markdown",
   "metadata": {},
   "source": [
    "96 Python project for practise"
   ]
  },
  {
   "cell_type": "code",
   "execution_count": 6,
   "metadata": {},
   "outputs": [],
   "source": [
    "# change splitter in the adress . with [.]\n",
    "def adress_splitter(adress):\n",
    "    new_adress=''\n",
    "    splitter=adress.split('.')\n",
    "    separator='[.]'\n",
    "    new_adress = separator.join(splitter)\n",
    "    return new_adress"
   ]
  },
  {
   "cell_type": "code",
   "execution_count": 8,
   "metadata": {
    "scrolled": true
   },
   "outputs": [
    {
     "name": "stdout",
     "output_type": "stream",
     "text": [
      "171[.]92[.]39[.]21\n"
     ]
    }
   ],
   "source": [
    "print(adress_splitter('171.92.39.21'))"
   ]
  },
  {
   "cell_type": "code",
   "execution_count": 12,
   "metadata": {},
   "outputs": [],
   "source": [
    "# # To count the occurrences of a character, we need to write an algorithm \n",
    "# that returns the number of times each character appears in the input string. \n",
    "# The algorithm must iterate through each character from the beginning to\n",
    "# count the number of times each character appears in the string.\n",
    "\n",
    "def counting_element(element, lista):\n",
    "    counter=0\n",
    "    for i in lista:\n",
    "        if i == element:\n",
    "            counter=counter+1\n",
    "    return counter"
   ]
  },
  {
   "cell_type": "code",
   "execution_count": 13,
   "metadata": {},
   "outputs": [
    {
     "data": {
      "text/plain": [
       "4"
      ]
     },
     "execution_count": 13,
     "metadata": {},
     "output_type": "execute_result"
    }
   ],
   "source": [
    "lista = 'anavolimilovana'\n",
    "counting_element('a', lista)"
   ]
  },
  {
   "cell_type": "code",
   "execution_count": 18,
   "metadata": {},
   "outputs": [],
   "source": [
    "# prebrojava svaki element i vraca dictionary:\n",
    "def every_element_count(lista):\n",
    "    counter={}\n",
    "    for i in lista:\n",
    "        if i in counter:\n",
    "            counter[i]=counter[i]+1\n",
    "        else: \n",
    "            counter[i]=1\n",
    "    print(counter)"
   ]
  },
  {
   "cell_type": "code",
   "execution_count": 19,
   "metadata": {},
   "outputs": [
    {
     "name": "stdout",
     "output_type": "stream",
     "text": [
      "{'a': 4, 'n': 2, 'v': 2, 'o': 2, 'l': 2, 'i': 2, 'm': 1}\n"
     ]
    }
   ],
   "source": [
    "every_element_count('anavolimilovana')"
   ]
  },
  {
   "cell_type": "code",
   "execution_count": null,
   "metadata": {},
   "outputs": [],
   "source": [
    "# The sequential search is a searching algorithm that checks each item \n",
    "# in a data structure from the beginning to find the target value."
   ]
  },
  {
   "cell_type": "code",
   "execution_count": 22,
   "metadata": {},
   "outputs": [],
   "source": [
    "def sequential_search(element, lista):\n",
    "    for i in lista:\n",
    "        if i==element:\n",
    "            print('Element se nalazi u listi')\n",
    "            break\n",
    "        else:\n",
    "            print('Ne nalazi se')"
   ]
  },
  {
   "cell_type": "code",
   "execution_count": 23,
   "metadata": {},
   "outputs": [
    {
     "name": "stdout",
     "output_type": "stream",
     "text": [
      "Element se nalazi u listi\n"
     ]
    }
   ],
   "source": [
    "sequential_search('a', 'anavolimilovana')"
   ]
  },
  {
   "cell_type": "code",
   "execution_count": 28,
   "metadata": {},
   "outputs": [],
   "source": [
    "# Sorting values in a data structure is one of the favourite topics of coding interviews. \n",
    "# NumPy array is also a data structure like a list or an array, \n",
    "# so you should also know how to sort the values of a NumPy array using Python \n",
    "# without using any sort function. Below is how to sort a NumPy array using Python:\n",
    "import numpy as np\n",
    "\n",
    "def sort_ascending(lista):\n",
    "    for i in range(len(lista)):\n",
    "        swap = i + np.argmin(lista[i:])\n",
    "        lista[i], lista[swap] = lista[swap], lista[i]\n",
    "    return lista"
   ]
  },
  {
   "cell_type": "code",
   "execution_count": 30,
   "metadata": {},
   "outputs": [
    {
     "data": {
      "text/plain": [
       "[0, 1, 2, 3, 5, 8]"
      ]
     },
     "execution_count": 30,
     "metadata": {},
     "output_type": "execute_result"
    }
   ],
   "source": [
    "lista =[3,0,5,8,2,1]\n",
    "sort_ascending(lista)"
   ]
  },
  {
   "cell_type": "code",
   "execution_count": 32,
   "metadata": {},
   "outputs": [
    {
     "data": {
      "text/plain": [
       "True"
      ]
     },
     "execution_count": 32,
     "metadata": {},
     "output_type": "execute_result"
    }
   ],
   "source": [
    "'a'<'b'"
   ]
  },
  {
   "cell_type": "code",
   "execution_count": 87,
   "metadata": {},
   "outputs": [],
   "source": [
    "# The idea is to write an algorithm to check if the input word creates a meaningful word when rearranged.\n",
    "def anagram(slova2):\n",
    "    obrnuto = ''\n",
    "    i = len(slova2)\n",
    "    while i>0:\n",
    "        i=i-1\n",
    "        obrnuto= obrnuto + slova2[i]\n",
    "    if obrnuto==slova2:\n",
    "        print(obrnuto, 'Anagram je')\n",
    "    else:\n",
    "        print('Nije anagram')"
   ]
  },
  {
   "cell_type": "code",
   "execution_count": 88,
   "metadata": {},
   "outputs": [],
   "source": [
    "slova1 = ['anavolimilovana', 'cinema', 'lolol']"
   ]
  },
  {
   "cell_type": "code",
   "execution_count": 91,
   "metadata": {
    "scrolled": true
   },
   "outputs": [
    {
     "name": "stdout",
     "output_type": "stream",
     "text": [
      "anavolimilovana Anagram je\n",
      "Nije anagram\n",
      "lolol Anagram je\n"
     ]
    }
   ],
   "source": [
    "for i in slova1:\n",
    "    anagram(i)\n",
    "        "
   ]
  },
  {
   "cell_type": "code",
   "execution_count": 93,
   "metadata": {},
   "outputs": [
    {
     "data": {
      "text/plain": [
       "4"
      ]
     },
     "execution_count": 93,
     "metadata": {},
     "output_type": "execute_result"
    }
   ],
   "source": [
    "9//2"
   ]
  },
  {
   "cell_type": "code",
   "execution_count": 106,
   "metadata": {},
   "outputs": [],
   "source": [
    "# To implement the recursive binary search algorithm, we must first find the \n",
    "# target in sorted order, the middle value is examined to determine if it is the target. \n",
    "# If the middle value is not the target, the sequence is split in half, then the first or second half is \n",
    "# examined to find the target value by looking at the middle element.\n",
    "\n",
    "def recursive_binary(target, lista, first, last):\n",
    "    lista = sorted(lista)\n",
    "    if first > last:\n",
    "        return -1\n",
    "    mid = (first+last)//2\n",
    "    if target == lista[mid]:\n",
    "        print(f'Pronadjen element na mestu {mid+1}')\n",
    "    elif target > lista[mid]:\n",
    "            recursive_binary(target, lista, mid, last)\n",
    "    else: \n",
    "        recursive_binary(target, lista, first, mid)"
   ]
  },
  {
   "cell_type": "code",
   "execution_count": 111,
   "metadata": {},
   "outputs": [],
   "source": [
    "lista = np.random.randint(1, 100, 100)\n",
    "lista=sorted(lista)"
   ]
  },
  {
   "cell_type": "code",
   "execution_count": 108,
   "metadata": {
    "scrolled": true
   },
   "outputs": [
    {
     "name": "stdout",
     "output_type": "stream",
     "text": [
      "Pronadjen element na mestu 5\n"
     ]
    }
   ],
   "source": [
    "recursive_binary(6, lista, 0, 100)"
   ]
  },
  {
   "cell_type": "code",
   "execution_count": 109,
   "metadata": {},
   "outputs": [
    {
     "name": "stdout",
     "output_type": "stream",
     "text": [
      "Pronadjen element na mestu 82\n"
     ]
    }
   ],
   "source": [
    "recursive_binary(78, lista, 0, 100)"
   ]
  },
  {
   "cell_type": "code",
   "execution_count": 119,
   "metadata": {},
   "outputs": [],
   "source": [
    "# The hash table implementation is based on the concept of key and value mapping just like dictionaries in Python. \n",
    "# In other words, these data structures are used to map each unique key to its value. When implementing hash tables, \n",
    "# we need to make sure that each input key must go through a hash function that will convert its initial data type \n",
    "# to an integer value called a hash.\n",
    "class hashtable:\n",
    "    def __init__(self, items):\n",
    "        self.bucket_size = len(items)\n",
    "        self.buckets = [[] for i in range(self.bucket_size)]\n",
    "        self.assign_buckets(items)\n",
    "\n",
    "    def assign_buckets(self, items):\n",
    "        for key, value in items:\n",
    "            hash_value = hash(key)\n",
    "            index = hash_value % self.bucket_size\n",
    "            self.buckets[index].append((key, value))\n",
    "            \n",
    "    def get_value(self, input_keys):\n",
    "        hash_value = hash(input_keys)\n",
    "        index = hash_value % self.bucket_size\n",
    "        bucket = self.buckets[index]\n",
    "        for key, value in bucket:\n",
    "            if key == input_keys:\n",
    "                return(value)"
   ]
  },
  {
   "cell_type": "code",
   "execution_count": 138,
   "metadata": {},
   "outputs": [],
   "source": [
    "# Stacks \n",
    "class Stack:\n",
    "    def __init__(self):\n",
    "        self.items = []\n",
    "    def is_empty(self):\n",
    "        return self.items == []\n",
    "    def push(self, item):\n",
    "        self.items.append(item)\n",
    "    def pop(self):\n",
    "        return self.items.pop()\n",
    "    def peek(self):\n",
    "        l = len(self.items)-1\n",
    "        return self.items[l]\n",
    "    def size(self):\n",
    "        return len(self.items)"
   ]
  },
  {
   "cell_type": "code",
   "execution_count": 143,
   "metadata": {},
   "outputs": [],
   "source": [
    "stack=Stack()"
   ]
  },
  {
   "cell_type": "code",
   "execution_count": 144,
   "metadata": {},
   "outputs": [
    {
     "data": {
      "text/plain": [
       "True"
      ]
     },
     "execution_count": 144,
     "metadata": {},
     "output_type": "execute_result"
    }
   ],
   "source": [
    "stack.is_empty()"
   ]
  },
  {
   "cell_type": "code",
   "execution_count": 148,
   "metadata": {},
   "outputs": [],
   "source": [
    "stack.push('proba')\n",
    "stack.push('proba1')"
   ]
  },
  {
   "cell_type": "code",
   "execution_count": 149,
   "metadata": {},
   "outputs": [
    {
     "data": {
      "text/plain": [
       "'proba1'"
      ]
     },
     "execution_count": 149,
     "metadata": {},
     "output_type": "execute_result"
    }
   ],
   "source": [
    "stack.peek()"
   ]
  },
  {
   "cell_type": "code",
   "execution_count": 150,
   "metadata": {},
   "outputs": [
    {
     "data": {
      "text/plain": [
       "5"
      ]
     },
     "execution_count": 150,
     "metadata": {},
     "output_type": "execute_result"
    }
   ],
   "source": [
    "stack.size()"
   ]
  },
  {
   "cell_type": "code",
   "execution_count": 151,
   "metadata": {
    "scrolled": true
   },
   "outputs": [
    {
     "data": {
      "text/plain": [
       "'proba1'"
      ]
     },
     "execution_count": 151,
     "metadata": {},
     "output_type": "execute_result"
    }
   ],
   "source": [
    "stack.pop()"
   ]
  },
  {
   "cell_type": "code",
   "execution_count": 152,
   "metadata": {},
   "outputs": [
    {
     "data": {
      "text/plain": [
       "4"
      ]
     },
     "execution_count": 152,
     "metadata": {},
     "output_type": "execute_result"
    }
   ],
   "source": [
    "stack.size()"
   ]
  },
  {
   "cell_type": "code",
   "execution_count": 155,
   "metadata": {},
   "outputs": [],
   "source": [
    "# trazi Palindrom u recenicib\n",
    "def palindrome(sentence):\n",
    "    for i in (\",.'?/><}{{}}'\"):\n",
    "        sentence = sentence.replace(i, \"\")\n",
    "    palindrome = []\n",
    "    words = sentence.split(' ')\n",
    "    for word in words:\n",
    "        word = word.lower()\n",
    "        if word == word[::-1]:\n",
    "            palindrome.append(word)\n",
    "    return palindrome"
   ]
  },
  {
   "cell_type": "code",
   "execution_count": 159,
   "metadata": {},
   "outputs": [
    {
     "data": {
      "text/plain": [
       "'ativ'"
      ]
     },
     "execution_count": 159,
     "metadata": {},
     "output_type": "execute_result"
    }
   ],
   "source": [
    "word = 'vita'\n",
    "word[::-1]"
   ]
  },
  {
   "cell_type": "code",
   "execution_count": 158,
   "metadata": {},
   "outputs": [
    {
     "data": {
      "text/plain": [
       "['anavolimilovana']"
      ]
     },
     "execution_count": 158,
     "metadata": {},
     "output_type": "execute_result"
    }
   ],
   "source": [
    "palindrome('anavolimilovana')"
   ]
  },
  {
   "cell_type": "code",
   "execution_count": 160,
   "metadata": {},
   "outputs": [],
   "source": [
    "lista = np.random.randint(1, 100, 10)"
   ]
  },
  {
   "cell_type": "code",
   "execution_count": 161,
   "metadata": {},
   "outputs": [
    {
     "data": {
      "text/plain": [
       "array([91,  5, 59, 29, 95, 83, 39, 11, 50, 66])"
      ]
     },
     "execution_count": 161,
     "metadata": {},
     "output_type": "execute_result"
    }
   ],
   "source": [
    "lista"
   ]
  },
  {
   "cell_type": "code",
   "execution_count": 162,
   "metadata": {},
   "outputs": [
    {
     "data": {
      "text/plain": [
       "array([ 5, 29])"
      ]
     },
     "execution_count": 162,
     "metadata": {},
     "output_type": "execute_result"
    }
   ],
   "source": [
    "# list[<start>:<stop>:<step>]\n",
    "lista[1:4:2]"
   ]
  },
  {
   "cell_type": "code",
   "execution_count": 163,
   "metadata": {},
   "outputs": [
    {
     "data": {
      "text/plain": [
       "array([66, 50, 11, 39, 83, 95, 29, 59,  5, 91])"
      ]
     },
     "execution_count": 163,
     "metadata": {},
     "output_type": "execute_result"
    }
   ],
   "source": [
    "lista[::-1]"
   ]
  },
  {
   "cell_type": "code",
   "execution_count": 167,
   "metadata": {},
   "outputs": [
    {
     "data": {
      "image/png": "[encoded data removed]",
      "text/plain": [
       "<Figure size 432x288 with 1 Axes>"
      ]
     },
     "metadata": {
      "needs_background": "light"
     },
     "output_type": "display_data"
    }
   ],
   "source": [
    "# plotting with annotations \n",
    "\n",
    "import matplotlib.pyplot as plt\n",
    "x = [3, 5, 7, 8, 4]\n",
    "y = [5, 3, 7, 8, 2]\n",
    "labels = [\"Jan\", \"Feb\", \"Mar\", \"April\", \"May\"]\n",
    "plt.scatter(x, y)\n",
    "for i, j in enumerate(labels):\n",
    "    plt.annotate(j, (x[i]+0.10, y[i]), fontsize=10)\n",
    "plt.show()"
   ]
  },
  {
   "cell_type": "code",
   "execution_count": 171,
   "metadata": {},
   "outputs": [
    {
     "name": "stdout",
     "output_type": "stream",
     "text": [
      "Enter the amount: 100\n",
      "From Currency: EUR\n",
      "To Currency: USD\n",
      "EUR  To  USD 100\n",
      "119.12\n"
     ]
    }
   ],
   "source": [
    "#Realtime currency converter\n",
    "from forex_python.converter import CurrencyRates\n",
    "c = CurrencyRates()\n",
    "amount = int(input(\"Enter the amount: \"))\n",
    "from_currency = input(\"From Currency: \").upper()\n",
    "to_currency = input(\"To Currency: \").upper()\n",
    "print(from_currency, \" To \", to_currency, amount)\n",
    "result = c.convert(from_currency, to_currency, amount)\n",
    "print(result)"
   ]
  },
  {
   "cell_type": "code",
   "execution_count": 178,
   "metadata": {},
   "outputs": [],
   "source": [
    "# Extracting key words\n",
    "from rake_nltk import Rake\n",
    "rake_nltk_var = Rake()"
   ]
  },
  {
   "cell_type": "code",
   "execution_count": null,
   "metadata": {},
   "outputs": [],
   "source": [
    "# # To use it with a specific language supported by nltk.\n",
    "# r = Rake(language=<language>)\n",
    "\n",
    "# # If you want to provide your own set of stop words and punctuations to\n",
    "# r = Rake(\n",
    "#     stopwords=<list of stopwords>,\n",
    "#     punctuations=<string of puntuations to ignore>\n",
    "# )\n",
    "\n",
    "# # If you want to control the metric for ranking. Paper uses d(w)/f(w) as the\n",
    "# # metric. You can use this API with the following metrics:\n",
    "# # 1. d(w)/f(w) (Default metric) Ratio of degree of word to its frequency.\n",
    "# # 2. d(w) Degree of word only.\n",
    "# # 3. f(w) Frequency of word only.\n",
    "\n",
    "# r = Rake(ranking_metric=Metric.DEGREE_TO_FREQUENCY_RATIO)\n",
    "# r = Rake(ranking_metric=Metric.WORD_DEGREE)\n",
    "# r = Rake(ranking_metric=Metric.WORD_FREQUENCY)\n",
    "\n",
    "# # If you want to control the max or min words in a phrase, for it to be\n",
    "# # considered for ranking you can initialize a Rake instance as below:\n",
    "\n",
    "# r = Rake(min_length=2, max_length=4)"
   ]
  },
  {
   "cell_type": "code",
   "execution_count": 175,
   "metadata": {},
   "outputs": [],
   "source": [
    "text = \"\"\" I am a programmer from India, and I am here to guide you \n",
    "with Data Science, Machine Learning, Python, and C++ for free. \n",
    "I hope you will learn a lot in your journey towards Coding, \n",
    "Machine Learning and Artificial Intelligence with me.\"\"\""
   ]
  },
  {
   "cell_type": "code",
   "execution_count": 176,
   "metadata": {},
   "outputs": [
    {
     "name": "stdout",
     "output_type": "stream",
     "text": [
      "['journey towards coding', 'machine learning', 'data science', 'c ++', 'artificial intelligence', 'python', 'programmer', 'lot', 'learn', 'india', 'hope', 'guide', 'free']\n"
     ]
    }
   ],
   "source": [
    "rake_nltk_var.extract_keywords_from_text(text)\n",
    "keyword_extracted = rake_nltk_var.get_ranked_phrases()\n",
    "print(keyword_extracted)"
   ]
  },
  {
   "cell_type": "code",
   "execution_count": 185,
   "metadata": {},
   "outputs": [
    {
     "name": "stdout",
     "output_type": "stream",
     "text": [
      "**************************************************\n",
      "\t\tThecleverprogrammer, Inc.\n",
      "\t\t144 Kalka Ji.\n",
      "\t\tNew Delhi\n",
      "==================================================\n",
      "\tIme proizvoda\tcena\n",
      "\tKnjige\t\t$50.95\n",
      "\tRacunar\t\t$598.99\n",
      "\tMonitor\t\t$156.89\n",
      "==================================================\n",
      "\t\t\tTotal\n",
      "\t\t\t$806.83\n",
      "==================================================\n",
      "\n",
      "\tHvala na kupovini!\n",
      "\n",
      "**************************************************\n"
     ]
    }
   ],
   "source": [
    "# create a product and price for three items\n",
    "product1_name, product1_price = 'Knjige', 50.95\n",
    "product2_name, product2_price = 'Racunar', 598.99\n",
    "product3_name, product3_price = 'Monitor', 156.89\n",
    "\n",
    "# create a company name and information\n",
    "company_name = 'Thecleverprogrammer, inc.'\n",
    "company_address = '144 Kalka ji.'\n",
    "company_city = 'New Delhi'\n",
    "\n",
    "# declare ending message\n",
    "message = 'Hvala na kupovini!'\n",
    "\n",
    "# create a top border\n",
    "print('*' * 50)\n",
    "\n",
    "# print company information first using format\n",
    "print('\\t\\t{}'.format(company_name.title()))\n",
    "print('\\t\\t{}'.format(company_address.title()))\n",
    "print('\\t\\t{}'.format(company_city.title()))\n",
    "\n",
    "# print a line between sections\n",
    "print('=' * 50)\n",
    "\n",
    "# print out header for section of items\n",
    "print('\\tIme proizvoda\\tcena')\n",
    "\n",
    "# create a print statement for each item\n",
    "print('\\t{}\\t\\t${}'.format(product1_name.title(), product1_price))\n",
    "print('\\t{}\\t\\t${}'.format(product2_name.title(), product2_price))\n",
    "print('\\t{}\\t\\t${}'.format(product3_name.title(), product3_price))\n",
    "\n",
    "# print a line between sections\n",
    "print('=' * 50)\n",
    "\n",
    "# print out header for section of total\n",
    "print('\\t\\t\\tTotal')\n",
    "\n",
    "# calculate total price and print out\n",
    "total = product1_price + product2_price + product3_price\n",
    "print('\\t\\t\\t${}'.format(total))\n",
    "\n",
    "# print a line between sections\n",
    "print('=' * 50)\n",
    "\n",
    "# output thank you message\n",
    "print('\\n\\t{}\\n'.format(message))\n",
    "\n",
    "# create a bottom border\n",
    "print('*' * 50)"
   ]
  },
  {
   "cell_type": "code",
   "execution_count": 188,
   "metadata": {
    "scrolled": true
   },
   "outputs": [
    {
     "name": "stdout",
     "output_type": "stream",
     "text": [
      "Ica\tVita\tMina\n"
     ]
    }
   ],
   "source": [
    "print('Ica\\tVita\\tMina')"
   ]
  },
  {
   "cell_type": "code",
   "execution_count": 203,
   "metadata": {},
   "outputs": [],
   "source": [
    "# Creatinf Acronim\n",
    "def acronim(fraza):\n",
    "    text = fraza.split(' ')\n",
    "    acr=' '\n",
    "    for word in text:\n",
    "        acr = acr + str(word[0]).upper()\n",
    "    return acr"
   ]
  },
  {
   "cell_type": "code",
   "execution_count": 204,
   "metadata": {},
   "outputs": [
    {
     "data": {
      "text/plain": [
       "' AII'"
      ]
     },
     "execution_count": 204,
     "metadata": {},
     "output_type": "execute_result"
    }
   ],
   "source": [
    "acronim('Artifical Intelligence Iam')"
   ]
  },
  {
   "cell_type": "code",
   "execution_count": null,
   "metadata": {},
   "outputs": [],
   "source": [
    "# Creatin an alarm"
   ]
  },
  {
   "cell_type": "code",
   "execution_count": 216,
   "metadata": {},
   "outputs": [
    {
     "name": "stdout",
     "output_type": "stream",
     "text": [
      "Enter the time of alarm to be set:HH:MM:SS\n",
      "15:17:00\n",
      "Setting up alarm...\n",
      "current time 2021-03-19 15:16:25.395983\n"
     ]
    },
    {
     "ename": "KeyboardInterrupt",
     "evalue": "",
     "output_type": "error",
     "traceback": [
      "\u001b[0;31m---------------------------------------------------------------------------\u001b[0m",
      "\u001b[0;31mKeyboardInterrupt\u001b[0m                         Traceback (most recent call last)",
      "\u001b[0;32m<ipython-input-216-39df47f62974>\u001b[0m in \u001b[0;36m<module>\u001b[0;34m\u001b[0m\n\u001b[1;32m     12\u001b[0m     \u001b[0mcurrent_hour\u001b[0m \u001b[0;34m=\u001b[0m \u001b[0mnow\u001b[0m\u001b[0;34m.\u001b[0m\u001b[0mstrftime\u001b[0m\u001b[0;34m(\u001b[0m\u001b[0;34m\"%I\"\u001b[0m\u001b[0;34m)\u001b[0m\u001b[0;34m\u001b[0m\u001b[0;34m\u001b[0m\u001b[0m\n\u001b[1;32m     13\u001b[0m     \u001b[0mcurrent_minute\u001b[0m \u001b[0;34m=\u001b[0m \u001b[0mnow\u001b[0m\u001b[0;34m.\u001b[0m\u001b[0mstrftime\u001b[0m\u001b[0;34m(\u001b[0m\u001b[0;34m\"%M\"\u001b[0m\u001b[0;34m)\u001b[0m\u001b[0;34m\u001b[0m\u001b[0;34m\u001b[0m\u001b[0m\n\u001b[0;32m---> 14\u001b[0;31m     \u001b[0mcurrent_seconds\u001b[0m \u001b[0;34m=\u001b[0m \u001b[0mnow\u001b[0m\u001b[0;34m.\u001b[0m\u001b[0mstrftime\u001b[0m\u001b[0;34m(\u001b[0m\u001b[0;34m\"%S\"\u001b[0m\u001b[0;34m)\u001b[0m\u001b[0;34m\u001b[0m\u001b[0;34m\u001b[0m\u001b[0m\n\u001b[0m\u001b[1;32m     15\u001b[0m     \u001b[0mcurrent_period\u001b[0m \u001b[0;34m=\u001b[0m \u001b[0mnow\u001b[0m\u001b[0;34m.\u001b[0m\u001b[0mstrftime\u001b[0m\u001b[0;34m(\u001b[0m\u001b[0;34m\"%p\"\u001b[0m\u001b[0;34m)\u001b[0m\u001b[0;34m\u001b[0m\u001b[0;34m\u001b[0m\u001b[0m\n\u001b[1;32m     16\u001b[0m     \u001b[0;32mif\u001b[0m\u001b[0;34m(\u001b[0m\u001b[0malarm_period\u001b[0m\u001b[0;34m==\u001b[0m\u001b[0mcurrent_period\u001b[0m\u001b[0;34m)\u001b[0m\u001b[0;34m:\u001b[0m\u001b[0;34m\u001b[0m\u001b[0;34m\u001b[0m\u001b[0m\n",
      "\u001b[0;31mKeyboardInterrupt\u001b[0m: "
     ]
    }
   ],
   "source": [
    "from datetime import datetime   \n",
    "from playsound import playsound\n",
    "alarm_time = input(\"Enter the time of alarm to be set:HH:MM:SS\\n\")\n",
    "alarm_hour=alarm_time[0:2]\n",
    "alarm_minute=alarm_time[3:5]\n",
    "alarm_seconds=alarm_time[6:8]\n",
    "alarm_period = alarm_time[9:11].upper()\n",
    "print(\"Setting up alarm...\")\n",
    "print('current time', datetime.now())\n",
    "while True:\n",
    "    now = datetime.now()\n",
    "    current_hour = now.strftime(\"%I\")\n",
    "    current_minute = now.strftime(\"%M\")\n",
    "    current_seconds = now.strftime(\"%S\")\n",
    "    current_period = now.strftime(\"%p\")\n",
    "    if(alarm_period==current_period):\n",
    "        if(alarm_hour==current_hour):\n",
    "            if(alarm_minute==current_minute):\n",
    "                if(alarm_seconds==current_seconds):\n",
    "                    print(\"Wake Up!\")\n",
    "                    playsound('audio.mp3')\n",
    "                    break"
   ]
  },
  {
   "cell_type": "code",
   "execution_count": 217,
   "metadata": {},
   "outputs": [
    {
     "name": "stdout",
     "output_type": "stream",
     "text": [
      "Enter Your Email: vitomirj@gmail.com\n",
      "Your user name is 'vitomirj' and your domain is 'gmail.com'\n"
     ]
    }
   ],
   "source": [
    "email = input(\"Enter Your Email: \").strip()\n",
    "username = email[:email.index(\"@\")]\n",
    "domain_name = email[email.index(\"@\")+1:]\n",
    "format_ = (f\"Your user name is '{username}' and your domain is '{domain_name}'\")\n",
    "print(format_)"
   ]
  },
  {
   "cell_type": "code",
   "execution_count": 219,
   "metadata": {},
   "outputs": [
    {
     "data": {
      "text/plain": [
       "'vitomirj'"
      ]
     },
     "execution_count": 219,
     "metadata": {},
     "output_type": "execute_result"
    }
   ],
   "source": [
    "email.split('@')[0]"
   ]
  },
  {
   "cell_type": "code",
   "execution_count": 220,
   "metadata": {
    "scrolled": true
   },
   "outputs": [
    {
     "data": {
      "text/plain": [
       "'gmail.com'"
      ]
     },
     "execution_count": 220,
     "metadata": {},
     "output_type": "execute_result"
    }
   ],
   "source": [
    "email.split('@')[1]"
   ]
  },
  {
   "cell_type": "code",
   "execution_count": 222,
   "metadata": {},
   "outputs": [
    {
     "name": "stdout",
     "output_type": "stream",
     "text": [
      "Davno, macka that lived in Barcelona, went to the skola and Eats a burger\n"
     ]
    }
   ],
   "source": [
    "#Story generator\n",
    "\n",
    "import random\n",
    "when = ['Juce', 'Jednom', 'Davno', 'Pre 100 godina','Decembra meseca']\n",
    "who = ['zeka', 'slon', 'mis', 'kornjaca','macka']\n",
    "name = ['Ali', 'Miriam','daniel', 'Hoouk', 'Starwalker']\n",
    "residence = ['Barcelona','India', 'Germany', 'Venice', 'England']\n",
    "went = ['bioskop', 'faks','seminar', 'skola', 'perionica']\n",
    "happened = ['made a lot of friends','Eats a burger', 'found a secret key', 'solved a mistery', 'wrote a book']\n",
    "print(random.choice(when) + ', ' + random.choice(who) + ' that lived in ' + random.choice(residence) + ', went to the ' + random.choice(went) + ' and ' + random.choice(happened))"
   ]
  },
  {
   "cell_type": "code",
   "execution_count": 234,
   "metadata": {},
   "outputs": [
    {
     "name": "stdout",
     "output_type": "stream",
     "text": [
      "Ukucajte duzinu sifre10\n"
     ]
    },
    {
     "data": {
      "text/plain": [
       "'zNGenh5YRy'"
      ]
     },
     "execution_count": 234,
     "metadata": {},
     "output_type": "execute_result"
    }
   ],
   "source": [
    "# Kreiranje sifre\n",
    "duzina_sifre=int(input('Ukucajte duzinu sifre'))\n",
    "separator=''\n",
    "s=\"abcdefghijklmnopqrstuvwxyz01234567890ABCDEFGHIJKLMNOPQRSTUVWXYZ!@#$%^&*()?\"\n",
    "sifra = separator.join(random.sample(s,duzina_sifre))\n",
    "sifra"
   ]
  },
  {
   "cell_type": "code",
   "execution_count": 230,
   "metadata": {},
   "outputs": [],
   "source": [
    "lista = np.arange(1,101)"
   ]
  },
  {
   "cell_type": "code",
   "execution_count": 231,
   "metadata": {},
   "outputs": [
    {
     "data": {
      "text/plain": [
       "array([  1,   2,   3,   4,   5,   6,   7,   8,   9,  10,  11,  12,  13,\n",
       "        14,  15,  16,  17,  18,  19,  20,  21,  22,  23,  24,  25,  26,\n",
       "        27,  28,  29,  30,  31,  32,  33,  34,  35,  36,  37,  38,  39,\n",
       "        40,  41,  42,  43,  44,  45,  46,  47,  48,  49,  50,  51,  52,\n",
       "        53,  54,  55,  56,  57,  58,  59,  60,  61,  62,  63,  64,  65,\n",
       "        66,  67,  68,  69,  70,  71,  72,  73,  74,  75,  76,  77,  78,\n",
       "        79,  80,  81,  82,  83,  84,  85,  86,  87,  88,  89,  90,  91,\n",
       "        92,  93,  94,  95,  96,  97,  98,  99, 100])"
      ]
     },
     "execution_count": 231,
     "metadata": {},
     "output_type": "execute_result"
    }
   ],
   "source": [
    "lista"
   ]
  },
  {
   "cell_type": "code",
   "execution_count": 233,
   "metadata": {},
   "outputs": [
    {
     "data": {
      "text/plain": [
       "[42, 19, 69, 93, 73, 50, 99, 14, 89, 72]"
      ]
     },
     "execution_count": 233,
     "metadata": {},
     "output_type": "execute_result"
    }
   ],
   "source": [
    "random.sample(list(lista), 10)"
   ]
  },
  {
   "cell_type": "code",
   "execution_count": 237,
   "metadata": {},
   "outputs": [
    {
     "name": "stdout",
     "output_type": "stream",
     "text": [
      "Kamen, Papir ili Makaze?Kamen\n",
      "Pobedio si! Kamen razbio Makaze\n",
      "Kamen, Papir ili Makaze?Kamen\n",
      "Pobedio si! Kamen razbio Makaze\n",
      "Kamen, Papir ili Makaze?Makaze\n",
      "Pobedio si! Makaze isekao Papir\n",
      "Kamen, Papir ili Makaze?Kamen\n",
      "Nereseno!\n",
      "Kamen, Papir ili Makaze?Kraj\n",
      "Finalni skor:\n",
      "CPU:0\n",
      "Igrac:3\n"
     ]
    }
   ],
   "source": [
    "# Papir Kamen Makaze\n",
    "\n",
    "import random\n",
    "choices = [\"Kamen\", \"Papir\", \"Makaze\"]\n",
    "computer = random.choice(choices)\n",
    "player = False\n",
    "cpu_score = 0\n",
    "player_score = 0\n",
    "while True:\n",
    "    computer = random.choice(choices)\n",
    "    player = input(\"Kamen, Papir ili Makaze?\").capitalize()\n",
    "    ## Conditions of Rock,Paper and Scissors\n",
    "    if player == computer:\n",
    "        print(\"Nereseno!\")\n",
    "    elif player == \"Kamen\":\n",
    "        if computer == \"Papir\":\n",
    "            print(\"Izgubio si!\", computer, \"prekrio\", player)\n",
    "            cpu_score+=1\n",
    "        else:\n",
    "            print(\"Pobedio si!\", player, \"razbio\", computer)\n",
    "            player_score+=1\n",
    "    elif player == \"Papir\":\n",
    "        if computer == \"Makaze\":\n",
    "            print(\"Izgubio si!\", computer, \"isekao\", player)\n",
    "            cpu_score+=1\n",
    "        else:\n",
    "            print(\"Pobedio si!\", player, \"prekrio\", computer)\n",
    "            player_score+=1\n",
    "    elif player == \"Makaze\":\n",
    "        if computer == \"Kamen\":\n",
    "            print(\"Izgubio si...\", computer, \"razbio\", player)\n",
    "            cpu_score+=1\n",
    "        else:\n",
    "            print(\"Pobedio si!\", player, \"isekao\", computer)\n",
    "            player_score+=1\n",
    "    elif player=='Kraj':\n",
    "        print(\"Finalni skor:\")\n",
    "        print(f\"CPU:{cpu_score}\")\n",
    "        print(f\"Igrac:{player_score}\")\n",
    "        break"
   ]
  },
  {
   "cell_type": "code",
   "execution_count": 243,
   "metadata": {
    "scrolled": true
   },
   "outputs": [
    {
     "name": "stdout",
     "output_type": "stream",
     "text": [
      "Bacamo kocke...\n",
      "2\n",
      "Da li zelite opet ukucaj yes ili y za da?\n",
      "y\n",
      "Bacamo kocke...\n",
      "6\n",
      "Da li zelite opet ukucaj yes ili y za da?\n",
      "y\n",
      "Bacamo kocke...\n",
      "3\n",
      "Da li zelite opet ukucaj yes ili y za da?\n",
      "n\n"
     ]
    }
   ],
   "source": [
    "#Simulacija sestostrane kocke\n",
    "\n",
    "min_value=1\n",
    "max_value=6\n",
    "roll_again='yes'\n",
    "while roll_again == \"yes\" or roll_again == \"y\":\n",
    "    print('Bacamo kocke...')\n",
    "    print(random.randint(min_value,max_value))\n",
    "    print('Da li zelite opet ukucaj yes ili y za da?')\n",
    "    roll_again = input()\n",
    "          \n"
   ]
  },
  {
   "cell_type": "code",
   "execution_count": 244,
   "metadata": {},
   "outputs": [
    {
     "name": "stdout",
     "output_type": "stream",
     "text": [
      "Guess the Animal\n",
      "Which bear lives at the North Pole? polar bear\n",
      "Correct Answer\n",
      "Which is the fastest land animal? Cheetah\n",
      "Correct Answer\n",
      "Which is the larget animal? Blue Whale\n",
      "Correct Answer\n",
      "Your Score is 3\n"
     ]
    }
   ],
   "source": [
    "\n",
    "def check_guess(guess, answer):\n",
    "    global score\n",
    "    still_guessing = True\n",
    "    attempt = 0\n",
    "    while still_guessing and attempt < 3:\n",
    "        if guess.lower() == answer.lower():\n",
    "            print(\"Correct Answer\")\n",
    "            score = score + 1\n",
    "            still_guessing = False\n",
    "        else:\n",
    "            if attempt < 2:\n",
    "                guess = input(\"Sorry Wrong Answer, try again\")\n",
    "            attempt = attempt + 1\n",
    "    if attempt == 3:\n",
    "        print(\"The Correct answer is \",answer )\n",
    "    \n",
    "score = 0\n",
    "print(\"Guess the Animal\")\n",
    "guess1 = input(\"Which bear lives at the North Pole? \")\n",
    "check_guess(guess1, \"polar bear\")\n",
    "guess2 = input(\"Which is the fastest land animal? \")\n",
    "check_guess(guess2, \"Cheetah\")\n",
    "guess3 = input(\"Which is the larget animal? \")\n",
    "check_guess(guess3, \"Blue Whale\")\n",
    "print(\"Your Score is \"+ str(score))"
   ]
  },
  {
   "cell_type": "code",
   "execution_count": 262,
   "metadata": {},
   "outputs": [],
   "source": [
    "# Funkcija koja prebacuje rimske u arapske brojeve\n",
    "rimski_brojevi = {\n",
    "    'I': 1,\n",
    "    'V': 5,\n",
    "    'X': 10,\n",
    "    'L': 50,\n",
    "    'C': 100,\n",
    "    'D': 500,\n",
    "    'M': 1000}"
   ]
  },
  {
   "cell_type": "code",
   "execution_count": 264,
   "metadata": {},
   "outputs": [],
   "source": [
    "def roman_to_arab(rimski_broj):\n",
    "    suma = 0\n",
    "    for rimska_cifra in range(len(rimski_broj)-1):\n",
    "        leva = rimski_broj[rimska_cifra]\n",
    "        desna=rimski_broj[rimska_cifra+1]\n",
    "        if rimski_brojevi[leva]>rimski_brojevi[desna]:\n",
    "            suma += rimski_brojevi[leva]\n",
    "        else:\n",
    "            suma -=rimski_brojevi[leva]\n",
    "    suma += rimski_brojevi[rimski_broj[-1]]\n",
    "    return suma"
   ]
  },
  {
   "cell_type": "code",
   "execution_count": 274,
   "metadata": {},
   "outputs": [
    {
     "data": {
      "text/plain": [
       "9"
      ]
     },
     "execution_count": 274,
     "metadata": {},
     "output_type": "execute_result"
    }
   ],
   "source": [
    "roman_to_arab('IX')"
   ]
  },
  {
   "cell_type": "code",
   "execution_count": 257,
   "metadata": {},
   "outputs": [
    {
     "name": "stdout",
     "output_type": "stream",
     "text": [
      "0\n",
      "1\n"
     ]
    }
   ],
   "source": [
    "for i in range(len(lista)-1):\n",
    "    print(i)"
   ]
  }
 ],
 "metadata": {
  "kernelspec": {
   "display_name": "Python 3",
   "language": "python",
   "name": "python3"
  },
  "language_info": {
   "codemirror_mode": {
    "name": "ipython",
    "version": 3
   },
   "file_extension": ".py",
   "mimetype": "text/x-python",
   "name": "python",
   "nbconvert_exporter": "python",
   "pygments_lexer": "ipython3",
   "version": "3.8.5"
  }
 },
 "nbformat": 4,
 "nbformat_minor": 4
}
