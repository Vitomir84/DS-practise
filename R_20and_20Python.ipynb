{
 "cells": [
  {
   "cell_type": "markdown",
   "metadata": {},
   "source": [
    "Kodovi iz knjige Data Science from the Scratch - Joel Grus"
   ]
  },
  {
   "cell_type": "code",
   "execution_count": null,
   "metadata": {},
   "outputs": [],
   "source": [
    "#Basic Python plus moje igrarije"
   ]
  },
  {
   "cell_type": "code",
   "execution_count": 69,
   "metadata": {
    "scrolled": true
   },
   "outputs": [
    {
     "name": "stdout",
     "output_type": "stream",
     "text": [
      "1\n",
      "1\n",
      "2\n",
      "1\n",
      "3\n",
      "1\n",
      "4\n",
      "1\n",
      "2\n",
      "2\n",
      "3\n",
      "2\n",
      "4\n",
      "2\n",
      "5\n",
      "2\n",
      "done looping\n"
     ]
    }
   ],
   "source": [
    "for i in [1, 2]:\n",
    "    print (i)# first line in \"for i\" block\n",
    "    for j in [1, 2, 3]:\n",
    "        print (i) # first line in \"for j\" block\n",
    "        print (i + j) # last line in \"for j\" block\n",
    "    print (i) # last line in \"for i\" block\n",
    "print (\"done looping\")"
   ]
  },
  {
   "cell_type": "code",
   "execution_count": 10,
   "metadata": {
    "scrolled": false
   },
   "outputs": [
    {
     "name": "stdout",
     "output_type": "stream",
     "text": [
      "1\n",
      "7\n",
      "9\n",
      "99\n",
      "1\n",
      "2\n",
      "7\n",
      "9\n",
      "99\n",
      "2\n",
      "done looping\n"
     ]
    }
   ],
   "source": [
    "for i in [1, 2]:\n",
    "    print (i)# first line in \"for i\" block\n",
    "    for j in [7,9,99]:\n",
    "        print (j) # last line in \"for j\" block\n",
    "    print (i) # last line in \"for i\" block\n",
    "print (\"done looping\")"
   ]
  },
  {
   "cell_type": "code",
   "execution_count": 14,
   "metadata": {},
   "outputs": [],
   "source": [
    "#Functions\n",
    "def double(x):\n",
    "    \"\"\"this is where you put an optional docstring\n",
    "that explains what the function does.\n",
    "for example, this function multiplies its input by 2\"\"\"\n",
    "    return x * 2"
   ]
  },
  {
   "cell_type": "code",
   "execution_count": 16,
   "metadata": {},
   "outputs": [],
   "source": [
    "def apply_to_one(f):\n",
    "    \"\"\"calls the function f with 1 as its argument\"\"\"\n",
    "    return f(1)"
   ]
  },
  {
   "cell_type": "code",
   "execution_count": 17,
   "metadata": {},
   "outputs": [
    {
     "data": {
      "text/plain": [
       "2"
      ]
     },
     "execution_count": 17,
     "metadata": {},
     "output_type": "execute_result"
    }
   ],
   "source": [
    "my_double = double # refers to the previously defined function\n",
    "x = apply_to_one(my_double) # equals 2\n",
    "x"
   ]
  },
  {
   "cell_type": "code",
   "execution_count": 35,
   "metadata": {},
   "outputs": [],
   "source": [
    "def vita_cepa_mrezicu(a):\n",
    "    \"\"\"this cepa mrezicu\"\"\"\n",
    "    return a**3\n"
   ]
  },
  {
   "cell_type": "code",
   "execution_count": 40,
   "metadata": {},
   "outputs": [
    {
     "data": {
      "text/plain": [
       "216"
      ]
     },
     "execution_count": 40,
     "metadata": {},
     "output_type": "execute_result"
    }
   ],
   "source": [
    "#Funkcija poziva drugu funkciju\n",
    "c = vita_cepa_mrezicu(double(3))\n",
    "c"
   ]
  },
  {
   "cell_type": "markdown",
   "metadata": {},
   "source": [
    "STRINGS"
   ]
  },
  {
   "cell_type": "code",
   "execution_count": 41,
   "metadata": {},
   "outputs": [
    {
     "data": {
      "text/plain": [
       "1"
      ]
     },
     "execution_count": 41,
     "metadata": {},
     "output_type": "execute_result"
    }
   ],
   "source": [
    "tab_string = \"\\t\" # represents the tab character\n",
    "len(tab_string) # is 1"
   ]
  },
  {
   "cell_type": "code",
   "execution_count": 42,
   "metadata": {},
   "outputs": [
    {
     "data": {
      "text/plain": [
       "2"
      ]
     },
     "execution_count": 42,
     "metadata": {},
     "output_type": "execute_result"
    }
   ],
   "source": [
    "not_tab_string = r\"\\t\" # represents the characters '\\' and 't'\n",
    "len(not_tab_string) # is 2"
   ]
  },
  {
   "cell_type": "markdown",
   "metadata": {},
   "source": [
    "LISTS"
   ]
  },
  {
   "cell_type": "code",
   "execution_count": 59,
   "metadata": {
    "scrolled": true
   },
   "outputs": [],
   "source": [
    "#Probably the most fundamental data structure in Python is the list. A list is simply\n",
    "#an ordered collection. (It is similar to what in other languages might be called an\n",
    "#array, but with some added functionality.)\n",
    "integer_list = [1, 2, 3]\n",
    "heterogeneous_list = [\"string\", 0.1, True]\n",
    "list_of_lists = [ integer_list, heterogeneous_list, [] ]\n",
    "list_length = len(integer_list) # equals 3\n",
    "list_sum = sum(integer_list) # equals 6\n",
    "#You can get or set the nth element of a list with square brackets:\n",
    "x=range(1,10) # is the list [0, 1, ..., 9]"
   ]
  },
  {
   "cell_type": "code",
   "execution_count": 61,
   "metadata": {},
   "outputs": [],
   "source": [
    "zero = x[0] # equals 0, lists are 0-indexed\n",
    "one = x[1] # equals 1\n",
    "nine = x[-1] # equals 9, 'Pythonic' for last element\n",
    "eight = x[-2] # equals 8, 'Pythonic' for next-to-last element\n",
    "x[0]# now x is [-1, 1, 2, 3, ..., 9]\n",
    "#You can also use square brackets to “slice” lists:\n",
    "first_three = x[:3] # [-1, 1, 2]\n",
    "three_to_end = x[3:] # [3, 4, ..., 9]\n",
    "one_to_four = x[1:5] # [1, 2, 3, 4]\n",
    "last_three = x[-3:] # [7, 8, 9]\n",
    "without_first_and_last = x[1:-1] # [1, 2, ..., 8]\n",
    "copy_of_x = x[:] # [-1, 1, 2, ..., 9]"
   ]
  },
  {
   "cell_type": "code",
   "execution_count": 66,
   "metadata": {},
   "outputs": [
    {
     "data": {
      "text/plain": [
       "[1, 2]"
      ]
     },
     "execution_count": 66,
     "metadata": {},
     "output_type": "execute_result"
    }
   ],
   "source": [
    "x = list(x)\n",
    "x[:2]"
   ]
  },
  {
   "cell_type": "code",
   "execution_count": 71,
   "metadata": {},
   "outputs": [
    {
     "data": {
      "text/plain": [
       "[1, 2, 3, 0]"
      ]
     },
     "execution_count": 71,
     "metadata": {},
     "output_type": "execute_result"
    }
   ],
   "source": [
    "#It is easy to concatenate lists together:\n",
    "x = [1, 2, 3]\n",
    "x.extend([4, 5, 6]) # x is now [1,2,3,4,5,6]\n",
    "#If you don’t want to modify x you can use list addition:\n",
    "x = [1, 2, 3]\n",
    "y = x + [4, 5, 6] # y is [1, 2, 3, 4, 5, 6]; x is unchanged\n",
    "#More frequently we will append to lists one item at a time:\n",
    "x = [1, 2, 3]\n",
    "x.append(0)\n",
    "x"
   ]
  },
  {
   "cell_type": "code",
   "execution_count": 73,
   "metadata": {},
   "outputs": [
    {
     "data": {
      "text/plain": [
       "2"
      ]
     },
     "execution_count": 73,
     "metadata": {},
     "output_type": "execute_result"
    }
   ],
   "source": [
    "#It is often convenient to unpack lists if you know how many elements they contain:\n",
    "x, y = [1, 2] # now x is 1, y is 2 although you will get a ValueError if you don’t have the same numbers of elements\n",
    "#on both sides.\n",
    "#It’s common to use an underscore for a value you’re going to throw away:\n",
    "_, y = [1, 2] # now y == 2, didn't care about the first element\n",
    "x\n",
    "y"
   ]
  },
  {
   "cell_type": "code",
   "execution_count": 87,
   "metadata": {},
   "outputs": [
    {
     "data": {
      "text/plain": [
       "2"
      ]
     },
     "execution_count": 87,
     "metadata": {},
     "output_type": "execute_result"
    }
   ],
   "source": [
    "x, y = [1, 2]\n",
    "y"
   ]
  },
  {
   "cell_type": "code",
   "execution_count": 91,
   "metadata": {},
   "outputs": [
    {
     "data": {
      "text/plain": [
       "2"
      ]
     },
     "execution_count": 91,
     "metadata": {},
     "output_type": "execute_result"
    }
   ],
   "source": [
    "#swap\n",
    "x,y = y,x\n",
    "y\n",
    "#ali ne radi dobro ako je lista"
   ]
  },
  {
   "cell_type": "code",
   "execution_count": null,
   "metadata": {},
   "outputs": [],
   "source": [
    "#TUPLES\n",
    "my_list = [1, 2]\n",
    "my_tuple = (1, 2)\n",
    "other_tuple = 3, 4\n",
    "my_list[1] = 3"
   ]
  },
  {
   "cell_type": "code",
   "execution_count": 95,
   "metadata": {},
   "outputs": [
    {
     "data": {
      "text/plain": [
       "1"
      ]
     },
     "execution_count": 95,
     "metadata": {},
     "output_type": "execute_result"
    }
   ],
   "source": [
    "#Tuples are a convenient way to return multiple values from functions:\n",
    "def sum_and_product(x, y):\n",
    "    return (x + y),(x * y)\n",
    "sp = sum_and_product(2, 3) # equals (5, 6)\n",
    "s, p = sum_and_product(5, 10) # s is 15, p is 50\n",
    "#Tuples (and lists) can also be used for multiple assignment:\n",
    "x, y = 1, 2 # now x is 1, y is 2\n",
    "x, y = y, x # Pythonic way to swap variables; now x is 2, y is 1\n",
    "y"
   ]
  },
  {
   "cell_type": "code",
   "execution_count": 100,
   "metadata": {
    "scrolled": true
   },
   "outputs": [
    {
     "data": {
      "text/plain": [
       "True"
      ]
     },
     "execution_count": 100,
     "metadata": {},
     "output_type": "execute_result"
    }
   ],
   "source": [
    "#DICTIONARIES\n",
    "#Another fundamental data structure is a dictionary, which associates values with keys\n",
    "#and allows you to quickly retrieve the value corresponding to a given key:\n",
    "empty_dict = {} # Pythonic\n",
    "empty_dict2 = dict() # less Pythonic\n",
    "grades = { \"Joel\" : 80, \"Tim\" : 95 } # dictionary literal\n",
    "#You can look up the value for a key using square brackets:\n",
    "joels_grade = grades[\"Joel\"] # equals 80\n",
    "#But you’ll get a KeyError if you ask for a key that’s not in the dictionary:\n",
    "#try:\n",
    "#kates_grade = grades[\"Kate\"]\n",
    "#You can check for the existence of a key using in:\n",
    "joel_has_grade = \"Joel\" in grades # True\n",
    "kate_has_grade = \"Kate\" in grades # False\n",
    "#Dictionaries have a get method that returns a default value (instead of raising an\n",
    "#exception) when you look up a key that’s not in the dictionary:\n",
    "joels_grade = grades.get(\"Joel\", 0) # equals 80\n",
    "kates_grade = grades.get(\"Kate\", 0) # equals 0\n",
    "no_ones_grade = grades.get(\"No One\") # default default is None\n",
    "#You assign key-value pairs using the same square brackets:\n",
    "grades[\"Tim\"] = 99 # replaces the old value\n",
    "grades[\"Kate\"] = 100 # adds a third entry\n",
    "num_students = len(grades) # equals 3\n",
    "#We will frequently use dictionaries as a simple way to represent structured data:\n",
    "tweet = {\n",
    "\"user\" : \"joelgrus\",\n",
    "\"text\" : \"Data Science is Awesome\",\n",
    "\"retweet_count\" : 100,\n",
    "\"hashtags\" : [\"#data\", \"#science\", \"#datascience\", \"#awesome\", \"#yolo\"]\n",
    "}\n",
    "#Besides looking for specific keys we can look at all of them:\n",
    "tweet_keys = tweet.keys() # list of keys\n",
    "tweet_values = tweet.values() # list of values\n",
    "tweet_items = tweet.items() # list of (key, value) tuples\n",
    "\"user\" in tweet_keys # True, but uses a slow list in\n",
    "\"user\" in tweet # more Pythonic, uses faster dict in\n",
    "\"joelgrus\" in tweet_values # True\n",
    "#Dictionary keys must be immutable; in particular, you cannot use lists as keys. If\n",
    "#you need a multipart key, you should use a tuple or figure out a way to turn the key\n",
    "#into a string.\n"
   ]
  },
  {
   "cell_type": "code",
   "execution_count": 101,
   "metadata": {},
   "outputs": [
    {
     "data": {
      "text/plain": [
       "dict_keys(['user', 'text', 'retweet_count', 'hashtags'])"
      ]
     },
     "execution_count": 101,
     "metadata": {},
     "output_type": "execute_result"
    }
   ],
   "source": [
    "tweet.keys() "
   ]
  },
  {
   "cell_type": "code",
   "execution_count": 109,
   "metadata": {},
   "outputs": [
    {
     "data": {
      "text/plain": [
       "0"
      ]
     },
     "execution_count": 109,
     "metadata": {},
     "output_type": "execute_result"
    }
   ],
   "source": [
    "tweet.values()\n",
    "vita_grade = grades.get(\"Vita\", 0)\n",
    "joels_grade = grades[\"Joel\"] \n",
    "vita_grade"
   ]
  },
  {
   "cell_type": "code",
   "execution_count": null,
   "metadata": {},
   "outputs": [],
   "source": [
    "#defaultdict\n",
    "#Imagine that you’re trying to count the words in a document. An obvious approach is\n",
    "#to create a dictionary in which the keys are words and the values are counts. As you"
   ]
  },
  {
   "cell_type": "code",
   "execution_count": 112,
   "metadata": {},
   "outputs": [],
   "source": [
    "document=[\"vita\", \"mina\", \"ica\", \"vita\", \"ica\", \"mina\", \"deda\"]\n",
    "\n",
    "word_counts = {}\n",
    "for word in document:\n",
    "    if word in word_counts:\n",
    "        word_counts[word] += 1\n",
    "    else:\n",
    "        word_counts[word] = 1"
   ]
  },
  {
   "cell_type": "code",
   "execution_count": 113,
   "metadata": {
    "scrolled": true
   },
   "outputs": [
    {
     "data": {
      "text/plain": [
       "{'vita': 2, 'mina': 2, 'ica': 2, 'deda': 1}"
      ]
     },
     "execution_count": 113,
     "metadata": {},
     "output_type": "execute_result"
    }
   ],
   "source": [
    "word_counts"
   ]
  },
  {
   "cell_type": "code",
   "execution_count": 115,
   "metadata": {},
   "outputs": [],
   "source": [
    "word_counts = {}\n",
    "for word in document:\n",
    "    previous_count = word_counts.get(word, 0)\n",
    "    word_counts[word] = previous_count + 1"
   ]
  },
  {
   "cell_type": "code",
   "execution_count": 116,
   "metadata": {},
   "outputs": [
    {
     "data": {
      "text/plain": [
       "{'vita': 2, 'mina': 2, 'ica': 2, 'deda': 1}"
      ]
     },
     "execution_count": 116,
     "metadata": {},
     "output_type": "execute_result"
    }
   ],
   "source": [
    "word_counts"
   ]
  },
  {
   "cell_type": "code",
   "execution_count": 117,
   "metadata": {},
   "outputs": [],
   "source": [
    "#A defaultdict is like a regular dictionary, except that when you try to look up a key it\n",
    "#doesn’t contain, it first adds a value for it using a zero-argument function you provided\n",
    "#when you created it. In order to use defaultdicts, you have to import them\n",
    "#from collections:\n",
    "\n",
    "from collections import defaultdict\n",
    "word_counts = defaultdict(int) # int() produces 0\n",
    "for word in document:\n",
    "    word_counts[word] += 1\n",
    "#They can also be useful with list or dict or even your own functions:\n",
    "dd_list = defaultdict(list) # list() produces an empty list\n",
    "dd_list[2].append(1) # now dd_list contains {2: [1]}\n",
    "dd_dict = defaultdict(dict) # dict() produces an empty dict\n",
    "dd_dict[\"Joel\"][\"City\"] = \"Seattle\" # { \"Joel\" : { \"City\" : Seattle\"}}\n",
    "dd_pair = defaultdict(lambda: [0, 0])\n",
    "dd_pair[2][1] = 1 # now dd_pair contains {2: [0,1]}"
   ]
  },
  {
   "cell_type": "code",
   "execution_count": 118,
   "metadata": {},
   "outputs": [
    {
     "data": {
      "text/plain": [
       "defaultdict(int, {'vita': 2, 'mina': 2, 'ica': 2, 'deda': 1})"
      ]
     },
     "execution_count": 118,
     "metadata": {},
     "output_type": "execute_result"
    }
   ],
   "source": [
    "word_counts"
   ]
  },
  {
   "cell_type": "code",
   "execution_count": 121,
   "metadata": {},
   "outputs": [
    {
     "name": "stdout",
     "output_type": "stream",
     "text": [
      "vita 2\n",
      "mina 2\n",
      "ica 2\n",
      "deda 1\n"
     ]
    }
   ],
   "source": [
    "#Counter\n",
    "#A Counter turns a sequence of values into a defaultdict(int)-like object mapping\n",
    "#keys to counts. We will primarily use it to create histograms:\n",
    "from collections import Counter\n",
    "c = Counter([0, 1, 2, 0]) # c is (basically) { 0 : 2, 1 : 1, 2 : 1 }\n",
    "#This gives us a very simple way to solve our word_counts problem:\n",
    "word_counts = Counter(document)\n",
    "#A Counter instance has a most_common method that is frequently useful:\n",
    "# print the 10 most common words and their counts\n",
    "for word, count in word_counts.most_common(10):\n",
    "    print (word, count)"
   ]
  },
  {
   "cell_type": "code",
   "execution_count": 122,
   "metadata": {},
   "outputs": [
    {
     "data": {
      "text/plain": [
       "Counter({0: 2, 1: 1, 2: 1})"
      ]
     },
     "execution_count": 122,
     "metadata": {},
     "output_type": "execute_result"
    }
   ],
   "source": [
    "c"
   ]
  },
  {
   "cell_type": "code",
   "execution_count": 123,
   "metadata": {},
   "outputs": [
    {
     "data": {
      "text/plain": [
       "Counter({'vita': 2, 'mina': 2, 'ica': 2, 'deda': 1})"
      ]
     },
     "execution_count": 123,
     "metadata": {},
     "output_type": "execute_result"
    }
   ],
   "source": [
    "word_counts"
   ]
  },
  {
   "cell_type": "code",
   "execution_count": 127,
   "metadata": {},
   "outputs": [
    {
     "data": {
      "text/plain": [
       "'when all else fails use else (if you want to)'"
      ]
     },
     "execution_count": 127,
     "metadata": {},
     "output_type": "execute_result"
    }
   ],
   "source": [
    "#Control Flow\n",
    "#As in most programming languages, you can perform an action conditionally using if:\n",
    "if 1 > 2: \n",
    "    message=\"if only 1 were greater than two...\"\n",
    "elif 1 > 3:\n",
    "    message = \"elif stands for 'else if'\"\n",
    "else:\n",
    "    message = \"when all else fails use else (if you want to)\"\n",
    "message"
   ]
  },
  {
   "cell_type": "code",
   "execution_count": 129,
   "metadata": {},
   "outputs": [
    {
     "name": "stdout",
     "output_type": "stream",
     "text": [
      "0 is less than 10\n",
      "1 is less than 10\n",
      "2 is less than 10\n",
      "3 is less than 10\n",
      "4 is less than 10\n",
      "5 is less than 10\n",
      "6 is less than 10\n",
      "7 is less than 10\n",
      "8 is less than 10\n",
      "9 is less than 10\n"
     ]
    }
   ],
   "source": [
    "#You can also write a ternary if-then-else on one line, which we will do occasionally:\n",
    "parity = \"even\" if x % 2 == 0 else \"odd\"\n",
    "#Python has a while loop:\n",
    "x = 0\n",
    "while x < 10:\n",
    "    print (x, \"is less than 10\")\n",
    "    x += 1\n"
   ]
  },
  {
   "cell_type": "code",
   "execution_count": 134,
   "metadata": {},
   "outputs": [
    {
     "name": "stdout",
     "output_type": "stream",
     "text": [
      "0\n",
      "1\n",
      "2\n",
      "4\n"
     ]
    }
   ],
   "source": [
    "#VAZNO#If you need more-complex logic, you can use continue and break:\n",
    "for x in range(10):\n",
    "    if x == 3:\n",
    "        continue # go immediately to the next iteration\n",
    "    if x == 5:\n",
    "        break # quit the loop entirely\n",
    "    print (x)"
   ]
  },
  {
   "cell_type": "code",
   "execution_count": 152,
   "metadata": {},
   "outputs": [],
   "source": [
    "#Sorting\n",
    "\n",
    "x = [4,1,2,3]\n",
    "y = sorted(x) # is [1,2,3,4], x is unchanged\n",
    "x.sort() # now x is [1,2,3,4]\n",
    "# sort the list by absolute value from largest to smallest\n",
    "x = sorted([-4,1,-2,3], key=abs, reverse=True) # is [-4,3,-2,1]\n",
    "# sort the words and counts from highest count to lowest\n",
    "wc = sorted(word_counts.items(), \n",
    "            reverse=False)"
   ]
  },
  {
   "cell_type": "code",
   "execution_count": 153,
   "metadata": {
    "scrolled": true
   },
   "outputs": [
    {
     "data": {
      "text/plain": [
       "[('deda', 1), ('ica', 2), ('mina', 2), ('vita', 2)]"
      ]
     },
     "execution_count": 153,
     "metadata": {},
     "output_type": "execute_result"
    }
   ],
   "source": [
    "wc"
   ]
  },
  {
   "cell_type": "code",
   "execution_count": 155,
   "metadata": {},
   "outputs": [],
   "source": [
    "#Vazn#List Comprehensions\n",
    "#Frequently, you’ll want to transform a list into another list, by choosing only certain\n",
    "#elements, or by transforming elements, or both. The Pythonic way of doing this is list\n",
    "#comprehensions:\n",
    "even_numbers = [x for x in range(5) if x % 2 == 0] # [0, 2, 4]\n",
    "squares = [x * x for x in range(5)] # [0, 1, 4, 9, 16]\n",
    "even_squares = [x * x for x in even_numbers] # [0, 4, 16]"
   ]
  },
  {
   "cell_type": "code",
   "execution_count": 168,
   "metadata": {},
   "outputs": [
    {
     "name": "stdout",
     "output_type": "stream",
     "text": [
      "[0, 2, 4, 6, 8, 10, 12, 14, 16, 18, 20, 22, 24, 26, 28, 30, 32, 34, 36, 38, 40, 42, 44, 46, 48, 50, 52, 54, 56, 58, 60, 62, 64, 66, 68, 70, 72, 74, 76, 78, 80, 82, 84, 86, 88, 90, 92, 94, 96, 98]  \n"
     ]
    }
   ],
   "source": [
    "even_numbers = [x for x in range(100) if x % 2 == 0]\n",
    "print(even_numbers, \" \")"
   ]
  },
  {
   "cell_type": "code",
   "execution_count": 170,
   "metadata": {},
   "outputs": [
    {
     "data": {
      "text/plain": [
       "{0: 0, 1: 1, 2: 4, 3: 9, 4: 16}"
      ]
     },
     "execution_count": 170,
     "metadata": {},
     "output_type": "execute_result"
    }
   ],
   "source": [
    "#You can similarly turn lists into dictionaries or sets:\n",
    "square_dict = { x : x * x for x in range(5) } # { 0:0, 1:1, 2:4, 3:9, 4:16 }\n",
    "square_set = { x * x for x in [1, -1] } # { 1 }\n",
    "square_dict"
   ]
  },
  {
   "cell_type": "code",
   "execution_count": 188,
   "metadata": {},
   "outputs": [
    {
     "name": "stdout",
     "output_type": "stream",
     "text": [
      "[(1, 1), (1, 2), (1, 3), (1, 4), (1, 5), (1, 6), (2, 1), (2, 2), (2, 3), (2, 4), (2, 5), (2, 6), (3, 1), (3, 2), (3, 3), (3, 4), (3, 5), (3, 6), (4, 1), (4, 2), (4, 3), (4, 4), (4, 5), (4, 6), (5, 1), (5, 2), (5, 3), (5, 4), (5, 5), (5, 6), (6, 1), (6, 2), (6, 3), (6, 4), (6, 5), (6, 6)]\n"
     ]
    }
   ],
   "source": [
    "#If you don’t need the value from the list, it’s conventional to use an underscore as the\n",
    "#variable:\n",
    "zeroes = [0 for _ in even_numbers] # has the same length as even_numbers\n",
    "#A list comprehension can include multiple fors:\n",
    "pairs = [(x, y)\n",
    "for x in range(1,7)\n",
    "         for y in range(1,7)] # 100 pairs (0,0) (0,1) ... (9,8), (9,9)\n",
    "print(pairs)"
   ]
  },
  {
   "cell_type": "code",
   "execution_count": 191,
   "metadata": {},
   "outputs": [
    {
     "data": {
      "text/plain": [
       "36"
      ]
     },
     "execution_count": 191,
     "metadata": {},
     "output_type": "execute_result"
    }
   ],
   "source": [
    "import numpy as np\n",
    "#x = np.reshape(pairs, (6,6))\n",
    "len(pairs)"
   ]
  },
  {
   "cell_type": "code",
   "execution_count": 192,
   "metadata": {},
   "outputs": [],
   "source": [
    "#and later fors can use the results of earlier ones:\n",
    "increasing_pairs = [(x, y) # only pairs with x < y,\n",
    "for x in range(10) # range(lo, hi) equals\n",
    "for y in range(x + 1, 10)] # [lo, lo + 1, ..., hi - 1]\n",
    "#We will use list comprehensions a lot."
   ]
  },
  {
   "cell_type": "code",
   "execution_count": 264,
   "metadata": {},
   "outputs": [],
   "source": [
    "def reverse(list):\n",
    "    rev=[]\n",
    "    i=len(list)-1\n",
    "    while i>=0:\n",
    "        rev.append(list[i])\n",
    "        i=i-1\n",
    "    return rev"
   ]
  },
  {
   "cell_type": "code",
   "execution_count": 266,
   "metadata": {
    "scrolled": true
   },
   "outputs": [],
   "source": [
    "vita = []\n",
    "for i in range (1,7):\n",
    "    for j in range (1,7):\n",
    "        vita.append((i,j))"
   ]
  },
  {
   "cell_type": "code",
   "execution_count": 271,
   "metadata": {},
   "outputs": [
    {
     "data": {
      "text/plain": [
       "36"
      ]
     },
     "execution_count": 271,
     "metadata": {},
     "output_type": "execute_result"
    }
   ],
   "source": [
    "len(vita)"
   ]
  },
  {
   "cell_type": "code",
   "execution_count": 272,
   "metadata": {},
   "outputs": [],
   "source": [
    "vita = []\n",
    "for i in range (1,7):\n",
    "    for j in range (i+1,7):\n",
    "        vita.append((i,j))"
   ]
  },
  {
   "cell_type": "code",
   "execution_count": 273,
   "metadata": {
    "scrolled": true
   },
   "outputs": [
    {
     "data": {
      "text/plain": [
       "[(1, 2),\n",
       " (1, 3),\n",
       " (1, 4),\n",
       " (1, 5),\n",
       " (1, 6),\n",
       " (2, 3),\n",
       " (2, 4),\n",
       " (2, 5),\n",
       " (2, 6),\n",
       " (3, 4),\n",
       " (3, 5),\n",
       " (3, 6),\n",
       " (4, 5),\n",
       " (4, 6),\n",
       " (5, 6)]"
      ]
     },
     "execution_count": 273,
     "metadata": {},
     "output_type": "execute_result"
    }
   ],
   "source": [
    "vita"
   ]
  },
  {
   "cell_type": "code",
   "execution_count": 276,
   "metadata": {},
   "outputs": [],
   "source": [
    "#OBJECT ORIENTED PROGRAMMING CLASSES\n",
    "#Like many languages, Python allows you to define classes that encapsulate data and\n",
    "#the functions that operate on them. We’ll use them sometimes to make our code\n",
    "#cleaner and simpler. It’s probably simplest to explain them by constructing a heavily\n",
    "#annotated example.\n",
    "#Imagine we didn’t have the built-in Python set. Then we might want to create our\n",
    "#own Set class.\n",
    "#What behavior should our class have? Given an instance of Set, we’ll need to be able\n",
    "#to add items to it, remove items from it, and check whether it contains a certain\n",
    "#value. We’ll create all of these as member functions, which means we’ll access them\n",
    "#with a dot after a Set object:\n",
    "# by convention, we give classes PascalCase names\n",
    "class Set:\n",
    "    # these are the member functions\n",
    "    # every one takes a first parameter \"self\" (another convention)\n",
    "    # that refers to the particular Set object being used\n",
    "    def __init__(self, values=None):\n",
    "        \"\"\"This is the constructor.\n",
    "        It gets called when you create a new Set.\n",
    "        You would use it like\n",
    "        s1 = Set() # empty set\n",
    "        s2 = Set([1,2,2,3]) # initialize with values\"\"\"\n",
    "        self.dict = {} # each instance of Set has its own dict property\n",
    "        # which is what we'll use to track memberships\n",
    "        if values is not None:\n",
    "            for value in values:\n",
    "                self.add(value)\n",
    "    def __repr__(self):\n",
    "        \"\"\"this is the string representation of a Set object\n",
    "        if you type it at the Python prompt or pass it to str()\"\"\"\n",
    "        return \"Set: \" + str(self.dict.keys()) \n",
    "    # we'll represent membership by being a key in self.dict with value True\n",
    "    def add(self, value):\n",
    "        self.dict[value] = True\n",
    "    # value is in the Set if it's a key in the dictionary\n",
    "    def contains(self, value):\n",
    "        return value in self.dict\n",
    "    def remove(self, value):\n",
    "        del self.dict[value]"
   ]
  },
  {
   "cell_type": "code",
   "execution_count": 278,
   "metadata": {},
   "outputs": [
    {
     "name": "stdout",
     "output_type": "stream",
     "text": [
      "True\n",
      "False\n"
     ]
    }
   ],
   "source": [
    "#Which we could then use like:\n",
    "s = Set([1,2,3])\n",
    "s.add(4)\n",
    "print (s.contains(4)) # True\n",
    "s.remove(3)\n",
    "print (s.contains(3)) # False"
   ]
  },
  {
   "cell_type": "code",
   "execution_count": 284,
   "metadata": {},
   "outputs": [],
   "source": [
    "#Functional Tools\n",
    "#When passing functions around, sometimes we’ll want to partially apply (or curry)\n",
    "#functions to create new functions. As a simple example, imagine that we have a function\n",
    "#of two variables:\n",
    "def exp(base, power):\n",
    "    return base ** power\n",
    "#and we want to use it to create a function of one variable two_to_the whose input is a\n",
    "#power and whose output is the result of exp(2, power).\n",
    "#We can, of course, do this with def, but this can sometimes get unwieldy:\n",
    "\n",
    "def two_to_the(power):\n",
    "    return exp(2, power)"
   ]
  },
  {
   "cell_type": "code",
   "execution_count": 287,
   "metadata": {},
   "outputs": [
    {
     "data": {
      "text/plain": [
       "9765625"
      ]
     },
     "execution_count": 287,
     "metadata": {},
     "output_type": "execute_result"
    }
   ],
   "source": [
    "exp(5,10)"
   ]
  },
  {
   "cell_type": "code",
   "execution_count": 288,
   "metadata": {},
   "outputs": [
    {
     "data": {
      "text/plain": [
       "32"
      ]
     },
     "execution_count": 288,
     "metadata": {},
     "output_type": "execute_result"
    }
   ],
   "source": [
    "two_to_the(5)#2 na 5"
   ]
  },
  {
   "cell_type": "code",
   "execution_count": 312,
   "metadata": {},
   "outputs": [
    {
     "name": "stdout",
     "output_type": "stream",
     "text": [
      "8\n",
      "9\n"
     ]
    }
   ],
   "source": [
    "#A different approach is to use functools.partial:\n",
    "from functools import partial\n",
    "two_to_the = partial(exp, 2) # is now a function of one variable\n",
    "print (two_to_the(3)) # 8\n",
    "#You can also use partial to fill in later arguments if you specify their names:\n",
    "square_of = partial(exp, power=2)\n",
    "print (square_of(3)) # 9\n",
    "#It starts to get messy if you curry arguments in the middle of the function, so we’ll try\n",
    "#to avoid doing that."
   ]
  },
  {
   "cell_type": "code",
   "execution_count": 290,
   "metadata": {},
   "outputs": [],
   "source": [
    "#We will also occasionally use map, reduce, and filter, which provide functional\n",
    "#alternatives to list comprehensions:\n",
    "\n",
    "#map\n",
    "\n",
    "def double(x):\n",
    "    return 2 * x\n",
    "xs = [1, 2, 3, 4]\n",
    "twice_xs = [double(x) for x in xs] # [2, 4, 6, 8]\n",
    "twice_xs = map(double, xs) # same as above\n",
    "list_doubler = partial(map, double) # *function* that doubles a list\n",
    "twice_xs = list_doubler(xs) # again [2, 4, 6, 8]\n",
    "#You can use map with multiple-argument functions if you provide multiple lists:\n",
    "def multiply(x, y): \n",
    "    return x * y\n",
    "products = map(multiply, [1, 2], [4, 5]) # [1 * 4, 2 * 5] = [4, 10]"
   ]
  },
  {
   "cell_type": "code",
   "execution_count": 300,
   "metadata": {},
   "outputs": [],
   "source": [
    "vita = [2,4,6,8,10]\n",
    "mina = []\n",
    "for i in vita:\n",
    "    mina.append(double(i))"
   ]
  },
  {
   "cell_type": "code",
   "execution_count": 301,
   "metadata": {},
   "outputs": [
    {
     "data": {
      "text/plain": [
       "[4, 8, 12, 16, 20]"
      ]
     },
     "execution_count": 301,
     "metadata": {},
     "output_type": "execute_result"
    }
   ],
   "source": [
    "mina"
   ]
  },
  {
   "cell_type": "code",
   "execution_count": 310,
   "metadata": {},
   "outputs": [],
   "source": [
    "ica = [double(x) for x in mina]"
   ]
  },
  {
   "cell_type": "code",
   "execution_count": 311,
   "metadata": {},
   "outputs": [
    {
     "data": {
      "text/plain": [
       "[8, 16, 24, 32, 40]"
      ]
     },
     "execution_count": 311,
     "metadata": {},
     "output_type": "execute_result"
    }
   ],
   "source": [
    "ica"
   ]
  },
  {
   "cell_type": "code",
   "execution_count": 327,
   "metadata": {},
   "outputs": [],
   "source": [
    "list_doubler = partial(map, double) # *function* that doubles a list\n",
    "giga = list_doubler(ica)"
   ]
  },
  {
   "cell_type": "code",
   "execution_count": 326,
   "metadata": {},
   "outputs": [],
   "source": [
    "#filter\n",
    "\n",
    "#Similarly, filter does the work of a list-comprehension if:\n",
    "def is_even(x):\n",
    "    \"\"\"True if x is even, False if x is odd\"\"\"\n",
    "    return x % 2 == 0\n",
    "x_evens = [x for x in xs if is_even(x)] # [2, 4]\n",
    "x_evens = filter(is_even, xs) # same as above\n",
    "list_evener = partial(filter, is_even) # *function* that filters a list\n",
    "x_evens = list_evener(xs) # again [2, 4]"
   ]
  },
  {
   "cell_type": "code",
   "execution_count": 325,
   "metadata": {},
   "outputs": [],
   "source": [
    "#reduce\n",
    "\n",
    "#And reduce combines the first two elements of a list, then that result with the third,\n",
    "#that result with the fourth, and so on, producing a single result:\n",
    "from functools import reduce\n",
    "x_product = reduce(multiply, xs) # = 1 * 2 * 3 * 4 = 24\n",
    "list_product = partial(reduce, multiply) # *function* that reduces a list\n",
    "x_product = list_product(xs) # again = 24"
   ]
  },
  {
   "cell_type": "code",
   "execution_count": 328,
   "metadata": {},
   "outputs": [],
   "source": [
    "vita = [100,200,300]\n",
    "def sum (x,y):\n",
    "    return x+y"
   ]
  },
  {
   "cell_type": "code",
   "execution_count": 330,
   "metadata": {},
   "outputs": [
    {
     "data": {
      "text/plain": [
       "600"
      ]
     },
     "execution_count": 330,
     "metadata": {},
     "output_type": "execute_result"
    }
   ],
   "source": [
    "ica = reduce(sum, vita)\n",
    "ica"
   ]
  },
  {
   "cell_type": "code",
   "execution_count": 8,
   "metadata": {},
   "outputs": [],
   "source": [
    "nula_kec = [0,0,1,1,0,1,2,3,0]\n",
    "def nula(x):\n",
    "    return x ==0"
   ]
  },
  {
   "cell_type": "code",
   "execution_count": 9,
   "metadata": {},
   "outputs": [
    {
     "name": "stdout",
     "output_type": "stream",
     "text": [
      "[0, 0, 0, 0]\n"
     ]
    }
   ],
   "source": [
    "samo_nule = list(filter(nula, nula_kec))\n",
    "print(samo_nule)"
   ]
  },
  {
   "cell_type": "code",
   "execution_count": 340,
   "metadata": {},
   "outputs": [],
   "source": [
    "list_evener = partial(filter, nula_kec) # *function* that filters a list\n",
    "samo_nule = list_evener(nula_kec)"
   ]
  },
  {
   "cell_type": "code",
   "execution_count": null,
   "metadata": {},
   "outputs": [],
   "source": [
    "#Enumerate\n",
    "\n",
    "# not Pythonic\n",
    "for i in range(len(documents)):\n",
    "    document = documents[i]\n",
    "    do_something(i, document)\n",
    "# also not Pythonic\n",
    "i = 0\n",
    "for document in documents:\n",
    "    do_something(i, document)\n",
    "    i += 1\n",
    "    \n",
    "#The Pythonic solution is enumerate, which produces tuples (index, element):\n",
    "for i, document in enumerate(documents):\n",
    "    do_something(i, document)\n",
    "#Similarly, if we just want the indexes:\n",
    "for i in range(len(documents)): \n",
    "    do_something(i) # not Pythonic\n",
    "for i, _ in enumerate(documents): \n",
    "    do_something(i) # Pythonic\n",
    "#We’ll use this a lot.\n"
   ]
  },
  {
   "cell_type": "code",
   "execution_count": 5,
   "metadata": {},
   "outputs": [],
   "source": [
    "#ZIP\n",
    "#zip and Argument Unpacking\n",
    "#Often we will need to zip two or more lists together. zip transforms multiple lists\n",
    "#into a single list of tuples of corresponding elements:\n",
    "list1 = ['a', 'b', 'c']\n",
    "list2 = [1, 2, 3]\n",
    "vita = list(zip(list1, list2))"
   ]
  },
  {
   "cell_type": "code",
   "execution_count": 6,
   "metadata": {
    "scrolled": true
   },
   "outputs": [
    {
     "data": {
      "text/plain": [
       "[('a', 1), ('b', 2), ('c', 3)]"
      ]
     },
     "execution_count": 6,
     "metadata": {},
     "output_type": "execute_result"
    }
   ],
   "source": [
    "vita"
   ]
  },
  {
   "cell_type": "code",
   "execution_count": 344,
   "metadata": {},
   "outputs": [],
   "source": [
    "#You can also “unzip” a list using a strange trick:\n",
    "\n",
    "pairs = [('a', 1), ('b', 2), ('c', 3)]\n",
    "letters, numbers = zip(*pairs)"
   ]
  },
  {
   "cell_type": "code",
   "execution_count": 346,
   "metadata": {},
   "outputs": [
    {
     "data": {
      "text/plain": [
       "(1, 2, 3)"
      ]
     },
     "execution_count": 346,
     "metadata": {},
     "output_type": "execute_result"
    }
   ],
   "source": [
    "letters\n",
    "numbers"
   ]
  }
 ],
 "metadata": {
  "kernelspec": {
   "display_name": "Python 3",
   "language": "python",
   "name": "python3"
  },
  "language_info": {
   "codemirror_mode": {
    "name": "ipython",
    "version": 3
   },
   "file_extension": ".py",
   "mimetype": "text/x-python",
   "name": "python",
   "nbconvert_exporter": "python",
   "pygments_lexer": "ipython3",
   "version": "3.8.5"
  }
 },
 "nbformat": 4,
 "nbformat_minor": 4
}
