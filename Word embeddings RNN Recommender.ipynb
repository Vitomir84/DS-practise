{
 "cells": [
  {
   "cell_type": "markdown",
   "metadata": {
    "id": "IZBRUaiBBEpa"
   },
   "source": [
    "##### Copyright 2019 The TensorFlow Authors."
   ]
  },
  {
   "cell_type": "code",
   "execution_count": 1,
   "metadata": {
    "cellView": "form",
    "execution": {
     "iopub.execute_input": "2020-09-23T02:01:08.534341Z",
     "iopub.status.busy": "2020-09-23T02:01:08.533598Z",
     "iopub.status.idle": "2020-09-23T02:01:08.535846Z",
     "shell.execute_reply": "2020-09-23T02:01:08.536284Z"
    },
    "id": "YS3NA-i6nAFC"
   },
   "outputs": [],
   "source": [
    "#@title Licensed under the Apache License, Version 2.0 (the \"License\");\n",
    "# you may not use this file except in compliance with the License.\n",
    "# You may obtain a copy of the License at\n",
    "#\n",
    "# https://www.apache.org/licenses/LICENSE-2.0\n",
    "#\n",
    "# Unless required by applicable law or agreed to in writing, software\n",
    "# distributed under the License is distributed on an \"AS IS\" BASIS,\n",
    "# WITHOUT WARRANTIES OR CONDITIONS OF ANY KIND, either express or implied.\n",
    "# See the License for the specific language governing permissions and\n",
    "# limitations under the License."
   ]
  },
  {
   "cell_type": "markdown",
   "metadata": {
    "id": "7SN5USFEIIK3"
   },
   "source": [
    "# Word embeddings"
   ]
  },
  {
   "cell_type": "markdown",
   "metadata": {
    "id": "Aojnnc7sXrab"
   },
   "source": [
    "<table class=\"tfo-notebook-buttons\" align=\"left\">\n",
    "  <td>\n",
    "    <a target=\"_blank\" href=\"https://www.tensorflow.org/tutorials/text/word_embeddings\">\n",
    "    <img src=\"https://www.tensorflow.org/images/tf_logo_32px.png\" />\n",
    "    View on TensorFlow.org</a>\n",
    "  </td>\n",
    "  <td>\n",
    "    <a target=\"_blank\" href=\"https://colab.research.google.com/github/tensorflow/docs/blob/master/site/en/tutorials/text/word_embeddings.ipynb\">\n",
    "    <img src=\"https://www.tensorflow.org/images/colab_logo_32px.png\" />\n",
    "    Run in Google Colab</a>\n",
    "  </td>\n",
    "  <td>\n",
    "    <a target=\"_blank\" href=\"https://github.com/tensorflow/docs/blob/master/site/en/tutorials/text/word_embeddings.ipynb\">\n",
    "    <img src=\"https://www.tensorflow.org/images/GitHub-Mark-32px.png\" />\n",
    "    View source on GitHub</a>\n",
    "  </td>\n",
    "  <td>\n",
    "    <a href=\"https://storage.googleapis.com/tensorflow_docs/docs/site/en/tutorials/text/word_embeddings.ipynb\"><img src=\"https://www.tensorflow.org/images/download_logo_32px.png\" />Download notebook</a>\n",
    "  </td>\n",
    "</table>"
   ]
  },
  {
   "cell_type": "markdown",
   "metadata": {
    "id": "Q6mJg1g3apaz"
   },
   "source": [
    "This tutorial contains an introduction to word embeddings. You will train your own word embeddings using a simple Keras model for a sentiment classification task, and then visualize them in the [Embedding Projector](http://projector.tensorflow.org) (shown in the image below). \n",
    "\n",
    "<img src=\"https://github.com/tensorflow/docs/blob/master/site/en/tutorials/text/images/embedding.jpg?raw=1\" alt=\"Screenshot of the embedding projector\" width=\"400\"/>\n",
    "\n",
    "## Representing text as numbers\n",
    "\n",
    "Machine learning models take vectors (arrays of numbers) as input. When working with text, the first thing you must do is come up with a strategy to convert strings to numbers (or to \"vectorize\" the text) before feeding it to the model. In this section, you will look at three strategies for doing so.\n",
    "\n",
    "### One-hot encodings\n",
    "\n",
    "As a first idea, you might \"one-hot\" encode each word in your vocabulary. Consider the sentence \"The cat sat on the mat\". The vocabulary (or unique words) in this sentence is (cat, mat, on, sat, the). To represent each word, you will create a zero vector with length equal to the vocabulary, then place a one in the index that corresponds to the word. This approach is shown in the following diagram.\n",
    "\n",
    "<img src=\"https://github.com/tensorflow/docs/blob/master/site/en/tutorials/text/images/one-hot.png?raw=1\" alt=\"Diagram of one-hot encodings\" width=\"400\" />\n",
    "\n",
    "To create a vector that contains the encoding of the sentence, you could then concatenate the one-hot vectors for each word.\n",
    "\n",
    "Key point: This approach is inefficient. A one-hot encoded vector is sparse (meaning, most indices are zero). Imagine you have 10,000 words in the vocabulary. To one-hot encode each word, you would create a vector where 99.99% of the elements are zero.\n",
    "\n",
    "### Encode each word with a unique number\n",
    "\n",
    "A second approach you might try is to encode each word using a unique number. Continuing the example above, you could assign 1 to \"cat\", 2 to \"mat\", and so on. You could then encode the sentence \"The cat sat on the mat\" as a dense vector like [5, 1, 4, 3, 5, 2]. This appoach is efficient. Instead of a sparse vector, you now have a dense one (where all elements are full).\n",
    "\n",
    "There are two downsides to this approach, however:\n",
    "\n",
    "* The integer-encoding is arbitrary (it does not capture any relationship between words).\n",
    "\n",
    "* An integer-encoding can be challenging for a model to interpret. A linear classifier, for example, learns a single weight for each feature. Because there is no relationship between the similarity of any two words and the similarity of their encodings, this feature-weight combination is not meaningful.\n",
    "\n",
    "### Word embeddings\n",
    "\n",
    "Word embeddings give us a way to use an efficient, dense representation in which similar words have a similar encoding. Importantly, you do not have to specify this encoding by hand. An embedding is a dense vector of floating point values (the length of the vector is a parameter you specify). Instead of specifying the values for the embedding manually, they are trainable parameters (weights learned by the model during training, in the same way a model learns weights for a dense layer). It is common to see word embeddings that are 8-dimensional (for small datasets), up to 1024-dimensions when working with large datasets. A higher dimensional embedding can capture fine-grained relationships between words, but takes more data to learn.\n",
    "\n",
    "<img src=\"https://github.com/tensorflow/docs/blob/master/site/en/tutorials/text/images/embedding2.png?raw=1\" alt=\"Diagram of an embedding\" width=\"400\"/>\n",
    "\n",
    "Above is a diagram for a word embedding. Each word is represented as a 4-dimensional vector of floating point values. Another way to think of an embedding is as \"lookup table\". After these weights have been learned, you can encode each word by looking up the dense vector it corresponds to in the table."
   ]
  },
  {
   "cell_type": "markdown",
   "metadata": {
    "id": "SZUQErGewZxE"
   },
   "source": [
    "## Setup"
   ]
  },
  {
   "cell_type": "code",
   "execution_count": 1,
   "metadata": {
    "execution": {
     "iopub.execute_input": "2020-09-23T02:01:08.541903Z",
     "iopub.status.busy": "2020-09-23T02:01:08.541265Z",
     "iopub.status.idle": "2020-09-23T02:01:15.053625Z",
     "shell.execute_reply": "2020-09-23T02:01:15.052960Z"
    },
    "id": "RutaI-Tpev3T"
   },
   "outputs": [],
   "source": [
    "import io\n",
    "import os\n",
    "import re\n",
    "import shutil\n",
    "import string\n",
    "import tensorflow as tf\n",
    "\n",
    "from datetime import datetime\n",
    "from tensorflow.keras import Model, Sequential\n",
    "from tensorflow.keras.layers import Activation, Dense, Embedding, GlobalAveragePooling1D\n",
    "from tensorflow.keras.layers.experimental.preprocessing import TextVectorization"
   ]
  },
  {
   "cell_type": "markdown",
   "metadata": {
    "id": "SBFctV8-JZOc"
   },
   "source": [
    "### Download the IMDb Dataset\n",
    "You will use the [Large Movie Review Dataset](http://ai.stanford.edu/~amaas/data/sentiment/) through the tutorial. You will train a sentiment classifier model on this dataset and in the process learn embeddings from scratch. To read more about loading a dataset from scratch, see the [Loading text tutorial](../load_data/text.ipynb).  \n",
    "\n",
    "Download the dataset using Keras file utility and take a look at the directories."
   ]
  },
  {
   "cell_type": "code",
   "execution_count": 2,
   "metadata": {
    "execution": {
     "iopub.execute_input": "2020-09-23T02:01:15.060473Z",
     "iopub.status.busy": "2020-09-23T02:01:15.059798Z",
     "iopub.status.idle": "2020-09-23T02:01:35.720462Z",
     "shell.execute_reply": "2020-09-23T02:01:35.721030Z"
    },
    "id": "aPO4_UmfF0KH"
   },
   "outputs": [
    {
     "name": "stdout",
     "output_type": "stream",
     "text": [
      "Downloading data from https://ai.stanford.edu/~amaas/data/sentiment/aclImdb_v1.tar.gz\n",
      "84131840/84125825 [==============================] - 39s 0us/step\n"
     ]
    },
    {
     "data": {
      "text/plain": [
       "['imdbEr.txt', 'test', 'imdb.vocab', 'README', 'train']"
      ]
     },
     "execution_count": 2,
     "metadata": {},
     "output_type": "execute_result"
    }
   ],
   "source": [
    "url = \"https://ai.stanford.edu/~amaas/data/sentiment/aclImdb_v1.tar.gz\"\n",
    "\n",
    "dataset = tf.keras.utils.get_file(\"aclImdb_v1.tar.gz\", url,\n",
    "                                    untar=True, cache_dir='.',\n",
    "                                    cache_subdir='')\n",
    "\n",
    "dataset_dir = os.path.join(os.path.dirname(dataset), 'aclImdb')\n",
    "os.listdir(dataset_dir)"
   ]
  },
  {
   "cell_type": "markdown",
   "metadata": {
    "id": "eY6yROZNKvbd"
   },
   "source": [
    "Take a look at the `train/` directory. It has `pos` and `neg` folders with movie reviews labelled as positive and negative respectively. You will use reviews from `pos` and `neg` folders to train a binary classification model."
   ]
  },
  {
   "cell_type": "code",
   "execution_count": 3,
   "metadata": {
    "execution": {
     "iopub.execute_input": "2020-09-23T02:01:35.726685Z",
     "iopub.status.busy": "2020-09-23T02:01:35.725501Z",
     "iopub.status.idle": "2020-09-23T02:01:35.730757Z",
     "shell.execute_reply": "2020-09-23T02:01:35.730150Z"
    },
    "id": "9-iOHJGN6SDu"
   },
   "outputs": [
    {
     "data": {
      "text/plain": [
       "['urls_unsup.txt',\n",
       " 'neg',\n",
       " 'urls_pos.txt',\n",
       " 'unsup',\n",
       " 'urls_neg.txt',\n",
       " 'pos',\n",
       " 'unsupBow.feat',\n",
       " 'labeledBow.feat']"
      ]
     },
     "execution_count": 3,
     "metadata": {},
     "output_type": "execute_result"
    }
   ],
   "source": [
    "train_dir = os.path.join(dataset_dir, 'train')\n",
    "os.listdir(train_dir)"
   ]
  },
  {
   "cell_type": "markdown",
   "metadata": {
    "id": "9O59BdioK8jY"
   },
   "source": [
    "The `train` directory also has additional folders which should be removed before creating training dataset."
   ]
  },
  {
   "cell_type": "code",
   "execution_count": 4,
   "metadata": {
    "execution": {
     "iopub.execute_input": "2020-09-23T02:01:35.735136Z",
     "iopub.status.busy": "2020-09-23T02:01:35.734512Z",
     "iopub.status.idle": "2020-09-23T02:01:36.651134Z",
     "shell.execute_reply": "2020-09-23T02:01:36.650378Z"
    },
    "id": "1_Vfi9oWMSh-"
   },
   "outputs": [],
   "source": [
    "remove_dir = os.path.join(train_dir, 'unsup')\n",
    "shutil.rmtree(remove_dir)"
   ]
  },
  {
   "cell_type": "markdown",
   "metadata": {
    "id": "oFoJjiEyJz9u"
   },
   "source": [
    "Next, create a `tf.data.Dataset` using `tf.keras.preprocessing.text_dataset_from_directory`. You can read more about using this utility in this [text classification tutorial](https://www.tensorflow.org/tutorials/keras/text_classification). \n",
    "\n",
    "Use the `train` directory to create both train and validation datasets with a split of 20% for validation."
   ]
  },
  {
   "cell_type": "code",
   "execution_count": 5,
   "metadata": {
    "execution": {
     "iopub.execute_input": "2020-09-23T02:01:36.658186Z",
     "iopub.status.busy": "2020-09-23T02:01:36.657117Z",
     "iopub.status.idle": "2020-09-23T02:01:40.354927Z",
     "shell.execute_reply": "2020-09-23T02:01:40.354410Z"
    },
    "id": "ItYD3TLkCOP1"
   },
   "outputs": [
    {
     "name": "stdout",
     "output_type": "stream",
     "text": [
      "Found 25000 files belonging to 2 classes.\n",
      "Using 20000 files for training.\n",
      "Found 25000 files belonging to 2 classes.\n",
      "Using 5000 files for validation.\n"
     ]
    }
   ],
   "source": [
    "batch_size = 1024\n",
    "seed = 123\n",
    "train_ds = tf.keras.preprocessing.text_dataset_from_directory(\n",
    "    'aclImdb/train', batch_size=batch_size, validation_split=0.2, \n",
    "    subset='training', seed=seed)\n",
    "val_ds = tf.keras.preprocessing.text_dataset_from_directory(\n",
    "    'aclImdb/train', batch_size=batch_size, validation_split=0.2, \n",
    "    subset='validation', seed=seed)"
   ]
  },
  {
   "cell_type": "markdown",
   "metadata": {
    "id": "eHa6cq0-Ym0g"
   },
   "source": [
    "Take a look at a few movie reviews and their labels `(1: positive, 0: negative)` from the train dataset.\n"
   ]
  },
  {
   "cell_type": "code",
   "execution_count": 43,
   "metadata": {
    "execution": {
     "iopub.execute_input": "2020-09-23T02:01:40.360252Z",
     "iopub.status.busy": "2020-09-23T02:01:40.359563Z",
     "iopub.status.idle": "2020-09-23T02:01:40.703847Z",
     "shell.execute_reply": "2020-09-23T02:01:40.704387Z"
    },
    "id": "aTCbSkvkYmTT"
   },
   "outputs": [
    {
     "name": "stdout",
     "output_type": "stream",
     "text": [
      "=====================================================================================================================\n",
      "label: 0 text: b\"Geordies...salt of the earth characters...bricklayers...beer...Geordies...happy go lucky...adventures working abroad...salt of the earth characters...warm wonderful people...Tyne Bridge (tear in the eye)...brown ale...salt of the earth characters...cute little Red Indians children in Newcastle United tops...emetic...Geordies...salt of the earth characters...<br /><br />etc etc etc....<br /><br />Please. This is so poor. And you should know better Timothy Spall. They can't have paid you that much.<br /><br />As for Jimmy Nail. Well the kindest thing that can be said is that he is every bit as good an 'actor' as he is a singer and writer. Come on Jimmy, the joke's over. 'Crocodile Shoes' and 'Spender' were very funny, unfortunately I don't think they were supposed to be. With 'Auf Wiedersehen Pet' the opposite applies.\"\n",
      "label: 0 text: b\"My girlfriend picked this one; as a southern born and raised African American I found this movie's plot and premise totally without credibility. To believe that class and racial biases would be so easily and comfortably suspended would only come from someone totally unfamiliar with the ante-bellum south. Totally absurd !!! I wonder how they got a good actor like Harvey Keitel and a good actress like Andie McDowell (who being southern knows better) to participate in this crap\"\n",
      "label: 0 text: b\"Is this the movie??? Is this what Indians are trying to show?? I think this is one more effort from a sick-minded director to turn down Pakistani soldiers and in fact country....but what we Pakistani's know that we are always ahead of India in every part of our lives...not only in armed counters.<br /><br />Well...this is bad filmed as that of Border in early 1997...and director and writer just tried to overcome a shame of defeat in Kargil by Pakistani armed forces, by creating films like these..<br /><br />One thing is very clear...Whenever there will be an encounter between Pakistan and India....we will win....!!! So Mr. Dutta try to make some good movies instead of Nonsense movies like this\"\n",
      "label: 0 text: b\"I should say right away that I checked the spoilers box only because I'm giving this comment the amount of thought proportional to what this mess of a movie deserves, and don't want to be held responsible for some plot point incidentally slipping out.<br /><br />This comment will take the form of a tirade for the simple reason that I am still under the influence of this movie, having just watched it, and the unique effect this has renders one incapable of the sort of forethought and paragraph structure required for coherent, reasoned criticism. That is not a compliment. It isn't the narcotic effect of a truly hypnotic or thought provoking movie. The feelings it stirs up combine like some uncomfortable emotional Voltron, composed of a confusing mix of some form of rage, the vague desire to take a shower, the rudderless, sinking feeling of true betrayal one gets when they realize they have given 109 minutes of their lives into the hands of someone who would not only squander it, but do so in such a pompous, artless way. And I probably wouldn't have done anything super productive with that 109 minutes anyway! But even if I'd spent it on something trivial, like a power block of masturbation and online poker, I would have felt more fulfilled when all was said and done.<br /><br />The problems with this movie are myriad, and in better times I'd articulate exactly what they were in a semi-adult fashion. But in keeping with what this movie deserves, I think I'll most likely stick to the realm of masturbation jokes and cartoon references.<br /><br />The most irritating and terminal flaw is that while watching this movie one is keenly aware that the makers and participants think they are making a much smarter movie than they are. Demonstrating the depth of knowledge one could pick up in a one semester survey of Western art history at a community college or trade school, the art-jargon is piled on thick and from all directions, with much of it supplied by talk between our hero, the tortured detective Stan (Willem Dafoe, who I will forgive for this movie due to him being Willem Dafoe) and his accented antique dealer buddy Blair (Peter Stormare, taking a break from playing a sociopath for whom murder comes easy by playing a 2-dimensional plot device in a movie about a sociopath for whom murder comes easy). And talk they do. In fact, we are dropped into this story at a crime scene that may indicate the reemergence of a serial killer Stan thinks he killed years earlier, so all the back story is established partially through unclear flashback, but primarily through stilted conversations between Stan and his dealer, or Stan and his colleague, the unforgivably irritating Carl (Scott Speedman). And although I differentiate the character Carl (Scott Speedman) from the actor who plays him by using parentheses, I must admit that very early on in the film I despised this character so much that I actually found myself sincerely wishing harm on the actor portraying him (Scott Speedman). Not anything too fancy. Not death or paralysis, necessarily.. But maybe herpes? Or maybe a stage light could fall on him and crush his arm? This is a dangerous digression, but I'm not editing it out because I want to leave anyone reading this who's thinking about paying to see this train wreck of a movie with a clear impression of the horrible wishes and feelings it stirs in even the most peaceful man.<br /><br />Well, I'm sort of running out of steam here.. over the course of writing this the sick feelings this movie brought up in a me have subsided, my head has cleared a bit. Realizing now that I'm still investing time in something related to this piece of sh!t is startlingly similar to waking up after a night of suicidally heavy drinking next to the heaving form of a still slumbering 200 pound college girl. Your first urge is a desperate desire to flee. This is natural.\"\n",
      "label: 1 text: b'Someone(or, something thing..)is leaving puncture marks on the jugular and draining victims of their blood till dead. Police detective Karl Brettschneider(Melvyn Douglas, before slipping out of the B-movie horror genre for greater heights)is stumped at who..or what..is behind these notorious crimes. The village is overcome by hysteria and Karl depends on his trusted medical genius, Dr. Otto von Niemann(Lionel Atwill, in yet another effective mad scientist role)to provide some feedback as to what might be causing the deaths of innocents. He also fears for the safety of his beloved Ruth(the lovely Fay Wray who stars for the third time with Atwill after \"Doctor X\" & \"The Mystery of the Wax Museum\")who is Niemann\\'s assistant.<br /><br />Dwight Frye steals the film as a rather loony village idiot who collects bats and carries a demented demeanor wherever he goes..it\\'s easy to see why he becomes a suspect as local paranoia is at a fever pitch. Maude Eburne provides the film\\'s humor as a very naive(..and easily influenced)patient of von Niemann\\'s who believes she has ailments she reads about in books near the laboratory where he works. She\\'s impressionable and often von Niemann just humors her and constant fictional illnesses she feels plagued with. Lionel Belmore returns as yet another frightened, superstitious B\\xc3\\xbcrgermeister.<br /><br />Creaky, static, but rather entertaining nonetheless thanks to the cast. The film is obviously as low-budget as they come, but this doesn\\'t hurt the film too much since it\\'s put together rather well by director Frank R Strayer and his crew. I\\'m certain the film\\'s print has seen better days, though. This is the kind of B-horror item you\\'d find packaged in with 50 other random cheesefests and poverty row programmers. The film\\'s villain..and his motives for feeding a synthetically made biological creature..certainly provides a different take on the Frankenstein formula. Many might be disappointed with the end results as the film strays away from being an actual supernatural tale about a real vampire killer causing the murders.'\n",
      "=====================================================================================================================\n",
      "label: 0 text: b'Generally I don\\'t like films directed by Sydney Pollack (\"The Firm\" being somewhat of an exception) and I\\'ve never been a Robert Redford fan either. Still, I thought \"Three Days of the Condor\" must be good because of the number of praising comments it has received.<br /><br />Although the widescreen cinematography is quite pleasing for the eye and Max von Sydow does a nice job as the sinister professional killer, I found the whole affair tremendously disappointing. The film undeniably radiates paranoid atmosphere, but everything is ruined by the muddled plot which doesn\\'t seem to make any sense.<br /><br />The film also contains one of the most unsatisfying endings I have ever seen which really leaves the viewer hanging in the air. And what can one say about that absurd romance between Redford and Dunaway? I\\'d much rather watch any of Hitchcock\\'s films five times in succession than to sit through this piece of waste once more.'\n",
      "label: 0 text: b\"The script for this TV soap opera is so bad that even A. Hopkins at some point had to play like an undergrad drama-student so as to bring some life in his script-dead character. I do not know whether this was the purpose of the director, but Hopkins' Ciano reeked nothing but vanity, fear and lack of self-esteem. The real Ciano possibly was all that but then, why make a movie about him? Mussolini was a bit more convincing, and his long way down was as if closer to the truth. Edda Mussolini was plain ridiculous (not because of Sarandon, but because of the impotent script), while she had to be the central character of this alleged familial drama. Watch it only if you enjoy Venezuelan soap opera.\"\n",
      "label: 0 text: b\"Sexo Cannibal, or Devil Hunter as it's more commonly known amongst English speaking audiences, starts with actress & model Laura Crawford (Ursula Buchfellner as Ursula Fellner) checking out locations for her new film along with her assistant Jane (Gisela Hahn). After a long days work Laura is relaxing in the bath of her room when two very dubious character's named Chris (Werner Pochath) & Thomas (Antonio Mayans) burst in & kidnap her having been helped by the treacherous Jane. Laura's agent gets on the blower to rent-a-hero Peter Weston (Al Cliver) who is informed of the situation, the kidnappers have Laura on an isolated island & are demanding a 6 million ransom. Peter is told that he will be paid 200,000 to get her back safely & a further 10% of the 6 million if he brings that back as well, faster than a rat up a drain pipe Peter & his Vietnam Vet buddy helicopter pilot Jack are on the island & deciding on how to save Laura. So, the kidnappers have Laura & Peter has the 6 million but neither want to hand them over that much. Just to complicate things further this particular isolated island is home to a primitive tribe (hell, in all the generations they've lived there they've only managed to build one straw hut, now that's primitive) who worship some cannibal monster dude (Burt Altman) with bulging eyes as a God with human sacrifices & this cannibal has a liking for young, white female flesh & intestines...<br /><br />This Spanish, French & German co-production was co-written & directed by the prolific Jesus Franco who also gets the credit for the music as well. Sexo Cannibal has gained a certain amount of notoriety here in the UK as it was placed on the 'Video Nasties' list in the early 80's under it's alternate Devil Hunter title & therefore officially classed as obscene & banned, having said that I have no idea why as it is one bad film & even Franco, who isn't afraid to be associated with a turkey, decides he wants to hide under the pseudonym of Clifford Brown. I'd imagine even the most die-hard Franco fan would have a hard time defending this thing. The script by Franco, erm sorry I mean Clifford Brown & Julian Esteban as Julius Valery who was obviously another one less than impressed with the finished product & wanted his named removed, is awful. It's as simple & straight forward as that. For a start the film is so boring it's untrue, the kidnap plot is one of the dullest I've ever seen without the slightest bit of tension or excitement involved & the horror side of things don't improve as we get a big black guy with stupid looking over-sized bloodshot eyes plus two tame cannibal scenes. As a horror film Sexo Cannibal fails & as an action adventure it has no more success, this is one to avoid.<br /><br />Director Franco shows his usual incompetence throughout, a decapitated head is achieved by an actor lying on the ground with large leaves placed around the bottom of his neck to try & give the impression it's not attached to anything! The cannibal scenes are poor, the action is lame & it has endless scenes of people randomly walking around the jungle getting from 'A' to 'B' & not really doing anything when they get there either. It becomes incredibly dull & tedious to watch after about 10 minutes & don't forget this thing goes on for 94 minutes in it's uncut state. I also must mention the hilarious scene when Al Cliver is supposed to be climbing a cliff, this is achieved by Franco turning his camera on it's side & having Cliver crawl along the floor! Just look at the way his coat hangs & the way he never grabs onto to anything as he just pulls himself along! The gore isn't that great & as far as Euro cannibal films go this is very tame, there are some gross close ups of the cannibals mouth as it chews bits of meat, a man is impaled on spikes, there's some blood & a handful of intestines. There's a fair bit of nudity in Sexo Cannibal & an unpleasant rape scene.<br /><br />Sexo Cannibal must have had a low budget & I mean low. This is a shoddy poorly made film with awful special effects & rock bottom production values. The only decent thing about it is the jungle setting which at least looks authentic. The music sucks & sound effects become annoying as there is lots of heavy breathing whenever the cannibal is on screen. The acting sucks, the whole thing was obviously dubbed anyway but no one in this thing can act.<br /><br />Sexo Cannibal is a terrible film that commits the fatal mistake of being as boring as hell. The only good things I can say is that it has a certain sleazy atmosphere to it & those close ups of the cannibal chewing meat are pretty gross. Anyone looking for a decent cinematic experience should give Sexo Cannibal as wide a berth as possible, one to avoid.\"\n",
      "label: 1 text: b\"I've seen the original English version on video. Disney's choice of voice actors looks very promising. I can't believe I'm saying that. The story is about a young boy who meets a girl with a history that is intertwined with his own. The two are thrown into one of the most fun and intriguing storylines in any animated film. The animation quality is excellent! If you've seen Disney's job of Kiki's delivery service you can see the quality in their production. It almost redeems them for stealing the story of Kimba the white lion. (but not quite!) Finally Miyazaki's films are being released properly! I can't wait to see an uncut English version of Nausicaa!\"\n",
      "label: 0 text: b'I read in the papers that W.Snipes was broke so no wonder he would take parts in low budget projects like The Contractor.He is just the next action star to join a growing club:the penniless action stars of the 90s (Van Damme,Segal,Lundgren,Snipes). Here he stars the lead in a cheap action flick which was shot in Bulgaria( we are supposed to believe that the location is London, like only a complete moron would buy that)The story is the one of 1000 other movies: retired special forces good guy gets hired by the government again to do a wet job- after that government wants to get rid of him- good guy gets away after killing bad guys (was that a spoiler? guess not!) The star of the movie: the little girl (Eliza Bennett) outperforms everybody else of the cast!!!One star is for her plus one star for eye candy Lena Headey, makes 2 stars. Only for die hard Snipes fans!Everybody else:avoid!'\n",
      "=====================================================================================================================\n",
      "label: 0 text: b\"Maybe television will be as brutal one day. Maybe \\xc2\\x84Big Brother` was only the first step in the direction Stephen \\xc2\\x84Richard Bachmann` King described the end point of. But enough about that. If I spend too much words talking about the serious background topic of this movie I do exactly what the producers hoped by choosing this material. It's the same with \\xc2\\x84The 6th Day`. No matter, how primitive the film is, it provokes a discussion about its topic, which serves the producers as publicity. Let's NOT be taken in by that. The social criticism that is suggested by that plot summary is only an alibi to make it possible to produce a speculative, violent movie, more for video sale than for cinema. <br /><br />I didn't read the book. I don't dare criticising Stephen King without having read him, but when I saw the film I thought they couldn't make such a terrible film out of a good book: In a typical 1980s set with 1980s music and some minor actors Arnold Schwarzenegger finds himself as a policeman running away from killers within a cruel TV show. The audience is cheering.<br /><br />Together with \\xc2\\x84Predator`, this is definitely Schwarzenegger's most stupid movie. 2 stars out of 10.\"\n",
      "label: 0 text: b'After seeing the previews I felt that this movie was going to be a nice improvement over that fast & furious series. So, I already expected it to have a lacking storyline, but at least this time it won\\'t be loaded with a bunch of powerless civics with fart cans. Unfortunately, I was wrong. If you could only imagine a Fast & Furious movie with a worse story line than by all means this movie is for you.<br /><br />This is the absolute worst movie I had ever seen (I\\'m being nice - no I would not take baseball bat to my nuts like what others have said). Not only was the storyline non-existent, but the action was crap too. I guess the director thought that they could just throw bunch of females and exotic cars and then call it a movie. For an example, there is a point in the movie where the guy pushes the nos button and his Lamborghini takes off in the air and flies over a SLR McLaren to win. And after the bit where Eddy Griffin got in a fight with one of his \"girls\" (an Imus comment would work in this case) the girl asks to pull over and get out of the PLANE and of course they do in the middle of the desert. After this wonderful scene I couldn\\'t take it anymore. So, I only got to see half of this monstrosity. This is the first movie I had ever walked out on. Afterwards, I had to stop for some drinks to kill all of my corrupted brain cells.<br /><br />I gave it a 1 because 0 is not an option. You\\'re better off going to the local car show and stopping at a strip joint on the way home. I will keep all viewers in my prayers.'\n",
      "label: 1 text: b\"This is a good film for 99% of the duration. I feel that the ending has occluded this film from higher acclaim.<br /><br />It is shot in a rather naive fashion. This is clearly done to create a more chilling feel to the film - a feeling of isolation becomes apparent very soon on due to this filming technique.<br /><br />The gruesome characters are very well acted and presented especially the 'nutcase' called Joe. However, the wholesome (normal) characters are a little too pathetic for my liking - granted, they are supposed to come across as pathetic but this is done a little OTT.<br /><br />The film starts slowly (and the naive camera work smacks of 'B' movie to start with) and very normally but you soon get a feel of the impending brutality that is about to occur. This is one of the most 'twisted' movies with respect to cold-hearted violence.<br /><br />After the abrupt and unbelievably lazy ending I was left feeling disappointed. I would have given the film a 9 if the ending was in keeping with the rest of the film but as it is it gets only a 7 on the strength of the 'eeriness' and nail-biting scenes earlier on in the film.<br /><br />Give it a watch and excuse the ending!\"\n",
      "label: 0 text: b'The concept of this made-for-TV horror movie is ludicrous beyond words, but hey, it was the late 1970\\'s and literally all stupid horror formats were pretty damn profitable, so why not exploit the idea of a satanically possessed dog? The plot of \"Devil Dog\" is easy to describe to fans of the horror genre: simply think of \"The Omen\" and replace the newborn baby boy with a nest of German Shepard pups! Seriously, I\\'m not kidding, that\\'s what the movie is about! During the opening sequence, members of some kind of satanic cult buy a female dog in heat only to have it impregnated by Satan himself. You\\'d think that the Lord of Darkness has other things on His mind than to fornicate with a German Shepard and take over the world one evil puppy at the time, but apparently not. Exactly like little Damien in \"The Omen\", one of the puppies is taken in by model family and grows up to become a beautiful and charismatic animal. But Lucky \\xc2\\x96 that\\'s the dog\\'s name \\xc2\\x96 is pure evil and liquidates annoying neighbors and nosy school teachers in derivative and tamely executed ways. He also inflicts his malignant character on the family wife and children, but he cannot force the father (Richard Crenna) to stick his arm into a lawnmower because he\\'s a \"chosen one\". The whole thing becomes too moronic for words when Crenna eventually travels to Ecuador to search for an ancient wall painting and gets advice from an old witchdoctor who speaks perfect English. I guess he learned that living in isolation atop of a mountain his entire life. Director Curtis Harrington (\"What\\'s the matter with Helen\", \"Ruby\") and lead actor Richard Crenna (\"Wait until Dark\", \"The Evil\") desperately try to create a suspenseful and mysterious atmosphere, but all is in vain. Scenes like cute puppy eyes spontaneously setting fire to a Spanish maid or a dog dodging bullets without even moving evoke chuckles instead of frights, and not even spooky musical tunes can chance that. The \"special\" effects are pathetic, especially near the end when the Satan-dog mutates into an utterly cheesy shadow on the wall. \"Devil Dog\" is a truly dumb movie, but it\\'s definitely hilarious to watch late at night with some friends and loads of liquor. There are entertaining brief cameos of Martine Beswick (\"Dr. Jekyll and Sister Hyde\") as the terrifying cult queen and R.G. Armstrong (\"The Car\", \"The Pack\") as the evil fruit, vegetable and puppy salesman. And, yes, that annoying daughter is the same kid who gets blown away complaining about her ice-cream in Carpenter\\'s \"Assault on Precinct 13\".'\n",
      "label: 1 text: b'In New York, the family man dentist Alan Johnson (Don Cheadle) meets his former roommate and friend Charlie Fineman (Adam Sandler) by chance on the street. Charlie became a lonely and deranged man after the loss of his wife and three daughters in the tragic September 11th while Alan has problems to discuss his innermost feelings with his wife. Alan reties his friendship with Charlie and they become close to each other. Alan tries to fix Charlie\\'s life, sending him to the psychologist Angela Oakhurst (Liv Tyler), but Charlie has an aggressive reaction to the treatment and is send to court.<br /><br />\"Reign Over Me\" is a good drama about loss, friendship, family and loneliness. The September 11th is irrelevant to the plot; it could be a car accident, a fire or any other tragedy, as well as the sexual harassment of Donna Remar, played by the gorgeous Saffron Burrows, to Alan. But the family drama works, supported by the great performances of Adam Sandler and Don Cheadle. Liv Tyler is quite impossible to be recognized, I do not know whether she is using excessive make-up to look older, but her face is weird. My vote is seven.<br /><br />Title (Brazil): \"Reine Sobre Mim\" (\"Reign Over Me\")'\n",
      "=====================================================================================================================\n",
      "label: 0 text: b'\"Proximity\" tells of a convict (Lowe) who thinks the prison staff is out to kill him. This very ordinary film is an action/drama with a weak plot; stereotypical, poorly developed characters; and a one dimensional performance by Lowe. A forgettable film not worthy of further commentary.'\n",
      "label: 1 text: b\"All Dogs Go To Heaven Is The Most Cutest Animated Film To Have Dogs In 1989. The Previous Don Bluth Film The Land Before Time(1988) Became A Success. Dogs Are So Cute As Little Mice. Aw, I Just Want To Hug Them When They're Cute. Where Was I? Oh, Yes. Its Animation Is Beautiful, The Characters Are Great When They're Perfectly Voiced And The Songs Are Cute And Touching. It Opened In November 17 1989 The Same Date As The Little Mermaid Produced By Walt Disney Feature Animation.<br /><br />The Part Where Charlie Got Killed By Carface Was So Unforgivable. Carface Is So Mean Because He Wanted To Kill Charlie. Shame On Him! The Love Survive Song Performed By Irene Cara And Freddie Jackson Was So Beautiful. All Dogs Go To Heaven Is The Best Animated Movie Ever.\"\n",
      "label: 0 text: b\"Some wonder why there weren't anymore Mrs. Murphy movies after this one. Will it's because this movie totally blew snot. Disney was not the right studio to run this film. MAYBE Touchstone (well, they're owned by Disney, but it'd be more adult). The film is too kid-ish, as the book series is not. The casting is all wrong for the characters. The characters don't even act the way they do in the books. And why was Tucker changed to a guy? He's a girl in the frigging books! Was this done to make the film appeal to boys? Sheesh. And where was Pewter, the gray cat? One of the funniest characters from the book is absent from this filth. Rita Mae Brown is a good writer, but letting Disney blow her work was wrong. An animated feature film, perhaps in the vane of Don Bluth's artwork would suit a better Mrs. Murphy film. Overall, I give this a 2, because at least Disney made a film from an under-appreciated book series. But, I wish they did better. Either way, I still have my books to entertain me.\"\n",
      "label: 0 text: b'SUcks. That\\'s all I got to say about this sorry excuse for a film. Sucks. Sucks. Sucks. I mean, what the hell were they thinking? The idiots involved should never be allowed to make another films. The acting was so bad that it even failed to entertain on a bad level. The attempt at a \"lesbian scene\" was sad. I felt so bad for the ladies involved. This movie sucks! Sucks! Sucks!<br /><br />I heard rumors of a sequel.<br /><br />God<br /><br />Help<br /><br />Us<br /><br />All'\n",
      "label: 0 text: b\"Bobby is a goofy kid who smiles far too much and wants sex. So he buys a van to aid in this quest. The acting is lame, the comedy is pathetic and the script is no more than a loosely strung chain of clich\\xc3\\xa9s and cheap thrills. The makers of the film obviously wanted to capture some of the out there craziness of other films of the time, but fell a long way short. They even resort to Bobby slipping on a banana skin, because this will supposedly add comedic value.<br /><br />I'm struggling to find a redeeming feature of the film. If you like DeVito, this is another classic DeVito kind of role - but he's only a supporting actor and there for clich\\xc3\\xa9 value.\"\n",
      "=====================================================================================================================\n",
      "label: 1 text: b\"Rich, alcoholic Robert Stack falls in love with secretary Lauren Bacall. He marries her and is so happy he stops drinking. However, Bacall is secretly loved by Stacks' best friend, Rock Hudson. And Stacks' nymphomaniac sister, Dorothy Malone, lusts after Rock. Throw in a few complications and the movie goes spinning out of control (in a good way).<br /><br />Very glossy movie in beautiful Technicolor with jaw-dropping fashions and furnishings (check out Bacall's hotel room at the beginning). Everybody looks perfect and dresses in beautiful, form-fitting clothes. Basically this is a soap opera with grade A production values. The story itself is lots of fun and some of the dialogue at the beginning is hilariously over the top. The acting by Hudson, Stack and Bacall isn't that good, but seeing them so young and glamorous is great...especially Stack...when he smiled my knees went weak! Dorothy Malone, on the other hand, is fantastic--she deservedly won Best Supporting Actress for her role. She's sexy, violent, vicious and sympathetic...all convincingly. <br /><br />Fun, glossy trash. Don't miss it!\"\n",
      "label: 0 text: b'The movie starts little cute. There are a number of revolting scenes. People in toilets. GOOD actors wasted and the original television series has all but ruined here. This did not need to be crude.<br /><br />Forget it. Find the tv show. Disney at new low.'\n",
      "label: 0 text: b\"Jack London's life was certainly colorful enough for a dozen films about different aspects of him. Sad to say though that what his life was used for in film was some wartime propaganda that put the best face on some of the least attractive parts of his character.<br /><br />Jack London who barely saw the age of 40 when he died wrote some of the best stories around. He wrote on what he knew, but he also wrote as does everyone else bringing the baggage of his own life experience with him. Some of that experience in another day and time would have been condemned as racism. But this was World War II and London was a big believer in the 'yellow peril' as it was called back in the day.<br /><br />Two thirds of the film covers his life as author, we see his years as a seaman from where he got the inspiration for The Sea Wolf. We see him up in the Yukon in a miner's cabin with a dog that was no doubt his inspiration for The Call of the Wild. London was able to capture the spirit of adventure that his own life was all about right on paper for the world to enjoy ever since.<br /><br />The final third dealt with his time as a war correspondent covering the Russo-Japanese War. London was a socialist, but his socialism did not encompass folks who were Oriental. Like a few million others he saw the rising immigration of the Chinese and Japanese to our Pacific coast as a threat to jobs for the white people. He advocated strict immigration policies for Orientals.<br /><br />The film puts the cart before the horse. London is presented as a man who saw because he was on hand at the Russo-Japanese War what Japan's ambitions were and for that reason was as xenophobic as he was. Actually the kind of atrocities present in World War II were not existent during the Russo-Japanese conflict. Japan had her imperial ambitions, but so did everyone else including the USA at that time. But our immigration policies caused by pressure from our West Coast politicians was a big contributing factor to the deterioration of relations with Japan over a couple of generations. London was part of the cause not a prophet crying in the wilderness.<br /><br />This film was the first independent production of Samuel Bronston who later did some films with a bit more budget than Jack London. Had he a bit more money Bronston might have gotten James Cagney or Spencer Tracy, both who would have been right for the role. Instead they got Michael O'Shea who was making his second film after Lady of Burlesque. O'Shea is fine in the part, but certainly was no box office.<br /><br />As London is covering the war, he meets up with a Captain Tanaka who is played by Leonard Strong, an actor who specialized in Orientals and played a ton of them in World War II. From the vantage point in 1905 Strong outlines in the best Fu Manchu tradition Japan's imperial aims right up to taking on the USA eventually. Must have gone over great with the swing shift crowd. <br /><br />A lot of course is left out of London's life including a first wife. Playing the second and only wife in this film is Susan Hayward who only comes into the movie when it's half over. I wish we'd have seen more of her. Charmian Kittredge London survived her husband by almost 40 years dying in 1955.<br /><br />O'Shea in fact met and married the leading lady of his life in Jack London. Virginia Mayo has a small role in Jack London and they married for 30 years until O'Shea died in 1973.<br /><br />Maybe one day we'll get a view of Jack London that will be a lot better than this one.\"\n",
      "label: 0 text: b\"This is the best film the Derek couple has ever made and if you think this is a recommendation then you haven't seen any of the others. There are the usual ingredients: it is just as poorly acted as their other efforts, we can watch Bo disrobing or auditioning for wet T-shirt contests quite frequently, the story is just laughably idiotic, and the film takes itself much too seriously. And then: Orang Utans in Africa?<br /><br />But it has a few things going for it. Bo looks great, the production values (sets, costumes, etc.) are quite good, and this greatly enhances its camp value. In a strange way it is actually quite funny, simply because it tries to be serious and fails so badly.\"\n",
      "label: 0 text: b'I wondered why John Wood was not playing Dr. Falken until I watched the film. BAD plot, bad science, bad acting and overall a bad film. Please don\\'t watch this film. Rent the original \"War Games\" if you are feeling nostalgic.<br /><br />I didn\\'t like the bending of the plot to beat-the-terrorist-threat idea either. In the first film W.O.P.R was built because Russia had 1000s of warheads pointed at the U.S.A. In this film the idea behind the computer was to kill terrorist in training before they are a threat. Politics aside, one of the good thing about the first film was the highlighting that even a stupid computer could grasp the idea of the pointlessness of war in the end. No such insight is offered in this film.'\n"
     ]
    }
   ],
   "source": [
    "for text_batch, label_batch in val_ds.take(5):\n",
    "    print(39*'===')\n",
    "    for i in range(5):\n",
    "        print('label:', label_batch[i].numpy(), 'text:', text_batch.numpy()[i])\n"
   ]
  },
  {
   "cell_type": "markdown",
   "metadata": {
    "id": "FHV2pchDhzDn"
   },
   "source": [
    "### Configure the dataset for performance\n",
    "\n",
    "These are two important methods you should use when loading data to make sure that I/O does not become blocking.\n",
    "\n",
    "`.cache()` keeps data in memory after it's loaded off disk. This will ensure the dataset does not become a bottleneck while training your model. If your dataset is too large to fit into memory, you can also use this method to create a performant on-disk cache, which is more efficient to read than many small files.\n",
    "\n",
    "`.prefetch()` overlaps data preprocessing and model execution while training. \n",
    "\n",
    "You can learn more about both methods, as well as how to cache data to disk in the [data performance guide](https://www.tensorflow.org/guide/data_performance)."
   ]
  },
  {
   "cell_type": "code",
   "execution_count": 28,
   "metadata": {
    "execution": {
     "iopub.execute_input": "2020-09-23T02:01:40.709299Z",
     "iopub.status.busy": "2020-09-23T02:01:40.708670Z",
     "iopub.status.idle": "2020-09-23T02:01:40.712420Z",
     "shell.execute_reply": "2020-09-23T02:01:40.711911Z"
    },
    "id": "Oz6k1IW7h1TO"
   },
   "outputs": [],
   "source": [
    "AUTOTUNE = tf.data.experimental.AUTOTUNE\n",
    "\n",
    "train_ds = train_ds.cache().prefetch(buffer_size=AUTOTUNE)\n",
    "val_ds = val_ds.cache().prefetch(buffer_size=AUTOTUNE)"
   ]
  },
  {
   "cell_type": "markdown",
   "metadata": {
    "id": "eqBazMiVQkj1"
   },
   "source": [
    "## Using the Embedding layer\n",
    "\n",
    "Keras makes it easy to use word embeddings. Take a look at the [Embedding](https://www.tensorflow.org/api_docs/python/tf/keras/layers/Embedding) layer.\n",
    "\n",
    "The Embedding layer can be understood as a lookup table that maps from integer indices (which stand for specific words) to dense vectors (their embeddings). The dimensionality (or width) of the embedding is a parameter you can experiment with to see what works well for your problem, much in the same way you would experiment with the number of neurons in a Dense layer.\n"
   ]
  },
  {
   "cell_type": "code",
   "execution_count": 29,
   "metadata": {
    "execution": {
     "iopub.execute_input": "2020-09-23T02:01:40.721292Z",
     "iopub.status.busy": "2020-09-23T02:01:40.716010Z",
     "iopub.status.idle": "2020-09-23T02:01:40.725307Z",
     "shell.execute_reply": "2020-09-23T02:01:40.724825Z"
    },
    "id": "-OjxLVrMvWUE"
   },
   "outputs": [],
   "source": [
    "# Embed a 1,000 word vocabulary into 5 dimensions.\n",
    "embedding_layer = tf.keras.layers.Embedding(1000, 5)"
   ]
  },
  {
   "cell_type": "markdown",
   "metadata": {
    "id": "2dKKV1L2Rk7e"
   },
   "source": [
    "When you create an Embedding layer, the weights for the embedding are randomly initialized (just like any other layer). During training, they are gradually adjusted via backpropagation. Once trained, the learned word embeddings will roughly encode similarities between words (as they were learned for the specific problem your model is trained on).\n",
    "\n",
    "If you pass an integer to an embedding layer, the result replaces each integer with the vector from the embedding table:"
   ]
  },
  {
   "cell_type": "code",
   "execution_count": 30,
   "metadata": {
    "execution": {
     "iopub.execute_input": "2020-09-23T02:01:40.730057Z",
     "iopub.status.busy": "2020-09-23T02:01:40.729380Z",
     "iopub.status.idle": "2020-09-23T02:01:40.738500Z",
     "shell.execute_reply": "2020-09-23T02:01:40.738915Z"
    },
    "id": "0YUjPgP7w0PO"
   },
   "outputs": [
    {
     "data": {
      "text/plain": [
       "array([[ 0.03969515,  0.00913128, -0.01237369, -0.014854  , -0.03349719],\n",
       "       [-0.03257857, -0.04720243, -0.04500348,  0.01121489, -0.04858403],\n",
       "       [ 0.00255441,  0.04587946, -0.01244842,  0.03174751,  0.03226903]],\n",
       "      dtype=float32)"
      ]
     },
     "execution_count": 30,
     "metadata": {},
     "output_type": "execute_result"
    }
   ],
   "source": [
    "result = embedding_layer(tf.constant([1,2,3]))\n",
    "result.numpy()"
   ]
  },
  {
   "cell_type": "markdown",
   "metadata": {
    "id": "O4PC4QzsxTGx"
   },
   "source": [
    "For text or sequence problems, the Embedding layer takes a 2D tensor of integers, of shape `(samples, sequence_length)`, where each entry is a sequence of integers. It can embed sequences of variable lengths. You could feed into the embedding layer above batches with shapes `(32, 10)` (batch of 32 sequences of length 10) or `(64, 15)` (batch of 64 sequences of length 15).\n",
    "\n",
    "The returned tensor has one more axis than the input, the embedding vectors are aligned along the new last axis. Pass it a `(2, 3)` input batch and the output is `(2, 3, N)`\n"
   ]
  },
  {
   "cell_type": "code",
   "execution_count": 31,
   "metadata": {
    "execution": {
     "iopub.execute_input": "2020-09-23T02:01:40.743308Z",
     "iopub.status.busy": "2020-09-23T02:01:40.742629Z",
     "iopub.status.idle": "2020-09-23T02:01:40.746183Z",
     "shell.execute_reply": "2020-09-23T02:01:40.745652Z"
    },
    "id": "vwSYepRjyRGy"
   },
   "outputs": [
    {
     "data": {
      "text/plain": [
       "TensorShape([2, 3, 5])"
      ]
     },
     "execution_count": 31,
     "metadata": {},
     "output_type": "execute_result"
    }
   ],
   "source": [
    "result = embedding_layer(tf.constant([[0,1,2],[3,4,5]]))\n",
    "result.shape"
   ]
  },
  {
   "cell_type": "markdown",
   "metadata": {
    "id": "WGQp2N92yOyB"
   },
   "source": [
    "When given a batch of sequences as input, an embedding layer returns a 3D floating point tensor, of shape `(samples, sequence_length, embedding_dimensionality)`. To convert from this sequence of variable length to a fixed representation there are a variety of standard approaches. You could use an RNN, Attention, or pooling layer before passing it to a Dense layer. This tutorial uses pooling because it's the simplest. The [Text Classification with an RNN](text_classification_rnn.ipynb) tutorial is a good next step."
   ]
  },
  {
   "cell_type": "markdown",
   "metadata": {
    "id": "aGicgV5qT0wh"
   },
   "source": [
    "## Text preprocessing"
   ]
  },
  {
   "cell_type": "markdown",
   "metadata": {
    "id": "N6NZSqIIoU0Y"
   },
   "source": [
    "Next, define the dataset preprocessing steps required for your sentiment classification model. Initialize a TextVectorization layer with the desired parameters to vectorize movie reviews. You can learn more about using this layer in the [Text Classification](https://www.tensorflow.org/tutorials/keras/text_classification) tutorial."
   ]
  },
  {
   "cell_type": "code",
   "execution_count": 32,
   "metadata": {
    "execution": {
     "iopub.execute_input": "2020-09-23T02:01:40.761922Z",
     "iopub.status.busy": "2020-09-23T02:01:40.761212Z",
     "iopub.status.idle": "2020-09-23T02:01:44.212102Z",
     "shell.execute_reply": "2020-09-23T02:01:44.211368Z"
    },
    "id": "2MlsXzo-ZlfK"
   },
   "outputs": [],
   "source": [
    "# Create a custom standardization function to strip HTML break tags '<br />'.\n",
    "def custom_standardization(input_data):\n",
    "    lowercase = tf.strings.lower(input_data)\n",
    "    stripped_html = tf.strings.regex_replace(lowercase, '<br />', ' ')\n",
    "    return tf.strings.regex_replace(stripped_html,\n",
    "                                  '[%s]' % re.escape(string.punctuation), '')\n",
    "\n",
    "# Vocabulary size and number of words in a sequence.\n",
    "vocab_size = 10000\n",
    "sequence_length = 100\n",
    "\n",
    "# Use the text vectorization layer to normalize, split, and map strings to \n",
    "# integers. Note that the layer uses the custom standardization defined above. \n",
    "# Set maximum_sequence length as all samples are not of the same length.\n",
    "vectorize_layer = TextVectorization(\n",
    "    standardize=custom_standardization,\n",
    "    max_tokens=vocab_size,\n",
    "    output_mode='int',\n",
    "    output_sequence_length=sequence_length)\n",
    "\n",
    "# Make a text-only dataset (no labels) and call adapt to build the vocabulary.\n",
    "text_ds = train_ds.map(lambda x, y: x)\n",
    "vectorize_layer.adapt(text_ds)"
   ]
  },
  {
   "cell_type": "markdown",
   "metadata": {
    "id": "zI9_wLIiWO8Z"
   },
   "source": [
    "## Create a classification model\n",
    "\n",
    "Use the [Keras Sequential API](../../guide/keras) to define the sentiment classification model. In this case it is a \"Continuous bag of words\" style model.\n",
    "* The [`TextVectorization`](https://www.tensorflow.org/api_docs/python/tf/keras/layers/experimental/preprocessing/TextVectorization) layer transforms strings into vocabulary indices. You have already initialized `vectorize_layer` as a TextVectorization layer and built it's vocabulary by calling `adapt` on `text_ds`. Now vectorize_layer can be used as the first layer of your end-to-end classification model, feeding tranformed strings into the Embedding layer.\n",
    "* The [`Embedding`](https://www.tensorflow.org/api_docs/python/tf/keras/layers/Embedding) layer takes the integer-encoded vocabulary and looks up the embedding vector for each word-index. These vectors are learned as the model trains. The vectors add a dimension to the output array. The resulting dimensions are: `(batch, sequence, embedding)`.\n",
    "\n",
    "* The [`GlobalAveragePooling1D`](https://www.tensorflow.org/api_docs/python/tf/keras/layers/GlobalAveragePooling1D) layer returns a fixed-length output vector for each example by averaging over the sequence dimension. This allows the model to handle input of variable length, in the simplest way possible.\n",
    "\n",
    "* The fixed-length output vector is piped through a fully-connected ([`Dense`](https://www.tensorflow.org/api_docs/python/tf/keras/layers/Dense)) layer with 16 hidden units.\n",
    "\n",
    "* The last layer is densely connected with a single output node. \n",
    "\n",
    "Caution: This model doesn't use masking, so the zero-padding is used as part of the input and hence the padding length may affect the output.  To fix this, see the [masking and padding guide](../../guide/keras/masking_and_padding)."
   ]
  },
  {
   "cell_type": "code",
   "execution_count": 33,
   "metadata": {
    "execution": {
     "iopub.execute_input": "2020-09-23T02:01:44.225109Z",
     "iopub.status.busy": "2020-09-23T02:01:44.224356Z",
     "iopub.status.idle": "2020-09-23T02:01:44.231286Z",
     "shell.execute_reply": "2020-09-23T02:01:44.230699Z"
    },
    "id": "pHLcFtn5Wsqj"
   },
   "outputs": [],
   "source": [
    "embedding_dim=16\n",
    "\n",
    "model = Sequential([\n",
    "  vectorize_layer,\n",
    "  Embedding(vocab_size, embedding_dim, name=\"embedding\"),\n",
    "  GlobalAveragePooling1D(),\n",
    "  Dense(16, activation='relu'),\n",
    "  Dense(1)\n",
    "])"
   ]
  },
  {
   "cell_type": "markdown",
   "metadata": {
    "id": "JjLNgKO7W2fe"
   },
   "source": [
    "## Compile and train the model"
   ]
  },
  {
   "cell_type": "markdown",
   "metadata": {
    "id": "jpX9etB6IOQd"
   },
   "source": [
    "You will use [TensorBoard](https://www.tensorflow.org/tensorboard) to visualize metrics including loss and accuracy. Create a `tf.keras.callbacks.TensorBoard`."
   ]
  },
  {
   "cell_type": "code",
   "execution_count": 34,
   "metadata": {
    "execution": {
     "iopub.execute_input": "2020-09-23T02:01:44.236595Z",
     "iopub.status.busy": "2020-09-23T02:01:44.235972Z",
     "iopub.status.idle": "2020-09-23T02:01:44.238668Z",
     "shell.execute_reply": "2020-09-23T02:01:44.238113Z"
    },
    "id": "W4Hg3IHFt4Px"
   },
   "outputs": [],
   "source": [
    "tensorboard_callback = tf.keras.callbacks.TensorBoard(log_dir=\"logs\")"
   ]
  },
  {
   "cell_type": "markdown",
   "metadata": {
    "id": "7OrKAKAKIbuH"
   },
   "source": [
    "Compile and train the model using the `Adam` optimizer and `BinaryCrossentropy` loss. "
   ]
  },
  {
   "cell_type": "code",
   "execution_count": 35,
   "metadata": {
    "execution": {
     "iopub.execute_input": "2020-09-23T02:01:44.250853Z",
     "iopub.status.busy": "2020-09-23T02:01:44.250076Z",
     "iopub.status.idle": "2020-09-23T02:01:44.259188Z",
     "shell.execute_reply": "2020-09-23T02:01:44.258675Z"
    },
    "id": "lCUgdP69Wzix"
   },
   "outputs": [],
   "source": [
    "model.compile(optimizer='adam',\n",
    "              loss=tf.keras.losses.BinaryCrossentropy(from_logits=True),\n",
    "              metrics=['accuracy'])"
   ]
  },
  {
   "cell_type": "code",
   "execution_count": 64,
   "metadata": {},
   "outputs": [
    {
     "name": "stdout",
     "output_type": "stream",
     "text": [
      "Epoch 1/100\n",
      "20/20 [==============================] - 1s 66ms/step - loss: 0.0209 - accuracy: 0.9984 - val_loss: 1.0316 - val_accuracy: 0.7900\n",
      "Epoch 2/100\n",
      "20/20 [==============================] - 1s 66ms/step - loss: 0.0205 - accuracy: 0.9984 - val_loss: 1.0376 - val_accuracy: 0.7900\n",
      "Epoch 3/100\n",
      "20/20 [==============================] - 1s 66ms/step - loss: 0.0201 - accuracy: 0.9985 - val_loss: 1.0434 - val_accuracy: 0.7892\n",
      "Epoch 4/100\n",
      "20/20 [==============================] - 1s 66ms/step - loss: 0.0197 - accuracy: 0.9985 - val_loss: 1.0491 - val_accuracy: 0.7888\n",
      "Epoch 5/100\n",
      "20/20 [==============================] - 1s 69ms/step - loss: 0.0194 - accuracy: 0.9987 - val_loss: 1.0547 - val_accuracy: 0.7886\n",
      "Epoch 6/100\n",
      "20/20 [==============================] - 1s 67ms/step - loss: 0.0191 - accuracy: 0.9987 - val_loss: 1.0602 - val_accuracy: 0.7868\n",
      "Epoch 7/100\n",
      "20/20 [==============================] - 1s 66ms/step - loss: 0.0189 - accuracy: 0.9987 - val_loss: 1.0657 - val_accuracy: 0.7858\n",
      "Epoch 8/100\n",
      "20/20 [==============================] - 1s 65ms/step - loss: 0.0187 - accuracy: 0.9987 - val_loss: 1.0714 - val_accuracy: 0.7852\n",
      "Epoch 9/100\n",
      "20/20 [==============================] - 1s 65ms/step - loss: 0.0185 - accuracy: 0.9987 - val_loss: 1.0773 - val_accuracy: 0.7844\n",
      "Epoch 10/100\n",
      "20/20 [==============================] - 1s 66ms/step - loss: 0.0184 - accuracy: 0.9986 - val_loss: 1.0833 - val_accuracy: 0.7834\n",
      "Epoch 11/100\n",
      "20/20 [==============================] - 1s 65ms/step - loss: 0.0183 - accuracy: 0.9986 - val_loss: 1.0896 - val_accuracy: 0.7828\n",
      "Epoch 12/100\n",
      "20/20 [==============================] - 1s 65ms/step - loss: 0.0182 - accuracy: 0.9987 - val_loss: 1.0962 - val_accuracy: 0.7820\n",
      "Epoch 13/100\n",
      "20/20 [==============================] - 1s 65ms/step - loss: 0.0183 - accuracy: 0.9987 - val_loss: 1.1033 - val_accuracy: 0.7808\n",
      "Epoch 14/100\n",
      "20/20 [==============================] - 1s 65ms/step - loss: 0.0182 - accuracy: 0.9987 - val_loss: 1.1108 - val_accuracy: 0.7808\n",
      "Epoch 15/100\n",
      "20/20 [==============================] - 1s 65ms/step - loss: 0.0182 - accuracy: 0.9987 - val_loss: 1.1190 - val_accuracy: 0.7808\n",
      "Epoch 16/100\n",
      "20/20 [==============================] - 1s 66ms/step - loss: 0.0182 - accuracy: 0.9987 - val_loss: 1.1280 - val_accuracy: 0.7826\n",
      "Epoch 17/100\n",
      "20/20 [==============================] - 1s 65ms/step - loss: 0.0181 - accuracy: 0.9987 - val_loss: 1.1389 - val_accuracy: 0.7832\n",
      "Epoch 18/100\n",
      "20/20 [==============================] - 1s 64ms/step - loss: 0.0180 - accuracy: 0.9987 - val_loss: 1.1526 - val_accuracy: 0.7846\n",
      "Epoch 19/100\n",
      "20/20 [==============================] - 1s 65ms/step - loss: 0.0178 - accuracy: 0.9987 - val_loss: 1.1710 - val_accuracy: 0.7870\n",
      "Epoch 20/100\n",
      "20/20 [==============================] - 1s 66ms/step - loss: 0.0176 - accuracy: 0.9986 - val_loss: 1.1958 - val_accuracy: 0.7898\n",
      "Epoch 21/100\n",
      "20/20 [==============================] - 1s 65ms/step - loss: 0.0174 - accuracy: 0.9984 - val_loss: 1.2265 - val_accuracy: 0.7922\n",
      "Epoch 22/100\n",
      "20/20 [==============================] - 1s 65ms/step - loss: 0.0174 - accuracy: 0.9985 - val_loss: 1.2580 - val_accuracy: 0.7924\n",
      "Epoch 23/100\n",
      "20/20 [==============================] - 1s 66ms/step - loss: 0.0176 - accuracy: 0.9985 - val_loss: 1.2827 - val_accuracy: 0.7918\n",
      "Epoch 24/100\n",
      "20/20 [==============================] - 1s 65ms/step - loss: 0.0178 - accuracy: 0.9981 - val_loss: 1.2925 - val_accuracy: 0.7922\n",
      "Epoch 25/100\n",
      "20/20 [==============================] - 1s 66ms/step - loss: 0.0177 - accuracy: 0.9984 - val_loss: 1.2837 - val_accuracy: 0.7908\n",
      "Epoch 26/100\n",
      "20/20 [==============================] - 1s 65ms/step - loss: 0.0171 - accuracy: 0.9987 - val_loss: 1.2609 - val_accuracy: 0.7908\n",
      "Epoch 27/100\n",
      "20/20 [==============================] - 1s 67ms/step - loss: 0.0159 - accuracy: 0.9988 - val_loss: 1.2367 - val_accuracy: 0.7870\n",
      "Epoch 28/100\n",
      "20/20 [==============================] - 1s 67ms/step - loss: 0.0140 - accuracy: 0.9990 - val_loss: 1.2252 - val_accuracy: 0.7850\n",
      "Epoch 29/100\n",
      "20/20 [==============================] - 1s 67ms/step - loss: 0.0125 - accuracy: 0.9992 - val_loss: 1.2282 - val_accuracy: 0.7828\n",
      "Epoch 30/100\n",
      "20/20 [==============================] - 1s 67ms/step - loss: 0.0117 - accuracy: 0.9991 - val_loss: 1.2392 - val_accuracy: 0.7838\n",
      "Epoch 31/100\n",
      "20/20 [==============================] - 1s 67ms/step - loss: 0.0109 - accuracy: 0.9993 - val_loss: 1.2532 - val_accuracy: 0.7850\n",
      "Epoch 32/100\n",
      "20/20 [==============================] - 1s 67ms/step - loss: 0.0102 - accuracy: 0.9994 - val_loss: 1.2646 - val_accuracy: 0.7862\n",
      "Epoch 33/100\n",
      "20/20 [==============================] - 1s 65ms/step - loss: 0.0097 - accuracy: 0.9994 - val_loss: 1.2719 - val_accuracy: 0.7860\n",
      "Epoch 34/100\n",
      "20/20 [==============================] - 1s 68ms/step - loss: 0.0094 - accuracy: 0.9994 - val_loss: 1.2777 - val_accuracy: 0.7856\n",
      "Epoch 35/100\n",
      "20/20 [==============================] - 1s 67ms/step - loss: 0.0092 - accuracy: 0.9994 - val_loss: 1.2829 - val_accuracy: 0.7852\n",
      "Epoch 36/100\n",
      "20/20 [==============================] - 1s 70ms/step - loss: 0.0090 - accuracy: 0.9995 - val_loss: 1.2882 - val_accuracy: 0.7848\n",
      "Epoch 37/100\n",
      "20/20 [==============================] - 1s 67ms/step - loss: 0.0089 - accuracy: 0.9995 - val_loss: 1.2938 - val_accuracy: 0.7844\n",
      "Epoch 38/100\n",
      "20/20 [==============================] - 1s 66ms/step - loss: 0.0087 - accuracy: 0.9995 - val_loss: 1.2995 - val_accuracy: 0.7844\n",
      "Epoch 39/100\n",
      "20/20 [==============================] - 1s 63ms/step - loss: 0.0086 - accuracy: 0.9995 - val_loss: 1.3052 - val_accuracy: 0.7842\n",
      "Epoch 40/100\n",
      "20/20 [==============================] - 1s 64ms/step - loss: 0.0085 - accuracy: 0.9995 - val_loss: 1.3108 - val_accuracy: 0.7844\n",
      "Epoch 41/100\n",
      "20/20 [==============================] - 1s 67ms/step - loss: 0.0083 - accuracy: 0.9995 - val_loss: 1.3164 - val_accuracy: 0.7846\n",
      "Epoch 42/100\n",
      "20/20 [==============================] - 1s 67ms/step - loss: 0.0082 - accuracy: 0.9995 - val_loss: 1.3219 - val_accuracy: 0.7856\n",
      "Epoch 43/100\n",
      "20/20 [==============================] - 1s 66ms/step - loss: 0.0081 - accuracy: 0.9995 - val_loss: 1.3274 - val_accuracy: 0.7856\n",
      "Epoch 44/100\n",
      "20/20 [==============================] - 1s 66ms/step - loss: 0.0080 - accuracy: 0.9995 - val_loss: 1.3329 - val_accuracy: 0.7852\n",
      "Epoch 45/100\n",
      "20/20 [==============================] - 1s 68ms/step - loss: 0.0078 - accuracy: 0.9995 - val_loss: 1.3387 - val_accuracy: 0.7854\n",
      "Epoch 46/100\n",
      "20/20 [==============================] - 1s 69ms/step - loss: 0.0076 - accuracy: 0.9995 - val_loss: 1.3446 - val_accuracy: 0.7852\n",
      "Epoch 47/100\n",
      "20/20 [==============================] - 1s 68ms/step - loss: 0.0075 - accuracy: 0.9995 - val_loss: 1.3502 - val_accuracy: 0.7852\n",
      "Epoch 48/100\n",
      "20/20 [==============================] - 1s 67ms/step - loss: 0.0073 - accuracy: 0.9995 - val_loss: 1.3555 - val_accuracy: 0.7850\n",
      "Epoch 49/100\n",
      "20/20 [==============================] - 1s 66ms/step - loss: 0.0072 - accuracy: 0.9995 - val_loss: 1.3608 - val_accuracy: 0.7844\n",
      "Epoch 50/100\n",
      "20/20 [==============================] - 1s 65ms/step - loss: 0.0070 - accuracy: 0.9995 - val_loss: 1.3664 - val_accuracy: 0.7848\n",
      "Epoch 51/100\n",
      "20/20 [==============================] - 1s 65ms/step - loss: 0.0068 - accuracy: 0.9995 - val_loss: 1.3729 - val_accuracy: 0.7850\n",
      "Epoch 52/100\n",
      "20/20 [==============================] - 1s 65ms/step - loss: 0.0066 - accuracy: 0.9995 - val_loss: 1.3795 - val_accuracy: 0.7846\n",
      "Epoch 53/100\n",
      "20/20 [==============================] - 1s 65ms/step - loss: 0.0063 - accuracy: 0.9995 - val_loss: 1.3853 - val_accuracy: 0.7846\n",
      "Epoch 54/100\n",
      "20/20 [==============================] - 1s 68ms/step - loss: 0.0062 - accuracy: 0.9996 - val_loss: 1.3914 - val_accuracy: 0.7844\n",
      "Epoch 55/100\n",
      "20/20 [==============================] - 1s 68ms/step - loss: 0.0059 - accuracy: 0.9996 - val_loss: 1.3976 - val_accuracy: 0.7836\n",
      "Epoch 56/100\n",
      "20/20 [==============================] - 1s 70ms/step - loss: 0.0058 - accuracy: 0.9997 - val_loss: 1.4033 - val_accuracy: 0.7836\n",
      "Epoch 57/100\n",
      "20/20 [==============================] - 1s 67ms/step - loss: 0.0057 - accuracy: 0.9997 - val_loss: 1.4087 - val_accuracy: 0.7836\n",
      "Epoch 58/100\n"
     ]
    },
    {
     "name": "stdout",
     "output_type": "stream",
     "text": [
      "20/20 [==============================] - 1s 67ms/step - loss: 0.0055 - accuracy: 0.9997 - val_loss: 1.4141 - val_accuracy: 0.7838\n",
      "Epoch 59/100\n",
      "20/20 [==============================] - 1s 69ms/step - loss: 0.0055 - accuracy: 0.9997 - val_loss: 1.4196 - val_accuracy: 0.7840\n",
      "Epoch 60/100\n",
      "20/20 [==============================] - 1s 66ms/step - loss: 0.0054 - accuracy: 0.9997 - val_loss: 1.4252 - val_accuracy: 0.7842\n",
      "Epoch 61/100\n",
      "20/20 [==============================] - 1s 67ms/step - loss: 0.0053 - accuracy: 0.9997 - val_loss: 1.4307 - val_accuracy: 0.7836\n",
      "Epoch 62/100\n",
      "20/20 [==============================] - 1s 67ms/step - loss: 0.0052 - accuracy: 0.9997 - val_loss: 1.4362 - val_accuracy: 0.7840\n",
      "Epoch 63/100\n",
      "20/20 [==============================] - 1s 68ms/step - loss: 0.0051 - accuracy: 0.9997 - val_loss: 1.4416 - val_accuracy: 0.7842\n",
      "Epoch 64/100\n",
      "20/20 [==============================] - 1s 69ms/step - loss: 0.0050 - accuracy: 0.9997 - val_loss: 1.4471 - val_accuracy: 0.7842\n",
      "Epoch 65/100\n",
      "20/20 [==============================] - 1s 68ms/step - loss: 0.0049 - accuracy: 0.9997 - val_loss: 1.4528 - val_accuracy: 0.7840\n",
      "Epoch 66/100\n",
      "20/20 [==============================] - 1s 69ms/step - loss: 0.0048 - accuracy: 0.9997 - val_loss: 1.4587 - val_accuracy: 0.7842\n",
      "Epoch 67/100\n",
      "20/20 [==============================] - 1s 70ms/step - loss: 0.0047 - accuracy: 0.9997 - val_loss: 1.4638 - val_accuracy: 0.7840\n",
      "Epoch 68/100\n",
      "20/20 [==============================] - 1s 70ms/step - loss: 0.0045 - accuracy: 0.9998 - val_loss: 1.4679 - val_accuracy: 0.7842\n",
      "Epoch 69/100\n",
      "20/20 [==============================] - 1s 68ms/step - loss: 0.0045 - accuracy: 0.9998 - val_loss: 1.4734 - val_accuracy: 0.7842\n",
      "Epoch 70/100\n",
      "20/20 [==============================] - 1s 66ms/step - loss: 0.0043 - accuracy: 0.9998 - val_loss: 1.4793 - val_accuracy: 0.7844\n",
      "Epoch 71/100\n",
      "20/20 [==============================] - 1s 73ms/step - loss: 0.0041 - accuracy: 0.9998 - val_loss: 1.4855 - val_accuracy: 0.7844\n",
      "Epoch 72/100\n",
      "20/20 [==============================] - 1s 68ms/step - loss: 0.0040 - accuracy: 0.9998 - val_loss: 1.4914 - val_accuracy: 0.7842\n",
      "Epoch 73/100\n",
      "20/20 [==============================] - 1s 65ms/step - loss: 0.0040 - accuracy: 0.9998 - val_loss: 1.4967 - val_accuracy: 0.7842\n",
      "Epoch 74/100\n",
      "20/20 [==============================] - 1s 65ms/step - loss: 0.0039 - accuracy: 0.9998 - val_loss: 1.5021 - val_accuracy: 0.7846\n",
      "Epoch 75/100\n",
      "20/20 [==============================] - 1s 66ms/step - loss: 0.0038 - accuracy: 0.9998 - val_loss: 1.5076 - val_accuracy: 0.7842\n",
      "Epoch 76/100\n",
      "20/20 [==============================] - 1s 65ms/step - loss: 0.0038 - accuracy: 0.9998 - val_loss: 1.5127 - val_accuracy: 0.7842\n",
      "Epoch 77/100\n",
      "20/20 [==============================] - 1s 63ms/step - loss: 0.0037 - accuracy: 0.9998 - val_loss: 1.5176 - val_accuracy: 0.7842\n",
      "Epoch 78/100\n",
      "20/20 [==============================] - 1s 62ms/step - loss: 0.0035 - accuracy: 0.9998 - val_loss: 1.5236 - val_accuracy: 0.7838\n",
      "Epoch 79/100\n",
      "20/20 [==============================] - 1s 62ms/step - loss: 0.0034 - accuracy: 0.9999 - val_loss: 1.5299 - val_accuracy: 0.7838\n",
      "Epoch 80/100\n",
      "20/20 [==============================] - 1s 61ms/step - loss: 0.0033 - accuracy: 0.9999 - val_loss: 1.5355 - val_accuracy: 0.7836\n",
      "Epoch 81/100\n",
      "20/20 [==============================] - 1s 62ms/step - loss: 0.0033 - accuracy: 0.9999 - val_loss: 1.5409 - val_accuracy: 0.7840\n",
      "Epoch 82/100\n",
      "20/20 [==============================] - 1s 62ms/step - loss: 0.0032 - accuracy: 0.9999 - val_loss: 1.5463 - val_accuracy: 0.7838\n",
      "Epoch 83/100\n",
      "20/20 [==============================] - 1s 62ms/step - loss: 0.0032 - accuracy: 0.9999 - val_loss: 1.5518 - val_accuracy: 0.7838\n",
      "Epoch 84/100\n",
      "20/20 [==============================] - 1s 62ms/step - loss: 0.0031 - accuracy: 0.9999 - val_loss: 1.5573 - val_accuracy: 0.7840\n",
      "Epoch 85/100\n",
      "20/20 [==============================] - 1s 62ms/step - loss: 0.0030 - accuracy: 0.9999 - val_loss: 1.5627 - val_accuracy: 0.7842\n",
      "Epoch 86/100\n",
      "20/20 [==============================] - 1s 62ms/step - loss: 0.0030 - accuracy: 0.9999 - val_loss: 1.5681 - val_accuracy: 0.7840\n",
      "Epoch 87/100\n",
      "20/20 [==============================] - 1s 62ms/step - loss: 0.0030 - accuracy: 0.9999 - val_loss: 1.5735 - val_accuracy: 0.7840\n",
      "Epoch 88/100\n",
      "20/20 [==============================] - 1s 62ms/step - loss: 0.0029 - accuracy: 0.9999 - val_loss: 1.5792 - val_accuracy: 0.7834\n",
      "Epoch 89/100\n",
      "20/20 [==============================] - 1s 63ms/step - loss: 0.0028 - accuracy: 0.9999 - val_loss: 1.5859 - val_accuracy: 0.7836\n",
      "Epoch 90/100\n",
      "20/20 [==============================] - 1s 63ms/step - loss: 0.0027 - accuracy: 0.9999 - val_loss: 1.5921 - val_accuracy: 0.7834\n",
      "Epoch 91/100\n",
      "20/20 [==============================] - 1s 62ms/step - loss: 0.0026 - accuracy: 0.9999 - val_loss: 1.5974 - val_accuracy: 0.7836\n",
      "Epoch 92/100\n",
      "20/20 [==============================] - 1s 63ms/step - loss: 0.0025 - accuracy: 0.9999 - val_loss: 1.6022 - val_accuracy: 0.7834\n",
      "Epoch 93/100\n",
      "20/20 [==============================] - 1s 63ms/step - loss: 0.0025 - accuracy: 0.9999 - val_loss: 1.6072 - val_accuracy: 0.7832\n",
      "Epoch 94/100\n",
      "20/20 [==============================] - 1s 63ms/step - loss: 0.0024 - accuracy: 0.9999 - val_loss: 1.6126 - val_accuracy: 0.7830\n",
      "Epoch 95/100\n",
      "20/20 [==============================] - 1s 62ms/step - loss: 0.0024 - accuracy: 0.9999 - val_loss: 1.6181 - val_accuracy: 0.7830\n",
      "Epoch 96/100\n",
      "20/20 [==============================] - 1s 62ms/step - loss: 0.0023 - accuracy: 0.9999 - val_loss: 1.6235 - val_accuracy: 0.7830\n",
      "Epoch 97/100\n",
      "20/20 [==============================] - 1s 64ms/step - loss: 0.0023 - accuracy: 0.9999 - val_loss: 1.6289 - val_accuracy: 0.7828\n",
      "Epoch 98/100\n",
      "20/20 [==============================] - 1s 63ms/step - loss: 0.0022 - accuracy: 0.9999 - val_loss: 1.6342 - val_accuracy: 0.7828\n",
      "Epoch 99/100\n",
      "20/20 [==============================] - 1s 63ms/step - loss: 0.0022 - accuracy: 0.9999 - val_loss: 1.6395 - val_accuracy: 0.7828\n",
      "Epoch 100/100\n",
      "20/20 [==============================] - 1s 62ms/step - loss: 0.0022 - accuracy: 0.9999 - val_loss: 1.6448 - val_accuracy: 0.7826\n"
     ]
    }
   ],
   "source": [
    "epochs = 100\n",
    "history = model.fit(\n",
    "    train_ds,\n",
    "    validation_data=val_ds,\n",
    "    epochs=epochs)"
   ]
  },
  {
   "cell_type": "markdown",
   "metadata": {
    "id": "1wYnVedSPfmX"
   },
   "source": [
    "With this approach the model reaches a validation accuracy of around 84% (note that the model is overfitting since training accuracy is higher).\n",
    "\n",
    "Note: Your results may be a bit different, depending on how weights were randomly initialized before training the embedding layer. \n",
    "\n",
    "You can look into the model summary to learn more about each layer of the model."
   ]
  },
  {
   "cell_type": "code",
   "execution_count": 65,
   "metadata": {
    "execution": {
     "iopub.execute_input": "2020-09-23T02:02:08.647540Z",
     "iopub.status.busy": "2020-09-23T02:02:08.646898Z",
     "iopub.status.idle": "2020-09-23T02:02:08.650238Z",
     "shell.execute_reply": "2020-09-23T02:02:08.649607Z"
    },
    "id": "mDCgjWyq_0dc"
   },
   "outputs": [
    {
     "name": "stdout",
     "output_type": "stream",
     "text": [
      "Model: \"sequential\"\n",
      "_________________________________________________________________\n",
      "Layer (type)                 Output Shape              Param #   \n",
      "=================================================================\n",
      "text_vectorization (TextVect (None, 100)               0         \n",
      "_________________________________________________________________\n",
      "embedding (Embedding)        (None, 100, 16)           160000    \n",
      "_________________________________________________________________\n",
      "global_average_pooling1d (Gl (None, 16)                0         \n",
      "_________________________________________________________________\n",
      "dense (Dense)                (None, 16)                272       \n",
      "_________________________________________________________________\n",
      "dense_1 (Dense)              (None, 1)                 17        \n",
      "=================================================================\n",
      "Total params: 160,289\n",
      "Trainable params: 160,289\n",
      "Non-trainable params: 0\n",
      "_________________________________________________________________\n"
     ]
    }
   ],
   "source": [
    "model.summary()"
   ]
  },
  {
   "cell_type": "code",
   "execution_count": 66,
   "metadata": {},
   "outputs": [
    {
     "name": "stdout",
     "output_type": "stream",
     "text": [
      "5/5 [==============================] - 0s 46ms/step - loss: 1.6448 - accuracy: 0.7826\n",
      "Loss:  1.6448242664337158\n",
      "Accuracy:  0.7825999855995178\n"
     ]
    }
   ],
   "source": [
    "loss, accuracy = model.evaluate(val_ds)\n",
    "\n",
    "print(\"Loss: \", loss)\n",
    "print(\"Accuracy: \", accuracy)"
   ]
  },
  {
   "cell_type": "code",
   "execution_count": 67,
   "metadata": {},
   "outputs": [
    {
     "data": {
      "text/plain": [
       "dict_keys(['loss', 'accuracy', 'val_loss', 'val_accuracy'])"
      ]
     },
     "execution_count": 67,
     "metadata": {},
     "output_type": "execute_result"
    }
   ],
   "source": [
    "history_dict = history.history\n",
    "history_dict.keys()"
   ]
  },
  {
   "cell_type": "code",
   "execution_count": 68,
   "metadata": {
    "scrolled": true
   },
   "outputs": [
    {
     "data": {
      "image/png": "[encoded data removed]",
      "text/plain": [
       "<Figure size 432x288 with 1 Axes>"
      ]
     },
     "metadata": {
      "needs_background": "light"
     },
     "output_type": "display_data"
    }
   ],
   "source": [
    "import matplotlib.pyplot as plt\n",
    "acc = history_dict['accuracy']\n",
    "val_acc = history_dict['val_accuracy']\n",
    "loss = history_dict['loss']\n",
    "val_loss = history_dict['val_loss']\n",
    "\n",
    "epochs = range(1, len(acc) + 1)\n",
    "\n",
    "# \"bo\" is for \"blue dot\"\n",
    "plt.plot(epochs, loss, 'bo', label='Training loss')\n",
    "# b is for \"solid blue line\"\n",
    "plt.plot(epochs, val_loss, 'b', label='Validation loss')\n",
    "plt.title('Training and validation loss')\n",
    "plt.xlabel('Epochs')\n",
    "plt.ylabel('Loss')\n",
    "plt.legend()\n",
    "\n",
    "plt.show()"
   ]
  },
  {
   "cell_type": "code",
   "execution_count": 69,
   "metadata": {
    "scrolled": true
   },
   "outputs": [
    {
     "data": {
      "image/png": "[encoded data removed]",
      "text/plain": [
       "<Figure size 432x288 with 1 Axes>"
      ]
     },
     "metadata": {
      "needs_background": "light"
     },
     "output_type": "display_data"
    }
   ],
   "source": [
    "plt.plot(epochs, acc, 'bo', label='Training acc')\n",
    "plt.plot(epochs, val_acc, 'b', label='Validation acc')\n",
    "plt.title('Training and validation accuracy')\n",
    "plt.xlabel('Epochs')\n",
    "plt.ylabel('Accuracy')\n",
    "plt.legend(loc='lower right')\n",
    "\n",
    "plt.show()"
   ]
  },
  {
   "cell_type": "markdown",
   "metadata": {},
   "source": [
    "Exporting the model for making new predictions."
   ]
  },
  {
   "cell_type": "markdown",
   "metadata": {
    "id": "hiQbOJZ2WBFY"
   },
   "source": [
    "Visualize the model metrics in TensorBoard."
   ]
  },
  {
   "cell_type": "markdown",
   "metadata": {
    "id": "TNyLjcoRWEue"
   },
   "source": [
    "```\n",
    "%tensorboard --logdir logs\n",
    "```"
   ]
  },
  {
   "cell_type": "code",
   "execution_count": 46,
   "metadata": {},
   "outputs": [
    {
     "name": "stdout",
     "output_type": "stream",
     "text": [
      "The tensorboard extension is already loaded. To reload it, use:\n",
      "  %reload_ext tensorboard\n"
     ]
    }
   ],
   "source": [
    "%load_ext tensorboard"
   ]
  },
  {
   "cell_type": "code",
   "execution_count": 47,
   "metadata": {},
   "outputs": [
    {
     "data": {
      "text/plain": [
       "Reusing TensorBoard on port 6006 (pid 36334), started 0:23:53 ago. (Use '!kill 36334' to kill it.)"
      ]
     },
     "metadata": {},
     "output_type": "display_data"
    },
    {
     "data": {
      "text/html": [
       "\n",
       "      <iframe id=\"tensorboard-frame-116943cb07c41078\" width=\"100%\" height=\"800\" frameborder=\"0\">\n",
       "      </iframe>\n",
       "      <script>\n",
       "        (function() {\n",
       "          const frame = document.getElementById(\"tensorboard-frame-116943cb07c41078\");\n",
       "          const url = new URL(\"/\", window.location);\n",
       "          const port = 6006;\n",
       "          if (port) {\n",
       "            url.port = port;\n",
       "          }\n",
       "          frame.src = url;\n",
       "        })();\n",
       "      </script>\n",
       "    "
      ],
      "text/plain": [
       "<IPython.core.display.HTML object>"
      ]
     },
     "metadata": {},
     "output_type": "display_data"
    }
   ],
   "source": [
    "%tensorboard --logdir logs"
   ]
  },
  {
   "cell_type": "markdown",
   "metadata": {
    "id": "QvURkGVpXDOy"
   },
   "source": [
    "![embeddings_classifier_accuracy.png](images/embeddings_classifier_accuracy.png)"
   ]
  },
  {
   "cell_type": "markdown",
   "metadata": {
    "id": "KCoA6qwqP836"
   },
   "source": [
    "## Retrieve the trained word embeddings and save them to disk\n",
    "\n",
    "Next, retrieve the word embeddings learned during training. The embeddings are weights of the Embedding layer in the model. The weights matrix is of shape `(vocab_size, embedding_dimension)`."
   ]
  },
  {
   "cell_type": "code",
   "execution_count": 41,
   "metadata": {
    "execution": {
     "iopub.execute_input": "2020-09-23T02:02:08.655221Z",
     "iopub.status.busy": "2020-09-23T02:02:08.654583Z",
     "iopub.status.idle": "2020-09-23T02:02:08.674921Z",
     "shell.execute_reply": "2020-09-23T02:02:08.674392Z"
    },
    "id": "n-j0db7ipF6k"
   },
   "outputs": [
    {
     "name": "stdout",
     "output_type": "stream",
     "text": [
      "['', '[UNK]', 'the', 'and', 'a', 'of', 'to', 'is', 'in', 'it']\n",
      "(10000, 16)\n"
     ]
    }
   ],
   "source": [
    "vocab = vectorize_layer.get_vocabulary()\n",
    "print(vocab[:10])\n",
    "# Get weights matrix of layer named 'embedding'\n",
    "weights = model.get_layer('embedding').get_weights()[0]\n",
    "print(weights.shape) "
   ]
  },
  {
   "cell_type": "markdown",
   "metadata": {
    "id": "J8MiCA77X8B8"
   },
   "source": [
    "Write the weights to disk. To use the [Embedding Projector](http://projector.tensorflow.org), you will upload two files in tab separated format: a file of vectors (containing the embedding), and a file of meta data (containing the words)."
   ]
  },
  {
   "cell_type": "code",
   "execution_count": 42,
   "metadata": {
    "execution": {
     "iopub.execute_input": "2020-09-23T02:02:08.681782Z",
     "iopub.status.busy": "2020-09-23T02:02:08.681124Z",
     "iopub.status.idle": "2020-09-23T02:02:08.820048Z",
     "shell.execute_reply": "2020-09-23T02:02:08.820525Z"
    },
    "id": "GsjempweP9Lq"
   },
   "outputs": [],
   "source": [
    "out_v = io.open('vecs.tsv', 'w', encoding='utf-8')\n",
    "out_m = io.open('meta.tsv', 'w', encoding='utf-8')\n",
    "\n",
    "for num, word in enumerate(vocab):\n",
    "    if num == 0: \n",
    "        continue # skip padding token from vocab\n",
    "    vec = weights[num]\n",
    "    out_m.write(word + \"\\n\")\n",
    "    out_v.write('\\t'.join([str(x) for x in vec]) + \"\\n\")\n",
    "out_v.close()\n",
    "out_m.close()\n",
    "\n",
    "try:\n",
    "    from google.colab import files\n",
    "except ImportError:\n",
    "    pass\n",
    "else:\n",
    "    files.download('vecs.tsv')\n",
    "    files.download('meta.tsv')"
   ]
  },
  {
   "cell_type": "markdown",
   "metadata": {
    "id": "JQyMZWyxYjMr"
   },
   "source": [
    "If you are running this tutorial in [Colaboratory](https://colab.research.google.com), you can use the following snippet to download these files to your local machine (or use the file browser, *View -> Table of contents -> File browser*)."
   ]
  },
  {
   "cell_type": "markdown",
   "metadata": {
    "id": "PXLfFA54Yz-o"
   },
   "source": [
    "## Visualize the embeddings\n",
    "\n",
    "To visualize the embeddings, upload them to the embedding projector.\n",
    "\n",
    "Open the [Embedding Projector](http://projector.tensorflow.org/) (this can also run in a local TensorBoard instance).\n",
    "\n",
    "* Click on \"Load data\".\n",
    "\n",
    "* Upload the two files you created above: `vecs.tsv` and `meta.tsv`.\n",
    "\n",
    "The embeddings you have trained will now be displayed. You can search for words to find their closest neighbors. For example, try searching for \"beautiful\". You may see neighbors like \"wonderful\". \n",
    "\n",
    "Note: Experimentally, you may be able to produce more interpretable embeddings by using a simpler model. Try deleting the `Dense(16)` layer, retraining the model, and visualizing the embeddings again.\n",
    "\n",
    "Note: Typically, a much larger dataset is needed to train more interpretable word embeddings. This tutorial uses a small IMDb dataset for the purpose of demonstration.\n"
   ]
  },
  {
   "cell_type": "markdown",
   "metadata": {
    "id": "wvKiEHjramNh"
   },
   "source": [
    "## Next Steps"
   ]
  },
  {
   "cell_type": "markdown",
   "metadata": {
    "id": "BSgAZpwF5xF_"
   },
   "source": [
    "This tutorial has shown you how to train and visualize word embeddings from scratch on a small dataset.\n",
    "\n",
    "* To learn more about word embeddings and their mathematical representations, refer to this Stanford [note](https://web.stanford.edu/class/cs224n/readings/cs224n-2019-notes01-wordvecs1.pdf).\n",
    "\n",
    "* To learn more about advanced text processing, read the [Transformer model for language understanding](https://www.tensorflow.org/tutorials/text/transformer)."
   ]
  }
 ],
 "metadata": {
  "accelerator": "GPU",
  "colab": {
   "collapsed_sections": [],
   "name": "word_embeddings.ipynb",
   "toc_visible": true
  },
  "kernelspec": {
   "display_name": "Python 3",
   "language": "python",
   "name": "python3"
  },
  "language_info": {
   "codemirror_mode": {
    "name": "ipython",
    "version": 3
   },
   "file_extension": ".py",
   "mimetype": "text/x-python",
   "name": "python",
   "nbconvert_exporter": "python",
   "pygments_lexer": "ipython3",
   "version": "3.8.5"
  }
 },
 "nbformat": 4,
 "nbformat_minor": 1
}
